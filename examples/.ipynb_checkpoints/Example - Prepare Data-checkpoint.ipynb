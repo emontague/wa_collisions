{
 "cells": [
  {
   "cell_type": "markdown",
   "metadata": {},
   "source": [
    "# Prepare Data for Analysis and Visualization "
   ]
  },
  {
   "cell_type": "code",
   "execution_count": 11,
   "metadata": {
    "collapsed": true
   },
   "outputs": [],
   "source": [
    "import sys\n",
    "import os\n",
    "import pandas as pd\n",
    "\n",
    "from wa_collisions.read_clean_integrate_data import read_collision_data\n",
    "from wa_collisions.read_clean_integrate_data import integrate_data"
   ]
  },
  {
   "cell_type": "code",
   "execution_count": 1,
   "metadata": {
    "collapsed": true
   },
   "outputs": [],
   "source": [
    "# map this file so we can import the modules \n",
    "module_path = os.path.abspath(os.path.join('..'))\n",
    "if module_path not in sys.path:\n",
    "    sys.path.append(module_path)"
   ]
  },
  {
   "cell_type": "markdown",
   "metadata": {},
   "source": [
    "## Collision Data \n",
    "- The collision data for Seattle is from [Seattle GIS Open Data](https://data-seattlecitygis.opendata.arcgis.com/datasets/collisions/data?geometry=-122.526%2C47.676%2C-122.198%2C47.717).\n",
    "- The data is farily clean from the original source. We added some indicator variables for our visualizations. We decreased the number of columns in order to decrease the size of the data. \n",
    "- The following code will download the data from Seattle Open Data and then write it to the wa_collisions/wa_collisions/data folder. The Collisions.csv is part of the .gitignore and not included in the repository. \n",
    "- We do include a test file: wa_collisions/wa_collisions/Collisions_test.csv that is a subset of the file downloaded from Seattle Open Data. This can be used for testing purposes. "
   ]
  },
  {
   "cell_type": "code",
   "execution_count": 14,
   "metadata": {
    "collapsed": true
   },
   "outputs": [],
   "source": [
    "collision_data_download = pd.read_csv('https://opendata.arcgis.com/datasets/5b5c745e0f1f48e7a53acec63a0022ab_0.csv')\n",
    "collision_path = '../wa_collisions/data/Collisions.csv'\n",
    "collision_data_download.to_csv(collision_path)"
   ]
  },
  {
   "cell_type": "markdown",
   "metadata": {},
   "source": [
    "## Neighborhood Data \n",
    "- Download information - Salik will add! \n",
    "- Just include the download data, the processing is down below in the \"Create Final Dataset\""
   ]
  },
  {
   "cell_type": "code",
   "execution_count": null,
   "metadata": {
    "collapsed": true
   },
   "outputs": [],
   "source": []
  },
  {
   "cell_type": "markdown",
   "metadata": {},
   "source": [
    "## Weather Data \n",
    "- The weather data is sourced from [Iowa State University ASOS](https://mesonet.agron.iastate.edu/request/download.phtml?network=WA\\_ASOS) ('automated airport weather observations'). \n",
    "- Download the data from Iowa State using the following prompts:\n",
    "    - Geoff and Fei to add! \n",
    "    - Just include the download data, the processing is down below in the \"Create Final Dataset\""
   ]
  },
  {
   "cell_type": "code",
   "execution_count": null,
   "metadata": {
    "collapsed": true
   },
   "outputs": [],
   "source": []
  },
  {
   "cell_type": "markdown",
   "metadata": {},
   "source": [
    "## Create the Final Dataset\n",
    "- Now that you have the collision, neighboorhood, and weather data downloaded, you can create an integrated dataset. This dataset is used in the visualizations and analysis modules. \n",
    "- This one function does it all. The final dataset is written to wa_collisions/data/"
   ]
  },
  {
   "cell_type": "code",
   "execution_count": null,
   "metadata": {
    "collapsed": true
   },
   "outputs": [],
   "source": [
    "#final_data = integrate_data(collision_path, geo_json_path, weather_path)\n",
    "#final_path = '../wa_collisions/data/Collisions_Final.csv'\n",
    "#final_data.to_csv(final_path)"
   ]
  }
 ],
 "metadata": {
  "kernelspec": {
   "display_name": "Python 3",
   "language": "python",
   "name": "python3"
  },
  "language_info": {
   "codemirror_mode": {
    "name": "ipython",
    "version": 3
   },
   "file_extension": ".py",
   "mimetype": "text/x-python",
   "name": "python",
   "nbconvert_exporter": "python",
   "pygments_lexer": "ipython3",
   "version": "3.5.3"
  }
 },
 "nbformat": 4,
 "nbformat_minor": 2
}
