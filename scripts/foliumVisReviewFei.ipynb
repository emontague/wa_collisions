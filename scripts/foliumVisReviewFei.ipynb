{
 "cells": [
  {
   "cell_type": "code",
   "execution_count": 125,
   "metadata": {
    "collapsed": true
   },
   "outputs": [],
   "source": [
    "import folium\n",
    "import folium.plugins as plugins"
   ]
  },
  {
   "cell_type": "code",
   "execution_count": 3,
   "metadata": {
    "collapsed": true
   },
   "outputs": [],
   "source": [
    "import pandas as pd\n",
    "import numpy as np\n",
    "import matplotlib.pyplot as plt\n",
    "%matplotlib inline"
   ]
  },
  {
   "cell_type": "code",
   "execution_count": 4,
   "metadata": {},
   "outputs": [
    {
     "name": "stderr",
     "output_type": "stream",
     "text": [
      "/home/feiwang/anaconda3/lib/python3.6/site-packages/IPython/core/interactiveshell.py:2698: DtypeWarning: Columns (31) have mixed types. Specify dtype option on import or set low_memory=False.\n",
      "  interactivity=interactivity, compiler=compiler, result=result)\n"
     ]
    }
   ],
   "source": [
    "df_collision_orig = pd.read_csv('../../project_data/Collisions.csv')"
   ]
  },
  {
   "cell_type": "code",
   "execution_count": 199,
   "metadata": {
    "collapsed": true
   },
   "outputs": [],
   "source": [
    "columns = ['X', 'Y', 'incdate'\n",
    "          #, 'addrtype', 'incdttm', 'lightcond', 'location', 'sdot_coldesc'\n",
    "          #, 'severitydesc', 'speeding', 'weather'\n",
    "          ]\n",
    "\n",
    "df_collision = df_collision_orig.loc[:, columns]"
   ]
  },
  {
   "cell_type": "markdown",
   "metadata": {},
   "source": [
    "#### Remove incidents where GPS coordinates are missing"
   ]
  },
  {
   "cell_type": "code",
   "execution_count": 204,
   "metadata": {
    "collapsed": true
   },
   "outputs": [],
   "source": [
    "df_collision = df_collision.dropna(axis=0, how='any')"
   ]
  },
  {
   "cell_type": "code",
   "execution_count": 206,
   "metadata": {
    "collapsed": true
   },
   "outputs": [],
   "source": [
    "df_collision['date'] = df_collision['incdate'].apply(pd.to_datetime)"
   ]
  },
  {
   "cell_type": "code",
   "execution_count": 207,
   "metadata": {
    "collapsed": true
   },
   "outputs": [],
   "source": [
    "dateMask = (df_collision['date'] >= np.datetime64('2018-01-01T00:00:00.000000000'))\n",
    "coorMask = (-pd.isnull(df_collision['X'])) & (-pd.isnull(df_collision['Y']))\n",
    "# coorMask = (df_collision['X'] < 0) & (df_collision['Y'] > 0)\n",
    "\n",
    "a = df_collision.loc[dateMask & coorMask, ['X', 'Y', 'date']]\n",
    "\n",
    "b = (a.date.value_counts())"
   ]
  },
  {
   "cell_type": "code",
   "execution_count": 208,
   "metadata": {
    "collapsed": true
   },
   "outputs": [],
   "source": [
    "dates = sorted(b[b>30].index.values)"
   ]
  },
  {
   "cell_type": "code",
   "execution_count": 209,
   "metadata": {},
   "outputs": [],
   "source": [
    "data = list()\n",
    "\n",
    "zeros = np.zeros([30, 2])\n",
    "for date in dates:\n",
    "    dateMask = df_collision['date'] == date\n",
    "    coordinates = df_collision.loc[dateMask, ['Y', 'X']].values\n",
    "    for i in range(30):\n",
    "        zeros[i] = coordinates[i]\n",
    "    data.append(zeros.tolist())\n",
    "    zeros = np.zeros([30, 2])"
   ]
  },
  {
   "cell_type": "code",
   "execution_count": 210,
   "metadata": {},
   "outputs": [],
   "source": [
    "date = dates[3]"
   ]
  },
  {
   "cell_type": "code",
   "execution_count": 211,
   "metadata": {
    "collapsed": true
   },
   "outputs": [
    {
     "data": {
      "text/html": [
       "<div>\n",
       "<style>\n",
       "    .dataframe thead tr:only-child th {\n",
       "        text-align: right;\n",
       "    }\n",
       "\n",
       "    .dataframe thead th {\n",
       "        text-align: left;\n",
       "    }\n",
       "\n",
       "    .dataframe tbody tr th {\n",
       "        vertical-align: top;\n",
       "    }\n",
       "</style>\n",
       "<table border=\"1\" class=\"dataframe\">\n",
       "  <thead>\n",
       "    <tr style=\"text-align: right;\">\n",
       "      <th></th>\n",
       "      <th>X</th>\n",
       "      <th>Y</th>\n",
       "      <th>incdate</th>\n",
       "      <th>date</th>\n",
       "    </tr>\n",
       "  </thead>\n",
       "  <tbody>\n",
       "    <tr>\n",
       "      <th>1874</th>\n",
       "      <td>-122.325150</td>\n",
       "      <td>47.681177</td>\n",
       "      <td>2018-01-05T00:00:00.000Z</td>\n",
       "      <td>2018-01-05</td>\n",
       "    </tr>\n",
       "    <tr>\n",
       "      <th>193099</th>\n",
       "      <td>-122.376796</td>\n",
       "      <td>47.687800</td>\n",
       "      <td>2018-01-05T00:00:00.000Z</td>\n",
       "      <td>2018-01-05</td>\n",
       "    </tr>\n",
       "    <tr>\n",
       "      <th>193253</th>\n",
       "      <td>-122.263668</td>\n",
       "      <td>47.682124</td>\n",
       "      <td>2018-01-05T00:00:00.000Z</td>\n",
       "      <td>2018-01-05</td>\n",
       "    </tr>\n",
       "    <tr>\n",
       "      <th>193255</th>\n",
       "      <td>-122.350466</td>\n",
       "      <td>47.613367</td>\n",
       "      <td>2018-01-05T00:00:00.000Z</td>\n",
       "      <td>2018-01-05</td>\n",
       "    </tr>\n",
       "    <tr>\n",
       "      <th>193257</th>\n",
       "      <td>-122.332538</td>\n",
       "      <td>47.662627</td>\n",
       "      <td>2018-01-05T00:00:00.000Z</td>\n",
       "      <td>2018-01-05</td>\n",
       "    </tr>\n",
       "    <tr>\n",
       "      <th>193390</th>\n",
       "      <td>-122.298408</td>\n",
       "      <td>47.600865</td>\n",
       "      <td>2018-01-05T00:00:00.000Z</td>\n",
       "      <td>2018-01-05</td>\n",
       "    </tr>\n",
       "    <tr>\n",
       "      <th>193395</th>\n",
       "      <td>-122.345085</td>\n",
       "      <td>47.733062</td>\n",
       "      <td>2018-01-05T00:00:00.000Z</td>\n",
       "      <td>2018-01-05</td>\n",
       "    </tr>\n",
       "    <tr>\n",
       "      <th>193537</th>\n",
       "      <td>-122.360474</td>\n",
       "      <td>47.525592</td>\n",
       "      <td>2018-01-05T00:00:00.000Z</td>\n",
       "      <td>2018-01-05</td>\n",
       "    </tr>\n",
       "    <tr>\n",
       "      <th>193545</th>\n",
       "      <td>-122.376608</td>\n",
       "      <td>47.535191</td>\n",
       "      <td>2018-01-05T00:00:00.000Z</td>\n",
       "      <td>2018-01-05</td>\n",
       "    </tr>\n",
       "    <tr>\n",
       "      <th>193716</th>\n",
       "      <td>-122.279407</td>\n",
       "      <td>47.537973</td>\n",
       "      <td>2018-01-05T00:00:00.000Z</td>\n",
       "      <td>2018-01-05</td>\n",
       "    </tr>\n",
       "    <tr>\n",
       "      <th>193718</th>\n",
       "      <td>-122.287400</td>\n",
       "      <td>47.526120</td>\n",
       "      <td>2018-01-05T00:00:00.000Z</td>\n",
       "      <td>2018-01-05</td>\n",
       "    </tr>\n",
       "    <tr>\n",
       "      <th>193719</th>\n",
       "      <td>-122.369834</td>\n",
       "      <td>47.546495</td>\n",
       "      <td>2018-01-05T00:00:00.000Z</td>\n",
       "      <td>2018-01-05</td>\n",
       "    </tr>\n",
       "    <tr>\n",
       "      <th>193723</th>\n",
       "      <td>-122.325292</td>\n",
       "      <td>47.676873</td>\n",
       "      <td>2018-01-05T00:00:00.000Z</td>\n",
       "      <td>2018-01-05</td>\n",
       "    </tr>\n",
       "    <tr>\n",
       "      <th>193822</th>\n",
       "      <td>-122.323964</td>\n",
       "      <td>47.616356</td>\n",
       "      <td>2018-01-05T00:00:00.000Z</td>\n",
       "      <td>2018-01-05</td>\n",
       "    </tr>\n",
       "    <tr>\n",
       "      <th>193823</th>\n",
       "      <td>-122.300711</td>\n",
       "      <td>47.665333</td>\n",
       "      <td>2018-01-05T00:00:00.000Z</td>\n",
       "      <td>2018-01-05</td>\n",
       "    </tr>\n",
       "    <tr>\n",
       "      <th>193883</th>\n",
       "      <td>-122.289225</td>\n",
       "      <td>47.660842</td>\n",
       "      <td>2018-01-05T00:00:00.000Z</td>\n",
       "      <td>2018-01-05</td>\n",
       "    </tr>\n",
       "    <tr>\n",
       "      <th>194150</th>\n",
       "      <td>-122.356690</td>\n",
       "      <td>47.627192</td>\n",
       "      <td>2018-01-05T00:00:00.000Z</td>\n",
       "      <td>2018-01-05</td>\n",
       "    </tr>\n",
       "    <tr>\n",
       "      <th>194284</th>\n",
       "      <td>-122.347330</td>\n",
       "      <td>47.662871</td>\n",
       "      <td>2018-01-05T00:00:00.000Z</td>\n",
       "      <td>2018-01-05</td>\n",
       "    </tr>\n",
       "    <tr>\n",
       "      <th>194285</th>\n",
       "      <td>-122.351303</td>\n",
       "      <td>47.649823</td>\n",
       "      <td>2018-01-05T00:00:00.000Z</td>\n",
       "      <td>2018-01-05</td>\n",
       "    </tr>\n",
       "    <tr>\n",
       "      <th>194288</th>\n",
       "      <td>-122.331543</td>\n",
       "      <td>47.650502</td>\n",
       "      <td>2018-01-05T00:00:00.000Z</td>\n",
       "      <td>2018-01-05</td>\n",
       "    </tr>\n",
       "    <tr>\n",
       "      <th>194440</th>\n",
       "      <td>-122.330999</td>\n",
       "      <td>47.618274</td>\n",
       "      <td>2018-01-05T00:00:00.000Z</td>\n",
       "      <td>2018-01-05</td>\n",
       "    </tr>\n",
       "    <tr>\n",
       "      <th>194460</th>\n",
       "      <td>-122.359321</td>\n",
       "      <td>47.624592</td>\n",
       "      <td>2018-01-05T00:00:00.000Z</td>\n",
       "      <td>2018-01-05</td>\n",
       "    </tr>\n",
       "    <tr>\n",
       "      <th>194567</th>\n",
       "      <td>-122.344896</td>\n",
       "      <td>47.717173</td>\n",
       "      <td>2018-01-05T00:00:00.000Z</td>\n",
       "      <td>2018-01-05</td>\n",
       "    </tr>\n",
       "    <tr>\n",
       "      <th>194569</th>\n",
       "      <td>-122.333924</td>\n",
       "      <td>47.604678</td>\n",
       "      <td>2018-01-05T00:00:00.000Z</td>\n",
       "      <td>2018-01-05</td>\n",
       "    </tr>\n",
       "    <tr>\n",
       "      <th>194574</th>\n",
       "      <td>-122.337540</td>\n",
       "      <td>47.607794</td>\n",
       "      <td>2018-01-05T00:00:00.000Z</td>\n",
       "      <td>2018-01-05</td>\n",
       "    </tr>\n",
       "    <tr>\n",
       "      <th>194575</th>\n",
       "      <td>-122.314953</td>\n",
       "      <td>47.523892</td>\n",
       "      <td>2018-01-05T00:00:00.000Z</td>\n",
       "      <td>2018-01-05</td>\n",
       "    </tr>\n",
       "    <tr>\n",
       "      <th>194730</th>\n",
       "      <td>-122.333271</td>\n",
       "      <td>47.603964</td>\n",
       "      <td>2018-01-05T00:00:00.000Z</td>\n",
       "      <td>2018-01-05</td>\n",
       "    </tr>\n",
       "    <tr>\n",
       "      <th>194897</th>\n",
       "      <td>-122.315025</td>\n",
       "      <td>47.572558</td>\n",
       "      <td>2018-01-05T00:00:00.000Z</td>\n",
       "      <td>2018-01-05</td>\n",
       "    </tr>\n",
       "    <tr>\n",
       "      <th>194974</th>\n",
       "      <td>-122.366017</td>\n",
       "      <td>47.679547</td>\n",
       "      <td>2018-01-05T00:00:00.000Z</td>\n",
       "      <td>2018-01-05</td>\n",
       "    </tr>\n",
       "    <tr>\n",
       "      <th>195029</th>\n",
       "      <td>-122.281104</td>\n",
       "      <td>47.537052</td>\n",
       "      <td>2018-01-05T00:00:00.000Z</td>\n",
       "      <td>2018-01-05</td>\n",
       "    </tr>\n",
       "    <tr>\n",
       "      <th>195108</th>\n",
       "      <td>-122.322445</td>\n",
       "      <td>47.599186</td>\n",
       "      <td>2018-01-05T00:00:00.000Z</td>\n",
       "      <td>2018-01-05</td>\n",
       "    </tr>\n",
       "    <tr>\n",
       "      <th>195211</th>\n",
       "      <td>-122.306471</td>\n",
       "      <td>47.566433</td>\n",
       "      <td>2018-01-05T00:00:00.000Z</td>\n",
       "      <td>2018-01-05</td>\n",
       "    </tr>\n",
       "    <tr>\n",
       "      <th>195357</th>\n",
       "      <td>-122.334793</td>\n",
       "      <td>47.549192</td>\n",
       "      <td>2018-01-05T00:00:00.000Z</td>\n",
       "      <td>2018-01-05</td>\n",
       "    </tr>\n",
       "    <tr>\n",
       "      <th>195379</th>\n",
       "      <td>-122.329333</td>\n",
       "      <td>47.543721</td>\n",
       "      <td>2018-01-05T00:00:00.000Z</td>\n",
       "      <td>2018-01-05</td>\n",
       "    </tr>\n",
       "  </tbody>\n",
       "</table>\n",
       "</div>"
      ],
      "text/plain": [
       "                 X          Y                   incdate       date\n",
       "1874   -122.325150  47.681177  2018-01-05T00:00:00.000Z 2018-01-05\n",
       "193099 -122.376796  47.687800  2018-01-05T00:00:00.000Z 2018-01-05\n",
       "193253 -122.263668  47.682124  2018-01-05T00:00:00.000Z 2018-01-05\n",
       "193255 -122.350466  47.613367  2018-01-05T00:00:00.000Z 2018-01-05\n",
       "193257 -122.332538  47.662627  2018-01-05T00:00:00.000Z 2018-01-05\n",
       "193390 -122.298408  47.600865  2018-01-05T00:00:00.000Z 2018-01-05\n",
       "193395 -122.345085  47.733062  2018-01-05T00:00:00.000Z 2018-01-05\n",
       "193537 -122.360474  47.525592  2018-01-05T00:00:00.000Z 2018-01-05\n",
       "193545 -122.376608  47.535191  2018-01-05T00:00:00.000Z 2018-01-05\n",
       "193716 -122.279407  47.537973  2018-01-05T00:00:00.000Z 2018-01-05\n",
       "193718 -122.287400  47.526120  2018-01-05T00:00:00.000Z 2018-01-05\n",
       "193719 -122.369834  47.546495  2018-01-05T00:00:00.000Z 2018-01-05\n",
       "193723 -122.325292  47.676873  2018-01-05T00:00:00.000Z 2018-01-05\n",
       "193822 -122.323964  47.616356  2018-01-05T00:00:00.000Z 2018-01-05\n",
       "193823 -122.300711  47.665333  2018-01-05T00:00:00.000Z 2018-01-05\n",
       "193883 -122.289225  47.660842  2018-01-05T00:00:00.000Z 2018-01-05\n",
       "194150 -122.356690  47.627192  2018-01-05T00:00:00.000Z 2018-01-05\n",
       "194284 -122.347330  47.662871  2018-01-05T00:00:00.000Z 2018-01-05\n",
       "194285 -122.351303  47.649823  2018-01-05T00:00:00.000Z 2018-01-05\n",
       "194288 -122.331543  47.650502  2018-01-05T00:00:00.000Z 2018-01-05\n",
       "194440 -122.330999  47.618274  2018-01-05T00:00:00.000Z 2018-01-05\n",
       "194460 -122.359321  47.624592  2018-01-05T00:00:00.000Z 2018-01-05\n",
       "194567 -122.344896  47.717173  2018-01-05T00:00:00.000Z 2018-01-05\n",
       "194569 -122.333924  47.604678  2018-01-05T00:00:00.000Z 2018-01-05\n",
       "194574 -122.337540  47.607794  2018-01-05T00:00:00.000Z 2018-01-05\n",
       "194575 -122.314953  47.523892  2018-01-05T00:00:00.000Z 2018-01-05\n",
       "194730 -122.333271  47.603964  2018-01-05T00:00:00.000Z 2018-01-05\n",
       "194897 -122.315025  47.572558  2018-01-05T00:00:00.000Z 2018-01-05\n",
       "194974 -122.366017  47.679547  2018-01-05T00:00:00.000Z 2018-01-05\n",
       "195029 -122.281104  47.537052  2018-01-05T00:00:00.000Z 2018-01-05\n",
       "195108 -122.322445  47.599186  2018-01-05T00:00:00.000Z 2018-01-05\n",
       "195211 -122.306471  47.566433  2018-01-05T00:00:00.000Z 2018-01-05\n",
       "195357 -122.334793  47.549192  2018-01-05T00:00:00.000Z 2018-01-05\n",
       "195379 -122.329333  47.543721  2018-01-05T00:00:00.000Z 2018-01-05"
      ]
     },
     "execution_count": 211,
     "metadata": {},
     "output_type": "execute_result"
    }
   ],
   "source": [
    "df_collision[df_collision['date'] == date]"
   ]
  },
  {
   "cell_type": "markdown",
   "metadata": {},
   "source": [
    "### HeatMaps"
   ]
  },
  {
   "cell_type": "code",
   "execution_count": null,
   "metadata": {
    "collapsed": true
   },
   "outputs": [],
   "source": [
    "from folium.plugins import HeatMap\n",
    "\n",
    "m = folium.Map(location=[47.706850, -122.333961])\n",
    "\n",
    "m"
   ]
  },
  {
   "cell_type": "code",
   "execution_count": 147,
   "metadata": {
    "collapsed": true
   },
   "outputs": [
    {
     "data": {
      "text/html": [
       "<div style=\"width:100%;\"><div style=\"position:relative;width:100%;height:0;padding-bottom:60%;\"><iframe src=\"data:text/html;charset=utf-8;base64,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\" style=\"position:absolute;width:100%;height:100%;left:0;top:0;border:none !important;\" allowfullscreen webkitallowfullscreen mozallowfullscreen></iframe></div></div>"
      ],
      "text/plain": [
       "<folium.folium.Map at 0x7f5e2c351390>"
      ]
     },
     "execution_count": 147,
     "metadata": {},
     "output_type": "execute_result"
    }
   ],
   "source": [
    "from folium.plugins import HeatMap\n",
    "\n",
    "m = folium.Map(location=[47.706850, -122.333961]\n",
    "               , tiles='Stamen Toner'\n",
    "               , zoom_start=11\n",
    "              )\n",
    "\n",
    "HeatMap(data[0][0:4]).add_to(m)\n",
    "\n",
    "# m.save(os.path.join('results', 'Heatmap.html'))\n",
    "\n",
    "m"
   ]
  },
  {
   "cell_type": "markdown",
   "metadata": {},
   "source": [
    "### Heat Map with Time"
   ]
  },
  {
   "cell_type": "code",
   "execution_count": 228,
   "metadata": {},
   "outputs": [
    {
     "data": {
      "text/html": [
       "<div style=\"width:100%;\"><div style=\"position:relative;width:100%;height:0;padding-bottom:60%;\"><iframe src=\"data:text/html;charset=utf-8;base64,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\" style=\"position:absolute;width:100%;height:100%;left:0;top:0;border:none !important;\" allowfullscreen webkitallowfullscreen mozallowfullscreen></iframe></div></div>"
      ],
      "text/plain": [
       "<folium.folium.Map at 0x7f5e2e2f44e0>"
      ]
     },
     "execution_count": 228,
     "metadata": {},
     "output_type": "execute_result"
    }
   ],
   "source": [
    "time_index = [pd.to_datetime(date).strftime('%Y-%m-%d')  for date in dates]\n",
    "\n",
    "m = folium.Map(location=[47.606850, -122.333961]\n",
    "               , tiles='Stamen Toner'\n",
    "               , zoom_start=11\n",
    "              )\n",
    "\n",
    "hm = plugins.HeatMapWithTime(\n",
    "    data,\n",
    "    index=time_index,\n",
    "    auto_play=True,\n",
    "    max_opacity=0.3)\n",
    "\n",
    "hm.add_to(m)\n",
    "\n",
    "m"
   ]
  }
 ],
 "metadata": {
  "kernelspec": {
   "display_name": "Python 3",
   "language": "python",
   "name": "python3"
  },
  "language_info": {
   "codemirror_mode": {
    "name": "ipython",
    "version": 3
   },
   "file_extension": ".py",
   "mimetype": "text/x-python",
   "name": "python",
   "nbconvert_exporter": "python",
   "pygments_lexer": "ipython3",
   "version": "3.6.3"
  }
 },
 "nbformat": 4,
 "nbformat_minor": 2
}
