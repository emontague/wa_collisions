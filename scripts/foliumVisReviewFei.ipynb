{
 "cells": [
  {
   "cell_type": "code",
   "execution_count": 1,
   "metadata": {},
   "outputs": [],
   "source": [
    "import folium"
   ]
  },
  {
   "cell_type": "code",
   "execution_count": 2,
   "metadata": {},
   "outputs": [],
   "source": [
    "import pandas as pd\n",
    "import matplotlib.pyplot as plt\n",
    "%matplotlib inline"
   ]
  },
  {
   "cell_type": "code",
   "execution_count": 3,
   "metadata": {},
   "outputs": [
    {
     "data": {
      "text/plain": [
       "'/home/fei/working/softwareClassUW/project'"
      ]
     },
     "execution_count": 3,
     "metadata": {},
     "output_type": "execute_result"
    }
   ],
   "source": [
    "pwd"
   ]
  },
  {
   "cell_type": "code",
   "execution_count": 4,
   "metadata": {},
   "outputs": [
    {
     "name": "stderr",
     "output_type": "stream",
     "text": [
      "/home/fei/anaconda3/envs/515project/lib/python3.6/site-packages/IPython/core/interactiveshell.py:2785: DtypeWarning: Columns (31) have mixed types. Specify dtype option on import or set low_memory=False.\n",
      "  interactivity=interactivity, compiler=compiler, result=result)\n"
     ]
    }
   ],
   "source": [
    "df_collision_orig = pd.read_csv('./project_datasets/Collisions.csv')"
   ]
  },
  {
   "cell_type": "code",
   "execution_count": 5,
   "metadata": {},
   "outputs": [],
   "source": [
    "columns = ['X', 'Y', 'addrtype', 'incdate', 'incdttm', 'lightcond', 'location', 'sdot_coldesc'\n",
    "          , 'severitydesc', 'speeding', 'weather']\n",
    "\n",
    "df_collision = df_collision_orig.loc[:, columns]"
   ]
  },
  {
   "cell_type": "code",
   "execution_count": 6,
   "metadata": {
    "collapsed": true
   },
   "outputs": [
    {
     "data": {
      "text/html": [
       "<div>\n",
       "<style scoped>\n",
       "    .dataframe tbody tr th:only-of-type {\n",
       "        vertical-align: middle;\n",
       "    }\n",
       "\n",
       "    .dataframe tbody tr th {\n",
       "        vertical-align: top;\n",
       "    }\n",
       "\n",
       "    .dataframe thead th {\n",
       "        text-align: right;\n",
       "    }\n",
       "</style>\n",
       "<table border=\"1\" class=\"dataframe\">\n",
       "  <thead>\n",
       "    <tr style=\"text-align: right;\">\n",
       "      <th></th>\n",
       "      <th>X</th>\n",
       "      <th>Y</th>\n",
       "      <th>addrtype</th>\n",
       "      <th>incdate</th>\n",
       "      <th>incdttm</th>\n",
       "      <th>lightcond</th>\n",
       "      <th>location</th>\n",
       "      <th>sdot_coldesc</th>\n",
       "      <th>severitydesc</th>\n",
       "      <th>speeding</th>\n",
       "      <th>weather</th>\n",
       "    </tr>\n",
       "  </thead>\n",
       "  <tbody>\n",
       "    <tr>\n",
       "      <th>0</th>\n",
       "      <td>-122.342323</td>\n",
       "      <td>47.627572</td>\n",
       "      <td>Block</td>\n",
       "      <td>2016-11-04T00:00:00.000Z</td>\n",
       "      <td>11/4/2016 9:55:00 AM</td>\n",
       "      <td>Daylight</td>\n",
       "      <td>DEXTER AVE N BETWEEN ALOHA ST AND WARD ST</td>\n",
       "      <td>MOTOR VEHICLE STRUCK MOTOR VEHICLE, FRONT END ...</td>\n",
       "      <td>Property Damage Only Collision</td>\n",
       "      <td>NaN</td>\n",
       "      <td>Clear or Partly Cloudy</td>\n",
       "    </tr>\n",
       "    <tr>\n",
       "      <th>1</th>\n",
       "      <td>-122.301639</td>\n",
       "      <td>47.630771</td>\n",
       "      <td>Block</td>\n",
       "      <td>2016-12-01T00:00:00.000Z</td>\n",
       "      <td>12/1/2016 10:33:00 AM</td>\n",
       "      <td>Daylight</td>\n",
       "      <td>24TH AVE E BETWEEN E HIGHLAND DR AND E LEE ST</td>\n",
       "      <td>MOTOR VEHICLE STRUCK MOTOR VEHICLE, LEFT SIDE ...</td>\n",
       "      <td>Property Damage Only Collision</td>\n",
       "      <td>NaN</td>\n",
       "      <td>Overcast</td>\n",
       "    </tr>\n",
       "    <tr>\n",
       "      <th>2</th>\n",
       "      <td>-122.290784</td>\n",
       "      <td>47.719253</td>\n",
       "      <td>Intersection</td>\n",
       "      <td>2016-12-23T00:00:00.000Z</td>\n",
       "      <td>12/23/2016 12:48:00 PM</td>\n",
       "      <td>Daylight</td>\n",
       "      <td>35TH AVE NE AND NE 125TH ST</td>\n",
       "      <td>MOTOR VEHICLE STRUCK MOTOR VEHICLE, FRONT END ...</td>\n",
       "      <td>Property Damage Only Collision</td>\n",
       "      <td>NaN</td>\n",
       "      <td>Snowing</td>\n",
       "    </tr>\n",
       "    <tr>\n",
       "      <th>3</th>\n",
       "      <td>-122.322535</td>\n",
       "      <td>47.623135</td>\n",
       "      <td>Block</td>\n",
       "      <td>2016-12-21T00:00:00.000Z</td>\n",
       "      <td>12/21/2016 4:13:00 PM</td>\n",
       "      <td>Daylight</td>\n",
       "      <td>E REPUBLICAN ST BETWEEN BOYLSTON AVE E AND HAR...</td>\n",
       "      <td>MOTOR VEHICLE STRUCK MOTOR VEHICLE, FRONT END ...</td>\n",
       "      <td>Property Damage Only Collision</td>\n",
       "      <td>NaN</td>\n",
       "      <td>Clear or Partly Cloudy</td>\n",
       "    </tr>\n",
       "    <tr>\n",
       "      <th>4</th>\n",
       "      <td>-122.376803</td>\n",
       "      <td>47.689665</td>\n",
       "      <td>Block</td>\n",
       "      <td>2016-12-23T00:00:00.000Z</td>\n",
       "      <td>12/23/2016 6:33:00 AM</td>\n",
       "      <td>Dawn</td>\n",
       "      <td>15TH AVE NW BETWEEN NW 83RD ST AND NW 85TH ST</td>\n",
       "      <td>MOTOR VEHICLE STRUCK MOTOR VEHICLE, LEFT SIDE ...</td>\n",
       "      <td>Property Damage Only Collision</td>\n",
       "      <td>NaN</td>\n",
       "      <td>Raining</td>\n",
       "    </tr>\n",
       "  </tbody>\n",
       "</table>\n",
       "</div>"
      ],
      "text/plain": [
       "            X          Y      addrtype                   incdate  \\\n",
       "0 -122.342323  47.627572         Block  2016-11-04T00:00:00.000Z   \n",
       "1 -122.301639  47.630771         Block  2016-12-01T00:00:00.000Z   \n",
       "2 -122.290784  47.719253  Intersection  2016-12-23T00:00:00.000Z   \n",
       "3 -122.322535  47.623135         Block  2016-12-21T00:00:00.000Z   \n",
       "4 -122.376803  47.689665         Block  2016-12-23T00:00:00.000Z   \n",
       "\n",
       "                  incdttm lightcond  \\\n",
       "0    11/4/2016 9:55:00 AM  Daylight   \n",
       "1   12/1/2016 10:33:00 AM  Daylight   \n",
       "2  12/23/2016 12:48:00 PM  Daylight   \n",
       "3   12/21/2016 4:13:00 PM  Daylight   \n",
       "4   12/23/2016 6:33:00 AM      Dawn   \n",
       "\n",
       "                                            location  \\\n",
       "0          DEXTER AVE N BETWEEN ALOHA ST AND WARD ST   \n",
       "1      24TH AVE E BETWEEN E HIGHLAND DR AND E LEE ST   \n",
       "2                        35TH AVE NE AND NE 125TH ST   \n",
       "3  E REPUBLICAN ST BETWEEN BOYLSTON AVE E AND HAR...   \n",
       "4      15TH AVE NW BETWEEN NW 83RD ST AND NW 85TH ST   \n",
       "\n",
       "                                        sdot_coldesc  \\\n",
       "0  MOTOR VEHICLE STRUCK MOTOR VEHICLE, FRONT END ...   \n",
       "1  MOTOR VEHICLE STRUCK MOTOR VEHICLE, LEFT SIDE ...   \n",
       "2  MOTOR VEHICLE STRUCK MOTOR VEHICLE, FRONT END ...   \n",
       "3  MOTOR VEHICLE STRUCK MOTOR VEHICLE, FRONT END ...   \n",
       "4  MOTOR VEHICLE STRUCK MOTOR VEHICLE, LEFT SIDE ...   \n",
       "\n",
       "                     severitydesc speeding                 weather  \n",
       "0  Property Damage Only Collision      NaN  Clear or Partly Cloudy  \n",
       "1  Property Damage Only Collision      NaN                Overcast  \n",
       "2  Property Damage Only Collision      NaN                 Snowing  \n",
       "3  Property Damage Only Collision      NaN  Clear or Partly Cloudy  \n",
       "4  Property Damage Only Collision      NaN                 Raining  "
      ]
     },
     "execution_count": 6,
     "metadata": {},
     "output_type": "execute_result"
    }
   ],
   "source": [
    "df_collision.head()"
   ]
  },
  {
   "cell_type": "code",
   "execution_count": 10,
   "metadata": {},
   "outputs": [],
   "source": [
    "a = pd.to_datetime(df_collision.head(10).incdttm)"
   ]
  },
  {
   "cell_type": "code",
   "execution_count": 11,
   "metadata": {},
   "outputs": [
    {
     "data": {
      "text/plain": [
       "0   2016-11-04 09:55:00\n",
       "1   2016-12-01 10:33:00\n",
       "2   2016-12-23 12:48:00\n",
       "3   2016-12-21 16:13:00\n",
       "4   2016-12-23 06:33:00\n",
       "5   2016-12-03 08:30:00\n",
       "6   2016-12-20 23:51:00\n",
       "7   2016-12-22 01:35:00\n",
       "8   2016-12-31 16:09:00\n",
       "9   2016-12-23 21:26:00\n",
       "Name: incdttm, dtype: datetime64[ns]"
      ]
     },
     "execution_count": 11,
     "metadata": {},
     "output_type": "execute_result"
    }
   ],
   "source": [
    "a"
   ]
  },
  {
   "cell_type": "code",
   "execution_count": 9,
   "metadata": {},
   "outputs": [
    {
     "data": {
      "text/html": [
       "<div>\n",
       "<style scoped>\n",
       "    .dataframe tbody tr th:only-of-type {\n",
       "        vertical-align: middle;\n",
       "    }\n",
       "\n",
       "    .dataframe tbody tr th {\n",
       "        vertical-align: top;\n",
       "    }\n",
       "\n",
       "    .dataframe thead th {\n",
       "        text-align: right;\n",
       "    }\n",
       "</style>\n",
       "<table border=\"1\" class=\"dataframe\">\n",
       "  <thead>\n",
       "    <tr style=\"text-align: right;\">\n",
       "      <th></th>\n",
       "      <th>X</th>\n",
       "      <th>Y</th>\n",
       "      <th>addrtype</th>\n",
       "      <th>incdate</th>\n",
       "      <th>incdttm</th>\n",
       "      <th>lightcond</th>\n",
       "      <th>location</th>\n",
       "      <th>sdot_coldesc</th>\n",
       "      <th>severitydesc</th>\n",
       "      <th>speeding</th>\n",
       "      <th>weather</th>\n",
       "    </tr>\n",
       "  </thead>\n",
       "  <tbody>\n",
       "    <tr>\n",
       "      <th>0</th>\n",
       "      <td>-122.342323</td>\n",
       "      <td>47.627572</td>\n",
       "      <td>Block</td>\n",
       "      <td>2016-11-04T00:00:00.000Z</td>\n",
       "      <td>11/4/2016 9:55:00 AM</td>\n",
       "      <td>Daylight</td>\n",
       "      <td>DEXTER AVE N BETWEEN ALOHA ST AND WARD ST</td>\n",
       "      <td>MOTOR VEHICLE STRUCK MOTOR VEHICLE, FRONT END ...</td>\n",
       "      <td>Property Damage Only Collision</td>\n",
       "      <td>NaN</td>\n",
       "      <td>Clear or Partly Cloudy</td>\n",
       "    </tr>\n",
       "    <tr>\n",
       "      <th>1</th>\n",
       "      <td>-122.301639</td>\n",
       "      <td>47.630771</td>\n",
       "      <td>Block</td>\n",
       "      <td>2016-12-01T00:00:00.000Z</td>\n",
       "      <td>12/1/2016 10:33:00 AM</td>\n",
       "      <td>Daylight</td>\n",
       "      <td>24TH AVE E BETWEEN E HIGHLAND DR AND E LEE ST</td>\n",
       "      <td>MOTOR VEHICLE STRUCK MOTOR VEHICLE, LEFT SIDE ...</td>\n",
       "      <td>Property Damage Only Collision</td>\n",
       "      <td>NaN</td>\n",
       "      <td>Overcast</td>\n",
       "    </tr>\n",
       "  </tbody>\n",
       "</table>\n",
       "</div>"
      ],
      "text/plain": [
       "            X          Y addrtype                   incdate  \\\n",
       "0 -122.342323  47.627572    Block  2016-11-04T00:00:00.000Z   \n",
       "1 -122.301639  47.630771    Block  2016-12-01T00:00:00.000Z   \n",
       "\n",
       "                 incdttm lightcond  \\\n",
       "0   11/4/2016 9:55:00 AM  Daylight   \n",
       "1  12/1/2016 10:33:00 AM  Daylight   \n",
       "\n",
       "                                        location  \\\n",
       "0      DEXTER AVE N BETWEEN ALOHA ST AND WARD ST   \n",
       "1  24TH AVE E BETWEEN E HIGHLAND DR AND E LEE ST   \n",
       "\n",
       "                                        sdot_coldesc  \\\n",
       "0  MOTOR VEHICLE STRUCK MOTOR VEHICLE, FRONT END ...   \n",
       "1  MOTOR VEHICLE STRUCK MOTOR VEHICLE, LEFT SIDE ...   \n",
       "\n",
       "                     severitydesc speeding                 weather  \n",
       "0  Property Damage Only Collision      NaN  Clear or Partly Cloudy  \n",
       "1  Property Damage Only Collision      NaN                Overcast  "
      ]
     },
     "execution_count": 9,
     "metadata": {},
     "output_type": "execute_result"
    }
   ],
   "source": [
    "df_collision.head(2)"
   ]
  },
  {
   "cell_type": "code",
   "execution_count": null,
   "metadata": {},
   "outputs": [],
   "source": []
  }
 ],
 "metadata": {
  "kernelspec": {
   "display_name": "Python 3",
   "language": "python",
   "name": "python3"
  },
  "language_info": {
   "codemirror_mode": {
    "name": "ipython",
    "version": 3
   },
   "file_extension": ".py",
   "mimetype": "text/x-python",
   "name": "python",
   "nbconvert_exporter": "python",
   "pygments_lexer": "ipython3",
   "version": "3.6.5"
  }
 },
 "nbformat": 4,
 "nbformat_minor": 2
}
