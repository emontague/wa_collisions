{
 "cells": [
  {
   "cell_type": "code",
   "execution_count": 1,
   "metadata": {
    "collapsed": true
   },
   "outputs": [],
   "source": [
    "import pandas as pd\n",
    "from neighborhood_reader import get_neighborhood, assign_neighborhood\n",
    "import folium"
   ]
  },
  {
   "cell_type": "code",
   "execution_count": 2,
   "metadata": {
    "collapsed": true
   },
   "outputs": [],
   "source": [
    "df = pd.read_csv(\"../wa_collisions/data/Collisions.csv\")"
   ]
  },
  {
   "cell_type": "code",
   "execution_count": 3,
   "metadata": {},
   "outputs": [
    {
     "data": {
      "text/plain": [
       "196116"
      ]
     },
     "execution_count": 3,
     "metadata": {},
     "output_type": "execute_result"
    }
   ],
   "source": [
    "len(df)"
   ]
  },
  {
   "cell_type": "code",
   "execution_count": 4,
   "metadata": {},
   "outputs": [
    {
     "data": {
      "text/plain": [
       "Index(['X', 'Y', 'objectid', 'inckey', 'coldetkey', 'addrtype',\n",
       "       'collisiontype', 'exceptrsncode', 'exceptrsndesc', 'fatalities',\n",
       "       'inattentionind', 'incdate', 'incdttm', 'injuries', 'intkey',\n",
       "       'junctiontype', 'lightcond', 'location', 'pedcount', 'pedcylcount',\n",
       "       'pedrownotgrnt', 'personcount', 'reportno', 'roadcond', 'sdot_colcode',\n",
       "       'sdot_coldesc', 'sdotcolnum', 'seriousinjuries', 'severitycode',\n",
       "       'severitydesc', 'speeding', 'st_colcode', 'st_coldesc', 'status',\n",
       "       'underinfl', 'vehcount', 'weather', 'seglanekey', 'crosswalkkey',\n",
       "       'hitparkedcar'],\n",
       "      dtype='object')"
      ]
     },
     "execution_count": 4,
     "metadata": {},
     "output_type": "execute_result"
    }
   ],
   "source": [
    "df.columns"
   ]
  },
  {
   "cell_type": "code",
   "execution_count": 5,
   "metadata": {},
   "outputs": [
    {
     "name": "stdout",
     "output_type": "stream",
     "text": [
      "            X          Y   objectid  inckey  coldetkey      addrtype  \\\n",
      "0 -122.342323  47.627572  162244138  233006     233406         Block   \n",
      "1 -122.301639  47.630771  162244139  233085     233485         Block   \n",
      "2 -122.290784  47.719253  162244140  232991     233391  Intersection   \n",
      "3 -122.322535  47.623135  162244141  233079     233479         Block   \n",
      "4 -122.376803  47.689665  162244142  232984     233384         Block   \n",
      "\n",
      "  collisiontype exceptrsncode exceptrsndesc  fatalities      ...       \\\n",
      "0       Head On                         NaN           0      ...        \n",
      "1    Parked Car                         NaN           0      ...        \n",
      "2    Right Turn                         NaN           0      ...        \n",
      "3        Angles                         NaN           0      ...        \n",
      "4    Parked Car                         NaN           0      ...        \n",
      "\n",
      "  speeding st_colcode                                         st_coldesc  \\\n",
      "0      NaN         30               From Opposite Direction - All Others   \n",
      "1      NaN         32                            One Parked - One Moving   \n",
      "2      NaN         16  From Same Direction - One Right Turn - One Str...   \n",
      "3      NaN         10                                  Entering At Angle   \n",
      "4      NaN         32                            One Parked - One Moving   \n",
      "\n",
      "    status  underinfl vehcount                 weather seglanekey  \\\n",
      "0  Matched          N        2  Clear or Partly Cloudy          0   \n",
      "1  Matched          N        2                Overcast          0   \n",
      "2  Matched          N        2                 Snowing          0   \n",
      "3  Matched          N        2  Clear or Partly Cloudy          0   \n",
      "4  Matched          Y        2                 Raining          0   \n",
      "\n",
      "   crosswalkkey  hitparkedcar  \n",
      "0             0             N  \n",
      "1             0             Y  \n",
      "2             0             N  \n",
      "3             0             N  \n",
      "4             0             Y  \n",
      "\n",
      "[5 rows x 40 columns]\n"
     ]
    }
   ],
   "source": [
    "print(df.head())"
   ]
  },
  {
   "cell_type": "code",
   "execution_count": null,
   "metadata": {
    "collapsed": true
   },
   "outputs": [],
   "source": [
    "df_with_neighborhood = assign_neighborhood(df)"
   ]
  },
  {
   "cell_type": "code",
   "execution_count": null,
   "metadata": {
    "collapsed": true
   },
   "outputs": [],
   "source": [
    "counts_per_neighborhood = df_with_neighborhood.groupby(['object_id']).size().reset_index(name='count_of_collisions')"
   ]
  },
  {
   "cell_type": "code",
   "execution_count": null,
   "metadata": {
    "collapsed": true
   },
   "outputs": [],
   "source": [
    "kanton_map2 = folium.Map(location=[47, -122], \n",
    "                    zoom_start=9)\n",
    "kanton_map2.choropleth(geo_data='../data/Neighborhoods/Neighborhoods.json', data=counts_per_neighborhood,\n",
    "             columns=['object_id', 'count_of_collisions'],\n",
    "             key_on='feature.properties.OBJECTID',\n",
    "             threshold_scale=[0,2000,4000,6000,8000,10000],\n",
    "             fill_color='BuPu',\n",
    "             highlight=True)\n",
    "kanton_map2"
   ]
  },
  {
   "cell_type": "code",
   "execution_count": 50,
   "metadata": {},
   "outputs": [
    {
     "data": {
      "text/plain": [
       "196116"
      ]
     },
     "execution_count": 50,
     "metadata": {},
     "output_type": "execute_result"
    }
   ],
   "source": [
    "sum(counts_per_neighborhood['count_of_collisions'])"
   ]
  },
  {
   "cell_type": "code",
   "execution_count": null,
   "metadata": {
    "collapsed": true
   },
   "outputs": [],
   "source": []
  }
 ],
 "metadata": {
  "kernelspec": {
   "display_name": "Python 3",
   "language": "python",
   "name": "python3"
  },
  "language_info": {
   "codemirror_mode": {
    "name": "ipython",
    "version": 3
   },
   "file_extension": ".py",
   "mimetype": "text/x-python",
   "name": "python",
   "nbconvert_exporter": "python",
   "pygments_lexer": "ipython3",
   "version": "3.5.3"
  }
 },
 "nbformat": 4,
 "nbformat_minor": 2
}
