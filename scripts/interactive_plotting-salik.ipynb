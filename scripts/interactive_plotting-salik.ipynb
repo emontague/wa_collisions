{
 "cells": [
  {
   "cell_type": "code",
   "execution_count": 1,
   "metadata": {},
   "outputs": [
    {
     "name": "stderr",
     "output_type": "stream",
     "text": [
      "C:\\Users\\salik\\Anaconda3\\lib\\site-packages\\IPython\\core\\interactiveshell.py:2683: DtypeWarning: Columns (31) have mixed types. Specify dtype option on import or set low_memory=False.\n",
      "  interactivity=interactivity, compiler=compiler, result=result)\n"
     ]
    }
   ],
   "source": [
    "import pandas as pd\n",
    "import numpy as np\n",
    "from IPython.display import display\n",
    "import ipywidgets as widgets\n",
    "from ipywidgets import interactive\n",
    "\n",
    "import folium\n",
    "import folium.plugins as plugins\n",
    "from folium.plugins import HeatMap\n",
    "\n",
    "# Read in data\n",
    "df = pd.read_csv(\"../wa_collisions/data/Collisions.csv\")"
   ]
  },
  {
   "cell_type": "code",
   "execution_count": 3,
   "metadata": {},
   "outputs": [
    {
     "data": {
      "text/plain": [
       "Dry               112958\n",
       "Wet                43634\n",
       "Unknown            14474\n",
       "Ice                 1112\n",
       "Snow/Slush           913\n",
       "Other                116\n",
       "Standing Water       109\n",
       "Sand/Mud/Dirt         71\n",
       "Oil                   56\n",
       "Name: roadcond, dtype: int64"
      ]
     },
     "execution_count": 3,
     "metadata": {},
     "output_type": "execute_result"
    }
   ],
   "source": [
    "df.roadcond.value_counts()"
   ]
  },
  {
   "cell_type": "code",
   "execution_count": 3,
   "metadata": {
    "collapsed": true
   },
   "outputs": [],
   "source": [
    "# As shown above, rearranging of the weather column may be necessary. For instance merge NULL with unknown, \n",
    "# shorten the levels with too many words."
   ]
  },
  {
   "cell_type": "markdown",
   "metadata": {},
   "source": [
    "#### Example Code to create an interactice widget"
   ]
  },
  {
   "cell_type": "code",
   "execution_count": 7,
   "metadata": {},
   "outputs": [
    {
     "data": {
      "application/vnd.jupyter.widget-view+json": {
       "model_id": "2e254febbac6454492c60c602d19a876"
      }
     },
     "metadata": {},
     "output_type": "display_data"
    }
   ],
   "source": [
    "# Define widget\n",
    "roadcond_selection = widgets.Dropdown(\n",
    "    options=list(set(df[-pd.isnull(df.roadcond)].roadcond.values)),\n",
    "    value='Dry',\n",
    "    description='roadcond:',\n",
    "    disabled=False\n",
    ")\n",
    "\n",
    "# Define function to view or plot data\n",
    "def view(roadcond=''):\n",
    "     print(df[df.roadcond == roadcond].shape)\n",
    "\n",
    "# Define interactivity\n",
    "interactive(view, roadcond=roadcond_selection)"
   ]
  },
  {
   "cell_type": "markdown",
   "metadata": {},
   "source": [
    "#### Create an interactive widget to plot heatmap of collisions by weather type"
   ]
  },
  {
   "cell_type": "code",
   "execution_count": 22,
   "metadata": {
    "collapsed": true
   },
   "outputs": [
    {
     "data": {
      "application/vnd.jupyter.widget-view+json": {
       "model_id": "36048f50afee4e3382be1b615d3df354",
       "version_major": 2,
       "version_minor": 0
      },
      "text/plain": [
       "A Jupyter Widget"
      ]
     },
     "metadata": {},
     "output_type": "display_data"
    }
   ],
   "source": [
    "# Define widget\n",
    "weather_selection = widgets.Dropdown(\n",
    "    options=list(set(df[-pd.isnull(df.weather)].weather.values)),\n",
    "    value='Snowing',\n",
    "    description='Weather:',\n",
    "    disabled=False\n",
    ")\n",
    "\n",
    "columns = ['X', 'Y', 'weather']\n",
    "\n",
    "# Define function to view or plot data\n",
    "def map_by_weather(weather=''):\n",
    "    df_collision = df.loc[df.weather == weather, columns].dropna(axis = 0, how = 'any')\n",
    "    coordinates = df_collision.loc[:, ['Y', 'X']].values\n",
    "    NewData = coordinates * np.array([[1, 1]])\n",
    "    \n",
    "    data = list()\n",
    "    data.append(NewData.tolist())\n",
    "    m = folium.Map(location=[47.706850, -122.333961], \n",
    "                   tiles='Stamen Toner', \n",
    "                   zoom_start=11)\n",
    "    HeatMap(data[0]).add_to(m)\n",
    "    display(m)\n",
    "    \n",
    "# Define interactivity\n",
    "interactive(map_by_weather, weather=weather_selection)"
   ]
  },
  {
   "cell_type": "markdown",
   "metadata": {},
   "source": [
    "#### Convert the codes above into one function"
   ]
  },
  {
   "cell_type": "code",
   "execution_count": null,
   "metadata": {
    "collapsed": true
   },
   "outputs": [],
   "source": []
  },
  {
   "cell_type": "code",
   "execution_count": null,
   "metadata": {
    "collapsed": true
   },
   "outputs": [],
   "source": []
  },
  {
   "cell_type": "code",
   "execution_count": null,
   "metadata": {
    "collapsed": true
   },
   "outputs": [],
   "source": []
  },
  {
   "cell_type": "code",
   "execution_count": null,
   "metadata": {
    "collapsed": true
   },
   "outputs": [],
   "source": []
  },
  {
   "cell_type": "markdown",
   "metadata": {},
   "source": [
    "#### TO-DO: toggle by neighborhoods"
   ]
  },
  {
   "cell_type": "code",
   "execution_count": null,
   "metadata": {
    "collapsed": true
   },
   "outputs": [],
   "source": [
    "def visualize_neighborhood(neighborhood_data, mapping_value):\n",
    "    \"\"\"\n",
    "    Visualizes the data provided per neighborhood in abs\n",
    "    folim map nad returns the map.\n",
    "    Args:\n",
    "        neighborhood_data(pandas dataframe): Dataframe containing\n",
    "            the data value per neighborhood which is to be mapped.\n",
    "        mapping_value (string): Name of column of neighborhood_data\n",
    "            to be mapped.\n",
    "    Returns:\n",
    "        the map produced\n",
    "    Raises:\n",
    "        ValueError: if neighborhood_data doesn't have the column\n",
    "            'object_id' or mapping_value\n",
    "    \"\"\"\n",
    "    if not 'object_id' in neighborhood_data.columns:\n",
    "        raise ValueError(\"Dataframe doesn't have a column object_id\")\n",
    "    if not mapping_value in neighborhood_data.columns:\n",
    "        raise ValueError(\"Dataframe doesn't have a column \" + mapping_value)\n",
    "\n",
    "    neigborhood_map = folium.Map(\n",
    "        location=MAP_LOCATION_START,\n",
    "        zoom_start=MAP_ZOOM)\n",
    "\n",
    "    # Finding maximum and minimum values for range\n",
    "    # Adding a small error to max as folium is not good at comparing floats\n",
    "    max_value = max(neighborhood_data[mapping_value]) + ERROR\n",
    "    min_value = min(neighborhood_data[mapping_value])\n",
    "\n",
    "    neigborhood_map.choropleth(\n",
    "        geo_data=MAP_JSON,\n",
    "        data=neighborhood_data,\n",
    "        columns=['object_id', mapping_value],\n",
    "        key_on='feature.properties.OBJECTID',\n",
    "        threshold_scale=list(np.linspace(min_value, max_value, 6)),\n",
    "        fill_color='YlOrRd',\n",
    "        highlight=True)\n",
    "    return neigborhood_map"
   ]
  }
 ],
 "metadata": {
  "kernelspec": {
   "display_name": "Python 3",
   "language": "python",
   "name": "python3"
  },
  "language_info": {
   "codemirror_mode": {
    "name": "ipython",
    "version": 3
   },
   "file_extension": ".py",
   "mimetype": "text/x-python",
   "name": "python",
   "nbconvert_exporter": "python",
   "pygments_lexer": "ipython3",
   "version": "3.5.3"
  }
 },
 "nbformat": 4,
 "nbformat_minor": 2
}
