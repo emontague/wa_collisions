{
 "cells": [
  {
   "cell_type": "code",
   "execution_count": 22,
   "metadata": {},
   "outputs": [],
   "source": [
    "import pandas as pd\n",
    "import numpy as np\n",
    "from IPython.display import display\n",
    "import ipywidgets as widgets\n",
    "from ipywidgets import interactive\n",
    "\n",
    "import folium\n",
    "import folium.plugins as plugins\n",
    "from folium.plugins import HeatMap\n",
    "\n",
    "# Read in data\n",
    "df = pd.read_csv(\"../../project_datasets/Collisions_weather_iem_day_2014_2018_fei.csv\")"
   ]
  },
  {
   "cell_type": "code",
   "execution_count": 90,
   "metadata": {},
   "outputs": [
    {
     "data": {
      "text/plain": [
       "Clear or Partly Cloudy          27662\n",
       "Raining                          8396\n",
       "Overcast                         6281\n",
       "Unknown                          4154\n",
       "Other                             149\n",
       "Snowing                           143\n",
       "Fog/Smog/Smoke                    138\n",
       "Sleet/Hail/Freezing Rain           14\n",
       "Blowing Sand or Dirt or Snow        8\n",
       "Severe Crosswind                    7\n",
       "Name: weather, dtype: int64"
      ]
     },
     "execution_count": 90,
     "metadata": {},
     "output_type": "execute_result"
    }
   ],
   "source": [
    "df.weather.value_counts()"
   ]
  },
  {
   "cell_type": "code",
   "execution_count": 3,
   "metadata": {},
   "outputs": [],
   "source": [
    "# As shown above, rearranging of the weather column may be necessary. For instance merge NULL with unknown, \n",
    "# shorten the levels with too many words."
   ]
  },
  {
   "cell_type": "markdown",
   "metadata": {},
   "source": [
    "#### Example Code to create an interactice widget"
   ]
  },
  {
   "cell_type": "code",
   "execution_count": 38,
   "metadata": {},
   "outputs": [
    {
     "data": {
      "application/vnd.jupyter.widget-view+json": {
       "model_id": "87f59cfacc6f4a77831e670be0e16190",
       "version_major": 2,
       "version_minor": 0
      },
      "text/plain": [
       "interactive(children=(Dropdown(description='Weather:', index=5, options=('Blowing Sand or Dirt or Snow', 'Seve…"
      ]
     },
     "metadata": {},
     "output_type": "display_data"
    }
   ],
   "source": [
    "# Define widget\n",
    "weather_selection = widgets.Dropdown(\n",
    "    options=list(set(df[-pd.isnull(df.weather)].weather.values)),\n",
    "    value='Snowing',\n",
    "    description='Weather:',\n",
    "    disabled=False\n",
    ")\n",
    "\n",
    "# Define function to view or plot data\n",
    "def view(weather=''):\n",
    "     print(df[df.weather == weather].shape)\n",
    "\n",
    "# Define interactivity\n",
    "interactive(view, weather=weather_selection)"
   ]
  },
  {
   "cell_type": "markdown",
   "metadata": {},
   "source": [
    "#### Create an interactive widget to plot heatmap of collisions by weather type"
   ]
  },
  {
   "cell_type": "code",
   "execution_count": 89,
   "metadata": {},
   "outputs": [
    {
     "data": {
      "application/vnd.jupyter.widget-view+json": {
       "model_id": "51e5161229cc4d15a0f935759c22e1cc",
       "version_major": 2,
       "version_minor": 0
      },
      "text/plain": [
       "interactive(children=(Dropdown(description='Weather:', index=5, options=('Blowing Sand or Dirt or Snow', 'Seve…"
      ]
     },
     "metadata": {},
     "output_type": "display_data"
    }
   ],
   "source": [
    "# Define widget\n",
    "weather_selection = widgets.Dropdown(\n",
    "    options=list(set(df[-pd.isnull(df.weather)].weather.values)),\n",
    "    value='Snowing',\n",
    "    description='Weather:',\n",
    "    disabled=False\n",
    ")\n",
    "\n",
    "columns = ['X', 'Y', 'weather']\n",
    "\n",
    "# Define function to view or plot data\n",
    "def map_by_weather(weather=''):\n",
    "    df_collision = df.loc[df.weather == weather, columns].dropna(axis = 0, how = 'any')\n",
    "    coordinates = df_collision.loc[:, ['Y', 'X']].values\n",
    "    NewData = coordinates * np.array([[1, 1]])\n",
    "    \n",
    "    data = list()\n",
    "    data.append(NewData.tolist())\n",
    "    m = folium.Map(location=[47.706850, -122.333961], \n",
    "                   tiles='Stamen Toner', \n",
    "                   zoom_start=11)\n",
    "    HeatMap(data[0]).add_to(m)\n",
    "    display(m)\n",
    "    \n",
    "# Define interactivity\n",
    "interactive(map_by_weather, weather=weather_selection)"
   ]
  },
  {
   "cell_type": "markdown",
   "metadata": {},
   "source": [
    "#### TO-DO: toggle by neighborhoods"
   ]
  },
  {
   "cell_type": "code",
   "execution_count": null,
   "metadata": {},
   "outputs": [],
   "source": [
    "def visualize_neighborhood(neighborhood_data, mapping_value):\n",
    "    \"\"\"\n",
    "    Visualizes the data provided per neighborhood in abs\n",
    "    folim map nad returns the map.\n",
    "    Args:\n",
    "        neighborhood_data(pandas dataframe): Dataframe containing\n",
    "            the data value per neighborhood which is to be mapped.\n",
    "        mapping_value (string): Name of column of neighborhood_data\n",
    "            to be mapped.\n",
    "    Returns:\n",
    "        the map produced\n",
    "    Raises:\n",
    "        ValueError: if neighborhood_data doesn't have the column\n",
    "            'object_id' or mapping_value\n",
    "    \"\"\"\n",
    "    if not 'object_id' in neighborhood_data.columns:\n",
    "        raise ValueError(\"Dataframe doesn't have a column object_id\")\n",
    "    if not mapping_value in neighborhood_data.columns:\n",
    "        raise ValueError(\"Dataframe doesn't have a column \" + mapping_value)\n",
    "\n",
    "    neigborhood_map = folium.Map(\n",
    "        location=MAP_LOCATION_START,\n",
    "        zoom_start=MAP_ZOOM)\n",
    "\n",
    "    # Finding maximum and minimum values for range\n",
    "    # Adding a small error to max as folium is not good at comparing floats\n",
    "    max_value = max(neighborhood_data[mapping_value]) + ERROR\n",
    "    min_value = min(neighborhood_data[mapping_value])\n",
    "\n",
    "    neigborhood_map.choropleth(\n",
    "        geo_data=MAP_JSON,\n",
    "        data=neighborhood_data,\n",
    "        columns=['object_id', mapping_value],\n",
    "        key_on='feature.properties.OBJECTID',\n",
    "        threshold_scale=list(np.linspace(min_value, max_value, 6)),\n",
    "        fill_color='YlOrRd',\n",
    "        highlight=True)\n",
    "    return neigborhood_map"
   ]
  }
 ],
 "metadata": {
  "kernelspec": {
   "display_name": "Python 3",
   "language": "python",
   "name": "python3"
  },
  "language_info": {
   "codemirror_mode": {
    "name": "ipython",
    "version": 3
   },
   "file_extension": ".py",
   "mimetype": "text/x-python",
   "name": "python",
   "nbconvert_exporter": "python",
   "pygments_lexer": "ipython3",
   "version": "3.6.5"
  }
 },
 "nbformat": 4,
 "nbformat_minor": 2
}
