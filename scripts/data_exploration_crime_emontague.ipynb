{
 "cells": [
  {
   "cell_type": "markdown",
   "metadata": {},
   "source": [
    "## Data Exploration of Use Case \n",
    "### Do different types of accidents happen in different neighborhoods with different levels of crime (911 call)?\n",
    "- downloaded spreadsheet collision data from: https://data-seattlecitygis.opendata.arcgis.com/datasets/collisions/data?geometry=-122.526%2C47.676%2C-122.198%2C47.717\n",
    "- download spreadsheet of 911 data from: https://data.seattle.gov/Public-Safety/Crime-Data/4fs7-3vj5\n",
    "- police beat shapefiles (changes over time): https://data.seattle.gov/Public-Safety/Seattle-Police-Department-Beats/nnxn-434b\n",
    "    - start with 2018\n",
    "- center of beat: https://data.seattle.gov/Land-Base/Police-Beat-and-Precinct-Centerpoints/4khs-fz35"
   ]
  },
  {
   "cell_type": "code",
   "execution_count": 1,
   "metadata": {
    "collapsed": true
   },
   "outputs": [],
   "source": [
    "import matplotlib.pyplot as plt\n",
    "import numpy as np\n",
    "import pandas as pd"
   ]
  },
  {
   "cell_type": "code",
   "execution_count": 2,
   "metadata": {
    "collapsed": false
   },
   "outputs": [],
   "source": [
    "crime = pd.read_csv(\"../../Crime_Data.csv\")"
   ]
  },
  {
   "cell_type": "code",
   "execution_count": 3,
   "metadata": {
    "collapsed": false
   },
   "outputs": [
    {
     "data": {
      "text/plain": [
       "array(['ALASKA JUNCTION', 'ALKI', 'BALLARD NORTH', 'BALLARD SOUTH',\n",
       "       'BELLTOWN', 'BITTERLAKE', 'BRIGHTON/DUNLAP', 'CAPITOL HILL',\n",
       "       'CENTRAL AREA/SQUIRE PARK', 'CHINATOWN/INTERNATIONAL DISTRICT',\n",
       "       'CLAREMONT/RAINIER VISTA', 'COLUMBIA CITY', 'COMMERCIAL DUWAMISH',\n",
       "       'COMMERCIAL HARBOR ISLAND', 'DOWNTOWN COMMERCIAL',\n",
       "       'EASTLAKE - EAST', 'EASTLAKE - WEST', 'FAUNTLEROY SW', 'FIRST HILL',\n",
       "       'FREMONT', 'GENESEE', 'GEORGETOWN', 'GREENWOOD', 'HIGH POINT',\n",
       "       'HIGHLAND PARK', 'HILLMAN CITY', 'JUDKINS PARK/NORTH BEACON HILL',\n",
       "       'LAKECITY', 'LAKEWOOD/SEWARD PARK', 'MADISON PARK',\n",
       "       'MADRONA/LESCHI', 'MAGNOLIA', 'MID BEACON HILL', 'MILLER PARK',\n",
       "       'MONTLAKE/PORTAGE BAY', 'MORGAN', 'MOUNT BAKER', 'NEW HOLLY',\n",
       "       'NORTH ADMIRAL', 'NORTH BEACON HILL', 'NORTH DELRIDGE', 'NORTHGATE',\n",
       "       'PHINNEY RIDGE', 'PIGEON POINT', 'PIONEER SQUARE', 'QUEEN ANNE',\n",
       "       'RAINIER BEACH', 'RAINIER VIEW', 'ROOSEVELT/RAVENNA',\n",
       "       'ROXHILL/WESTWOOD/ARBOR HEIGHTS', 'SANDPOINT', 'SLU/CASCADE',\n",
       "       'SODO', 'SOUTH BEACON HILL', 'SOUTH DELRIDGE', 'SOUTH PARK',\n",
       "       'UNIVERSITY', 'UNKNOWN', 'WALLINGFORD'], dtype=object)"
      ]
     },
     "execution_count": 3,
     "metadata": {},
     "output_type": "execute_result"
    }
   ],
   "source": [
    "np.unique(crime.Neighborhood)"
   ]
  },
  {
   "cell_type": "markdown",
   "metadata": {},
   "source": [
    "### Needed to download packages to work with shape files:\n",
    "- Read in the shape files: https://code.google.com/archive/p/pyshp/\n",
    "    - Was not able \"import shapefile\"\n",
    "    - Ended up using fiona to match other parts of the project: https://pypi.org/project/Fiona/\n",
    "- Process the shape files: https://shapely.readthedocs.io/en/latest/project.html#integration\n",
    "- Example process from: https://gis.stackexchange.com/questions/208546/check-if-a-point-falls-within-a-multipolygon-with-python"
   ]
  },
  {
   "cell_type": "code",
   "execution_count": 1,
   "metadata": {
    "collapsed": false
   },
   "outputs": [
    {
     "ename": "ImportError",
     "evalue": "No module named 'fiona'",
     "output_type": "error",
     "traceback": [
      "\u001b[0;31m---------------------------------------------------------------------------\u001b[0m",
      "\u001b[0;31mImportError\u001b[0m                               Traceback (most recent call last)",
      "\u001b[0;32m<ipython-input-1-cc872b235141>\u001b[0m in \u001b[0;36m<module>\u001b[0;34m()\u001b[0m\n\u001b[0;32m----> 1\u001b[0;31m \u001b[1;32mimport\u001b[0m \u001b[0mfiona\u001b[0m\u001b[1;33m\u001b[0m\u001b[0m\n\u001b[0m",
      "\u001b[0;31mImportError\u001b[0m: No module named 'fiona'"
     ]
    }
   ],
   "source": []
  }
 ],
 "metadata": {
  "kernelspec": {
   "display_name": "Python [default]",
   "language": "python",
   "name": "python3"
  }
 },
 "nbformat": 4,
 "nbformat_minor": 2
}
