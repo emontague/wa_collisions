{
 "cells": [
  {
   "cell_type": "markdown",
   "metadata": {},
   "source": [
    "This module will perform"
   ]
  },
  {
   "cell_type": "code",
   "execution_count": 1,
   "metadata": {},
   "outputs": [],
   "source": [
    "import pandas as pd\n",
    "from neighborhood_reader import get_neighborhood, assign_neighborhood\n",
    "from causalimpact import CausalImpact\n",
    "import geopandas as gpd"
   ]
  },
  {
   "cell_type": "markdown",
   "metadata": {},
   "source": [
    "## Step 1: Import data"
   ]
  },
  {
   "cell_type": "code",
   "execution_count": 2,
   "metadata": {},
   "outputs": [],
   "source": [
    "df = pd.read_csv(\"../wa_collisions/data/Collisions_With_Neighborhoods.csv\")"
   ]
  },
  {
   "cell_type": "code",
   "execution_count": 3,
   "metadata": {},
   "outputs": [
    {
     "data": {
      "text/html": [
       "<div>\n",
       "<style scoped>\n",
       "    .dataframe tbody tr th:only-of-type {\n",
       "        vertical-align: middle;\n",
       "    }\n",
       "\n",
       "    .dataframe tbody tr th {\n",
       "        vertical-align: top;\n",
       "    }\n",
       "\n",
       "    .dataframe thead th {\n",
       "        text-align: right;\n",
       "    }\n",
       "</style>\n",
       "<table border=\"1\" class=\"dataframe\">\n",
       "  <thead>\n",
       "    <tr style=\"text-align: right;\">\n",
       "      <th></th>\n",
       "      <th>0</th>\n",
       "    </tr>\n",
       "  </thead>\n",
       "  <tbody>\n",
       "    <tr>\n",
       "      <th>Unnamed: 0</th>\n",
       "      <td>0</td>\n",
       "    </tr>\n",
       "    <tr>\n",
       "      <th>X</th>\n",
       "      <td>-122.342</td>\n",
       "    </tr>\n",
       "    <tr>\n",
       "      <th>Y</th>\n",
       "      <td>47.6276</td>\n",
       "    </tr>\n",
       "    <tr>\n",
       "      <th>objectid</th>\n",
       "      <td>162244138</td>\n",
       "    </tr>\n",
       "    <tr>\n",
       "      <th>inckey</th>\n",
       "      <td>233006</td>\n",
       "    </tr>\n",
       "    <tr>\n",
       "      <th>coldetkey</th>\n",
       "      <td>233406</td>\n",
       "    </tr>\n",
       "    <tr>\n",
       "      <th>addrtype</th>\n",
       "      <td>Block</td>\n",
       "    </tr>\n",
       "    <tr>\n",
       "      <th>collisiontype</th>\n",
       "      <td>Head On</td>\n",
       "    </tr>\n",
       "    <tr>\n",
       "      <th>exceptrsncode</th>\n",
       "      <td></td>\n",
       "    </tr>\n",
       "    <tr>\n",
       "      <th>exceptrsndesc</th>\n",
       "      <td>NaN</td>\n",
       "    </tr>\n",
       "    <tr>\n",
       "      <th>fatalities</th>\n",
       "      <td>0</td>\n",
       "    </tr>\n",
       "    <tr>\n",
       "      <th>inattentionind</th>\n",
       "      <td>NaN</td>\n",
       "    </tr>\n",
       "    <tr>\n",
       "      <th>incdate</th>\n",
       "      <td>2016-11-04T00:00:00.000Z</td>\n",
       "    </tr>\n",
       "    <tr>\n",
       "      <th>incdttm</th>\n",
       "      <td>11/4/2016 9:55:00 AM</td>\n",
       "    </tr>\n",
       "    <tr>\n",
       "      <th>injuries</th>\n",
       "      <td>0</td>\n",
       "    </tr>\n",
       "    <tr>\n",
       "      <th>intkey</th>\n",
       "      <td>NaN</td>\n",
       "    </tr>\n",
       "    <tr>\n",
       "      <th>junctiontype</th>\n",
       "      <td>Mid-Block (not related to intersection)</td>\n",
       "    </tr>\n",
       "    <tr>\n",
       "      <th>lightcond</th>\n",
       "      <td>Daylight</td>\n",
       "    </tr>\n",
       "    <tr>\n",
       "      <th>location</th>\n",
       "      <td>DEXTER AVE N BETWEEN ALOHA ST AND WARD ST</td>\n",
       "    </tr>\n",
       "    <tr>\n",
       "      <th>pedcount</th>\n",
       "      <td>0</td>\n",
       "    </tr>\n",
       "    <tr>\n",
       "      <th>pedcylcount</th>\n",
       "      <td>0</td>\n",
       "    </tr>\n",
       "    <tr>\n",
       "      <th>pedrownotgrnt</th>\n",
       "      <td>NaN</td>\n",
       "    </tr>\n",
       "    <tr>\n",
       "      <th>personcount</th>\n",
       "      <td>2</td>\n",
       "    </tr>\n",
       "    <tr>\n",
       "      <th>reportno</th>\n",
       "      <td>E605707</td>\n",
       "    </tr>\n",
       "    <tr>\n",
       "      <th>roadcond</th>\n",
       "      <td>Dry</td>\n",
       "    </tr>\n",
       "    <tr>\n",
       "      <th>sdot_colcode</th>\n",
       "      <td>11</td>\n",
       "    </tr>\n",
       "    <tr>\n",
       "      <th>sdot_coldesc</th>\n",
       "      <td>MOTOR VEHICLE STRUCK MOTOR VEHICLE, FRONT END ...</td>\n",
       "    </tr>\n",
       "    <tr>\n",
       "      <th>sdotcolnum</th>\n",
       "      <td>NaN</td>\n",
       "    </tr>\n",
       "    <tr>\n",
       "      <th>seriousinjuries</th>\n",
       "      <td>0</td>\n",
       "    </tr>\n",
       "    <tr>\n",
       "      <th>severitycode</th>\n",
       "      <td>1</td>\n",
       "    </tr>\n",
       "    <tr>\n",
       "      <th>severitydesc</th>\n",
       "      <td>Property Damage Only Collision</td>\n",
       "    </tr>\n",
       "    <tr>\n",
       "      <th>speeding</th>\n",
       "      <td>NaN</td>\n",
       "    </tr>\n",
       "    <tr>\n",
       "      <th>st_colcode</th>\n",
       "      <td>30</td>\n",
       "    </tr>\n",
       "    <tr>\n",
       "      <th>st_coldesc</th>\n",
       "      <td>From Opposite Direction - All Others</td>\n",
       "    </tr>\n",
       "    <tr>\n",
       "      <th>status</th>\n",
       "      <td>Matched</td>\n",
       "    </tr>\n",
       "    <tr>\n",
       "      <th>underinfl</th>\n",
       "      <td>N</td>\n",
       "    </tr>\n",
       "    <tr>\n",
       "      <th>vehcount</th>\n",
       "      <td>2</td>\n",
       "    </tr>\n",
       "    <tr>\n",
       "      <th>weather</th>\n",
       "      <td>Clear or Partly Cloudy</td>\n",
       "    </tr>\n",
       "    <tr>\n",
       "      <th>seglanekey</th>\n",
       "      <td>0</td>\n",
       "    </tr>\n",
       "    <tr>\n",
       "      <th>crosswalkkey</th>\n",
       "      <td>0</td>\n",
       "    </tr>\n",
       "    <tr>\n",
       "      <th>hitparkedcar</th>\n",
       "      <td>N</td>\n",
       "    </tr>\n",
       "    <tr>\n",
       "      <th>object_id</th>\n",
       "      <td>47</td>\n",
       "    </tr>\n",
       "  </tbody>\n",
       "</table>\n",
       "</div>"
      ],
      "text/plain": [
       "                                                                 0\n",
       "Unnamed: 0                                                       0\n",
       "X                                                         -122.342\n",
       "Y                                                          47.6276\n",
       "objectid                                                 162244138\n",
       "inckey                                                      233006\n",
       "coldetkey                                                   233406\n",
       "addrtype                                                     Block\n",
       "collisiontype                                              Head On\n",
       "exceptrsncode                                                     \n",
       "exceptrsndesc                                                  NaN\n",
       "fatalities                                                       0\n",
       "inattentionind                                                 NaN\n",
       "incdate                                   2016-11-04T00:00:00.000Z\n",
       "incdttm                                       11/4/2016 9:55:00 AM\n",
       "injuries                                                         0\n",
       "intkey                                                         NaN\n",
       "junctiontype               Mid-Block (not related to intersection)\n",
       "lightcond                                                 Daylight\n",
       "location                 DEXTER AVE N BETWEEN ALOHA ST AND WARD ST\n",
       "pedcount                                                         0\n",
       "pedcylcount                                                      0\n",
       "pedrownotgrnt                                                  NaN\n",
       "personcount                                                      2\n",
       "reportno                                                   E605707\n",
       "roadcond                                                       Dry\n",
       "sdot_colcode                                                    11\n",
       "sdot_coldesc     MOTOR VEHICLE STRUCK MOTOR VEHICLE, FRONT END ...\n",
       "sdotcolnum                                                     NaN\n",
       "seriousinjuries                                                  0\n",
       "severitycode                                                     1\n",
       "severitydesc                        Property Damage Only Collision\n",
       "speeding                                                       NaN\n",
       "st_colcode                                                      30\n",
       "st_coldesc                    From Opposite Direction - All Others\n",
       "status                                                     Matched\n",
       "underinfl                                                        N\n",
       "vehcount                                                         2\n",
       "weather                                     Clear or Partly Cloudy\n",
       "seglanekey                                                       0\n",
       "crosswalkkey                                                     0\n",
       "hitparkedcar                                                     N\n",
       "object_id                                                       47"
      ]
     },
     "execution_count": 3,
     "metadata": {},
     "output_type": "execute_result"
    }
   ],
   "source": [
    "df.head(1).T"
   ]
  },
  {
   "cell_type": "code",
   "execution_count": 4,
   "metadata": {},
   "outputs": [
    {
     "data": {
      "text/plain": [
       "Index(['Unnamed: 0', 'X', 'Y', 'objectid', 'inckey', 'coldetkey', 'addrtype',\n",
       "       'collisiontype', 'exceptrsncode', 'exceptrsndesc', 'fatalities',\n",
       "       'inattentionind', 'incdate', 'incdttm', 'injuries', 'intkey',\n",
       "       'junctiontype', 'lightcond', 'location', 'pedcount', 'pedcylcount',\n",
       "       'pedrownotgrnt', 'personcount', 'reportno', 'roadcond', 'sdot_colcode',\n",
       "       'sdot_coldesc', 'sdotcolnum', 'seriousinjuries', 'severitycode',\n",
       "       'severitydesc', 'speeding', 'st_colcode', 'st_coldesc', 'status',\n",
       "       'underinfl', 'vehcount', 'weather', 'seglanekey', 'crosswalkkey',\n",
       "       'hitparkedcar', 'object_id'],\n",
       "      dtype='object')"
      ]
     },
     "execution_count": 4,
     "metadata": {},
     "output_type": "execute_result"
    }
   ],
   "source": [
    "df.columns"
   ]
  },
  {
   "cell_type": "code",
   "execution_count": 5,
   "metadata": {},
   "outputs": [],
   "source": [
    "NEIGHBORHOODS = gpd.read_file('../wa_collisions/data/Neighborhoods/Neighborhoods.json')\n",
    "NEIGHBORHOODS_COUNT = len(NEIGHBORHOODS)"
   ]
  },
  {
   "cell_type": "markdown",
   "metadata": {},
   "source": [
    "## Step 2: Data clean-up"
   ]
  },
  {
   "cell_type": "markdown",
   "metadata": {},
   "source": [
    "### Identify neighborhoods where speed limits changed"
   ]
  },
  {
   "cell_type": "markdown",
   "metadata": {},
   "source": [
    "Identify neighborhoods where speed limit changed and those where it didn't"
   ]
  },
  {
   "cell_type": "code",
   "execution_count": 6,
   "metadata": {},
   "outputs": [],
   "source": [
    "speed_limit_nbrhood = ['Atlantic','Pike-Market', 'Belltown', 'International District',\n",
    "       'Central Business District', 'First Hill', 'Yesler Terrace',\n",
    "       'Pioneer Square', 'Interbay','Mann','Minor']\n",
    "no_speed_limit_nbrhood = list(set(NEIGHBORHOODS['S_HOOD'].unique()) - set(speed_limit_nbrhood))"
   ]
  },
  {
   "cell_type": "markdown",
   "metadata": {},
   "source": [
    "Convert names to object ids"
   ]
  },
  {
   "cell_type": "code",
   "execution_count": 7,
   "metadata": {},
   "outputs": [],
   "source": [
    "speed_limit_nbrhood_id = []\n",
    "for i in range(0,len(speed_limit_nbrhood)):\n",
    "    speed_limit_nbrhood_id = speed_limit_nbrhood_id + [int(NEIGHBORHOODS[NEIGHBORHOODS['S_HOOD'] == speed_limit_nbrhood[i]]['OBJECTID'])]\n",
    "no_speed_limit_nbrhood = list(set(NEIGHBORHOODS['OBJECTID'].unique()) - set(speed_limit_nbrhood_id))"
   ]
  },
  {
   "cell_type": "markdown",
   "metadata": {},
   "source": [
    "### Add speed limit flag to dataframe and group collisions data by date "
   ]
  },
  {
   "cell_type": "code",
   "execution_count": 20,
   "metadata": {},
   "outputs": [],
   "source": [
    "df['speedlimit_change_flag'] =  df['object_id'].isin(speed_limit_nbrhood_id)"
   ]
  },
  {
   "cell_type": "code",
   "execution_count": 24,
   "metadata": {},
   "outputs": [
    {
     "data": {
      "text/html": [
       "<div>\n",
       "<style scoped>\n",
       "    .dataframe tbody tr th:only-of-type {\n",
       "        vertical-align: middle;\n",
       "    }\n",
       "\n",
       "    .dataframe tbody tr th {\n",
       "        vertical-align: top;\n",
       "    }\n",
       "\n",
       "    .dataframe thead th {\n",
       "        text-align: right;\n",
       "    }\n",
       "</style>\n",
       "<table border=\"1\" class=\"dataframe\">\n",
       "  <thead>\n",
       "    <tr style=\"text-align: right;\">\n",
       "      <th></th>\n",
       "      <th>0</th>\n",
       "    </tr>\n",
       "  </thead>\n",
       "  <tbody>\n",
       "    <tr>\n",
       "      <th>Unnamed: 0</th>\n",
       "      <td>0</td>\n",
       "    </tr>\n",
       "    <tr>\n",
       "      <th>X</th>\n",
       "      <td>-122.342</td>\n",
       "    </tr>\n",
       "    <tr>\n",
       "      <th>Y</th>\n",
       "      <td>47.6276</td>\n",
       "    </tr>\n",
       "    <tr>\n",
       "      <th>objectid</th>\n",
       "      <td>162244138</td>\n",
       "    </tr>\n",
       "    <tr>\n",
       "      <th>inckey</th>\n",
       "      <td>233006</td>\n",
       "    </tr>\n",
       "    <tr>\n",
       "      <th>coldetkey</th>\n",
       "      <td>233406</td>\n",
       "    </tr>\n",
       "    <tr>\n",
       "      <th>addrtype</th>\n",
       "      <td>Block</td>\n",
       "    </tr>\n",
       "    <tr>\n",
       "      <th>collisiontype</th>\n",
       "      <td>Head On</td>\n",
       "    </tr>\n",
       "    <tr>\n",
       "      <th>exceptrsncode</th>\n",
       "      <td></td>\n",
       "    </tr>\n",
       "    <tr>\n",
       "      <th>exceptrsndesc</th>\n",
       "      <td>NaN</td>\n",
       "    </tr>\n",
       "    <tr>\n",
       "      <th>fatalities</th>\n",
       "      <td>0</td>\n",
       "    </tr>\n",
       "    <tr>\n",
       "      <th>inattentionind</th>\n",
       "      <td>NaN</td>\n",
       "    </tr>\n",
       "    <tr>\n",
       "      <th>incdate</th>\n",
       "      <td>2016-11-04T00:00:00.000Z</td>\n",
       "    </tr>\n",
       "    <tr>\n",
       "      <th>incdttm</th>\n",
       "      <td>11/4/2016 9:55:00 AM</td>\n",
       "    </tr>\n",
       "    <tr>\n",
       "      <th>injuries</th>\n",
       "      <td>0</td>\n",
       "    </tr>\n",
       "    <tr>\n",
       "      <th>intkey</th>\n",
       "      <td>NaN</td>\n",
       "    </tr>\n",
       "    <tr>\n",
       "      <th>junctiontype</th>\n",
       "      <td>Mid-Block (not related to intersection)</td>\n",
       "    </tr>\n",
       "    <tr>\n",
       "      <th>lightcond</th>\n",
       "      <td>Daylight</td>\n",
       "    </tr>\n",
       "    <tr>\n",
       "      <th>location</th>\n",
       "      <td>DEXTER AVE N BETWEEN ALOHA ST AND WARD ST</td>\n",
       "    </tr>\n",
       "    <tr>\n",
       "      <th>pedcount</th>\n",
       "      <td>0</td>\n",
       "    </tr>\n",
       "    <tr>\n",
       "      <th>pedcylcount</th>\n",
       "      <td>0</td>\n",
       "    </tr>\n",
       "    <tr>\n",
       "      <th>pedrownotgrnt</th>\n",
       "      <td>NaN</td>\n",
       "    </tr>\n",
       "    <tr>\n",
       "      <th>personcount</th>\n",
       "      <td>2</td>\n",
       "    </tr>\n",
       "    <tr>\n",
       "      <th>reportno</th>\n",
       "      <td>E605707</td>\n",
       "    </tr>\n",
       "    <tr>\n",
       "      <th>roadcond</th>\n",
       "      <td>Dry</td>\n",
       "    </tr>\n",
       "    <tr>\n",
       "      <th>sdot_colcode</th>\n",
       "      <td>11</td>\n",
       "    </tr>\n",
       "    <tr>\n",
       "      <th>sdot_coldesc</th>\n",
       "      <td>MOTOR VEHICLE STRUCK MOTOR VEHICLE, FRONT END ...</td>\n",
       "    </tr>\n",
       "    <tr>\n",
       "      <th>sdotcolnum</th>\n",
       "      <td>NaN</td>\n",
       "    </tr>\n",
       "    <tr>\n",
       "      <th>seriousinjuries</th>\n",
       "      <td>0</td>\n",
       "    </tr>\n",
       "    <tr>\n",
       "      <th>severitycode</th>\n",
       "      <td>1</td>\n",
       "    </tr>\n",
       "    <tr>\n",
       "      <th>severitydesc</th>\n",
       "      <td>Property Damage Only Collision</td>\n",
       "    </tr>\n",
       "    <tr>\n",
       "      <th>speeding</th>\n",
       "      <td>NaN</td>\n",
       "    </tr>\n",
       "    <tr>\n",
       "      <th>st_colcode</th>\n",
       "      <td>30</td>\n",
       "    </tr>\n",
       "    <tr>\n",
       "      <th>st_coldesc</th>\n",
       "      <td>From Opposite Direction - All Others</td>\n",
       "    </tr>\n",
       "    <tr>\n",
       "      <th>status</th>\n",
       "      <td>Matched</td>\n",
       "    </tr>\n",
       "    <tr>\n",
       "      <th>underinfl</th>\n",
       "      <td>N</td>\n",
       "    </tr>\n",
       "    <tr>\n",
       "      <th>vehcount</th>\n",
       "      <td>2</td>\n",
       "    </tr>\n",
       "    <tr>\n",
       "      <th>weather</th>\n",
       "      <td>Clear or Partly Cloudy</td>\n",
       "    </tr>\n",
       "    <tr>\n",
       "      <th>seglanekey</th>\n",
       "      <td>0</td>\n",
       "    </tr>\n",
       "    <tr>\n",
       "      <th>crosswalkkey</th>\n",
       "      <td>0</td>\n",
       "    </tr>\n",
       "    <tr>\n",
       "      <th>hitparkedcar</th>\n",
       "      <td>N</td>\n",
       "    </tr>\n",
       "    <tr>\n",
       "      <th>object_id</th>\n",
       "      <td>47</td>\n",
       "    </tr>\n",
       "    <tr>\n",
       "      <th>speedlimit_change_flag</th>\n",
       "      <td>False</td>\n",
       "    </tr>\n",
       "  </tbody>\n",
       "</table>\n",
       "</div>"
      ],
      "text/plain": [
       "                                                                        0\n",
       "Unnamed: 0                                                              0\n",
       "X                                                                -122.342\n",
       "Y                                                                 47.6276\n",
       "objectid                                                        162244138\n",
       "inckey                                                             233006\n",
       "coldetkey                                                          233406\n",
       "addrtype                                                            Block\n",
       "collisiontype                                                     Head On\n",
       "exceptrsncode                                                            \n",
       "exceptrsndesc                                                         NaN\n",
       "fatalities                                                              0\n",
       "inattentionind                                                        NaN\n",
       "incdate                                          2016-11-04T00:00:00.000Z\n",
       "incdttm                                              11/4/2016 9:55:00 AM\n",
       "injuries                                                                0\n",
       "intkey                                                                NaN\n",
       "junctiontype                      Mid-Block (not related to intersection)\n",
       "lightcond                                                        Daylight\n",
       "location                        DEXTER AVE N BETWEEN ALOHA ST AND WARD ST\n",
       "pedcount                                                                0\n",
       "pedcylcount                                                             0\n",
       "pedrownotgrnt                                                         NaN\n",
       "personcount                                                             2\n",
       "reportno                                                          E605707\n",
       "roadcond                                                              Dry\n",
       "sdot_colcode                                                           11\n",
       "sdot_coldesc            MOTOR VEHICLE STRUCK MOTOR VEHICLE, FRONT END ...\n",
       "sdotcolnum                                                            NaN\n",
       "seriousinjuries                                                         0\n",
       "severitycode                                                            1\n",
       "severitydesc                               Property Damage Only Collision\n",
       "speeding                                                              NaN\n",
       "st_colcode                                                             30\n",
       "st_coldesc                           From Opposite Direction - All Others\n",
       "status                                                            Matched\n",
       "underinfl                                                               N\n",
       "vehcount                                                                2\n",
       "weather                                            Clear or Partly Cloudy\n",
       "seglanekey                                                              0\n",
       "crosswalkkey                                                            0\n",
       "hitparkedcar                                                            N\n",
       "object_id                                                              47\n",
       "speedlimit_change_flag                                              False"
      ]
     },
     "execution_count": 24,
     "metadata": {},
     "output_type": "execute_result"
    }
   ],
   "source": [
    "df.head(1).T"
   ]
  },
  {
   "cell_type": "code",
   "execution_count": 56,
   "metadata": {},
   "outputs": [
    {
     "name": "stdout",
     "output_type": "stream",
     "text": [
      "min date: 2003-10-06 00:00:00\n",
      "max date: 2018-03-29 00:00:00\n"
     ]
    }
   ],
   "source": [
    "print('min date:',df['incdate'].min())\n",
    "print('max date:',df['incdate'].max())"
   ]
  },
  {
   "cell_type": "markdown",
   "metadata": {},
   "source": [
    "### Define periods before and after speed limit change"
   ]
  },
  {
   "cell_type": "code",
   "execution_count": 57,
   "metadata": {},
   "outputs": [],
   "source": [
    "pre_period  = [pd.to_datetime(date) for date in [\"2013-10-06\", \"2016-09-30\"]]\n",
    "post_period = [pd.to_datetime(date) for date in [\"2016-10-01\", \"2018-03-29\"]]"
   ]
  },
  {
   "cell_type": "code",
   "execution_count": 58,
   "metadata": {},
   "outputs": [],
   "source": [
    "df['incdate'] = pd.to_datetime(df['incdate'])"
   ]
  },
  {
   "cell_type": "markdown",
   "metadata": {},
   "source": [
    "### Create dataframe for input to causal impact"
   ]
  },
  {
   "cell_type": "code",
   "execution_count": 59,
   "metadata": {},
   "outputs": [],
   "source": [
    "data_all = df.groupby(['incdttm','speedlimit_change_flag']).size()\n",
    "data_all = data_all.unstack()\n",
    "data_all = data_all.fillna(0)"
   ]
  },
  {
   "cell_type": "code",
   "execution_count": 60,
   "metadata": {},
   "outputs": [
    {
     "data": {
      "text/plain": [
       "<matplotlib.axes._subplots.AxesSubplot at 0x1aa6dce04a8>"
      ]
     },
     "execution_count": 60,
     "metadata": {},
     "output_type": "execute_result"
    },
    {
     "data": {
      "image/png": "[encoded data removed]",
      "text/plain": [
       "<matplotlib.figure.Figure at 0x1aa66496358>"
      ]
     },
     "metadata": {},
     "output_type": "display_data"
    }
   ],
   "source": [
    "data_all.plot()"
   ]
  },
  {
   "cell_type": "markdown",
   "metadata": {},
   "source": [
    "### Run causal impact"
   ]
  },
  {
   "cell_type": "code",
   "execution_count": 61,
   "metadata": {},
   "outputs": [
    {
     "name": "stderr",
     "output_type": "stream",
     "text": [
      "C:\\Users\\geoffc.REDMOND\\AppData\\Local\\Continuum\\anaconda3\\lib\\site-packages\\statsmodels\\compat\\pandas.py:56: FutureWarning: The pandas.core.datetools module is deprecated and will be removed in a future version. Please use the pandas.tseries module instead.\n",
      "  from pandas.core import datetools\n"
     ]
    }
   ],
   "source": [
    "impact = CausalImpact(data_all, pre_period, post_period)\n",
    "impact.run()"
   ]
  },
  {
   "cell_type": "code",
   "execution_count": 62,
   "metadata": {},
   "outputs": [
    {
     "name": "stdout",
     "output_type": "stream",
     "text": [
      "                           Average         Cumulative\n",
      "Actual                           1              14930\n",
      "Predicted                        1              14828\n",
      "95% CI                      [0, 2]    [-10512, 40169]\n",
      "                                                     \n",
      "Absolute Effect                  0                101\n",
      "95% CI                     [1, -1]    [25442, -25239]\n",
      "                                                     \n",
      "Relative Effect               0.7%               0.7%\n",
      "95% CI           [171.6%, -170.2%]  [171.6%, -170.2%]\n"
     ]
    }
   ],
   "source": [
    "impact.summary()"
   ]
  }
 ],
 "metadata": {
  "kernelspec": {
   "display_name": "Python 3",
   "language": "python",
   "name": "python3"
  },
  "language_info": {
   "codemirror_mode": {
    "name": "ipython",
    "version": 3
   },
   "file_extension": ".py",
   "mimetype": "text/x-python",
   "name": "python",
   "nbconvert_exporter": "python",
   "pygments_lexer": "ipython3",
   "version": "3.6.4"
  }
 },
 "nbformat": 4,
 "nbformat_minor": 2
}
