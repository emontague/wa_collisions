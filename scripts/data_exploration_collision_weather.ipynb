{
 "cells": [
  {
   "cell_type": "markdown",
   "metadata": {},
   "source": [
    "### Import Packages"
   ]
  },
  {
   "cell_type": "code",
   "execution_count": 1,
   "metadata": {},
   "outputs": [],
   "source": [
    "import pandas as pd\n",
    "import numpy as np\n",
    "import datetime\n",
    "import matplotlib.pyplot as plt\n",
    "%matplotlib inline\n",
    "\n",
    "from weather import forecast"
   ]
  },
  {
   "cell_type": "code",
   "execution_count": null,
   "metadata": {},
   "outputs": [],
   "source": []
  },
  {
   "cell_type": "markdown",
   "metadata": {},
   "source": [
    "## Seattle Collision Data"
   ]
  },
  {
   "cell_type": "markdown",
   "metadata": {},
   "source": [
    "https://data-seattlecitygis.opendata.arcgis.com/datasets/collisions/data?geometry=-122.526%2C47.676%2C-122.198%2C47.717&page=4"
   ]
  },
  {
   "cell_type": "markdown",
   "metadata": {},
   "source": [
    "01/01/2014 - 03/29/2018\n",
    "\n",
    "data with weather info available 01/01/2014 - 01/30/2018\n",
    "\n",
    "(lat, lon) values have 6 decimal places (precision at individual human level)"
   ]
  },
  {
   "cell_type": "markdown",
   "metadata": {},
   "source": [
    "### read in the original dataset"
   ]
  },
  {
   "cell_type": "code",
   "execution_count": 3,
   "metadata": {},
   "outputs": [],
   "source": [
    "df_collision = pd.read_csv('../data/Collisions.csv')"
   ]
  },
  {
   "cell_type": "code",
   "execution_count": 4,
   "metadata": {},
   "outputs": [
    {
     "data": {
      "text/plain": [
       "(196116, 40)"
      ]
     },
     "execution_count": 4,
     "metadata": {},
     "output_type": "execute_result"
    }
   ],
   "source": [
    "df_collision.shape"
   ]
  },
  {
   "cell_type": "markdown",
   "metadata": {},
   "source": [
    "#### check one example"
   ]
  },
  {
   "cell_type": "code",
   "execution_count": 5,
   "metadata": {
    "collapsed": true
   },
   "outputs": [
    {
     "data": {
      "text/html": [
       "<div>\n",
       "<style scoped>\n",
       "    .dataframe tbody tr th:only-of-type {\n",
       "        vertical-align: middle;\n",
       "    }\n",
       "\n",
       "    .dataframe tbody tr th {\n",
       "        vertical-align: top;\n",
       "    }\n",
       "\n",
       "    .dataframe thead th {\n",
       "        text-align: right;\n",
       "    }\n",
       "</style>\n",
       "<table border=\"1\" class=\"dataframe\">\n",
       "  <thead>\n",
       "    <tr style=\"text-align: right;\">\n",
       "      <th></th>\n",
       "      <th>0</th>\n",
       "    </tr>\n",
       "  </thead>\n",
       "  <tbody>\n",
       "    <tr>\n",
       "      <th>X</th>\n",
       "      <td>-122.342</td>\n",
       "    </tr>\n",
       "    <tr>\n",
       "      <th>Y</th>\n",
       "      <td>47.6276</td>\n",
       "    </tr>\n",
       "    <tr>\n",
       "      <th>objectid</th>\n",
       "      <td>162244138</td>\n",
       "    </tr>\n",
       "    <tr>\n",
       "      <th>inckey</th>\n",
       "      <td>233006</td>\n",
       "    </tr>\n",
       "    <tr>\n",
       "      <th>coldetkey</th>\n",
       "      <td>233406</td>\n",
       "    </tr>\n",
       "    <tr>\n",
       "      <th>addrtype</th>\n",
       "      <td>Block</td>\n",
       "    </tr>\n",
       "    <tr>\n",
       "      <th>collisiontype</th>\n",
       "      <td>Head On</td>\n",
       "    </tr>\n",
       "    <tr>\n",
       "      <th>exceptrsncode</th>\n",
       "      <td></td>\n",
       "    </tr>\n",
       "    <tr>\n",
       "      <th>exceptrsndesc</th>\n",
       "      <td>NaN</td>\n",
       "    </tr>\n",
       "    <tr>\n",
       "      <th>fatalities</th>\n",
       "      <td>0</td>\n",
       "    </tr>\n",
       "    <tr>\n",
       "      <th>inattentionind</th>\n",
       "      <td>NaN</td>\n",
       "    </tr>\n",
       "    <tr>\n",
       "      <th>incdate</th>\n",
       "      <td>2016-11-04T00:00:00.000Z</td>\n",
       "    </tr>\n",
       "    <tr>\n",
       "      <th>incdttm</th>\n",
       "      <td>11/4/2016 9:55:00 AM</td>\n",
       "    </tr>\n",
       "    <tr>\n",
       "      <th>injuries</th>\n",
       "      <td>0</td>\n",
       "    </tr>\n",
       "    <tr>\n",
       "      <th>intkey</th>\n",
       "      <td>NaN</td>\n",
       "    </tr>\n",
       "    <tr>\n",
       "      <th>junctiontype</th>\n",
       "      <td>Mid-Block (not related to intersection)</td>\n",
       "    </tr>\n",
       "    <tr>\n",
       "      <th>lightcond</th>\n",
       "      <td>Daylight</td>\n",
       "    </tr>\n",
       "    <tr>\n",
       "      <th>location</th>\n",
       "      <td>DEXTER AVE N BETWEEN ALOHA ST AND WARD ST</td>\n",
       "    </tr>\n",
       "    <tr>\n",
       "      <th>pedcount</th>\n",
       "      <td>0</td>\n",
       "    </tr>\n",
       "    <tr>\n",
       "      <th>pedcylcount</th>\n",
       "      <td>0</td>\n",
       "    </tr>\n",
       "    <tr>\n",
       "      <th>pedrownotgrnt</th>\n",
       "      <td>NaN</td>\n",
       "    </tr>\n",
       "    <tr>\n",
       "      <th>personcount</th>\n",
       "      <td>2</td>\n",
       "    </tr>\n",
       "    <tr>\n",
       "      <th>reportno</th>\n",
       "      <td>E605707</td>\n",
       "    </tr>\n",
       "    <tr>\n",
       "      <th>roadcond</th>\n",
       "      <td>Dry</td>\n",
       "    </tr>\n",
       "    <tr>\n",
       "      <th>sdot_colcode</th>\n",
       "      <td>11</td>\n",
       "    </tr>\n",
       "    <tr>\n",
       "      <th>sdot_coldesc</th>\n",
       "      <td>MOTOR VEHICLE STRUCK MOTOR VEHICLE, FRONT END ...</td>\n",
       "    </tr>\n",
       "    <tr>\n",
       "      <th>sdotcolnum</th>\n",
       "      <td>NaN</td>\n",
       "    </tr>\n",
       "    <tr>\n",
       "      <th>seriousinjuries</th>\n",
       "      <td>0</td>\n",
       "    </tr>\n",
       "    <tr>\n",
       "      <th>severitycode</th>\n",
       "      <td>1</td>\n",
       "    </tr>\n",
       "    <tr>\n",
       "      <th>severitydesc</th>\n",
       "      <td>Property Damage Only Collision</td>\n",
       "    </tr>\n",
       "    <tr>\n",
       "      <th>speeding</th>\n",
       "      <td>NaN</td>\n",
       "    </tr>\n",
       "    <tr>\n",
       "      <th>st_colcode</th>\n",
       "      <td>30</td>\n",
       "    </tr>\n",
       "    <tr>\n",
       "      <th>st_coldesc</th>\n",
       "      <td>From Opposite Direction - All Others</td>\n",
       "    </tr>\n",
       "    <tr>\n",
       "      <th>status</th>\n",
       "      <td>Matched</td>\n",
       "    </tr>\n",
       "    <tr>\n",
       "      <th>underinfl</th>\n",
       "      <td>N</td>\n",
       "    </tr>\n",
       "    <tr>\n",
       "      <th>vehcount</th>\n",
       "      <td>2</td>\n",
       "    </tr>\n",
       "    <tr>\n",
       "      <th>weather</th>\n",
       "      <td>Clear or Partly Cloudy</td>\n",
       "    </tr>\n",
       "    <tr>\n",
       "      <th>seglanekey</th>\n",
       "      <td>0</td>\n",
       "    </tr>\n",
       "    <tr>\n",
       "      <th>crosswalkkey</th>\n",
       "      <td>0</td>\n",
       "    </tr>\n",
       "    <tr>\n",
       "      <th>hitparkedcar</th>\n",
       "      <td>N</td>\n",
       "    </tr>\n",
       "  </tbody>\n",
       "</table>\n",
       "</div>"
      ],
      "text/plain": [
       "                                                                 0\n",
       "X                                                         -122.342\n",
       "Y                                                          47.6276\n",
       "objectid                                                 162244138\n",
       "inckey                                                      233006\n",
       "coldetkey                                                   233406\n",
       "addrtype                                                     Block\n",
       "collisiontype                                              Head On\n",
       "exceptrsncode                                                     \n",
       "exceptrsndesc                                                  NaN\n",
       "fatalities                                                       0\n",
       "inattentionind                                                 NaN\n",
       "incdate                                   2016-11-04T00:00:00.000Z\n",
       "incdttm                                       11/4/2016 9:55:00 AM\n",
       "injuries                                                         0\n",
       "intkey                                                         NaN\n",
       "junctiontype               Mid-Block (not related to intersection)\n",
       "lightcond                                                 Daylight\n",
       "location                 DEXTER AVE N BETWEEN ALOHA ST AND WARD ST\n",
       "pedcount                                                         0\n",
       "pedcylcount                                                      0\n",
       "pedrownotgrnt                                                  NaN\n",
       "personcount                                                      2\n",
       "reportno                                                   E605707\n",
       "roadcond                                                       Dry\n",
       "sdot_colcode                                                    11\n",
       "sdot_coldesc     MOTOR VEHICLE STRUCK MOTOR VEHICLE, FRONT END ...\n",
       "sdotcolnum                                                     NaN\n",
       "seriousinjuries                                                  0\n",
       "severitycode                                                     1\n",
       "severitydesc                        Property Damage Only Collision\n",
       "speeding                                                       NaN\n",
       "st_colcode                                                      30\n",
       "st_coldesc                    From Opposite Direction - All Others\n",
       "status                                                     Matched\n",
       "underinfl                                                        N\n",
       "vehcount                                                         2\n",
       "weather                                     Clear or Partly Cloudy\n",
       "seglanekey                                                       0\n",
       "crosswalkkey                                                     0\n",
       "hitparkedcar                                                     N"
      ]
     },
     "execution_count": 5,
     "metadata": {},
     "output_type": "execute_result"
    }
   ],
   "source": [
    "df_collision.head(1).T"
   ]
  },
  {
   "cell_type": "markdown",
   "metadata": {},
   "source": [
    "#### check column names"
   ]
  },
  {
   "cell_type": "code",
   "execution_count": 6,
   "metadata": {
    "collapsed": true
   },
   "outputs": [
    {
     "data": {
      "text/plain": [
       "array(['X', 'Y', 'objectid', 'inckey', 'coldetkey', 'addrtype',\n",
       "       'collisiontype', 'exceptrsncode', 'exceptrsndesc', 'fatalities',\n",
       "       'inattentionind', 'incdate', 'incdttm', 'injuries', 'intkey',\n",
       "       'junctiontype', 'lightcond', 'location', 'pedcount', 'pedcylcount',\n",
       "       'pedrownotgrnt', 'personcount', 'reportno', 'roadcond',\n",
       "       'sdot_colcode', 'sdot_coldesc', 'sdotcolnum', 'seriousinjuries',\n",
       "       'severitycode', 'severitydesc', 'speeding', 'st_colcode',\n",
       "       'st_coldesc', 'status', 'underinfl', 'vehcount', 'weather',\n",
       "       'seglanekey', 'crosswalkkey', 'hitparkedcar'], dtype=object)"
      ]
     },
     "execution_count": 6,
     "metadata": {},
     "output_type": "execute_result"
    }
   ],
   "source": [
    "df_collision.columns.values"
   ]
  },
  {
   "cell_type": "code",
   "execution_count": 7,
   "metadata": {
    "collapsed": true
   },
   "outputs": [
    {
     "data": {
      "text/html": [
       "<div>\n",
       "<style scoped>\n",
       "    .dataframe tbody tr th:only-of-type {\n",
       "        vertical-align: middle;\n",
       "    }\n",
       "\n",
       "    .dataframe tbody tr th {\n",
       "        vertical-align: top;\n",
       "    }\n",
       "\n",
       "    .dataframe thead th {\n",
       "        text-align: right;\n",
       "    }\n",
       "</style>\n",
       "<table border=\"1\" class=\"dataframe\">\n",
       "  <thead>\n",
       "    <tr style=\"text-align: right;\">\n",
       "      <th></th>\n",
       "      <th>X</th>\n",
       "      <th>Y</th>\n",
       "      <th>addrtype</th>\n",
       "      <th>incdate</th>\n",
       "      <th>incdttm</th>\n",
       "      <th>lightcond</th>\n",
       "      <th>location</th>\n",
       "      <th>sdot_coldesc</th>\n",
       "      <th>severitydesc</th>\n",
       "      <th>speeding</th>\n",
       "      <th>weather</th>\n",
       "    </tr>\n",
       "  </thead>\n",
       "  <tbody>\n",
       "    <tr>\n",
       "      <th>0</th>\n",
       "      <td>-122.342323</td>\n",
       "      <td>47.627572</td>\n",
       "      <td>Block</td>\n",
       "      <td>2016-11-04T00:00:00.000Z</td>\n",
       "      <td>11/4/2016 9:55:00 AM</td>\n",
       "      <td>Daylight</td>\n",
       "      <td>DEXTER AVE N BETWEEN ALOHA ST AND WARD ST</td>\n",
       "      <td>MOTOR VEHICLE STRUCK MOTOR VEHICLE, FRONT END ...</td>\n",
       "      <td>Property Damage Only Collision</td>\n",
       "      <td>NaN</td>\n",
       "      <td>Clear or Partly Cloudy</td>\n",
       "    </tr>\n",
       "    <tr>\n",
       "      <th>1</th>\n",
       "      <td>-122.301639</td>\n",
       "      <td>47.630771</td>\n",
       "      <td>Block</td>\n",
       "      <td>2016-12-01T00:00:00.000Z</td>\n",
       "      <td>12/1/2016 10:33:00 AM</td>\n",
       "      <td>Daylight</td>\n",
       "      <td>24TH AVE E BETWEEN E HIGHLAND DR AND E LEE ST</td>\n",
       "      <td>MOTOR VEHICLE STRUCK MOTOR VEHICLE, LEFT SIDE ...</td>\n",
       "      <td>Property Damage Only Collision</td>\n",
       "      <td>NaN</td>\n",
       "      <td>Overcast</td>\n",
       "    </tr>\n",
       "    <tr>\n",
       "      <th>2</th>\n",
       "      <td>-122.290784</td>\n",
       "      <td>47.719253</td>\n",
       "      <td>Intersection</td>\n",
       "      <td>2016-12-23T00:00:00.000Z</td>\n",
       "      <td>12/23/2016 12:48:00 PM</td>\n",
       "      <td>Daylight</td>\n",
       "      <td>35TH AVE NE AND NE 125TH ST</td>\n",
       "      <td>MOTOR VEHICLE STRUCK MOTOR VEHICLE, FRONT END ...</td>\n",
       "      <td>Property Damage Only Collision</td>\n",
       "      <td>NaN</td>\n",
       "      <td>Snowing</td>\n",
       "    </tr>\n",
       "    <tr>\n",
       "      <th>3</th>\n",
       "      <td>-122.322535</td>\n",
       "      <td>47.623135</td>\n",
       "      <td>Block</td>\n",
       "      <td>2016-12-21T00:00:00.000Z</td>\n",
       "      <td>12/21/2016 4:13:00 PM</td>\n",
       "      <td>Daylight</td>\n",
       "      <td>E REPUBLICAN ST BETWEEN BOYLSTON AVE E AND HAR...</td>\n",
       "      <td>MOTOR VEHICLE STRUCK MOTOR VEHICLE, FRONT END ...</td>\n",
       "      <td>Property Damage Only Collision</td>\n",
       "      <td>NaN</td>\n",
       "      <td>Clear or Partly Cloudy</td>\n",
       "    </tr>\n",
       "    <tr>\n",
       "      <th>4</th>\n",
       "      <td>-122.376803</td>\n",
       "      <td>47.689665</td>\n",
       "      <td>Block</td>\n",
       "      <td>2016-12-23T00:00:00.000Z</td>\n",
       "      <td>12/23/2016 6:33:00 AM</td>\n",
       "      <td>Dawn</td>\n",
       "      <td>15TH AVE NW BETWEEN NW 83RD ST AND NW 85TH ST</td>\n",
       "      <td>MOTOR VEHICLE STRUCK MOTOR VEHICLE, LEFT SIDE ...</td>\n",
       "      <td>Property Damage Only Collision</td>\n",
       "      <td>NaN</td>\n",
       "      <td>Raining</td>\n",
       "    </tr>\n",
       "  </tbody>\n",
       "</table>\n",
       "</div>"
      ],
      "text/plain": [
       "            X          Y      addrtype                   incdate  \\\n",
       "0 -122.342323  47.627572         Block  2016-11-04T00:00:00.000Z   \n",
       "1 -122.301639  47.630771         Block  2016-12-01T00:00:00.000Z   \n",
       "2 -122.290784  47.719253  Intersection  2016-12-23T00:00:00.000Z   \n",
       "3 -122.322535  47.623135         Block  2016-12-21T00:00:00.000Z   \n",
       "4 -122.376803  47.689665         Block  2016-12-23T00:00:00.000Z   \n",
       "\n",
       "                  incdttm lightcond  \\\n",
       "0    11/4/2016 9:55:00 AM  Daylight   \n",
       "1   12/1/2016 10:33:00 AM  Daylight   \n",
       "2  12/23/2016 12:48:00 PM  Daylight   \n",
       "3   12/21/2016 4:13:00 PM  Daylight   \n",
       "4   12/23/2016 6:33:00 AM      Dawn   \n",
       "\n",
       "                                            location  \\\n",
       "0          DEXTER AVE N BETWEEN ALOHA ST AND WARD ST   \n",
       "1      24TH AVE E BETWEEN E HIGHLAND DR AND E LEE ST   \n",
       "2                        35TH AVE NE AND NE 125TH ST   \n",
       "3  E REPUBLICAN ST BETWEEN BOYLSTON AVE E AND HAR...   \n",
       "4      15TH AVE NW BETWEEN NW 83RD ST AND NW 85TH ST   \n",
       "\n",
       "                                        sdot_coldesc  \\\n",
       "0  MOTOR VEHICLE STRUCK MOTOR VEHICLE, FRONT END ...   \n",
       "1  MOTOR VEHICLE STRUCK MOTOR VEHICLE, LEFT SIDE ...   \n",
       "2  MOTOR VEHICLE STRUCK MOTOR VEHICLE, FRONT END ...   \n",
       "3  MOTOR VEHICLE STRUCK MOTOR VEHICLE, FRONT END ...   \n",
       "4  MOTOR VEHICLE STRUCK MOTOR VEHICLE, LEFT SIDE ...   \n",
       "\n",
       "                     severitydesc speeding                 weather  \n",
       "0  Property Damage Only Collision      NaN  Clear or Partly Cloudy  \n",
       "1  Property Damage Only Collision      NaN                Overcast  \n",
       "2  Property Damage Only Collision      NaN                 Snowing  \n",
       "3  Property Damage Only Collision      NaN  Clear or Partly Cloudy  \n",
       "4  Property Damage Only Collision      NaN                 Raining  "
      ]
     },
     "execution_count": 7,
     "metadata": {},
     "output_type": "execute_result"
    }
   ],
   "source": [
    "columns = ['X', 'Y', 'addrtype', 'incdate', 'incdttm', 'lightcond', 'location', 'sdot_coldesc'\n",
    "          , 'severitydesc', 'speeding', 'weather']\n",
    "\n",
    "df_collision.loc[:, columns].head()"
   ]
  },
  {
   "cell_type": "code",
   "execution_count": 8,
   "metadata": {
    "collapsed": true
   },
   "outputs": [
    {
     "data": {
      "text/html": [
       "<div>\n",
       "<style scoped>\n",
       "    .dataframe tbody tr th:only-of-type {\n",
       "        vertical-align: middle;\n",
       "    }\n",
       "\n",
       "    .dataframe tbody tr th {\n",
       "        vertical-align: top;\n",
       "    }\n",
       "\n",
       "    .dataframe thead th {\n",
       "        text-align: right;\n",
       "    }\n",
       "</style>\n",
       "<table border=\"1\" class=\"dataframe\">\n",
       "  <thead>\n",
       "    <tr style=\"text-align: right;\">\n",
       "      <th></th>\n",
       "      <th>0</th>\n",
       "    </tr>\n",
       "  </thead>\n",
       "  <tbody>\n",
       "    <tr>\n",
       "      <th>X</th>\n",
       "      <td>-122.342</td>\n",
       "    </tr>\n",
       "    <tr>\n",
       "      <th>Y</th>\n",
       "      <td>47.6276</td>\n",
       "    </tr>\n",
       "    <tr>\n",
       "      <th>addrtype</th>\n",
       "      <td>Block</td>\n",
       "    </tr>\n",
       "    <tr>\n",
       "      <th>incdate</th>\n",
       "      <td>2016-11-04T00:00:00.000Z</td>\n",
       "    </tr>\n",
       "    <tr>\n",
       "      <th>incdttm</th>\n",
       "      <td>11/4/2016 9:55:00 AM</td>\n",
       "    </tr>\n",
       "    <tr>\n",
       "      <th>lightcond</th>\n",
       "      <td>Daylight</td>\n",
       "    </tr>\n",
       "    <tr>\n",
       "      <th>location</th>\n",
       "      <td>DEXTER AVE N BETWEEN ALOHA ST AND WARD ST</td>\n",
       "    </tr>\n",
       "    <tr>\n",
       "      <th>sdot_coldesc</th>\n",
       "      <td>MOTOR VEHICLE STRUCK MOTOR VEHICLE, FRONT END ...</td>\n",
       "    </tr>\n",
       "    <tr>\n",
       "      <th>severitydesc</th>\n",
       "      <td>Property Damage Only Collision</td>\n",
       "    </tr>\n",
       "    <tr>\n",
       "      <th>speeding</th>\n",
       "      <td>NaN</td>\n",
       "    </tr>\n",
       "    <tr>\n",
       "      <th>weather</th>\n",
       "      <td>Clear or Partly Cloudy</td>\n",
       "    </tr>\n",
       "  </tbody>\n",
       "</table>\n",
       "</div>"
      ],
      "text/plain": [
       "                                                              0\n",
       "X                                                      -122.342\n",
       "Y                                                       47.6276\n",
       "addrtype                                                  Block\n",
       "incdate                                2016-11-04T00:00:00.000Z\n",
       "incdttm                                    11/4/2016 9:55:00 AM\n",
       "lightcond                                              Daylight\n",
       "location              DEXTER AVE N BETWEEN ALOHA ST AND WARD ST\n",
       "sdot_coldesc  MOTOR VEHICLE STRUCK MOTOR VEHICLE, FRONT END ...\n",
       "severitydesc                     Property Damage Only Collision\n",
       "speeding                                                    NaN\n",
       "weather                                  Clear or Partly Cloudy"
      ]
     },
     "execution_count": 8,
     "metadata": {},
     "output_type": "execute_result"
    }
   ],
   "source": [
    "df_collision.loc[:, columns].head(1).T"
   ]
  },
  {
   "cell_type": "code",
   "execution_count": 9,
   "metadata": {
    "collapsed": true
   },
   "outputs": [
    {
     "data": {
      "text/html": [
       "<div>\n",
       "<style scoped>\n",
       "    .dataframe tbody tr th:only-of-type {\n",
       "        vertical-align: middle;\n",
       "    }\n",
       "\n",
       "    .dataframe tbody tr th {\n",
       "        vertical-align: top;\n",
       "    }\n",
       "\n",
       "    .dataframe thead th {\n",
       "        text-align: right;\n",
       "    }\n",
       "</style>\n",
       "<table border=\"1\" class=\"dataframe\">\n",
       "  <thead>\n",
       "    <tr style=\"text-align: right;\">\n",
       "      <th></th>\n",
       "      <th>X</th>\n",
       "      <th>Y</th>\n",
       "      <th>incdttm</th>\n",
       "      <th>weather</th>\n",
       "    </tr>\n",
       "  </thead>\n",
       "  <tbody>\n",
       "    <tr>\n",
       "      <th>0</th>\n",
       "      <td>-122.342323</td>\n",
       "      <td>47.627572</td>\n",
       "      <td>11/4/2016 9:55:00 AM</td>\n",
       "      <td>Clear or Partly Cloudy</td>\n",
       "    </tr>\n",
       "    <tr>\n",
       "      <th>1</th>\n",
       "      <td>-122.301639</td>\n",
       "      <td>47.630771</td>\n",
       "      <td>12/1/2016 10:33:00 AM</td>\n",
       "      <td>Overcast</td>\n",
       "    </tr>\n",
       "    <tr>\n",
       "      <th>2</th>\n",
       "      <td>-122.290784</td>\n",
       "      <td>47.719253</td>\n",
       "      <td>12/23/2016 12:48:00 PM</td>\n",
       "      <td>Snowing</td>\n",
       "    </tr>\n",
       "    <tr>\n",
       "      <th>3</th>\n",
       "      <td>-122.322535</td>\n",
       "      <td>47.623135</td>\n",
       "      <td>12/21/2016 4:13:00 PM</td>\n",
       "      <td>Clear or Partly Cloudy</td>\n",
       "    </tr>\n",
       "    <tr>\n",
       "      <th>4</th>\n",
       "      <td>-122.376803</td>\n",
       "      <td>47.689665</td>\n",
       "      <td>12/23/2016 6:33:00 AM</td>\n",
       "      <td>Raining</td>\n",
       "    </tr>\n",
       "  </tbody>\n",
       "</table>\n",
       "</div>"
      ],
      "text/plain": [
       "            X          Y                 incdttm                 weather\n",
       "0 -122.342323  47.627572    11/4/2016 9:55:00 AM  Clear or Partly Cloudy\n",
       "1 -122.301639  47.630771   12/1/2016 10:33:00 AM                Overcast\n",
       "2 -122.290784  47.719253  12/23/2016 12:48:00 PM                 Snowing\n",
       "3 -122.322535  47.623135   12/21/2016 4:13:00 PM  Clear or Partly Cloudy\n",
       "4 -122.376803  47.689665   12/23/2016 6:33:00 AM                 Raining"
      ]
     },
     "execution_count": 9,
     "metadata": {},
     "output_type": "execute_result"
    }
   ],
   "source": [
    "columns = ['X', 'Y', 'incdttm', 'weather']\n",
    "df_collision.loc[:, columns].head(5)"
   ]
  },
  {
   "cell_type": "markdown",
   "metadata": {},
   "source": [
    "### Check Missing Values in the Dataset"
   ]
  },
  {
   "cell_type": "code",
   "execution_count": 10,
   "metadata": {},
   "outputs": [
    {
     "data": {
      "text/plain": [
       "True     187386\n",
       "False      8730\n",
       "Name: speeding, dtype: int64"
      ]
     },
     "execution_count": 10,
     "metadata": {},
     "output_type": "execute_result"
    }
   ],
   "source": [
    "df_collision.speeding.isna().value_counts()"
   ]
  },
  {
   "cell_type": "code",
   "execution_count": 11,
   "metadata": {},
   "outputs": [
    {
     "data": {
      "text/plain": [
       "False    191019\n",
       "True       5097\n",
       "Name: X, dtype: int64"
      ]
     },
     "execution_count": 11,
     "metadata": {},
     "output_type": "execute_result"
    }
   ],
   "source": [
    "df_collision.X.isna().value_counts()"
   ]
  },
  {
   "cell_type": "code",
   "execution_count": 12,
   "metadata": {},
   "outputs": [
    {
     "data": {
      "text/plain": [
       "False    191019\n",
       "True       5097\n",
       "Name: Y, dtype: int64"
      ]
     },
     "execution_count": 12,
     "metadata": {},
     "output_type": "execute_result"
    }
   ],
   "source": [
    "df_collision.Y.isna().value_counts()"
   ]
  },
  {
   "cell_type": "code",
   "execution_count": 13,
   "metadata": {},
   "outputs": [
    {
     "data": {
      "text/plain": [
       "False    191810\n",
       "True       4306\n",
       "Name: location, dtype: int64"
      ]
     },
     "execution_count": 13,
     "metadata": {},
     "output_type": "execute_result"
    }
   ],
   "source": [
    "df_collision.location.isna().value_counts()"
   ]
  },
  {
   "cell_type": "code",
   "execution_count": 14,
   "metadata": {},
   "outputs": [
    {
     "data": {
      "text/plain": [
       "False    173400\n",
       "True      22716\n",
       "Name: weather, dtype: int64"
      ]
     },
     "execution_count": 14,
     "metadata": {},
     "output_type": "execute_result"
    }
   ],
   "source": [
    "df_collision.weather.isna().value_counts()"
   ]
  },
  {
   "cell_type": "code",
   "execution_count": 14,
   "metadata": {},
   "outputs": [
    {
     "data": {
      "text/plain": [
       "(791, 4)"
      ]
     },
     "execution_count": 14,
     "metadata": {},
     "output_type": "execute_result"
    }
   ],
   "source": [
    "df_collision.loc[df_collision.X.isna() & (-df_collision.location.isna()), columns].shape"
   ]
  },
  {
   "cell_type": "markdown",
   "metadata": {},
   "source": [
    "###### Conclusion: \n",
    "1. drop \"speeding\" variable\n",
    "2. drop rows where \"X\" or \"Y\" is null, impute (X, Y) value by \"location\" value for 791 rows with Google's GeoCoding API?\n",
    "3. impute \"weather\" value with other data sources"
   ]
  },
  {
   "cell_type": "code",
   "execution_count": null,
   "metadata": {},
   "outputs": [],
   "source": []
  },
  {
   "cell_type": "markdown",
   "metadata": {},
   "source": [
    "### Featur Engineering on Indicent Time Value"
   ]
  },
  {
   "cell_type": "markdown",
   "metadata": {},
   "source": [
    "#### convert incident time field from string to datetime"
   ]
  },
  {
   "cell_type": "code",
   "execution_count": 15,
   "metadata": {},
   "outputs": [],
   "source": [
    "df_collision['time'] = df_collision['incdttm'].apply(pd.to_datetime)"
   ]
  },
  {
   "cell_type": "code",
   "execution_count": 16,
   "metadata": {},
   "outputs": [
    {
     "data": {
      "text/html": [
       "<div>\n",
       "<style scoped>\n",
       "    .dataframe tbody tr th:only-of-type {\n",
       "        vertical-align: middle;\n",
       "    }\n",
       "\n",
       "    .dataframe tbody tr th {\n",
       "        vertical-align: top;\n",
       "    }\n",
       "\n",
       "    .dataframe thead th {\n",
       "        text-align: right;\n",
       "    }\n",
       "</style>\n",
       "<table border=\"1\" class=\"dataframe\">\n",
       "  <thead>\n",
       "    <tr style=\"text-align: right;\">\n",
       "      <th></th>\n",
       "      <th>X</th>\n",
       "      <th>Y</th>\n",
       "      <th>objectid</th>\n",
       "      <th>inckey</th>\n",
       "      <th>coldetkey</th>\n",
       "      <th>addrtype</th>\n",
       "      <th>collisiontype</th>\n",
       "      <th>exceptrsncode</th>\n",
       "      <th>exceptrsndesc</th>\n",
       "      <th>fatalities</th>\n",
       "      <th>...</th>\n",
       "      <th>st_colcode</th>\n",
       "      <th>st_coldesc</th>\n",
       "      <th>status</th>\n",
       "      <th>underinfl</th>\n",
       "      <th>vehcount</th>\n",
       "      <th>weather</th>\n",
       "      <th>seglanekey</th>\n",
       "      <th>crosswalkkey</th>\n",
       "      <th>hitparkedcar</th>\n",
       "      <th>time</th>\n",
       "    </tr>\n",
       "  </thead>\n",
       "  <tbody>\n",
       "    <tr>\n",
       "      <th>0</th>\n",
       "      <td>-122.342323</td>\n",
       "      <td>47.627572</td>\n",
       "      <td>162244138</td>\n",
       "      <td>233006</td>\n",
       "      <td>233406</td>\n",
       "      <td>Block</td>\n",
       "      <td>Head On</td>\n",
       "      <td></td>\n",
       "      <td>NaN</td>\n",
       "      <td>0</td>\n",
       "      <td>...</td>\n",
       "      <td>30</td>\n",
       "      <td>From Opposite Direction - All Others</td>\n",
       "      <td>Matched</td>\n",
       "      <td>N</td>\n",
       "      <td>2</td>\n",
       "      <td>Clear or Partly Cloudy</td>\n",
       "      <td>0</td>\n",
       "      <td>0</td>\n",
       "      <td>N</td>\n",
       "      <td>2016-11-04 09:55:00</td>\n",
       "    </tr>\n",
       "    <tr>\n",
       "      <th>1</th>\n",
       "      <td>-122.301639</td>\n",
       "      <td>47.630771</td>\n",
       "      <td>162244139</td>\n",
       "      <td>233085</td>\n",
       "      <td>233485</td>\n",
       "      <td>Block</td>\n",
       "      <td>Parked Car</td>\n",
       "      <td></td>\n",
       "      <td>NaN</td>\n",
       "      <td>0</td>\n",
       "      <td>...</td>\n",
       "      <td>32</td>\n",
       "      <td>One Parked - One Moving</td>\n",
       "      <td>Matched</td>\n",
       "      <td>N</td>\n",
       "      <td>2</td>\n",
       "      <td>Overcast</td>\n",
       "      <td>0</td>\n",
       "      <td>0</td>\n",
       "      <td>Y</td>\n",
       "      <td>2016-12-01 10:33:00</td>\n",
       "    </tr>\n",
       "  </tbody>\n",
       "</table>\n",
       "<p>2 rows × 41 columns</p>\n",
       "</div>"
      ],
      "text/plain": [
       "            X          Y   objectid  inckey  coldetkey addrtype collisiontype  \\\n",
       "0 -122.342323  47.627572  162244138  233006     233406    Block       Head On   \n",
       "1 -122.301639  47.630771  162244139  233085     233485    Block    Parked Car   \n",
       "\n",
       "  exceptrsncode exceptrsndesc  fatalities         ...         st_colcode  \\\n",
       "0                         NaN           0         ...                 30   \n",
       "1                         NaN           0         ...                 32   \n",
       "\n",
       "                             st_coldesc   status  underinfl  vehcount  \\\n",
       "0  From Opposite Direction - All Others  Matched          N         2   \n",
       "1               One Parked - One Moving  Matched          N         2   \n",
       "\n",
       "                  weather seglanekey crosswalkkey  hitparkedcar  \\\n",
       "0  Clear or Partly Cloudy          0            0             N   \n",
       "1                Overcast          0            0             Y   \n",
       "\n",
       "                 time  \n",
       "0 2016-11-04 09:55:00  \n",
       "1 2016-12-01 10:33:00  \n",
       "\n",
       "[2 rows x 41 columns]"
      ]
     },
     "execution_count": 16,
     "metadata": {},
     "output_type": "execute_result"
    }
   ],
   "source": [
    "df_collision.head(2)"
   ]
  },
  {
   "cell_type": "markdown",
   "metadata": {},
   "source": [
    "#### Function to round incdttm field to its nearest hour value\n",
    "\n",
    "source: https://stackoverflow.com/questions/48107644/rounding-datetime-to-the-nearest-hour?rq=1"
   ]
  },
  {
   "cell_type": "code",
   "execution_count": 17,
   "metadata": {},
   "outputs": [],
   "source": [
    "def round_to_hour(dt):\n",
    "    dt_start_of_hour = dt.replace(minute=0, second=0, microsecond=0)\n",
    "    dt_half_hour = dt.replace(minute=30, second=0, microsecond=0)\n",
    "\n",
    "    if dt >= dt_half_hour:\n",
    "        # round up\n",
    "        dt = dt_start_of_hour + datetime.timedelta(hours=1)\n",
    "    else:\n",
    "        # round down\n",
    "        dt = dt_start_of_hour\n",
    "\n",
    "    return dt"
   ]
  },
  {
   "cell_type": "code",
   "execution_count": 18,
   "metadata": {},
   "outputs": [],
   "source": [
    "df_collision['hour'] = df_collision['time'].apply(round_to_hour)"
   ]
  },
  {
   "cell_type": "code",
   "execution_count": 19,
   "metadata": {
    "scrolled": true
   },
   "outputs": [
    {
     "data": {
      "text/html": [
       "<div>\n",
       "<style scoped>\n",
       "    .dataframe tbody tr th:only-of-type {\n",
       "        vertical-align: middle;\n",
       "    }\n",
       "\n",
       "    .dataframe tbody tr th {\n",
       "        vertical-align: top;\n",
       "    }\n",
       "\n",
       "    .dataframe thead th {\n",
       "        text-align: right;\n",
       "    }\n",
       "</style>\n",
       "<table border=\"1\" class=\"dataframe\">\n",
       "  <thead>\n",
       "    <tr style=\"text-align: right;\">\n",
       "      <th></th>\n",
       "      <th>X</th>\n",
       "      <th>Y</th>\n",
       "      <th>addrtype</th>\n",
       "      <th>incdttm</th>\n",
       "      <th>lightcond</th>\n",
       "      <th>location</th>\n",
       "      <th>sdot_coldesc</th>\n",
       "      <th>severitydesc</th>\n",
       "      <th>weather</th>\n",
       "      <th>time</th>\n",
       "      <th>hour</th>\n",
       "    </tr>\n",
       "  </thead>\n",
       "  <tbody>\n",
       "    <tr>\n",
       "      <th>0</th>\n",
       "      <td>-122.342323</td>\n",
       "      <td>47.627572</td>\n",
       "      <td>Block</td>\n",
       "      <td>11/4/2016 9:55:00 AM</td>\n",
       "      <td>Daylight</td>\n",
       "      <td>DEXTER AVE N BETWEEN ALOHA ST AND WARD ST</td>\n",
       "      <td>MOTOR VEHICLE STRUCK MOTOR VEHICLE, FRONT END ...</td>\n",
       "      <td>Property Damage Only Collision</td>\n",
       "      <td>Clear or Partly Cloudy</td>\n",
       "      <td>2016-11-04 09:55:00</td>\n",
       "      <td>2016-11-04 10:00:00</td>\n",
       "    </tr>\n",
       "    <tr>\n",
       "      <th>1</th>\n",
       "      <td>-122.301639</td>\n",
       "      <td>47.630771</td>\n",
       "      <td>Block</td>\n",
       "      <td>12/1/2016 10:33:00 AM</td>\n",
       "      <td>Daylight</td>\n",
       "      <td>24TH AVE E BETWEEN E HIGHLAND DR AND E LEE ST</td>\n",
       "      <td>MOTOR VEHICLE STRUCK MOTOR VEHICLE, LEFT SIDE ...</td>\n",
       "      <td>Property Damage Only Collision</td>\n",
       "      <td>Overcast</td>\n",
       "      <td>2016-12-01 10:33:00</td>\n",
       "      <td>2016-12-01 11:00:00</td>\n",
       "    </tr>\n",
       "  </tbody>\n",
       "</table>\n",
       "</div>"
      ],
      "text/plain": [
       "            X          Y addrtype                incdttm lightcond  \\\n",
       "0 -122.342323  47.627572    Block   11/4/2016 9:55:00 AM  Daylight   \n",
       "1 -122.301639  47.630771    Block  12/1/2016 10:33:00 AM  Daylight   \n",
       "\n",
       "                                        location  \\\n",
       "0      DEXTER AVE N BETWEEN ALOHA ST AND WARD ST   \n",
       "1  24TH AVE E BETWEEN E HIGHLAND DR AND E LEE ST   \n",
       "\n",
       "                                        sdot_coldesc  \\\n",
       "0  MOTOR VEHICLE STRUCK MOTOR VEHICLE, FRONT END ...   \n",
       "1  MOTOR VEHICLE STRUCK MOTOR VEHICLE, LEFT SIDE ...   \n",
       "\n",
       "                     severitydesc                 weather                time  \\\n",
       "0  Property Damage Only Collision  Clear or Partly Cloudy 2016-11-04 09:55:00   \n",
       "1  Property Damage Only Collision                Overcast 2016-12-01 10:33:00   \n",
       "\n",
       "                 hour  \n",
       "0 2016-11-04 10:00:00  \n",
       "1 2016-12-01 11:00:00  "
      ]
     },
     "execution_count": 19,
     "metadata": {},
     "output_type": "execute_result"
    }
   ],
   "source": [
    "columns = ['X', 'Y', 'addrtype', 'incdttm', 'lightcond', 'location', 'sdot_coldesc'\n",
    "          , 'severitydesc', 'weather', 'time', 'hour']\n",
    "\n",
    "df_collision.loc[:, columns].head(2)"
   ]
  },
  {
   "cell_type": "markdown",
   "metadata": {},
   "source": [
    "#### convert seattle time to epoch time"
   ]
  },
  {
   "cell_type": "code",
   "execution_count": 20,
   "metadata": {},
   "outputs": [],
   "source": [
    "from pytz import timezone"
   ]
  },
  {
   "cell_type": "code",
   "execution_count": 21,
   "metadata": {},
   "outputs": [],
   "source": [
    "seattle_timezone = timezone('US/Pacific')"
   ]
  },
  {
   "cell_type": "code",
   "execution_count": 22,
   "metadata": {},
   "outputs": [],
   "source": [
    "def convert_pacific_time_to_epoch(dt):\n",
    "    return int(seattle_timezone.localize(dt).timestamp())"
   ]
  },
  {
   "cell_type": "code",
   "execution_count": 23,
   "metadata": {},
   "outputs": [],
   "source": [
    "df_collision['epoch'] = df_collision['hour'].apply(convert_pacific_time_to_epoch)"
   ]
  },
  {
   "cell_type": "markdown",
   "metadata": {},
   "source": [
    "### Save the resulting pandas dataframe to a SQL database"
   ]
  },
  {
   "cell_type": "code",
   "execution_count": 24,
   "metadata": {},
   "outputs": [],
   "source": [
    "import sqlite3\n",
    "from pandas.io import sql\n",
    "# Create your connection.\n",
    "conn = sqlite3.connect('collisions.db')"
   ]
  },
  {
   "cell_type": "markdown",
   "metadata": {},
   "source": [
    "save the dataframe into sqlite3 database"
   ]
  },
  {
   "cell_type": "code",
   "execution_count": 27,
   "metadata": {},
   "outputs": [],
   "source": [
    "df_collision.to_sql('collision_data', conn)"
   ]
  },
  {
   "cell_type": "markdown",
   "metadata": {},
   "source": [
    "drop table if it exists"
   ]
  },
  {
   "cell_type": "code",
   "execution_count": 26,
   "metadata": {},
   "outputs": [
    {
     "data": {
      "text/plain": [
       "<sqlite3.Cursor at 0x7f8f52d85490>"
      ]
     },
     "execution_count": 26,
     "metadata": {},
     "output_type": "execute_result"
    }
   ],
   "source": [
    "c = conn.cursor()\n",
    "c.execute('''DROP TABLE collision_data;''')"
   ]
  },
  {
   "cell_type": "markdown",
   "metadata": {},
   "source": [
    "when reading in the dataframe from sqlite3 db, the datetime fields become strings"
   ]
  },
  {
   "cell_type": "code",
   "execution_count": 28,
   "metadata": {},
   "outputs": [],
   "source": [
    "df = pd.read_sql_query(\"select * from collision_data limit 1;\", conn)"
   ]
  },
  {
   "cell_type": "code",
   "execution_count": null,
   "metadata": {},
   "outputs": [],
   "source": []
  },
  {
   "cell_type": "markdown",
   "metadata": {},
   "source": [
    "### Retrieve Hourly Weather data with DarkSky API"
   ]
  },
  {
   "cell_type": "code",
   "execution_count": 82,
   "metadata": {},
   "outputs": [],
   "source": [
    "mask = (-df_collision.X.isna()) & (-df_collision.Y.isna())"
   ]
  },
  {
   "cell_type": "code",
   "execution_count": 85,
   "metadata": {},
   "outputs": [],
   "source": [
    "unique_location_hour = df_collision.loc[mask, ['X', 'Y', 'epoch']].drop_duplicates()"
   ]
  },
  {
   "cell_type": "code",
   "execution_count": 132,
   "metadata": {},
   "outputs": [],
   "source": [
    "a = df_collision.loc[mask].groupby(['X', 'Y', 'epoch']).size()"
   ]
  },
  {
   "cell_type": "code",
   "execution_count": 135,
   "metadata": {},
   "outputs": [
    {
     "data": {
      "text/plain": [
       "1    189768\n",
       "2       582\n",
       "3        22\n",
       "4         4\n",
       "5         1\n",
       "dtype: int64"
      ]
     },
     "execution_count": 135,
     "metadata": {},
     "output_type": "execute_result"
    }
   ],
   "source": [
    "a.value_counts()"
   ]
  },
  {
   "cell_type": "code",
   "execution_count": 87,
   "metadata": {},
   "outputs": [],
   "source": [
    "API_KEY = '367695a538073f1d5494a95afe404aa8'"
   ]
  },
  {
   "cell_type": "code",
   "execution_count": 88,
   "metadata": {},
   "outputs": [],
   "source": [
    "COLUMNS = ['Latitude', 'Longitude', 'EpochTime', 'Summary', 'DegreesFahrenheit', 'Humidity', 'Visibility',\n",
    "           'WindBearing', 'WindGust', 'WindSpeed', \"PrecipitationIntensity\", \"PrecipitationType\"]\n",
    "\n",
    "def get_weather_json_darksky(latitude, longitude, epoch_time):\n",
    "    \"\"\" Calls the DarkSky API with the given latitude, longitude and epoch time to retrieve historical weather data.\n",
    "    :param latitude: Float value representing latitude\n",
    "    :param longitude: Float value representing longitude\n",
    "    :param epoch_time: Numeric value representing\n",
    "    :return: A darksky.forecast.Forecast object\n",
    "    \"\"\"\n",
    "    response = forecast(API_KEY, latitude, longitude, int(epoch_time))\n",
    "    return response\n",
    "\n",
    "def get_weather_series_from_response(latitude, longitude, epoch_time, response):\n",
    "    \"\"\" \"\"\"\n",
    "    response_keys = response._data.keys()\n",
    "\n",
    "    row_data = [\n",
    "                latitude,\n",
    "                longitude,\n",
    "                epoch_time,\n",
    "                response['summary'] if 'summary' in response_keys else None,\n",
    "                response['temperature'] if 'temperature' in response_keys else None,\n",
    "                response['humidity'] if 'humidity' in response_keys else None,\n",
    "                response['visibility'] if 'visibility' in response_keys else None,\n",
    "                response['windBearing'] if 'windBearing' in response_keys else None,\n",
    "                response['windGust'] if 'windGust' in response_keys else None,\n",
    "                response['windSpeed'] if 'windSpeed' in response_keys else None,\n",
    "                response['precipIntensity'] if 'precipIntensity' in response_keys else None,\n",
    "                response['precipType'] if 'precipType' in response_keys else None\n",
    "    ]\n",
    "    row = pd.Series(row_data, index = COLUMNS)\n",
    "    return row"
   ]
  },
  {
   "cell_type": "code",
   "execution_count": 124,
   "metadata": {
    "collapsed": true
   },
   "outputs": [
    {
     "ename": "KeyboardInterrupt",
     "evalue": "",
     "output_type": "error",
     "traceback": [
      "\u001b[0;31m---------------------------------------------------------------------------\u001b[0m",
      "\u001b[0;31mKeyboardInterrupt\u001b[0m                         Traceback (most recent call last)",
      "\u001b[0;32m<ipython-input-124-15d340be85ae>\u001b[0m in \u001b[0;36m<module>\u001b[0;34m()\u001b[0m\n\u001b[1;32m      7\u001b[0m                     \u001b[0munique_location_hour\u001b[0m\u001b[0;34m.\u001b[0m\u001b[0miloc\u001b[0m\u001b[0;34m[\u001b[0m\u001b[0mi\u001b[0m\u001b[0;34m,\u001b[0m\u001b[0;34m:\u001b[0m\u001b[0;34m]\u001b[0m\u001b[0;34m.\u001b[0m\u001b[0mY\u001b[0m\u001b[0;34m\u001b[0m\u001b[0m\n\u001b[1;32m      8\u001b[0m                     \u001b[0;34m,\u001b[0m \u001b[0munique_location_hour\u001b[0m\u001b[0;34m.\u001b[0m\u001b[0miloc\u001b[0m\u001b[0;34m[\u001b[0m\u001b[0mi\u001b[0m\u001b[0;34m,\u001b[0m\u001b[0;34m:\u001b[0m\u001b[0;34m]\u001b[0m\u001b[0;34m.\u001b[0m\u001b[0mX\u001b[0m\u001b[0;34m\u001b[0m\u001b[0m\n\u001b[0;32m----> 9\u001b[0;31m                     \u001b[0;34m,\u001b[0m \u001b[0mint\u001b[0m\u001b[0;34m(\u001b[0m\u001b[0munique_location_hour\u001b[0m\u001b[0;34m.\u001b[0m\u001b[0miloc\u001b[0m\u001b[0;34m[\u001b[0m\u001b[0mi\u001b[0m\u001b[0;34m,\u001b[0m\u001b[0;34m:\u001b[0m\u001b[0;34m]\u001b[0m\u001b[0;34m.\u001b[0m\u001b[0mepoch\u001b[0m\u001b[0;34m)\u001b[0m\u001b[0;34m\u001b[0m\u001b[0m\n\u001b[0m\u001b[1;32m     10\u001b[0m                     ).currently\n\u001b[1;32m     11\u001b[0m     series = get_weather_series_from_response(\n",
      "\u001b[0;32m<ipython-input-88-e1b13318c746>\u001b[0m in \u001b[0;36mget_weather_json_darksky\u001b[0;34m(latitude, longitude, epoch_time)\u001b[0m\n\u001b[1;32m      9\u001b[0m     \u001b[0;34m:\u001b[0m\u001b[0;32mreturn\u001b[0m\u001b[0;34m:\u001b[0m \u001b[0mA\u001b[0m \u001b[0mdarksky\u001b[0m\u001b[0;34m.\u001b[0m\u001b[0mforecast\u001b[0m\u001b[0;34m.\u001b[0m\u001b[0mForecast\u001b[0m \u001b[0mobject\u001b[0m\u001b[0;34m\u001b[0m\u001b[0m\n\u001b[1;32m     10\u001b[0m     \"\"\"\n\u001b[0;32m---> 11\u001b[0;31m     \u001b[0mresponse\u001b[0m \u001b[0;34m=\u001b[0m \u001b[0mforecast\u001b[0m\u001b[0;34m(\u001b[0m\u001b[0mAPI_KEY\u001b[0m\u001b[0;34m,\u001b[0m \u001b[0mlatitude\u001b[0m\u001b[0;34m,\u001b[0m \u001b[0mlongitude\u001b[0m\u001b[0;34m,\u001b[0m \u001b[0mint\u001b[0m\u001b[0;34m(\u001b[0m\u001b[0mepoch_time\u001b[0m\u001b[0;34m)\u001b[0m\u001b[0;34m)\u001b[0m\u001b[0;34m\u001b[0m\u001b[0m\n\u001b[0m\u001b[1;32m     12\u001b[0m     \u001b[0;32mreturn\u001b[0m \u001b[0mresponse\u001b[0m\u001b[0;34m\u001b[0m\u001b[0m\n\u001b[1;32m     13\u001b[0m \u001b[0;34m\u001b[0m\u001b[0m\n",
      "\u001b[0;32m~/working/softwareClassUW/project/wa_collisions/scripts/weather/__init__.py\u001b[0m in \u001b[0;36mforecast\u001b[0;34m(key, latitude, longitude, time, timeout, **queries)\u001b[0m\n\u001b[1;32m      5\u001b[0m \u001b[0;34m\u001b[0m\u001b[0m\n\u001b[1;32m      6\u001b[0m \u001b[0;32mdef\u001b[0m \u001b[0mforecast\u001b[0m\u001b[0;34m(\u001b[0m\u001b[0mkey\u001b[0m\u001b[0;34m,\u001b[0m \u001b[0mlatitude\u001b[0m\u001b[0;34m,\u001b[0m \u001b[0mlongitude\u001b[0m\u001b[0;34m,\u001b[0m \u001b[0mtime\u001b[0m\u001b[0;34m=\u001b[0m\u001b[0;32mNone\u001b[0m\u001b[0;34m,\u001b[0m \u001b[0mtimeout\u001b[0m\u001b[0;34m=\u001b[0m\u001b[0;32mNone\u001b[0m\u001b[0;34m,\u001b[0m \u001b[0;34m**\u001b[0m\u001b[0mqueries\u001b[0m\u001b[0;34m)\u001b[0m\u001b[0;34m:\u001b[0m\u001b[0;34m\u001b[0m\u001b[0m\n\u001b[0;32m----> 7\u001b[0;31m     \u001b[0;32mreturn\u001b[0m \u001b[0mForecast\u001b[0m\u001b[0;34m(\u001b[0m\u001b[0mkey\u001b[0m\u001b[0;34m,\u001b[0m \u001b[0mlatitude\u001b[0m\u001b[0;34m,\u001b[0m \u001b[0mlongitude\u001b[0m\u001b[0;34m,\u001b[0m \u001b[0mtime\u001b[0m\u001b[0;34m,\u001b[0m \u001b[0mtimeout\u001b[0m\u001b[0;34m,\u001b[0m \u001b[0;34m**\u001b[0m\u001b[0mqueries\u001b[0m\u001b[0;34m)\u001b[0m\u001b[0;34m\u001b[0m\u001b[0m\n\u001b[0m",
      "\u001b[0;32m~/working/softwareClassUW/project/wa_collisions/scripts/weather/forecast.py\u001b[0m in \u001b[0;36m__init__\u001b[0;34m(self, key, latitude, longitude, time, timeout, **queries)\u001b[0m\n\u001b[1;32m     15\u001b[0m     \u001b[0;32mdef\u001b[0m \u001b[0m__init__\u001b[0m\u001b[0;34m(\u001b[0m\u001b[0mself\u001b[0m\u001b[0;34m,\u001b[0m \u001b[0mkey\u001b[0m\u001b[0;34m,\u001b[0m \u001b[0mlatitude\u001b[0m\u001b[0;34m,\u001b[0m \u001b[0mlongitude\u001b[0m\u001b[0;34m,\u001b[0m \u001b[0mtime\u001b[0m\u001b[0;34m=\u001b[0m\u001b[0;32mNone\u001b[0m\u001b[0;34m,\u001b[0m \u001b[0mtimeout\u001b[0m\u001b[0;34m=\u001b[0m\u001b[0;32mNone\u001b[0m\u001b[0;34m,\u001b[0m \u001b[0;34m**\u001b[0m\u001b[0mqueries\u001b[0m\u001b[0;34m)\u001b[0m\u001b[0;34m:\u001b[0m\u001b[0;34m\u001b[0m\u001b[0m\n\u001b[1;32m     16\u001b[0m         \u001b[0mself\u001b[0m\u001b[0;34m.\u001b[0m\u001b[0m_parameters\u001b[0m \u001b[0;34m=\u001b[0m \u001b[0mdict\u001b[0m\u001b[0;34m(\u001b[0m\u001b[0mkey\u001b[0m\u001b[0;34m=\u001b[0m\u001b[0mkey\u001b[0m\u001b[0;34m,\u001b[0m \u001b[0mlatitude\u001b[0m\u001b[0;34m=\u001b[0m\u001b[0mlatitude\u001b[0m\u001b[0;34m,\u001b[0m \u001b[0mlongitude\u001b[0m\u001b[0;34m=\u001b[0m\u001b[0mlongitude\u001b[0m\u001b[0;34m,\u001b[0m \u001b[0mtime\u001b[0m\u001b[0;34m=\u001b[0m\u001b[0mtime\u001b[0m\u001b[0;34m)\u001b[0m\u001b[0;34m\u001b[0m\u001b[0m\n\u001b[0;32m---> 17\u001b[0;31m         \u001b[0mself\u001b[0m\u001b[0;34m.\u001b[0m\u001b[0mrefresh\u001b[0m\u001b[0;34m(\u001b[0m\u001b[0mtimeout\u001b[0m\u001b[0;34m,\u001b[0m \u001b[0;34m**\u001b[0m\u001b[0mqueries\u001b[0m\u001b[0;34m)\u001b[0m\u001b[0;34m\u001b[0m\u001b[0m\n\u001b[0m\u001b[1;32m     18\u001b[0m \u001b[0;34m\u001b[0m\u001b[0m\n\u001b[1;32m     19\u001b[0m     \u001b[0;32mdef\u001b[0m \u001b[0m__setattr__\u001b[0m\u001b[0;34m(\u001b[0m\u001b[0mself\u001b[0m\u001b[0;34m,\u001b[0m \u001b[0mkey\u001b[0m\u001b[0;34m,\u001b[0m \u001b[0mvalue\u001b[0m\u001b[0;34m)\u001b[0m\u001b[0;34m:\u001b[0m\u001b[0;34m\u001b[0m\u001b[0m\n",
      "\u001b[0;32m~/working/softwareClassUW/project/wa_collisions/scripts/weather/forecast.py\u001b[0m in \u001b[0;36mrefresh\u001b[0;34m(self, timeout, **queries)\u001b[0m\n\u001b[1;32m     49\u001b[0m         }\n\u001b[1;32m     50\u001b[0m \u001b[0;34m\u001b[0m\u001b[0m\n\u001b[0;32m---> 51\u001b[0;31m         \u001b[0mresponse\u001b[0m \u001b[0;34m=\u001b[0m \u001b[0mrequests\u001b[0m\u001b[0;34m.\u001b[0m\u001b[0mget\u001b[0m\u001b[0;34m(\u001b[0m\u001b[0mself\u001b[0m\u001b[0;34m.\u001b[0m\u001b[0murl\u001b[0m\u001b[0;34m,\u001b[0m \u001b[0;34m**\u001b[0m\u001b[0mrequest_params\u001b[0m\u001b[0;34m)\u001b[0m\u001b[0;34m\u001b[0m\u001b[0m\n\u001b[0m\u001b[1;32m     52\u001b[0m         \u001b[0mself\u001b[0m\u001b[0;34m.\u001b[0m\u001b[0mresponse_headers\u001b[0m \u001b[0;34m=\u001b[0m \u001b[0mresponse\u001b[0m\u001b[0;34m.\u001b[0m\u001b[0mheaders\u001b[0m\u001b[0;34m\u001b[0m\u001b[0m\n\u001b[1;32m     53\u001b[0m         \u001b[0;32mif\u001b[0m \u001b[0mresponse\u001b[0m\u001b[0;34m.\u001b[0m\u001b[0mstatus_code\u001b[0m \u001b[0;32mis\u001b[0m \u001b[0;32mnot\u001b[0m \u001b[0;36m200\u001b[0m\u001b[0;34m:\u001b[0m\u001b[0;34m\u001b[0m\u001b[0m\n",
      "\u001b[0;32m~/anaconda3/lib/python3.6/site-packages/requests/api.py\u001b[0m in \u001b[0;36mget\u001b[0;34m(url, params, **kwargs)\u001b[0m\n\u001b[1;32m     70\u001b[0m \u001b[0;34m\u001b[0m\u001b[0m\n\u001b[1;32m     71\u001b[0m     \u001b[0mkwargs\u001b[0m\u001b[0;34m.\u001b[0m\u001b[0msetdefault\u001b[0m\u001b[0;34m(\u001b[0m\u001b[0;34m'allow_redirects'\u001b[0m\u001b[0;34m,\u001b[0m \u001b[0;32mTrue\u001b[0m\u001b[0;34m)\u001b[0m\u001b[0;34m\u001b[0m\u001b[0m\n\u001b[0;32m---> 72\u001b[0;31m     \u001b[0;32mreturn\u001b[0m \u001b[0mrequest\u001b[0m\u001b[0;34m(\u001b[0m\u001b[0;34m'get'\u001b[0m\u001b[0;34m,\u001b[0m \u001b[0murl\u001b[0m\u001b[0;34m,\u001b[0m \u001b[0mparams\u001b[0m\u001b[0;34m=\u001b[0m\u001b[0mparams\u001b[0m\u001b[0;34m,\u001b[0m \u001b[0;34m**\u001b[0m\u001b[0mkwargs\u001b[0m\u001b[0;34m)\u001b[0m\u001b[0;34m\u001b[0m\u001b[0m\n\u001b[0m\u001b[1;32m     73\u001b[0m \u001b[0;34m\u001b[0m\u001b[0m\n\u001b[1;32m     74\u001b[0m \u001b[0;34m\u001b[0m\u001b[0m\n",
      "\u001b[0;32m~/anaconda3/lib/python3.6/site-packages/requests/api.py\u001b[0m in \u001b[0;36mrequest\u001b[0;34m(method, url, **kwargs)\u001b[0m\n\u001b[1;32m     56\u001b[0m     \u001b[0;31m# cases, and look like a memory leak in others.\u001b[0m\u001b[0;34m\u001b[0m\u001b[0;34m\u001b[0m\u001b[0m\n\u001b[1;32m     57\u001b[0m     \u001b[0;32mwith\u001b[0m \u001b[0msessions\u001b[0m\u001b[0;34m.\u001b[0m\u001b[0mSession\u001b[0m\u001b[0;34m(\u001b[0m\u001b[0;34m)\u001b[0m \u001b[0;32mas\u001b[0m \u001b[0msession\u001b[0m\u001b[0;34m:\u001b[0m\u001b[0;34m\u001b[0m\u001b[0m\n\u001b[0;32m---> 58\u001b[0;31m         \u001b[0;32mreturn\u001b[0m \u001b[0msession\u001b[0m\u001b[0;34m.\u001b[0m\u001b[0mrequest\u001b[0m\u001b[0;34m(\u001b[0m\u001b[0mmethod\u001b[0m\u001b[0;34m=\u001b[0m\u001b[0mmethod\u001b[0m\u001b[0;34m,\u001b[0m \u001b[0murl\u001b[0m\u001b[0;34m=\u001b[0m\u001b[0murl\u001b[0m\u001b[0;34m,\u001b[0m \u001b[0;34m**\u001b[0m\u001b[0mkwargs\u001b[0m\u001b[0;34m)\u001b[0m\u001b[0;34m\u001b[0m\u001b[0m\n\u001b[0m\u001b[1;32m     59\u001b[0m \u001b[0;34m\u001b[0m\u001b[0m\n\u001b[1;32m     60\u001b[0m \u001b[0;34m\u001b[0m\u001b[0m\n",
      "\u001b[0;32m~/anaconda3/lib/python3.6/site-packages/requests/sessions.py\u001b[0m in \u001b[0;36mrequest\u001b[0;34m(self, method, url, params, data, headers, cookies, files, auth, timeout, allow_redirects, proxies, hooks, stream, verify, cert, json)\u001b[0m\n\u001b[1;32m    506\u001b[0m         }\n\u001b[1;32m    507\u001b[0m         \u001b[0msend_kwargs\u001b[0m\u001b[0;34m.\u001b[0m\u001b[0mupdate\u001b[0m\u001b[0;34m(\u001b[0m\u001b[0msettings\u001b[0m\u001b[0;34m)\u001b[0m\u001b[0;34m\u001b[0m\u001b[0m\n\u001b[0;32m--> 508\u001b[0;31m         \u001b[0mresp\u001b[0m \u001b[0;34m=\u001b[0m \u001b[0mself\u001b[0m\u001b[0;34m.\u001b[0m\u001b[0msend\u001b[0m\u001b[0;34m(\u001b[0m\u001b[0mprep\u001b[0m\u001b[0;34m,\u001b[0m \u001b[0;34m**\u001b[0m\u001b[0msend_kwargs\u001b[0m\u001b[0;34m)\u001b[0m\u001b[0;34m\u001b[0m\u001b[0m\n\u001b[0m\u001b[1;32m    509\u001b[0m \u001b[0;34m\u001b[0m\u001b[0m\n\u001b[1;32m    510\u001b[0m         \u001b[0;32mreturn\u001b[0m \u001b[0mresp\u001b[0m\u001b[0;34m\u001b[0m\u001b[0m\n",
      "\u001b[0;32m~/anaconda3/lib/python3.6/site-packages/requests/sessions.py\u001b[0m in \u001b[0;36msend\u001b[0;34m(self, request, **kwargs)\u001b[0m\n\u001b[1;32m    616\u001b[0m \u001b[0;34m\u001b[0m\u001b[0m\n\u001b[1;32m    617\u001b[0m         \u001b[0;31m# Send the request\u001b[0m\u001b[0;34m\u001b[0m\u001b[0;34m\u001b[0m\u001b[0m\n\u001b[0;32m--> 618\u001b[0;31m         \u001b[0mr\u001b[0m \u001b[0;34m=\u001b[0m \u001b[0madapter\u001b[0m\u001b[0;34m.\u001b[0m\u001b[0msend\u001b[0m\u001b[0;34m(\u001b[0m\u001b[0mrequest\u001b[0m\u001b[0;34m,\u001b[0m \u001b[0;34m**\u001b[0m\u001b[0mkwargs\u001b[0m\u001b[0;34m)\u001b[0m\u001b[0;34m\u001b[0m\u001b[0m\n\u001b[0m\u001b[1;32m    619\u001b[0m \u001b[0;34m\u001b[0m\u001b[0m\n\u001b[1;32m    620\u001b[0m         \u001b[0;31m# Total elapsed time of the request (approximately)\u001b[0m\u001b[0;34m\u001b[0m\u001b[0;34m\u001b[0m\u001b[0m\n",
      "\u001b[0;32m~/anaconda3/lib/python3.6/site-packages/requests/adapters.py\u001b[0m in \u001b[0;36msend\u001b[0;34m(self, request, stream, timeout, verify, cert, proxies)\u001b[0m\n\u001b[1;32m    438\u001b[0m                     \u001b[0mdecode_content\u001b[0m\u001b[0;34m=\u001b[0m\u001b[0;32mFalse\u001b[0m\u001b[0;34m,\u001b[0m\u001b[0;34m\u001b[0m\u001b[0m\n\u001b[1;32m    439\u001b[0m                     \u001b[0mretries\u001b[0m\u001b[0;34m=\u001b[0m\u001b[0mself\u001b[0m\u001b[0;34m.\u001b[0m\u001b[0mmax_retries\u001b[0m\u001b[0;34m,\u001b[0m\u001b[0;34m\u001b[0m\u001b[0m\n\u001b[0;32m--> 440\u001b[0;31m                     \u001b[0mtimeout\u001b[0m\u001b[0;34m=\u001b[0m\u001b[0mtimeout\u001b[0m\u001b[0;34m\u001b[0m\u001b[0m\n\u001b[0m\u001b[1;32m    441\u001b[0m                 )\n\u001b[1;32m    442\u001b[0m \u001b[0;34m\u001b[0m\u001b[0m\n",
      "\u001b[0;32m~/anaconda3/lib/python3.6/site-packages/urllib3/connectionpool.py\u001b[0m in \u001b[0;36murlopen\u001b[0;34m(self, method, url, body, headers, retries, redirect, assert_same_host, timeout, pool_timeout, release_conn, chunked, body_pos, **response_kw)\u001b[0m\n\u001b[1;32m    599\u001b[0m                                                   \u001b[0mtimeout\u001b[0m\u001b[0;34m=\u001b[0m\u001b[0mtimeout_obj\u001b[0m\u001b[0;34m,\u001b[0m\u001b[0;34m\u001b[0m\u001b[0m\n\u001b[1;32m    600\u001b[0m                                                   \u001b[0mbody\u001b[0m\u001b[0;34m=\u001b[0m\u001b[0mbody\u001b[0m\u001b[0;34m,\u001b[0m \u001b[0mheaders\u001b[0m\u001b[0;34m=\u001b[0m\u001b[0mheaders\u001b[0m\u001b[0;34m,\u001b[0m\u001b[0;34m\u001b[0m\u001b[0m\n\u001b[0;32m--> 601\u001b[0;31m                                                   chunked=chunked)\n\u001b[0m\u001b[1;32m    602\u001b[0m \u001b[0;34m\u001b[0m\u001b[0m\n\u001b[1;32m    603\u001b[0m             \u001b[0;31m# If we're going to release the connection in ``finally:``, then\u001b[0m\u001b[0;34m\u001b[0m\u001b[0;34m\u001b[0m\u001b[0m\n",
      "\u001b[0;32m~/anaconda3/lib/python3.6/site-packages/urllib3/connectionpool.py\u001b[0m in \u001b[0;36m_make_request\u001b[0;34m(self, conn, method, url, timeout, chunked, **httplib_request_kw)\u001b[0m\n\u001b[1;32m    344\u001b[0m         \u001b[0;31m# Trigger any extra validation we need to do.\u001b[0m\u001b[0;34m\u001b[0m\u001b[0;34m\u001b[0m\u001b[0m\n\u001b[1;32m    345\u001b[0m         \u001b[0;32mtry\u001b[0m\u001b[0;34m:\u001b[0m\u001b[0;34m\u001b[0m\u001b[0m\n\u001b[0;32m--> 346\u001b[0;31m             \u001b[0mself\u001b[0m\u001b[0;34m.\u001b[0m\u001b[0m_validate_conn\u001b[0m\u001b[0;34m(\u001b[0m\u001b[0mconn\u001b[0m\u001b[0;34m)\u001b[0m\u001b[0;34m\u001b[0m\u001b[0m\n\u001b[0m\u001b[1;32m    347\u001b[0m         \u001b[0;32mexcept\u001b[0m \u001b[0;34m(\u001b[0m\u001b[0mSocketTimeout\u001b[0m\u001b[0;34m,\u001b[0m \u001b[0mBaseSSLError\u001b[0m\u001b[0;34m)\u001b[0m \u001b[0;32mas\u001b[0m \u001b[0me\u001b[0m\u001b[0;34m:\u001b[0m\u001b[0;34m\u001b[0m\u001b[0m\n\u001b[1;32m    348\u001b[0m             \u001b[0;31m# Py2 raises this as a BaseSSLError, Py3 raises it as socket timeout.\u001b[0m\u001b[0;34m\u001b[0m\u001b[0;34m\u001b[0m\u001b[0m\n",
      "\u001b[0;32m~/anaconda3/lib/python3.6/site-packages/urllib3/connectionpool.py\u001b[0m in \u001b[0;36m_validate_conn\u001b[0;34m(self, conn)\u001b[0m\n\u001b[1;32m    848\u001b[0m         \u001b[0;31m# Force connect early to allow us to validate the connection.\u001b[0m\u001b[0;34m\u001b[0m\u001b[0;34m\u001b[0m\u001b[0m\n\u001b[1;32m    849\u001b[0m         \u001b[0;32mif\u001b[0m \u001b[0;32mnot\u001b[0m \u001b[0mgetattr\u001b[0m\u001b[0;34m(\u001b[0m\u001b[0mconn\u001b[0m\u001b[0;34m,\u001b[0m \u001b[0;34m'sock'\u001b[0m\u001b[0;34m,\u001b[0m \u001b[0;32mNone\u001b[0m\u001b[0;34m)\u001b[0m\u001b[0;34m:\u001b[0m  \u001b[0;31m# AppEngine might not have  `.sock`\u001b[0m\u001b[0;34m\u001b[0m\u001b[0m\n\u001b[0;32m--> 850\u001b[0;31m             \u001b[0mconn\u001b[0m\u001b[0;34m.\u001b[0m\u001b[0mconnect\u001b[0m\u001b[0;34m(\u001b[0m\u001b[0;34m)\u001b[0m\u001b[0;34m\u001b[0m\u001b[0m\n\u001b[0m\u001b[1;32m    851\u001b[0m \u001b[0;34m\u001b[0m\u001b[0m\n\u001b[1;32m    852\u001b[0m         \u001b[0;32mif\u001b[0m \u001b[0;32mnot\u001b[0m \u001b[0mconn\u001b[0m\u001b[0;34m.\u001b[0m\u001b[0mis_verified\u001b[0m\u001b[0;34m:\u001b[0m\u001b[0;34m\u001b[0m\u001b[0m\n",
      "\u001b[0;32m~/anaconda3/lib/python3.6/site-packages/urllib3/connection.py\u001b[0m in \u001b[0;36mconnect\u001b[0;34m(self)\u001b[0m\n\u001b[1;32m    282\u001b[0m     \u001b[0;32mdef\u001b[0m \u001b[0mconnect\u001b[0m\u001b[0;34m(\u001b[0m\u001b[0mself\u001b[0m\u001b[0;34m)\u001b[0m\u001b[0;34m:\u001b[0m\u001b[0;34m\u001b[0m\u001b[0m\n\u001b[1;32m    283\u001b[0m         \u001b[0;31m# Add certificate verification\u001b[0m\u001b[0;34m\u001b[0m\u001b[0;34m\u001b[0m\u001b[0m\n\u001b[0;32m--> 284\u001b[0;31m         \u001b[0mconn\u001b[0m \u001b[0;34m=\u001b[0m \u001b[0mself\u001b[0m\u001b[0;34m.\u001b[0m\u001b[0m_new_conn\u001b[0m\u001b[0;34m(\u001b[0m\u001b[0;34m)\u001b[0m\u001b[0;34m\u001b[0m\u001b[0m\n\u001b[0m\u001b[1;32m    285\u001b[0m \u001b[0;34m\u001b[0m\u001b[0m\n\u001b[1;32m    286\u001b[0m         \u001b[0mhostname\u001b[0m \u001b[0;34m=\u001b[0m \u001b[0mself\u001b[0m\u001b[0;34m.\u001b[0m\u001b[0mhost\u001b[0m\u001b[0;34m\u001b[0m\u001b[0m\n",
      "\u001b[0;32m~/anaconda3/lib/python3.6/site-packages/urllib3/connection.py\u001b[0m in \u001b[0;36m_new_conn\u001b[0;34m(self)\u001b[0m\n\u001b[1;32m    139\u001b[0m         \u001b[0;32mtry\u001b[0m\u001b[0;34m:\u001b[0m\u001b[0;34m\u001b[0m\u001b[0m\n\u001b[1;32m    140\u001b[0m             conn = connection.create_connection(\n\u001b[0;32m--> 141\u001b[0;31m                 (self.host, self.port), self.timeout, **extra_kw)\n\u001b[0m\u001b[1;32m    142\u001b[0m \u001b[0;34m\u001b[0m\u001b[0m\n\u001b[1;32m    143\u001b[0m         \u001b[0;32mexcept\u001b[0m \u001b[0mSocketTimeout\u001b[0m \u001b[0;32mas\u001b[0m \u001b[0me\u001b[0m\u001b[0;34m:\u001b[0m\u001b[0;34m\u001b[0m\u001b[0m\n",
      "\u001b[0;32m~/anaconda3/lib/python3.6/site-packages/urllib3/util/connection.py\u001b[0m in \u001b[0;36mcreate_connection\u001b[0;34m(address, timeout, source_address, socket_options)\u001b[0m\n\u001b[1;32m     58\u001b[0m     \u001b[0mfamily\u001b[0m \u001b[0;34m=\u001b[0m \u001b[0mallowed_gai_family\u001b[0m\u001b[0;34m(\u001b[0m\u001b[0;34m)\u001b[0m\u001b[0;34m\u001b[0m\u001b[0m\n\u001b[1;32m     59\u001b[0m \u001b[0;34m\u001b[0m\u001b[0m\n\u001b[0;32m---> 60\u001b[0;31m     \u001b[0;32mfor\u001b[0m \u001b[0mres\u001b[0m \u001b[0;32min\u001b[0m \u001b[0msocket\u001b[0m\u001b[0;34m.\u001b[0m\u001b[0mgetaddrinfo\u001b[0m\u001b[0;34m(\u001b[0m\u001b[0mhost\u001b[0m\u001b[0;34m,\u001b[0m \u001b[0mport\u001b[0m\u001b[0;34m,\u001b[0m \u001b[0mfamily\u001b[0m\u001b[0;34m,\u001b[0m \u001b[0msocket\u001b[0m\u001b[0;34m.\u001b[0m\u001b[0mSOCK_STREAM\u001b[0m\u001b[0;34m)\u001b[0m\u001b[0;34m:\u001b[0m\u001b[0;34m\u001b[0m\u001b[0m\n\u001b[0m\u001b[1;32m     61\u001b[0m         \u001b[0maf\u001b[0m\u001b[0;34m,\u001b[0m \u001b[0msocktype\u001b[0m\u001b[0;34m,\u001b[0m \u001b[0mproto\u001b[0m\u001b[0;34m,\u001b[0m \u001b[0mcanonname\u001b[0m\u001b[0;34m,\u001b[0m \u001b[0msa\u001b[0m \u001b[0;34m=\u001b[0m \u001b[0mres\u001b[0m\u001b[0;34m\u001b[0m\u001b[0m\n\u001b[1;32m     62\u001b[0m         \u001b[0msock\u001b[0m \u001b[0;34m=\u001b[0m \u001b[0;32mNone\u001b[0m\u001b[0;34m\u001b[0m\u001b[0m\n",
      "\u001b[0;32m~/anaconda3/lib/python3.6/socket.py\u001b[0m in \u001b[0;36mgetaddrinfo\u001b[0;34m(host, port, family, type, proto, flags)\u001b[0m\n\u001b[1;32m    743\u001b[0m     \u001b[0;31m# and socket type values to enum constants.\u001b[0m\u001b[0;34m\u001b[0m\u001b[0;34m\u001b[0m\u001b[0m\n\u001b[1;32m    744\u001b[0m     \u001b[0maddrlist\u001b[0m \u001b[0;34m=\u001b[0m \u001b[0;34m[\u001b[0m\u001b[0;34m]\u001b[0m\u001b[0;34m\u001b[0m\u001b[0m\n\u001b[0;32m--> 745\u001b[0;31m     \u001b[0;32mfor\u001b[0m \u001b[0mres\u001b[0m \u001b[0;32min\u001b[0m \u001b[0m_socket\u001b[0m\u001b[0;34m.\u001b[0m\u001b[0mgetaddrinfo\u001b[0m\u001b[0;34m(\u001b[0m\u001b[0mhost\u001b[0m\u001b[0;34m,\u001b[0m \u001b[0mport\u001b[0m\u001b[0;34m,\u001b[0m \u001b[0mfamily\u001b[0m\u001b[0;34m,\u001b[0m \u001b[0mtype\u001b[0m\u001b[0;34m,\u001b[0m \u001b[0mproto\u001b[0m\u001b[0;34m,\u001b[0m \u001b[0mflags\u001b[0m\u001b[0;34m)\u001b[0m\u001b[0;34m:\u001b[0m\u001b[0;34m\u001b[0m\u001b[0m\n\u001b[0m\u001b[1;32m    746\u001b[0m         \u001b[0maf\u001b[0m\u001b[0;34m,\u001b[0m \u001b[0msocktype\u001b[0m\u001b[0;34m,\u001b[0m \u001b[0mproto\u001b[0m\u001b[0;34m,\u001b[0m \u001b[0mcanonname\u001b[0m\u001b[0;34m,\u001b[0m \u001b[0msa\u001b[0m \u001b[0;34m=\u001b[0m \u001b[0mres\u001b[0m\u001b[0;34m\u001b[0m\u001b[0m\n\u001b[1;32m    747\u001b[0m         addrlist.append((_intenum_converter(af, AddressFamily),\n",
      "\u001b[0;31mKeyboardInterrupt\u001b[0m: "
     ]
    }
   ],
   "source": [
    "# df_weather = pd.DataFrame(columns = COLUMNS)\n",
    "\n",
    "# for i in range(unique_location_hour.shape[0]):\n",
    "    \n",
    "for i in range(695, unique_location_hour.shape[0]):\n",
    "    response = get_weather_json_darksky(\n",
    "                    unique_location_hour.iloc[i,:].Y\n",
    "                    , unique_location_hour.iloc[i,:].X\n",
    "                    , int(unique_location_hour.iloc[i,:].epoch)\n",
    "                    ).currently\n",
    "    series = get_weather_series_from_response(\n",
    "                    unique_location_hour.iloc[i,:].Y\n",
    "                    , unique_location_hour.iloc[i,:].X\n",
    "                    , int(unique_location_hour.iloc[i,:].epoch)    \n",
    "                    , response\n",
    "                    )\n",
    "    df_weather = df_weather.append(series, ignore_index=True)"
   ]
  },
  {
   "cell_type": "code",
   "execution_count": 129,
   "metadata": {},
   "outputs": [
    {
     "data": {
      "text/plain": [
       "190377"
      ]
     },
     "execution_count": 129,
     "metadata": {},
     "output_type": "execute_result"
    }
   ],
   "source": [
    "unique_location_hour.shape[0]"
   ]
  },
  {
   "cell_type": "code",
   "execution_count": 127,
   "metadata": {},
   "outputs": [
    {
     "data": {
      "text/plain": [
       "42501"
      ]
     },
     "execution_count": 127,
     "metadata": {},
     "output_type": "execute_result"
    }
   ],
   "source": [
    "i"
   ]
  },
  {
   "cell_type": "code",
   "execution_count": 125,
   "metadata": {},
   "outputs": [
    {
     "data": {
      "text/plain": [
       "(42501, 12)"
      ]
     },
     "execution_count": 125,
     "metadata": {},
     "output_type": "execute_result"
    }
   ],
   "source": [
    "df_weather.shape"
   ]
  },
  {
   "cell_type": "code",
   "execution_count": 128,
   "metadata": {},
   "outputs": [
    {
     "data": {
      "text/html": [
       "<div>\n",
       "<style scoped>\n",
       "    .dataframe tbody tr th:only-of-type {\n",
       "        vertical-align: middle;\n",
       "    }\n",
       "\n",
       "    .dataframe tbody tr th {\n",
       "        vertical-align: top;\n",
       "    }\n",
       "\n",
       "    .dataframe thead th {\n",
       "        text-align: right;\n",
       "    }\n",
       "</style>\n",
       "<table border=\"1\" class=\"dataframe\">\n",
       "  <thead>\n",
       "    <tr style=\"text-align: right;\">\n",
       "      <th></th>\n",
       "      <th>Latitude</th>\n",
       "      <th>Longitude</th>\n",
       "      <th>EpochTime</th>\n",
       "      <th>Summary</th>\n",
       "      <th>DegreesFahrenheit</th>\n",
       "      <th>Humidity</th>\n",
       "      <th>Visibility</th>\n",
       "      <th>WindBearing</th>\n",
       "      <th>WindGust</th>\n",
       "      <th>WindSpeed</th>\n",
       "      <th>PrecipitationIntensity</th>\n",
       "      <th>PrecipitationType</th>\n",
       "    </tr>\n",
       "  </thead>\n",
       "  <tbody>\n",
       "    <tr>\n",
       "      <th>42496</th>\n",
       "      <td>47.559560</td>\n",
       "      <td>-122.266928</td>\n",
       "      <td>1139212800</td>\n",
       "      <td>Clear</td>\n",
       "      <td>39.91</td>\n",
       "      <td>0.86</td>\n",
       "      <td>9.71</td>\n",
       "      <td>334</td>\n",
       "      <td>None</td>\n",
       "      <td>8.24</td>\n",
       "      <td>0</td>\n",
       "      <td>None</td>\n",
       "    </tr>\n",
       "    <tr>\n",
       "      <th>42497</th>\n",
       "      <td>47.670918</td>\n",
       "      <td>-122.388863</td>\n",
       "      <td>1139212800</td>\n",
       "      <td>Clear</td>\n",
       "      <td>40.94</td>\n",
       "      <td>0.84</td>\n",
       "      <td>9.50</td>\n",
       "      <td>345</td>\n",
       "      <td>None</td>\n",
       "      <td>10.57</td>\n",
       "      <td>0</td>\n",
       "      <td>None</td>\n",
       "    </tr>\n",
       "    <tr>\n",
       "      <th>42498</th>\n",
       "      <td>47.532214</td>\n",
       "      <td>-122.392690</td>\n",
       "      <td>1139385600</td>\n",
       "      <td>Overcast</td>\n",
       "      <td>48.16</td>\n",
       "      <td>0.76</td>\n",
       "      <td>9.61</td>\n",
       "      <td>177</td>\n",
       "      <td>None</td>\n",
       "      <td>7.57</td>\n",
       "      <td>0</td>\n",
       "      <td>None</td>\n",
       "    </tr>\n",
       "    <tr>\n",
       "      <th>42499</th>\n",
       "      <td>47.722321</td>\n",
       "      <td>-122.354184</td>\n",
       "      <td>1136793600</td>\n",
       "      <td>Light Rain and Breezy</td>\n",
       "      <td>46.37</td>\n",
       "      <td>0.85</td>\n",
       "      <td>8.66</td>\n",
       "      <td>167</td>\n",
       "      <td>None</td>\n",
       "      <td>16.26</td>\n",
       "      <td>0.0301</td>\n",
       "      <td>rain</td>\n",
       "    </tr>\n",
       "    <tr>\n",
       "      <th>42500</th>\n",
       "      <td>47.681658</td>\n",
       "      <td>-122.327489</td>\n",
       "      <td>1139598000</td>\n",
       "      <td>Clear</td>\n",
       "      <td>49.67</td>\n",
       "      <td>0.39</td>\n",
       "      <td>9.83</td>\n",
       "      <td>60</td>\n",
       "      <td>None</td>\n",
       "      <td>7.25</td>\n",
       "      <td>0</td>\n",
       "      <td>None</td>\n",
       "    </tr>\n",
       "  </tbody>\n",
       "</table>\n",
       "</div>"
      ],
      "text/plain": [
       "        Latitude   Longitude   EpochTime                Summary  \\\n",
       "42496  47.559560 -122.266928  1139212800                  Clear   \n",
       "42497  47.670918 -122.388863  1139212800                  Clear   \n",
       "42498  47.532214 -122.392690  1139385600               Overcast   \n",
       "42499  47.722321 -122.354184  1136793600  Light Rain and Breezy   \n",
       "42500  47.681658 -122.327489  1139598000                  Clear   \n",
       "\n",
       "       DegreesFahrenheit  Humidity  Visibility WindBearing WindGust WindSpeed  \\\n",
       "42496              39.91      0.86        9.71         334     None      8.24   \n",
       "42497              40.94      0.84        9.50         345     None     10.57   \n",
       "42498              48.16      0.76        9.61         177     None      7.57   \n",
       "42499              46.37      0.85        8.66         167     None     16.26   \n",
       "42500              49.67      0.39        9.83          60     None      7.25   \n",
       "\n",
       "      PrecipitationIntensity PrecipitationType  \n",
       "42496                      0              None  \n",
       "42497                      0              None  \n",
       "42498                      0              None  \n",
       "42499                 0.0301              rain  \n",
       "42500                      0              None  "
      ]
     },
     "execution_count": 128,
     "metadata": {},
     "output_type": "execute_result"
    }
   ],
   "source": [
    "df_weather.tail()"
   ]
  },
  {
   "cell_type": "code",
   "execution_count": null,
   "metadata": {},
   "outputs": [],
   "source": []
  },
  {
   "cell_type": "code",
   "execution_count": 77,
   "metadata": {
    "collapsed": true
   },
   "outputs": [
    {
     "ename": "HTTPError",
     "evalue": "Bad response",
     "output_type": "error",
     "traceback": [
      "\u001b[0;31m---------------------------------------------------------------------------\u001b[0m",
      "\u001b[0;31mHTTPError\u001b[0m                                 Traceback (most recent call last)",
      "\u001b[0;32m<ipython-input-77-3f052b7bd580>\u001b[0m in \u001b[0;36m<module>\u001b[0;34m()\u001b[0m\n\u001b[1;32m      2\u001b[0m                 \u001b[0munique_location_hour\u001b[0m\u001b[0;34m.\u001b[0m\u001b[0mloc\u001b[0m\u001b[0;34m[\u001b[0m\u001b[0mi\u001b[0m\u001b[0;34m,\u001b[0m\u001b[0;34m:\u001b[0m\u001b[0;34m]\u001b[0m\u001b[0;34m.\u001b[0m\u001b[0mY\u001b[0m\u001b[0;34m\u001b[0m\u001b[0m\n\u001b[1;32m      3\u001b[0m                 \u001b[0;34m,\u001b[0m \u001b[0munique_location_hour\u001b[0m\u001b[0;34m.\u001b[0m\u001b[0mloc\u001b[0m\u001b[0;34m[\u001b[0m\u001b[0mi\u001b[0m\u001b[0;34m,\u001b[0m\u001b[0;34m:\u001b[0m\u001b[0;34m]\u001b[0m\u001b[0;34m.\u001b[0m\u001b[0mX\u001b[0m\u001b[0;34m\u001b[0m\u001b[0m\n\u001b[0;32m----> 4\u001b[0;31m                 \u001b[0;34m,\u001b[0m \u001b[0mint\u001b[0m\u001b[0;34m(\u001b[0m\u001b[0munique_location_hour\u001b[0m\u001b[0;34m.\u001b[0m\u001b[0mloc\u001b[0m\u001b[0;34m[\u001b[0m\u001b[0mi\u001b[0m\u001b[0;34m,\u001b[0m\u001b[0;34m:\u001b[0m\u001b[0;34m]\u001b[0m\u001b[0;34m.\u001b[0m\u001b[0mepoch\u001b[0m\u001b[0;34m)\u001b[0m\u001b[0;34m\u001b[0m\u001b[0m\n\u001b[0m\u001b[1;32m      5\u001b[0m                 ).currently\n\u001b[1;32m      6\u001b[0m \u001b[0;34m\u001b[0m\u001b[0m\n",
      "\u001b[0;32m<ipython-input-33-e1b13318c746>\u001b[0m in \u001b[0;36mget_weather_json_darksky\u001b[0;34m(latitude, longitude, epoch_time)\u001b[0m\n\u001b[1;32m      9\u001b[0m     \u001b[0;34m:\u001b[0m\u001b[0;32mreturn\u001b[0m\u001b[0;34m:\u001b[0m \u001b[0mA\u001b[0m \u001b[0mdarksky\u001b[0m\u001b[0;34m.\u001b[0m\u001b[0mforecast\u001b[0m\u001b[0;34m.\u001b[0m\u001b[0mForecast\u001b[0m \u001b[0mobject\u001b[0m\u001b[0;34m\u001b[0m\u001b[0m\n\u001b[1;32m     10\u001b[0m     \"\"\"\n\u001b[0;32m---> 11\u001b[0;31m     \u001b[0mresponse\u001b[0m \u001b[0;34m=\u001b[0m \u001b[0mforecast\u001b[0m\u001b[0;34m(\u001b[0m\u001b[0mAPI_KEY\u001b[0m\u001b[0;34m,\u001b[0m \u001b[0mlatitude\u001b[0m\u001b[0;34m,\u001b[0m \u001b[0mlongitude\u001b[0m\u001b[0;34m,\u001b[0m \u001b[0mint\u001b[0m\u001b[0;34m(\u001b[0m\u001b[0mepoch_time\u001b[0m\u001b[0;34m)\u001b[0m\u001b[0;34m)\u001b[0m\u001b[0;34m\u001b[0m\u001b[0m\n\u001b[0m\u001b[1;32m     12\u001b[0m     \u001b[0;32mreturn\u001b[0m \u001b[0mresponse\u001b[0m\u001b[0;34m\u001b[0m\u001b[0m\n\u001b[1;32m     13\u001b[0m \u001b[0;34m\u001b[0m\u001b[0m\n",
      "\u001b[0;32m~/working/softwareClassUW/project/wa_collisions/scripts/weather/__init__.py\u001b[0m in \u001b[0;36mforecast\u001b[0;34m(key, latitude, longitude, time, timeout, **queries)\u001b[0m\n\u001b[1;32m      5\u001b[0m \u001b[0;34m\u001b[0m\u001b[0m\n\u001b[1;32m      6\u001b[0m \u001b[0;32mdef\u001b[0m \u001b[0mforecast\u001b[0m\u001b[0;34m(\u001b[0m\u001b[0mkey\u001b[0m\u001b[0;34m,\u001b[0m \u001b[0mlatitude\u001b[0m\u001b[0;34m,\u001b[0m \u001b[0mlongitude\u001b[0m\u001b[0;34m,\u001b[0m \u001b[0mtime\u001b[0m\u001b[0;34m=\u001b[0m\u001b[0;32mNone\u001b[0m\u001b[0;34m,\u001b[0m \u001b[0mtimeout\u001b[0m\u001b[0;34m=\u001b[0m\u001b[0;32mNone\u001b[0m\u001b[0;34m,\u001b[0m \u001b[0;34m**\u001b[0m\u001b[0mqueries\u001b[0m\u001b[0;34m)\u001b[0m\u001b[0;34m:\u001b[0m\u001b[0;34m\u001b[0m\u001b[0m\n\u001b[0;32m----> 7\u001b[0;31m     \u001b[0;32mreturn\u001b[0m \u001b[0mForecast\u001b[0m\u001b[0;34m(\u001b[0m\u001b[0mkey\u001b[0m\u001b[0;34m,\u001b[0m \u001b[0mlatitude\u001b[0m\u001b[0;34m,\u001b[0m \u001b[0mlongitude\u001b[0m\u001b[0;34m,\u001b[0m \u001b[0mtime\u001b[0m\u001b[0;34m,\u001b[0m \u001b[0mtimeout\u001b[0m\u001b[0;34m,\u001b[0m \u001b[0;34m**\u001b[0m\u001b[0mqueries\u001b[0m\u001b[0;34m)\u001b[0m\u001b[0;34m\u001b[0m\u001b[0m\n\u001b[0m",
      "\u001b[0;32m~/working/softwareClassUW/project/wa_collisions/scripts/weather/forecast.py\u001b[0m in \u001b[0;36m__init__\u001b[0;34m(self, key, latitude, longitude, time, timeout, **queries)\u001b[0m\n\u001b[1;32m     15\u001b[0m     \u001b[0;32mdef\u001b[0m \u001b[0m__init__\u001b[0m\u001b[0;34m(\u001b[0m\u001b[0mself\u001b[0m\u001b[0;34m,\u001b[0m \u001b[0mkey\u001b[0m\u001b[0;34m,\u001b[0m \u001b[0mlatitude\u001b[0m\u001b[0;34m,\u001b[0m \u001b[0mlongitude\u001b[0m\u001b[0;34m,\u001b[0m \u001b[0mtime\u001b[0m\u001b[0;34m=\u001b[0m\u001b[0;32mNone\u001b[0m\u001b[0;34m,\u001b[0m \u001b[0mtimeout\u001b[0m\u001b[0;34m=\u001b[0m\u001b[0;32mNone\u001b[0m\u001b[0;34m,\u001b[0m \u001b[0;34m**\u001b[0m\u001b[0mqueries\u001b[0m\u001b[0;34m)\u001b[0m\u001b[0;34m:\u001b[0m\u001b[0;34m\u001b[0m\u001b[0m\n\u001b[1;32m     16\u001b[0m         \u001b[0mself\u001b[0m\u001b[0;34m.\u001b[0m\u001b[0m_parameters\u001b[0m \u001b[0;34m=\u001b[0m \u001b[0mdict\u001b[0m\u001b[0;34m(\u001b[0m\u001b[0mkey\u001b[0m\u001b[0;34m=\u001b[0m\u001b[0mkey\u001b[0m\u001b[0;34m,\u001b[0m \u001b[0mlatitude\u001b[0m\u001b[0;34m=\u001b[0m\u001b[0mlatitude\u001b[0m\u001b[0;34m,\u001b[0m \u001b[0mlongitude\u001b[0m\u001b[0;34m=\u001b[0m\u001b[0mlongitude\u001b[0m\u001b[0;34m,\u001b[0m \u001b[0mtime\u001b[0m\u001b[0;34m=\u001b[0m\u001b[0mtime\u001b[0m\u001b[0;34m)\u001b[0m\u001b[0;34m\u001b[0m\u001b[0m\n\u001b[0;32m---> 17\u001b[0;31m         \u001b[0mself\u001b[0m\u001b[0;34m.\u001b[0m\u001b[0mrefresh\u001b[0m\u001b[0;34m(\u001b[0m\u001b[0mtimeout\u001b[0m\u001b[0;34m,\u001b[0m \u001b[0;34m**\u001b[0m\u001b[0mqueries\u001b[0m\u001b[0;34m)\u001b[0m\u001b[0;34m\u001b[0m\u001b[0m\n\u001b[0m\u001b[1;32m     18\u001b[0m \u001b[0;34m\u001b[0m\u001b[0m\n\u001b[1;32m     19\u001b[0m     \u001b[0;32mdef\u001b[0m \u001b[0m__setattr__\u001b[0m\u001b[0;34m(\u001b[0m\u001b[0mself\u001b[0m\u001b[0;34m,\u001b[0m \u001b[0mkey\u001b[0m\u001b[0;34m,\u001b[0m \u001b[0mvalue\u001b[0m\u001b[0;34m)\u001b[0m\u001b[0;34m:\u001b[0m\u001b[0;34m\u001b[0m\u001b[0m\n",
      "\u001b[0;32m~/working/softwareClassUW/project/wa_collisions/scripts/weather/forecast.py\u001b[0m in \u001b[0;36mrefresh\u001b[0;34m(self, timeout, **queries)\u001b[0m\n\u001b[1;32m     52\u001b[0m         \u001b[0mself\u001b[0m\u001b[0;34m.\u001b[0m\u001b[0mresponse_headers\u001b[0m \u001b[0;34m=\u001b[0m \u001b[0mresponse\u001b[0m\u001b[0;34m.\u001b[0m\u001b[0mheaders\u001b[0m\u001b[0;34m\u001b[0m\u001b[0m\n\u001b[1;32m     53\u001b[0m         \u001b[0;32mif\u001b[0m \u001b[0mresponse\u001b[0m\u001b[0;34m.\u001b[0m\u001b[0mstatus_code\u001b[0m \u001b[0;32mis\u001b[0m \u001b[0;32mnot\u001b[0m \u001b[0;36m200\u001b[0m\u001b[0;34m:\u001b[0m\u001b[0;34m\u001b[0m\u001b[0m\n\u001b[0;32m---> 54\u001b[0;31m             \u001b[0;32mraise\u001b[0m \u001b[0mrequests\u001b[0m\u001b[0;34m.\u001b[0m\u001b[0mexceptions\u001b[0m\u001b[0;34m.\u001b[0m\u001b[0mHTTPError\u001b[0m\u001b[0;34m(\u001b[0m\u001b[0;34m'Bad response'\u001b[0m\u001b[0;34m)\u001b[0m\u001b[0;34m\u001b[0m\u001b[0m\n\u001b[0m\u001b[1;32m     55\u001b[0m         \u001b[0;32mreturn\u001b[0m \u001b[0msuper\u001b[0m\u001b[0;34m(\u001b[0m\u001b[0;34m)\u001b[0m\u001b[0;34m.\u001b[0m\u001b[0m__init__\u001b[0m\u001b[0;34m(\u001b[0m\u001b[0mjson\u001b[0m\u001b[0;34m.\u001b[0m\u001b[0mloads\u001b[0m\u001b[0;34m(\u001b[0m\u001b[0mresponse\u001b[0m\u001b[0;34m.\u001b[0m\u001b[0mtext\u001b[0m\u001b[0;34m)\u001b[0m\u001b[0;34m)\u001b[0m\u001b[0;34m\u001b[0m\u001b[0m\n",
      "\u001b[0;31mHTTPError\u001b[0m: Bad response"
     ]
    }
   ],
   "source": [
    "response = get_weather_json_darksky(\n",
    "                unique_location_hour.loc[i,:].Y\n",
    "                , unique_location_hour.loc[i,:].X\n",
    "                , int(unique_location_hour.loc[i,:].epoch)\n",
    "                ).currently\n",
    "\n",
    "response_keys = response._data.keys()\n",
    "\n",
    "row_data = [\n",
    "            response['summary'] if 'summary' in response_keys else None,\n",
    "            response['temperature'] if 'temperature' in response_keys else None,\n",
    "            response['humidity'] if 'humidity' in response_keys else None,\n",
    "            response['visibility'] if 'visibility' in response_keys else None,\n",
    "            response['windBearing'] if 'windBearing' in response_keys else None,\n",
    "            response['windGust'] if 'windGust' in response_keys else None,\n",
    "            response['windSpeed'] if 'windSpeed' in response_keys else None,\n",
    "            response['precipIntensity'] if 'precipIntensity' in response_keys else None,\n",
    "            response['precipType'] if 'precipType' in response_keys else None\n",
    "]\n",
    "\n",
    "response_keys"
   ]
  },
  {
   "cell_type": "code",
   "execution_count": 79,
   "metadata": {},
   "outputs": [
    {
     "data": {
      "text/html": [
       "<div>\n",
       "<style scoped>\n",
       "    .dataframe tbody tr th:only-of-type {\n",
       "        vertical-align: middle;\n",
       "    }\n",
       "\n",
       "    .dataframe tbody tr th {\n",
       "        vertical-align: top;\n",
       "    }\n",
       "\n",
       "    .dataframe thead th {\n",
       "        text-align: right;\n",
       "    }\n",
       "</style>\n",
       "<table border=\"1\" class=\"dataframe\">\n",
       "  <thead>\n",
       "    <tr style=\"text-align: right;\">\n",
       "      <th></th>\n",
       "      <th>X</th>\n",
       "      <th>Y</th>\n",
       "      <th>epoch</th>\n",
       "    </tr>\n",
       "  </thead>\n",
       "  <tbody>\n",
       "    <tr>\n",
       "      <th>0</th>\n",
       "      <td>-122.342323</td>\n",
       "      <td>47.627572</td>\n",
       "      <td>1478278800</td>\n",
       "    </tr>\n",
       "    <tr>\n",
       "      <th>1</th>\n",
       "      <td>-122.301639</td>\n",
       "      <td>47.630771</td>\n",
       "      <td>1480618800</td>\n",
       "    </tr>\n",
       "    <tr>\n",
       "      <th>2</th>\n",
       "      <td>-122.290784</td>\n",
       "      <td>47.719253</td>\n",
       "      <td>1482526800</td>\n",
       "    </tr>\n",
       "    <tr>\n",
       "      <th>3</th>\n",
       "      <td>-122.322535</td>\n",
       "      <td>47.623135</td>\n",
       "      <td>1482364800</td>\n",
       "    </tr>\n",
       "    <tr>\n",
       "      <th>4</th>\n",
       "      <td>-122.376803</td>\n",
       "      <td>47.689665</td>\n",
       "      <td>1482505200</td>\n",
       "    </tr>\n",
       "    <tr>\n",
       "      <th>5</th>\n",
       "      <td>-122.299223</td>\n",
       "      <td>47.618915</td>\n",
       "      <td>1480784400</td>\n",
       "    </tr>\n",
       "    <tr>\n",
       "      <th>6</th>\n",
       "      <td>-122.392486</td>\n",
       "      <td>47.580801</td>\n",
       "      <td>1482307200</td>\n",
       "    </tr>\n",
       "    <tr>\n",
       "      <th>7</th>\n",
       "      <td>-122.309670</td>\n",
       "      <td>47.595154</td>\n",
       "      <td>1482400800</td>\n",
       "    </tr>\n",
       "    <tr>\n",
       "      <th>8</th>\n",
       "      <td>-122.317791</td>\n",
       "      <td>47.657942</td>\n",
       "      <td>1483228800</td>\n",
       "    </tr>\n",
       "    <tr>\n",
       "      <th>9</th>\n",
       "      <td>-122.333141</td>\n",
       "      <td>47.662629</td>\n",
       "      <td>1482555600</td>\n",
       "    </tr>\n",
       "    <tr>\n",
       "      <th>10</th>\n",
       "      <td>-122.280805</td>\n",
       "      <td>47.525184</td>\n",
       "      <td>1482476400</td>\n",
       "    </tr>\n",
       "    <tr>\n",
       "      <th>11</th>\n",
       "      <td>-122.316764</td>\n",
       "      <td>47.622539</td>\n",
       "      <td>1481356800</td>\n",
       "    </tr>\n",
       "    <tr>\n",
       "      <th>12</th>\n",
       "      <td>-122.348641</td>\n",
       "      <td>47.696874</td>\n",
       "      <td>1478188800</td>\n",
       "    </tr>\n",
       "    <tr>\n",
       "      <th>13</th>\n",
       "      <td>-122.340185</td>\n",
       "      <td>47.731487</td>\n",
       "      <td>1480716000</td>\n",
       "    </tr>\n",
       "    <tr>\n",
       "      <th>14</th>\n",
       "      <td>-122.317448</td>\n",
       "      <td>47.606205</td>\n",
       "      <td>1480762800</td>\n",
       "    </tr>\n",
       "    <tr>\n",
       "      <th>15</th>\n",
       "      <td>-122.325841</td>\n",
       "      <td>47.703160</td>\n",
       "      <td>1482613200</td>\n",
       "    </tr>\n",
       "    <tr>\n",
       "      <th>16</th>\n",
       "      <td>-122.344559</td>\n",
       "      <td>47.661385</td>\n",
       "      <td>1482566400</td>\n",
       "    </tr>\n",
       "    <tr>\n",
       "      <th>17</th>\n",
       "      <td>-122.318438</td>\n",
       "      <td>47.597505</td>\n",
       "      <td>1482051600</td>\n",
       "    </tr>\n",
       "    <tr>\n",
       "      <th>18</th>\n",
       "      <td>-122.356271</td>\n",
       "      <td>47.571375</td>\n",
       "      <td>1481486400</td>\n",
       "    </tr>\n",
       "    <tr>\n",
       "      <th>19</th>\n",
       "      <td>-122.295618</td>\n",
       "      <td>47.641164</td>\n",
       "      <td>1482462000</td>\n",
       "    </tr>\n",
       "    <tr>\n",
       "      <th>20</th>\n",
       "      <td>-122.372173</td>\n",
       "      <td>47.667888</td>\n",
       "      <td>1482480000</td>\n",
       "    </tr>\n",
       "    <tr>\n",
       "      <th>21</th>\n",
       "      <td>-122.306849</td>\n",
       "      <td>47.691236</td>\n",
       "      <td>1482627600</td>\n",
       "    </tr>\n",
       "    <tr>\n",
       "      <th>22</th>\n",
       "      <td>NaN</td>\n",
       "      <td>NaN</td>\n",
       "      <td>1479063600</td>\n",
       "    </tr>\n",
       "    <tr>\n",
       "      <th>23</th>\n",
       "      <td>-122.323484</td>\n",
       "      <td>47.734053</td>\n",
       "      <td>1479171600</td>\n",
       "    </tr>\n",
       "    <tr>\n",
       "      <th>24</th>\n",
       "      <td>-122.303620</td>\n",
       "      <td>47.620213</td>\n",
       "      <td>1481342400</td>\n",
       "    </tr>\n",
       "    <tr>\n",
       "      <th>25</th>\n",
       "      <td>-122.258419</td>\n",
       "      <td>47.502992</td>\n",
       "      <td>1482624000</td>\n",
       "    </tr>\n",
       "    <tr>\n",
       "      <th>26</th>\n",
       "      <td>-122.329737</td>\n",
       "      <td>47.692339</td>\n",
       "      <td>1479060000</td>\n",
       "    </tr>\n",
       "    <tr>\n",
       "      <th>27</th>\n",
       "      <td>-122.338498</td>\n",
       "      <td>47.665774</td>\n",
       "      <td>1482937200</td>\n",
       "    </tr>\n",
       "    <tr>\n",
       "      <th>28</th>\n",
       "      <td>-122.286708</td>\n",
       "      <td>47.658424</td>\n",
       "      <td>1482710400</td>\n",
       "    </tr>\n",
       "    <tr>\n",
       "      <th>29</th>\n",
       "      <td>-122.314224</td>\n",
       "      <td>47.614122</td>\n",
       "      <td>1482537600</td>\n",
       "    </tr>\n",
       "    <tr>\n",
       "      <th>...</th>\n",
       "      <td>...</td>\n",
       "      <td>...</td>\n",
       "      <td>...</td>\n",
       "    </tr>\n",
       "    <tr>\n",
       "      <th>196086</th>\n",
       "      <td>-122.337745</td>\n",
       "      <td>47.614832</td>\n",
       "      <td>1520409600</td>\n",
       "    </tr>\n",
       "    <tr>\n",
       "      <th>196087</th>\n",
       "      <td>-122.347036</td>\n",
       "      <td>47.611726</td>\n",
       "      <td>1520924400</td>\n",
       "    </tr>\n",
       "    <tr>\n",
       "      <th>196088</th>\n",
       "      <td>-122.370769</td>\n",
       "      <td>47.661469</td>\n",
       "      <td>1521010800</td>\n",
       "    </tr>\n",
       "    <tr>\n",
       "      <th>196089</th>\n",
       "      <td>-122.320060</td>\n",
       "      <td>47.678768</td>\n",
       "      <td>1519977600</td>\n",
       "    </tr>\n",
       "    <tr>\n",
       "      <th>196090</th>\n",
       "      <td>-122.328592</td>\n",
       "      <td>47.706812</td>\n",
       "      <td>1519891200</td>\n",
       "    </tr>\n",
       "    <tr>\n",
       "      <th>196091</th>\n",
       "      <td>-122.355453</td>\n",
       "      <td>47.705084</td>\n",
       "      <td>1521702000</td>\n",
       "    </tr>\n",
       "    <tr>\n",
       "      <th>196092</th>\n",
       "      <td>-122.300906</td>\n",
       "      <td>47.660510</td>\n",
       "      <td>1521702000</td>\n",
       "    </tr>\n",
       "    <tr>\n",
       "      <th>196093</th>\n",
       "      <td>-122.307191</td>\n",
       "      <td>47.664860</td>\n",
       "      <td>1521874800</td>\n",
       "    </tr>\n",
       "    <tr>\n",
       "      <th>196094</th>\n",
       "      <td>-122.336545</td>\n",
       "      <td>47.699594</td>\n",
       "      <td>1521702000</td>\n",
       "    </tr>\n",
       "    <tr>\n",
       "      <th>196095</th>\n",
       "      <td>-122.372169</td>\n",
       "      <td>47.670169</td>\n",
       "      <td>1521270000</td>\n",
       "    </tr>\n",
       "    <tr>\n",
       "      <th>196096</th>\n",
       "      <td>-122.360480</td>\n",
       "      <td>47.676869</td>\n",
       "      <td>1521529200</td>\n",
       "    </tr>\n",
       "    <tr>\n",
       "      <th>196097</th>\n",
       "      <td>-122.324025</td>\n",
       "      <td>47.681980</td>\n",
       "      <td>1519632000</td>\n",
       "    </tr>\n",
       "    <tr>\n",
       "      <th>196098</th>\n",
       "      <td>-122.295636</td>\n",
       "      <td>47.667861</td>\n",
       "      <td>1520668800</td>\n",
       "    </tr>\n",
       "    <tr>\n",
       "      <th>196099</th>\n",
       "      <td>-122.330778</td>\n",
       "      <td>47.600434</td>\n",
       "      <td>1519804800</td>\n",
       "    </tr>\n",
       "    <tr>\n",
       "      <th>196100</th>\n",
       "      <td>-122.350072</td>\n",
       "      <td>47.614307</td>\n",
       "      <td>1520323200</td>\n",
       "    </tr>\n",
       "    <tr>\n",
       "      <th>196101</th>\n",
       "      <td>-122.342575</td>\n",
       "      <td>47.652707</td>\n",
       "      <td>1520409600</td>\n",
       "    </tr>\n",
       "    <tr>\n",
       "      <th>196102</th>\n",
       "      <td>-122.271503</td>\n",
       "      <td>47.519048</td>\n",
       "      <td>1519718400</td>\n",
       "    </tr>\n",
       "    <tr>\n",
       "      <th>196103</th>\n",
       "      <td>-122.376189</td>\n",
       "      <td>47.564559</td>\n",
       "      <td>1520755200</td>\n",
       "    </tr>\n",
       "    <tr>\n",
       "      <th>196104</th>\n",
       "      <td>-122.376597</td>\n",
       "      <td>47.536482</td>\n",
       "      <td>1521010800</td>\n",
       "    </tr>\n",
       "    <tr>\n",
       "      <th>196105</th>\n",
       "      <td>-122.298900</td>\n",
       "      <td>47.605233</td>\n",
       "      <td>1521010800</td>\n",
       "    </tr>\n",
       "    <tr>\n",
       "      <th>196106</th>\n",
       "      <td>-122.308317</td>\n",
       "      <td>47.599243</td>\n",
       "      <td>1521010800</td>\n",
       "    </tr>\n",
       "    <tr>\n",
       "      <th>196107</th>\n",
       "      <td>-122.317862</td>\n",
       "      <td>47.709174</td>\n",
       "      <td>1521010800</td>\n",
       "    </tr>\n",
       "    <tr>\n",
       "      <th>196108</th>\n",
       "      <td>-122.321439</td>\n",
       "      <td>47.547503</td>\n",
       "      <td>1520064000</td>\n",
       "    </tr>\n",
       "    <tr>\n",
       "      <th>196109</th>\n",
       "      <td>-122.346238</td>\n",
       "      <td>47.628030</td>\n",
       "      <td>1520236800</td>\n",
       "    </tr>\n",
       "    <tr>\n",
       "      <th>196110</th>\n",
       "      <td>-122.329679</td>\n",
       "      <td>47.599198</td>\n",
       "      <td>1519977600</td>\n",
       "    </tr>\n",
       "    <tr>\n",
       "      <th>196111</th>\n",
       "      <td>-122.377704</td>\n",
       "      <td>47.564078</td>\n",
       "      <td>1520236800</td>\n",
       "    </tr>\n",
       "    <tr>\n",
       "      <th>196112</th>\n",
       "      <td>-122.329077</td>\n",
       "      <td>47.571421</td>\n",
       "      <td>1520150400</td>\n",
       "    </tr>\n",
       "    <tr>\n",
       "      <th>196113</th>\n",
       "      <td>-122.320750</td>\n",
       "      <td>47.606213</td>\n",
       "      <td>1519545600</td>\n",
       "    </tr>\n",
       "    <tr>\n",
       "      <th>196114</th>\n",
       "      <td>-122.296764</td>\n",
       "      <td>47.602656</td>\n",
       "      <td>1519459200</td>\n",
       "    </tr>\n",
       "    <tr>\n",
       "      <th>196115</th>\n",
       "      <td>-122.317404</td>\n",
       "      <td>47.664937</td>\n",
       "      <td>1519977600</td>\n",
       "    </tr>\n",
       "  </tbody>\n",
       "</table>\n",
       "<p>194668 rows × 3 columns</p>\n",
       "</div>"
      ],
      "text/plain": [
       "                 X          Y       epoch\n",
       "0      -122.342323  47.627572  1478278800\n",
       "1      -122.301639  47.630771  1480618800\n",
       "2      -122.290784  47.719253  1482526800\n",
       "3      -122.322535  47.623135  1482364800\n",
       "4      -122.376803  47.689665  1482505200\n",
       "5      -122.299223  47.618915  1480784400\n",
       "6      -122.392486  47.580801  1482307200\n",
       "7      -122.309670  47.595154  1482400800\n",
       "8      -122.317791  47.657942  1483228800\n",
       "9      -122.333141  47.662629  1482555600\n",
       "10     -122.280805  47.525184  1482476400\n",
       "11     -122.316764  47.622539  1481356800\n",
       "12     -122.348641  47.696874  1478188800\n",
       "13     -122.340185  47.731487  1480716000\n",
       "14     -122.317448  47.606205  1480762800\n",
       "15     -122.325841  47.703160  1482613200\n",
       "16     -122.344559  47.661385  1482566400\n",
       "17     -122.318438  47.597505  1482051600\n",
       "18     -122.356271  47.571375  1481486400\n",
       "19     -122.295618  47.641164  1482462000\n",
       "20     -122.372173  47.667888  1482480000\n",
       "21     -122.306849  47.691236  1482627600\n",
       "22             NaN        NaN  1479063600\n",
       "23     -122.323484  47.734053  1479171600\n",
       "24     -122.303620  47.620213  1481342400\n",
       "25     -122.258419  47.502992  1482624000\n",
       "26     -122.329737  47.692339  1479060000\n",
       "27     -122.338498  47.665774  1482937200\n",
       "28     -122.286708  47.658424  1482710400\n",
       "29     -122.314224  47.614122  1482537600\n",
       "...            ...        ...         ...\n",
       "196086 -122.337745  47.614832  1520409600\n",
       "196087 -122.347036  47.611726  1520924400\n",
       "196088 -122.370769  47.661469  1521010800\n",
       "196089 -122.320060  47.678768  1519977600\n",
       "196090 -122.328592  47.706812  1519891200\n",
       "196091 -122.355453  47.705084  1521702000\n",
       "196092 -122.300906  47.660510  1521702000\n",
       "196093 -122.307191  47.664860  1521874800\n",
       "196094 -122.336545  47.699594  1521702000\n",
       "196095 -122.372169  47.670169  1521270000\n",
       "196096 -122.360480  47.676869  1521529200\n",
       "196097 -122.324025  47.681980  1519632000\n",
       "196098 -122.295636  47.667861  1520668800\n",
       "196099 -122.330778  47.600434  1519804800\n",
       "196100 -122.350072  47.614307  1520323200\n",
       "196101 -122.342575  47.652707  1520409600\n",
       "196102 -122.271503  47.519048  1519718400\n",
       "196103 -122.376189  47.564559  1520755200\n",
       "196104 -122.376597  47.536482  1521010800\n",
       "196105 -122.298900  47.605233  1521010800\n",
       "196106 -122.308317  47.599243  1521010800\n",
       "196107 -122.317862  47.709174  1521010800\n",
       "196108 -122.321439  47.547503  1520064000\n",
       "196109 -122.346238  47.628030  1520236800\n",
       "196110 -122.329679  47.599198  1519977600\n",
       "196111 -122.377704  47.564078  1520236800\n",
       "196112 -122.329077  47.571421  1520150400\n",
       "196113 -122.320750  47.606213  1519545600\n",
       "196114 -122.296764  47.602656  1519459200\n",
       "196115 -122.317404  47.664937  1519977600\n",
       "\n",
       "[194668 rows x 3 columns]"
      ]
     },
     "execution_count": 79,
     "metadata": {},
     "output_type": "execute_result"
    }
   ],
   "source": [
    "unique_location_hour"
   ]
  },
  {
   "cell_type": "code",
   "execution_count": 78,
   "metadata": {},
   "outputs": [
    {
     "data": {
      "text/plain": [
       "X                 NaN\n",
       "Y                 NaN\n",
       "epoch    1.479064e+09\n",
       "Name: 22, dtype: float64"
      ]
     },
     "execution_count": 78,
     "metadata": {},
     "output_type": "execute_result"
    }
   ],
   "source": [
    "unique_location_hour.loc[i,:]"
   ]
  },
  {
   "cell_type": "code",
   "execution_count": 75,
   "metadata": {},
   "outputs": [
    {
     "data": {
      "text/plain": [
       "dict_keys(['time', 'summary', 'icon', 'precipIntensity', 'precipProbability', 'precipType', 'temperature', 'apparentTemperature', 'dewPoint', 'humidity', 'pressure', 'windSpeed', 'windBearing', 'visibility'])"
      ]
     },
     "execution_count": 75,
     "metadata": {},
     "output_type": "execute_result"
    }
   ],
   "source": [
    "response_keys"
   ]
  },
  {
   "cell_type": "code",
   "execution_count": 64,
   "metadata": {},
   "outputs": [
    {
     "data": {
      "text/plain": [
       "(22, 12)"
      ]
     },
     "execution_count": 64,
     "metadata": {},
     "output_type": "execute_result"
    }
   ],
   "source": [
    "df_weather.shape"
   ]
  },
  {
   "cell_type": "code",
   "execution_count": null,
   "metadata": {},
   "outputs": [],
   "source": []
  },
  {
   "cell_type": "code",
   "execution_count": 36,
   "metadata": {},
   "outputs": [
    {
     "data": {
      "text/plain": [
       "(1, 12)"
      ]
     },
     "execution_count": 36,
     "metadata": {},
     "output_type": "execute_result"
    }
   ],
   "source": [
    "df_weather.shape"
   ]
  },
  {
   "cell_type": "code",
   "execution_count": null,
   "metadata": {},
   "outputs": [],
   "source": []
  }
 ],
 "metadata": {
  "kernelspec": {
   "display_name": "Python 3",
   "language": "python",
   "name": "python3"
  },
  "language_info": {
   "codemirror_mode": {
    "name": "ipython",
    "version": 3
   },
   "file_extension": ".py",
   "mimetype": "text/x-python",
   "name": "python",
   "nbconvert_exporter": "python",
   "pygments_lexer": "ipython3",
   "version": "3.6.4"
  }
 },
 "nbformat": 4,
 "nbformat_minor": 2
}
