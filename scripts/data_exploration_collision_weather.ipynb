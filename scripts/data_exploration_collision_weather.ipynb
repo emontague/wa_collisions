{
 "cells": [
  {
   "cell_type": "markdown",
   "metadata": {},
   "source": [
    "### Import Packages"
   ]
  },
  {
   "cell_type": "code",
   "execution_count": 3,
   "metadata": {
    "collapsed": true
   },
   "outputs": [],
   "source": [
    "import pandas as pd\n",
    "import numpy as np\n",
    "import datetime\n",
    "import matplotlib.pyplot as plt\n",
    "%matplotlib inline\n",
    "\n",
    "from weather import forecast"
   ]
  },
  {
   "cell_type": "markdown",
   "metadata": {},
   "source": [
    "## Seattle Collision Data"
   ]
  },
  {
   "cell_type": "markdown",
   "metadata": {},
   "source": [
    "https://data-seattlecitygis.opendata.arcgis.com/datasets/collisions/data?geometry=-122.526%2C47.676%2C-122.198%2C47.717&page=4"
   ]
  },
  {
   "cell_type": "markdown",
   "metadata": {},
   "source": [
    "01/01/2014 - 03/29/2018\n",
    "\n",
    "data with weather info available 01/01/2014 - 01/30/2018\n",
    "\n",
    "(lat, lon) values have 6 decimal places (precision at individual human level)"
   ]
  },
  {
   "cell_type": "markdown",
   "metadata": {},
   "source": [
    "### read in the original dataset"
   ]
  },
  {
   "cell_type": "code",
   "execution_count": 1,
   "metadata": {},
   "outputs": [
    {
     "data": {
      "text/plain": [
       "'/home/feiwang/wa_collisions/scripts'"
      ]
     },
     "execution_count": 1,
     "metadata": {},
     "output_type": "execute_result"
    }
   ],
   "source": [
    "pwd"
   ]
  },
  {
   "cell_type": "code",
   "execution_count": 7,
   "metadata": {
    "collapsed": true
   },
   "outputs": [
    {
     "name": "stderr",
     "output_type": "stream",
     "text": [
      "/home/feiwang/anaconda3/lib/python3.6/site-packages/IPython/core/interactiveshell.py:2698: DtypeWarning: Columns (31) have mixed types. Specify dtype option on import or set low_memory=False.\n",
      "  interactivity=interactivity, compiler=compiler, result=result)\n"
     ]
    }
   ],
   "source": [
    "df_collision = pd.read_csv('../../project_data/Collisions.csv')"
   ]
  },
  {
   "cell_type": "markdown",
   "metadata": {},
   "source": [
    "###### To-Do: \n",
    "1. drop \"speeding\" variable\n",
    "2. drop rows where \"X\" or \"Y\" is null, impute (X, Y) value by \"location\" value for 791 rows with Google's GeoCoding API?\n",
    "3. impute \"weather\" value with other data sources?"
   ]
  },
  {
   "cell_type": "markdown",
   "metadata": {},
   "source": [
    "### Feature Engineering on Incident Time Value"
   ]
  },
  {
   "cell_type": "markdown",
   "metadata": {},
   "source": [
    "#### convert incident time field from string to datetime"
   ]
  },
  {
   "cell_type": "code",
   "execution_count": 31,
   "metadata": {
    "collapsed": true
   },
   "outputs": [],
   "source": [
    "df_collision['time'] = pd.DatetimeIndex(df_collision['incdttm'])\n",
    "\n",
    "df_collision['year'] = df_collision['time'].dt.year\n",
    "\n",
    "df_collision['month'] = df_collision['time'].dt.month\n",
    "\n",
    "df_collision['day'] = df_collision['time'].dt.day\n",
    "\n",
    "df_collision['hour'] = df_collision['time'].dt.hour"
   ]
  },
  {
   "cell_type": "code",
   "execution_count": 34,
   "metadata": {
    "collapsed": true
   },
   "outputs": [
    {
     "data": {
      "text/plain": [
       "0   2016-11-04 09:55:00\n",
       "Name: time, dtype: datetime64[ns]"
      ]
     },
     "execution_count": 34,
     "metadata": {},
     "output_type": "execute_result"
    }
   ],
   "source": [
    "df_collision.head(1).time"
   ]
  },
  {
   "cell_type": "markdown",
   "metadata": {},
   "source": [
    "#### Function to round incdttm field to its nearest hour value\n",
    "\n",
    "source: https://stackoverflow.com/questions/48107644/rounding-datetime-to-the-nearest-hour?rq=1"
   ]
  },
  {
   "cell_type": "code",
   "execution_count": 24,
   "metadata": {
    "collapsed": true
   },
   "outputs": [],
   "source": [
    "def round_to_hour(dt):\n",
    "    dt_start_of_hour = dt.replace(minute=0, second=0, microsecond=0)\n",
    "    dt_half_hour = dt.replace(minute=30, second=0, microsecond=0)\n",
    "\n",
    "    if dt >= dt_half_hour:\n",
    "        # round up\n",
    "        dt = dt_start_of_hour + datetime.timedelta(hours=1)\n",
    "    else:\n",
    "        # round down\n",
    "        dt = dt_start_of_hour\n",
    "\n",
    "    return dt"
   ]
  },
  {
   "cell_type": "code",
   "execution_count": 271,
   "metadata": {
    "collapsed": true
   },
   "outputs": [],
   "source": [
    "df_collision['nearest_hour'] = df_collision['time'].apply(round_to_hour)"
   ]
  },
  {
   "cell_type": "markdown",
   "metadata": {},
   "source": [
    "#### Convert seattle time to epoch time"
   ]
  },
  {
   "cell_type": "code",
   "execution_count": 28,
   "metadata": {
    "collapsed": true
   },
   "outputs": [],
   "source": [
    "from pytz import timezone"
   ]
  },
  {
   "cell_type": "code",
   "execution_count": 26,
   "metadata": {
    "collapsed": true
   },
   "outputs": [],
   "source": [
    "seattle_timezone = timezone('US/Pacific')"
   ]
  },
  {
   "cell_type": "code",
   "execution_count": 22,
   "metadata": {
    "collapsed": true
   },
   "outputs": [],
   "source": [
    "def convert_pacific_time_to_epoch(dt):\n",
    "    return int(seattle_timezone.localize(dt).timestamp())"
   ]
  },
  {
   "cell_type": "code",
   "execution_count": 23,
   "metadata": {
    "collapsed": true
   },
   "outputs": [],
   "source": [
    "df_collision['epoch'] = df_collision['hour'].apply(convert_pacific_time_to_epoch)"
   ]
  },
  {
   "cell_type": "code",
   "execution_count": 27,
   "metadata": {
    "collapsed": true
   },
   "outputs": [
    {
     "ename": "AttributeError",
     "evalue": "'int' object has no attribute 'tzinfo'",
     "output_type": "error",
     "traceback": [
      "\u001b[0;31m---------------------------------------------------------------------------\u001b[0m",
      "\u001b[0;31mAttributeError\u001b[0m                            Traceback (most recent call last)",
      "\u001b[0;32m<ipython-input-27-e2b3dee96346>\u001b[0m in \u001b[0;36m<module>\u001b[0;34m()\u001b[0m\n\u001b[0;32m----> 1\u001b[0;31m \u001b[0mdf_collision\u001b[0m\u001b[0;34m[\u001b[0m\u001b[0;34m'epoch'\u001b[0m\u001b[0;34m]\u001b[0m \u001b[0;34m=\u001b[0m \u001b[0mdf_collision\u001b[0m\u001b[0;34m[\u001b[0m\u001b[0;34m'hour'\u001b[0m\u001b[0;34m]\u001b[0m\u001b[0;34m.\u001b[0m\u001b[0mapply\u001b[0m\u001b[0;34m(\u001b[0m\u001b[0;32mlambda\u001b[0m \u001b[0mt\u001b[0m\u001b[0;34m:\u001b[0m \u001b[0mint\u001b[0m\u001b[0;34m(\u001b[0m\u001b[0mseattle_timezone\u001b[0m\u001b[0;34m.\u001b[0m\u001b[0mlocalize\u001b[0m\u001b[0;34m(\u001b[0m\u001b[0mt\u001b[0m\u001b[0;34m)\u001b[0m\u001b[0;34m.\u001b[0m\u001b[0mtimestamp\u001b[0m\u001b[0;34m(\u001b[0m\u001b[0;34m)\u001b[0m\u001b[0;34m)\u001b[0m\u001b[0;34m)\u001b[0m\u001b[0;34m\u001b[0m\u001b[0m\n\u001b[0m",
      "\u001b[0;32m~/anaconda3/lib/python3.6/site-packages/pandas/core/series.py\u001b[0m in \u001b[0;36mapply\u001b[0;34m(self, func, convert_dtype, args, **kwds)\u001b[0m\n\u001b[1;32m   2353\u001b[0m             \u001b[0;32melse\u001b[0m\u001b[0;34m:\u001b[0m\u001b[0;34m\u001b[0m\u001b[0m\n\u001b[1;32m   2354\u001b[0m                 \u001b[0mvalues\u001b[0m \u001b[0;34m=\u001b[0m \u001b[0mself\u001b[0m\u001b[0;34m.\u001b[0m\u001b[0masobject\u001b[0m\u001b[0;34m\u001b[0m\u001b[0m\n\u001b[0;32m-> 2355\u001b[0;31m                 \u001b[0mmapped\u001b[0m \u001b[0;34m=\u001b[0m \u001b[0mlib\u001b[0m\u001b[0;34m.\u001b[0m\u001b[0mmap_infer\u001b[0m\u001b[0;34m(\u001b[0m\u001b[0mvalues\u001b[0m\u001b[0;34m,\u001b[0m \u001b[0mf\u001b[0m\u001b[0;34m,\u001b[0m \u001b[0mconvert\u001b[0m\u001b[0;34m=\u001b[0m\u001b[0mconvert_dtype\u001b[0m\u001b[0;34m)\u001b[0m\u001b[0;34m\u001b[0m\u001b[0m\n\u001b[0m\u001b[1;32m   2356\u001b[0m \u001b[0;34m\u001b[0m\u001b[0m\n\u001b[1;32m   2357\u001b[0m         \u001b[0;32mif\u001b[0m \u001b[0mlen\u001b[0m\u001b[0;34m(\u001b[0m\u001b[0mmapped\u001b[0m\u001b[0;34m)\u001b[0m \u001b[0;32mand\u001b[0m \u001b[0misinstance\u001b[0m\u001b[0;34m(\u001b[0m\u001b[0mmapped\u001b[0m\u001b[0;34m[\u001b[0m\u001b[0;36m0\u001b[0m\u001b[0;34m]\u001b[0m\u001b[0;34m,\u001b[0m \u001b[0mSeries\u001b[0m\u001b[0;34m)\u001b[0m\u001b[0;34m:\u001b[0m\u001b[0;34m\u001b[0m\u001b[0m\n",
      "\u001b[0;32mpandas/_libs/src/inference.pyx\u001b[0m in \u001b[0;36mpandas._libs.lib.map_infer\u001b[0;34m()\u001b[0m\n",
      "\u001b[0;32m<ipython-input-27-e2b3dee96346>\u001b[0m in \u001b[0;36m<lambda>\u001b[0;34m(t)\u001b[0m\n\u001b[0;32m----> 1\u001b[0;31m \u001b[0mdf_collision\u001b[0m\u001b[0;34m[\u001b[0m\u001b[0;34m'epoch'\u001b[0m\u001b[0;34m]\u001b[0m \u001b[0;34m=\u001b[0m \u001b[0mdf_collision\u001b[0m\u001b[0;34m[\u001b[0m\u001b[0;34m'hour'\u001b[0m\u001b[0;34m]\u001b[0m\u001b[0;34m.\u001b[0m\u001b[0mapply\u001b[0m\u001b[0;34m(\u001b[0m\u001b[0;32mlambda\u001b[0m \u001b[0mt\u001b[0m\u001b[0;34m:\u001b[0m \u001b[0mint\u001b[0m\u001b[0;34m(\u001b[0m\u001b[0mseattle_timezone\u001b[0m\u001b[0;34m.\u001b[0m\u001b[0mlocalize\u001b[0m\u001b[0;34m(\u001b[0m\u001b[0mt\u001b[0m\u001b[0;34m)\u001b[0m\u001b[0;34m.\u001b[0m\u001b[0mtimestamp\u001b[0m\u001b[0;34m(\u001b[0m\u001b[0;34m)\u001b[0m\u001b[0;34m)\u001b[0m\u001b[0;34m)\u001b[0m\u001b[0;34m\u001b[0m\u001b[0m\n\u001b[0m",
      "\u001b[0;32m~/anaconda3/lib/python3.6/site-packages/pytz/tzinfo.py\u001b[0m in \u001b[0;36mlocalize\u001b[0;34m(self, dt, is_dst)\u001b[0m\n\u001b[1;32m    301\u001b[0m         \u001b[0mNon\u001b[0m\u001b[0;34m-\u001b[0m\u001b[0mexistent\u001b[0m\u001b[0;34m\u001b[0m\u001b[0m\n\u001b[1;32m    302\u001b[0m         '''\n\u001b[0;32m--> 303\u001b[0;31m         \u001b[0;32mif\u001b[0m \u001b[0mdt\u001b[0m\u001b[0;34m.\u001b[0m\u001b[0mtzinfo\u001b[0m \u001b[0;32mis\u001b[0m \u001b[0;32mnot\u001b[0m \u001b[0;32mNone\u001b[0m\u001b[0;34m:\u001b[0m\u001b[0;34m\u001b[0m\u001b[0m\n\u001b[0m\u001b[1;32m    304\u001b[0m             \u001b[0;32mraise\u001b[0m \u001b[0mValueError\u001b[0m\u001b[0;34m(\u001b[0m\u001b[0;34m'Not naive datetime (tzinfo is already set)'\u001b[0m\u001b[0;34m)\u001b[0m\u001b[0;34m\u001b[0m\u001b[0m\n\u001b[1;32m    305\u001b[0m \u001b[0;34m\u001b[0m\u001b[0m\n",
      "\u001b[0;31mAttributeError\u001b[0m: 'int' object has no attribute 'tzinfo'"
     ]
    }
   ],
   "source": [
    "df_collision['epoch'] = df_collision['hour'].apply(lambda t: int(seattle_timezone.localize(t).timestamp()))"
   ]
  },
  {
   "cell_type": "code",
   "execution_count": 30,
   "metadata": {
    "collapsed": true
   },
   "outputs": [
    {
     "data": {
      "text/plain": [
       "0          9\n",
       "1         10\n",
       "2         12\n",
       "3         16\n",
       "4          6\n",
       "5          8\n",
       "6         23\n",
       "7          1\n",
       "8         16\n",
       "9         21\n",
       "10        22\n",
       "11        23\n",
       "12         9\n",
       "13        13\n",
       "14         2\n",
       "15        12\n",
       "16         0\n",
       "17         1\n",
       "18        11\n",
       "19        18\n",
       "20        23\n",
       "21        17\n",
       "22        11\n",
       "23        17\n",
       "24        19\n",
       "25        15\n",
       "26         9\n",
       "27         7\n",
       "28        16\n",
       "29        16\n",
       "          ..\n",
       "196086     0\n",
       "196087     0\n",
       "196088     0\n",
       "196089     0\n",
       "196090     0\n",
       "196091     0\n",
       "196092     0\n",
       "196093     0\n",
       "196094     0\n",
       "196095     0\n",
       "196096     0\n",
       "196097     0\n",
       "196098     0\n",
       "196099     0\n",
       "196100     0\n",
       "196101     0\n",
       "196102     0\n",
       "196103     0\n",
       "196104     0\n",
       "196105     0\n",
       "196106     0\n",
       "196107     0\n",
       "196108     0\n",
       "196109     0\n",
       "196110     0\n",
       "196111     0\n",
       "196112     0\n",
       "196113     0\n",
       "196114     0\n",
       "196115     0\n",
       "Name: hour, Length: 196116, dtype: int64"
      ]
     },
     "execution_count": 30,
     "metadata": {},
     "output_type": "execute_result"
    }
   ],
   "source": [
    "df_collision.hour"
   ]
  },
  {
   "cell_type": "markdown",
   "metadata": {},
   "source": [
    "### Retrieve Hourly Weather data with DarkSky API"
   ]
  },
  {
   "cell_type": "markdown",
   "metadata": {},
   "source": [
    "#### Focus on accident occured after 2014/1/1"
   ]
  },
  {
   "cell_type": "code",
   "execution_count": 19,
   "metadata": {
    "collapsed": true
   },
   "outputs": [
    {
     "data": {
      "text/plain": [
       "False    191019\n",
       "True       5097\n",
       "Name: X, dtype: int64"
      ]
     },
     "execution_count": 19,
     "metadata": {},
     "output_type": "execute_result"
    }
   ],
   "source": [
    "pd.isnull(df_collision.X).value_counts()"
   ]
  },
  {
   "cell_type": "code",
   "execution_count": 20,
   "metadata": {
    "collapsed": true
   },
   "outputs": [],
   "source": [
    "mask = (-pd.isnull(df_collision.X)) & (-pd.isnull(df_collision.Y))"
   ]
  },
  {
   "cell_type": "code",
   "execution_count": 82,
   "metadata": {
    "collapsed": true
   },
   "outputs": [],
   "source": [
    "mask = (-df_collision.X.isna()) & (-df_collision.Y.isna())\n",
    "\n",
    "unique_location_hour = df_collision.loc[mask, ['X', 'Y', 'epoch']].drop_duplicates()"
   ]
  },
  {
   "cell_type": "code",
   "execution_count": 238,
   "metadata": {
    "collapsed": true
   },
   "outputs": [],
   "source": [
    "start_date_epoch = int(datetime.datetime(2014,1,1,0,0).timestamp())\n",
    "\n",
    "unique_location_hour_recent = unique_location_hour[unique_location_hour['epoch'] > start_date_epoch]"
   ]
  },
  {
   "cell_type": "code",
   "execution_count": 88,
   "metadata": {
    "collapsed": true
   },
   "outputs": [],
   "source": [
    "COLUMNS = ['Latitude', 'Longitude', 'EpochTime', 'Summary', 'DegreesFahrenheit', 'Humidity', 'Visibility',\n",
    "           'WindBearing', 'WindGust', 'WindSpeed', \"PrecipitationIntensity\", \"PrecipitationType\"]\n",
    "\n",
    "def get_weather_json_darksky(latitude, longitude, epoch_time):\n",
    "    \"\"\" Calls the DarkSky API with the given latitude, longitude and epoch time to retrieve historical weather data.\n",
    "    :param latitude: Float value representing latitude\n",
    "    :param longitude: Float value representing longitude\n",
    "    :param epoch_time: Numeric value representing\n",
    "    :return: A darksky.forecast.Forecast object\n",
    "    \"\"\"\n",
    "    response = forecast(API_KEY, latitude, longitude, int(epoch_time))\n",
    "    return response\n",
    "\n",
    "def get_weather_series_from_response(latitude, longitude, epoch_time, response):\n",
    "    \"\"\" \"\"\"\n",
    "    response_keys = response._data.keys()\n",
    "\n",
    "    row_data = [\n",
    "                latitude,\n",
    "                longitude,\n",
    "                epoch_time,\n",
    "                response['summary'] if 'summary' in response_keys else None,\n",
    "                response['temperature'] if 'temperature' in response_keys else None,\n",
    "                response['humidity'] if 'humidity' in response_keys else None,\n",
    "                response['visibility'] if 'visibility' in response_keys else None,\n",
    "                response['windBearing'] if 'windBearing' in response_keys else None,\n",
    "                response['windGust'] if 'windGust' in response_keys else None,\n",
    "                response['windSpeed'] if 'windSpeed' in response_keys else None,\n",
    "                response['precipIntensity'] if 'precipIntensity' in response_keys else None,\n",
    "                response['precipType'] if 'precipType' in response_keys else None\n",
    "    ]\n",
    "    row = pd.Series(row_data, index = COLUMNS)\n",
    "    return row"
   ]
  },
  {
   "cell_type": "code",
   "execution_count": 217,
   "metadata": {
    "collapsed": true
   },
   "outputs": [],
   "source": [
    "df_weather_darksky = pd.DataFrame(columns = COLUMNS)\n",
    "\n",
    "# for i in range(unique_location_hour.shape[0]):\n",
    "    \n",
    "for i in range(0, unique_location_hour_recent.shape[0]):\n",
    "    response = get_weather_json_darksky(\n",
    "                    unique_location_hour_recent.iloc[i,:].Y\n",
    "                    , unique_location_hour_recent.iloc[i,:].X\n",
    "                    , int(unique_location_hour_recent.iloc[i,:].epoch)\n",
    "                    ).currently\n",
    "    series = get_weather_series_from_response(\n",
    "                    unique_location_hour_recent.iloc[i,:].Y\n",
    "                    , unique_location_hour_recent.iloc[i,:].X\n",
    "                    , int(unique_location_hour_recent.iloc[i,:].epoch)    \n",
    "                    , response\n",
    "                    )\n",
    "    df_weather_darksky = df_weather_darksky.append(series, ignore_index=True)"
   ]
  },
  {
   "cell_type": "code",
   "execution_count": null,
   "metadata": {
    "collapsed": true
   },
   "outputs": [],
   "source": []
  },
  {
   "cell_type": "markdown",
   "metadata": {},
   "source": [
    "### Save the resulting dataframes to csv files"
   ]
  },
  {
   "cell_type": "markdown",
   "metadata": {},
   "source": [
    "#### join collision data with darksky weather data"
   ]
  },
  {
   "cell_type": "code",
   "execution_count": 344,
   "metadata": {
    "collapsed": true
   },
   "outputs": [
    {
     "data": {
      "text/html": [
       "<div>\n",
       "<style scoped>\n",
       "    .dataframe tbody tr th:only-of-type {\n",
       "        vertical-align: middle;\n",
       "    }\n",
       "\n",
       "    .dataframe tbody tr th {\n",
       "        vertical-align: top;\n",
       "    }\n",
       "\n",
       "    .dataframe thead th {\n",
       "        text-align: right;\n",
       "    }\n",
       "</style>\n",
       "<table border=\"1\" class=\"dataframe\">\n",
       "  <thead>\n",
       "    <tr style=\"text-align: right;\">\n",
       "      <th></th>\n",
       "      <th>X</th>\n",
       "      <th>Y</th>\n",
       "      <th>addrtype</th>\n",
       "      <th>collisiontype</th>\n",
       "      <th>fatalities</th>\n",
       "      <th>injuries</th>\n",
       "      <th>lightcond</th>\n",
       "      <th>roadcond</th>\n",
       "      <th>junctiontype</th>\n",
       "      <th>location</th>\n",
       "      <th>...</th>\n",
       "      <th>sdot_coldesc</th>\n",
       "      <th>severitydesc</th>\n",
       "      <th>speeding</th>\n",
       "      <th>weather</th>\n",
       "      <th>time</th>\n",
       "      <th>epoch</th>\n",
       "      <th>year</th>\n",
       "      <th>month</th>\n",
       "      <th>day</th>\n",
       "      <th>hour</th>\n",
       "    </tr>\n",
       "  </thead>\n",
       "  <tbody>\n",
       "    <tr>\n",
       "      <th>0</th>\n",
       "      <td>-122.342323</td>\n",
       "      <td>47.627572</td>\n",
       "      <td>Block</td>\n",
       "      <td>Head On</td>\n",
       "      <td>0</td>\n",
       "      <td>0</td>\n",
       "      <td>Daylight</td>\n",
       "      <td>Dry</td>\n",
       "      <td>Mid-Block (not related to intersection)</td>\n",
       "      <td>DEXTER AVE N BETWEEN ALOHA ST AND WARD ST</td>\n",
       "      <td>...</td>\n",
       "      <td>MOTOR VEHICLE STRUCK MOTOR VEHICLE, FRONT END ...</td>\n",
       "      <td>Property Damage Only Collision</td>\n",
       "      <td>NaN</td>\n",
       "      <td>Clear or Partly Cloudy</td>\n",
       "      <td>2016-11-04 09:55:00</td>\n",
       "      <td>1478278800</td>\n",
       "      <td>2016</td>\n",
       "      <td>11</td>\n",
       "      <td>4</td>\n",
       "      <td>9</td>\n",
       "    </tr>\n",
       "  </tbody>\n",
       "</table>\n",
       "<p>1 rows × 23 columns</p>\n",
       "</div>"
      ],
      "text/plain": [
       "            X          Y addrtype collisiontype  fatalities  injuries  \\\n",
       "0 -122.342323  47.627572    Block       Head On           0         0   \n",
       "\n",
       "  lightcond roadcond                             junctiontype  \\\n",
       "0  Daylight      Dry  Mid-Block (not related to intersection)   \n",
       "\n",
       "                                    location  ...   \\\n",
       "0  DEXTER AVE N BETWEEN ALOHA ST AND WARD ST  ...    \n",
       "\n",
       "                                        sdot_coldesc  \\\n",
       "0  MOTOR VEHICLE STRUCK MOTOR VEHICLE, FRONT END ...   \n",
       "\n",
       "                     severitydesc  speeding                 weather  \\\n",
       "0  Property Damage Only Collision       NaN  Clear or Partly Cloudy   \n",
       "\n",
       "                 time       epoch  year month  day  hour  \n",
       "0 2016-11-04 09:55:00  1478278800  2016    11    4     9  \n",
       "\n",
       "[1 rows x 23 columns]"
      ]
     },
     "execution_count": 344,
     "metadata": {},
     "output_type": "execute_result"
    }
   ],
   "source": [
    "columns = ['X', 'Y', 'addrtype', 'collisiontype', 'fatalities', 'injuries'\n",
    "           , 'lightcond', 'roadcond', 'junctiontype', 'location'\n",
    "           , 'pedcount', 'pedcylcount', 'personcount', 'sdot_coldesc', 'severitydesc'\n",
    "           , 'speeding', 'weather', 'time', 'epoch', 'year', 'month', 'day', 'hour']\n",
    "\n",
    "df_collision.loc[:, columns].head(1)"
   ]
  },
  {
   "cell_type": "code",
   "execution_count": 345,
   "metadata": {
    "collapsed": true
   },
   "outputs": [],
   "source": [
    "collision_weather_darksky = pd.merge(df_collision.loc[:, columns], df_weather_darksky, how='left', left_on = ['Y', 'X', 'epoch'], right_on = ['Latitude', 'Longitude', 'EpochTime'])"
   ]
  },
  {
   "cell_type": "code",
   "execution_count": 346,
   "metadata": {
    "collapsed": true,
    "scrolled": true
   },
   "outputs": [],
   "source": [
    "collision_weather_darksky.to_csv('../data/Collisions_weather_darksky_fei.csv')"
   ]
  },
  {
   "cell_type": "markdown",
   "metadata": {},
   "source": [
    "#### join collision data with iem weather data"
   ]
  },
  {
   "cell_type": "code",
   "execution_count": 251,
   "metadata": {
    "collapsed": true
   },
   "outputs": [],
   "source": [
    "df_weather_iem_hour = pd.read_csv('../../project_datasets/weather_iem_hour.csv')\n",
    "df_weather_iem_day = pd.read_csv('../../project_datasets/weather_iem_day.csv')"
   ]
  },
  {
   "cell_type": "code",
   "execution_count": 258,
   "metadata": {
    "collapsed": true
   },
   "outputs": [],
   "source": [
    "df_weather_iem_hour.drop([\"Unnamed: 0\"], axis=1, inplace = True)\n",
    "df_weather_iem_hour.columns = ['year', 'month', 'day', 'hour', 'temp_hourly', 'precipitation_hourly', 'wind_speed_hourly']"
   ]
  },
  {
   "cell_type": "code",
   "execution_count": 356,
   "metadata": {
    "collapsed": true
   },
   "outputs": [],
   "source": [
    "df_weather_iem_day.drop([\"Unnamed: 0\", \"CountOfObs\"], axis=1, inplace = True)\n",
    "df_weather_iem_day.columns = ['year', 'month', 'day', 'temp_mean_daily', 'temp_high_daily', 'temp_low_daily', 'precipitation_daily', 'wind_speed_daily']"
   ]
  },
  {
   "cell_type": "code",
   "execution_count": 368,
   "metadata": {
    "collapsed": true
   },
   "outputs": [],
   "source": [
    "collision_weather_iem_hour = pd.merge(df_collision.loc[:, columns], df_weather_iem_hour, how='left', left_on = ['year', 'month', 'day', 'hour'], right_on = ['year', 'month', 'day', 'hour'])\n",
    "collision_weather_iem_hour.to_csv('../data/Collisions_weather_iem_hour_fei.csv')"
   ]
  },
  {
   "cell_type": "code",
   "execution_count": 369,
   "metadata": {
    "collapsed": true
   },
   "outputs": [],
   "source": [
    "collision_weather_iem_day = pd.merge(df_collision.loc[:, columns], df_weather_iem_day, how='left', left_on = ['year', 'month', 'day'], right_on = ['year', 'month', 'day'])\n",
    "collision_weather_iem_day.to_csv('../data/Collisions_weather_iem_day_fei.csv')"
   ]
  }
 ],
 "metadata": {
  "kernelspec": {
   "display_name": "Python 3",
   "language": "python",
   "name": "python3"
  },
  "language_info": {
   "codemirror_mode": {
    "name": "ipython",
    "version": 3
   },
   "file_extension": ".py",
   "mimetype": "text/x-python",
   "name": "python",
   "nbconvert_exporter": "python",
   "pygments_lexer": "ipython3",
   "version": "3.6.3"
  }
 },
 "nbformat": 4,
 "nbformat_minor": 2
}
