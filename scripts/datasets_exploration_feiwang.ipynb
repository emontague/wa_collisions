{
 "cells": [
  {
   "cell_type": "markdown",
   "metadata": {},
   "source": [
    "### Import Packages"
   ]
  },
  {
   "cell_type": "code",
   "execution_count": 17,
   "metadata": {
    "collapsed": true
   },
   "outputs": [],
   "source": [
    "import pandas as pd\n",
    "import matplotlib.pyplot as plt\n",
    "%matplotlib inline"
   ]
  },
  {
   "cell_type": "code",
   "execution_count": null,
   "metadata": {
    "collapsed": true
   },
   "outputs": [],
   "source": []
  },
  {
   "cell_type": "markdown",
   "metadata": {},
   "source": [
    "### Seattle Collision Data"
   ]
  },
  {
   "cell_type": "markdown",
   "metadata": {},
   "source": [
    "https://data-seattlecitygis.opendata.arcgis.com/datasets/collisions/data?geometry=-122.526%2C47.676%2C-122.198%2C47.717&page=4"
   ]
  },
  {
   "cell_type": "markdown",
   "metadata": {},
   "source": [
    "01/01/2014 - 03/29/2018\n",
    "\n",
    "data with weather info available 01/01/2014 - 01/30/2018\n",
    "\n",
    "(lat, lon) values have 6 decimal places (precision at individual human level)"
   ]
  },
  {
   "cell_type": "code",
   "execution_count": 57,
   "metadata": {
    "collapsed": true
   },
   "outputs": [
    {
     "name": "stderr",
     "output_type": "stream",
     "text": [
      "/home/fei/anaconda3/lib/python3.6/site-packages/IPython/core/interactiveshell.py:2728: DtypeWarning: Columns (31) have mixed types. Specify dtype option on import or set low_memory=False.\n",
      "  interactivity=interactivity, compiler=compiler, result=result)\n"
     ]
    }
   ],
   "source": [
    "df_collision_orig = pd.read_csv('Collisions.csv')"
   ]
  },
  {
   "cell_type": "code",
   "execution_count": 129,
   "metadata": {
    "collapsed": true
   },
   "outputs": [
    {
     "data": {
      "text/html": [
       "<div>\n",
       "<style scoped>\n",
       "    .dataframe tbody tr th:only-of-type {\n",
       "        vertical-align: middle;\n",
       "    }\n",
       "\n",
       "    .dataframe tbody tr th {\n",
       "        vertical-align: top;\n",
       "    }\n",
       "\n",
       "    .dataframe thead th {\n",
       "        text-align: right;\n",
       "    }\n",
       "</style>\n",
       "<table border=\"1\" class=\"dataframe\">\n",
       "  <thead>\n",
       "    <tr style=\"text-align: right;\">\n",
       "      <th></th>\n",
       "      <th>0</th>\n",
       "    </tr>\n",
       "  </thead>\n",
       "  <tbody>\n",
       "    <tr>\n",
       "      <th>X</th>\n",
       "      <td>-122.342</td>\n",
       "    </tr>\n",
       "    <tr>\n",
       "      <th>Y</th>\n",
       "      <td>47.6276</td>\n",
       "    </tr>\n",
       "    <tr>\n",
       "      <th>objectid</th>\n",
       "      <td>162244138</td>\n",
       "    </tr>\n",
       "    <tr>\n",
       "      <th>inckey</th>\n",
       "      <td>233006</td>\n",
       "    </tr>\n",
       "    <tr>\n",
       "      <th>coldetkey</th>\n",
       "      <td>233406</td>\n",
       "    </tr>\n",
       "    <tr>\n",
       "      <th>addrtype</th>\n",
       "      <td>Block</td>\n",
       "    </tr>\n",
       "    <tr>\n",
       "      <th>collisiontype</th>\n",
       "      <td>Head On</td>\n",
       "    </tr>\n",
       "    <tr>\n",
       "      <th>exceptrsncode</th>\n",
       "      <td></td>\n",
       "    </tr>\n",
       "    <tr>\n",
       "      <th>exceptrsndesc</th>\n",
       "      <td>NaN</td>\n",
       "    </tr>\n",
       "    <tr>\n",
       "      <th>fatalities</th>\n",
       "      <td>0</td>\n",
       "    </tr>\n",
       "    <tr>\n",
       "      <th>inattentionind</th>\n",
       "      <td>NaN</td>\n",
       "    </tr>\n",
       "    <tr>\n",
       "      <th>incdate</th>\n",
       "      <td>2016-11-04T00:00:00.000Z</td>\n",
       "    </tr>\n",
       "    <tr>\n",
       "      <th>incdttm</th>\n",
       "      <td>11/4/2016 9:55:00 AM</td>\n",
       "    </tr>\n",
       "    <tr>\n",
       "      <th>injuries</th>\n",
       "      <td>0</td>\n",
       "    </tr>\n",
       "    <tr>\n",
       "      <th>intkey</th>\n",
       "      <td>NaN</td>\n",
       "    </tr>\n",
       "    <tr>\n",
       "      <th>junctiontype</th>\n",
       "      <td>Mid-Block (not related to intersection)</td>\n",
       "    </tr>\n",
       "    <tr>\n",
       "      <th>lightcond</th>\n",
       "      <td>Daylight</td>\n",
       "    </tr>\n",
       "    <tr>\n",
       "      <th>location</th>\n",
       "      <td>DEXTER AVE N BETWEEN ALOHA ST AND WARD ST</td>\n",
       "    </tr>\n",
       "    <tr>\n",
       "      <th>pedcount</th>\n",
       "      <td>0</td>\n",
       "    </tr>\n",
       "    <tr>\n",
       "      <th>pedcylcount</th>\n",
       "      <td>0</td>\n",
       "    </tr>\n",
       "    <tr>\n",
       "      <th>pedrownotgrnt</th>\n",
       "      <td>NaN</td>\n",
       "    </tr>\n",
       "    <tr>\n",
       "      <th>personcount</th>\n",
       "      <td>2</td>\n",
       "    </tr>\n",
       "    <tr>\n",
       "      <th>reportno</th>\n",
       "      <td>E605707</td>\n",
       "    </tr>\n",
       "    <tr>\n",
       "      <th>roadcond</th>\n",
       "      <td>Dry</td>\n",
       "    </tr>\n",
       "    <tr>\n",
       "      <th>sdot_colcode</th>\n",
       "      <td>11</td>\n",
       "    </tr>\n",
       "    <tr>\n",
       "      <th>sdot_coldesc</th>\n",
       "      <td>MOTOR VEHICLE STRUCK MOTOR VEHICLE, FRONT END ...</td>\n",
       "    </tr>\n",
       "    <tr>\n",
       "      <th>sdotcolnum</th>\n",
       "      <td>NaN</td>\n",
       "    </tr>\n",
       "    <tr>\n",
       "      <th>seriousinjuries</th>\n",
       "      <td>0</td>\n",
       "    </tr>\n",
       "    <tr>\n",
       "      <th>severitycode</th>\n",
       "      <td>1</td>\n",
       "    </tr>\n",
       "    <tr>\n",
       "      <th>severitydesc</th>\n",
       "      <td>Property Damage Only Collision</td>\n",
       "    </tr>\n",
       "    <tr>\n",
       "      <th>speeding</th>\n",
       "      <td>NaN</td>\n",
       "    </tr>\n",
       "    <tr>\n",
       "      <th>st_colcode</th>\n",
       "      <td>30</td>\n",
       "    </tr>\n",
       "    <tr>\n",
       "      <th>st_coldesc</th>\n",
       "      <td>From Opposite Direction - All Others</td>\n",
       "    </tr>\n",
       "    <tr>\n",
       "      <th>status</th>\n",
       "      <td>Matched</td>\n",
       "    </tr>\n",
       "    <tr>\n",
       "      <th>underinfl</th>\n",
       "      <td>N</td>\n",
       "    </tr>\n",
       "    <tr>\n",
       "      <th>vehcount</th>\n",
       "      <td>2</td>\n",
       "    </tr>\n",
       "    <tr>\n",
       "      <th>weather</th>\n",
       "      <td>Clear or Partly Cloudy</td>\n",
       "    </tr>\n",
       "    <tr>\n",
       "      <th>seglanekey</th>\n",
       "      <td>0</td>\n",
       "    </tr>\n",
       "    <tr>\n",
       "      <th>crosswalkkey</th>\n",
       "      <td>0</td>\n",
       "    </tr>\n",
       "    <tr>\n",
       "      <th>hitparkedcar</th>\n",
       "      <td>N</td>\n",
       "    </tr>\n",
       "  </tbody>\n",
       "</table>\n",
       "</div>"
      ],
      "text/plain": [
       "                                                                 0\n",
       "X                                                         -122.342\n",
       "Y                                                          47.6276\n",
       "objectid                                                 162244138\n",
       "inckey                                                      233006\n",
       "coldetkey                                                   233406\n",
       "addrtype                                                     Block\n",
       "collisiontype                                              Head On\n",
       "exceptrsncode                                                     \n",
       "exceptrsndesc                                                  NaN\n",
       "fatalities                                                       0\n",
       "inattentionind                                                 NaN\n",
       "incdate                                   2016-11-04T00:00:00.000Z\n",
       "incdttm                                       11/4/2016 9:55:00 AM\n",
       "injuries                                                         0\n",
       "intkey                                                         NaN\n",
       "junctiontype               Mid-Block (not related to intersection)\n",
       "lightcond                                                 Daylight\n",
       "location                 DEXTER AVE N BETWEEN ALOHA ST AND WARD ST\n",
       "pedcount                                                         0\n",
       "pedcylcount                                                      0\n",
       "pedrownotgrnt                                                  NaN\n",
       "personcount                                                      2\n",
       "reportno                                                   E605707\n",
       "roadcond                                                       Dry\n",
       "sdot_colcode                                                    11\n",
       "sdot_coldesc     MOTOR VEHICLE STRUCK MOTOR VEHICLE, FRONT END ...\n",
       "sdotcolnum                                                     NaN\n",
       "seriousinjuries                                                  0\n",
       "severitycode                                                     1\n",
       "severitydesc                        Property Damage Only Collision\n",
       "speeding                                                       NaN\n",
       "st_colcode                                                      30\n",
       "st_coldesc                    From Opposite Direction - All Others\n",
       "status                                                     Matched\n",
       "underinfl                                                        N\n",
       "vehcount                                                         2\n",
       "weather                                     Clear or Partly Cloudy\n",
       "seglanekey                                                       0\n",
       "crosswalkkey                                                     0\n",
       "hitparkedcar                                                     N"
      ]
     },
     "execution_count": 129,
     "metadata": {},
     "output_type": "execute_result"
    }
   ],
   "source": [
    "df_collision_orig.head(1).T"
   ]
  },
  {
   "cell_type": "code",
   "execution_count": 58,
   "metadata": {},
   "outputs": [
    {
     "data": {
      "text/plain": [
       "array(['X', 'Y', 'objectid', 'inckey', 'coldetkey', 'addrtype',\n",
       "       'collisiontype', 'exceptrsncode', 'exceptrsndesc', 'fatalities',\n",
       "       'inattentionind', 'incdate', 'incdttm', 'injuries', 'intkey',\n",
       "       'junctiontype', 'lightcond', 'location', 'pedcount', 'pedcylcount',\n",
       "       'pedrownotgrnt', 'personcount', 'reportno', 'roadcond',\n",
       "       'sdot_colcode', 'sdot_coldesc', 'sdotcolnum', 'seriousinjuries',\n",
       "       'severitycode', 'severitydesc', 'speeding', 'st_colcode',\n",
       "       'st_coldesc', 'status', 'underinfl', 'vehcount', 'weather',\n",
       "       'seglanekey', 'crosswalkkey', 'hitparkedcar'], dtype=object)"
      ]
     },
     "execution_count": 58,
     "metadata": {},
     "output_type": "execute_result"
    }
   ],
   "source": [
    "df_collision_orig.columns.values"
   ]
  },
  {
   "cell_type": "code",
   "execution_count": 74,
   "metadata": {
    "collapsed": true
   },
   "outputs": [],
   "source": [
    "columns = ['X', 'Y', 'addrtype', 'incdate', 'incdttm', 'lightcond', 'location', 'sdot_coldesc'\n",
    "          , 'severitydesc', 'speeding', 'weather']\n",
    "\n",
    "df_collision = df_collision_orig.loc[:, columns]"
   ]
  },
  {
   "cell_type": "code",
   "execution_count": 93,
   "metadata": {},
   "outputs": [
    {
     "data": {
      "text/html": [
       "<div>\n",
       "<style scoped>\n",
       "    .dataframe tbody tr th:only-of-type {\n",
       "        vertical-align: middle;\n",
       "    }\n",
       "\n",
       "    .dataframe tbody tr th {\n",
       "        vertical-align: top;\n",
       "    }\n",
       "\n",
       "    .dataframe thead th {\n",
       "        text-align: right;\n",
       "    }\n",
       "</style>\n",
       "<table border=\"1\" class=\"dataframe\">\n",
       "  <thead>\n",
       "    <tr style=\"text-align: right;\">\n",
       "      <th></th>\n",
       "      <th>0</th>\n",
       "    </tr>\n",
       "  </thead>\n",
       "  <tbody>\n",
       "    <tr>\n",
       "      <th>X</th>\n",
       "      <td>-122.342</td>\n",
       "    </tr>\n",
       "    <tr>\n",
       "      <th>Y</th>\n",
       "      <td>47.6276</td>\n",
       "    </tr>\n",
       "    <tr>\n",
       "      <th>addrtype</th>\n",
       "      <td>Block</td>\n",
       "    </tr>\n",
       "    <tr>\n",
       "      <th>incdate</th>\n",
       "      <td>2016-11-04</td>\n",
       "    </tr>\n",
       "    <tr>\n",
       "      <th>incdttm</th>\n",
       "      <td>2016-11-04 09:55:00</td>\n",
       "    </tr>\n",
       "    <tr>\n",
       "      <th>lightcond</th>\n",
       "      <td>Daylight</td>\n",
       "    </tr>\n",
       "    <tr>\n",
       "      <th>location</th>\n",
       "      <td>DEXTER AVE N BETWEEN ALOHA ST AND WARD ST</td>\n",
       "    </tr>\n",
       "    <tr>\n",
       "      <th>sdot_coldesc</th>\n",
       "      <td>MOTOR VEHICLE STRUCK MOTOR VEHICLE, FRONT END ...</td>\n",
       "    </tr>\n",
       "    <tr>\n",
       "      <th>severitydesc</th>\n",
       "      <td>Property Damage Only Collision</td>\n",
       "    </tr>\n",
       "    <tr>\n",
       "      <th>speeding</th>\n",
       "      <td>NaN</td>\n",
       "    </tr>\n",
       "    <tr>\n",
       "      <th>weather</th>\n",
       "      <td>Clear or Partly Cloudy</td>\n",
       "    </tr>\n",
       "  </tbody>\n",
       "</table>\n",
       "</div>"
      ],
      "text/plain": [
       "                                                              0\n",
       "X                                                      -122.342\n",
       "Y                                                       47.6276\n",
       "addrtype                                                  Block\n",
       "incdate                                              2016-11-04\n",
       "incdttm                                     2016-11-04 09:55:00\n",
       "lightcond                                              Daylight\n",
       "location              DEXTER AVE N BETWEEN ALOHA ST AND WARD ST\n",
       "sdot_coldesc  MOTOR VEHICLE STRUCK MOTOR VEHICLE, FRONT END ...\n",
       "severitydesc                     Property Damage Only Collision\n",
       "speeding                                                    NaN\n",
       "weather                                  Clear or Partly Cloudy"
      ]
     },
     "execution_count": 93,
     "metadata": {},
     "output_type": "execute_result"
    }
   ],
   "source": [
    "df_collision.head(1).T"
   ]
  },
  {
   "cell_type": "code",
   "execution_count": 124,
   "metadata": {},
   "outputs": [
    {
     "data": {
      "text/html": [
       "<div>\n",
       "<style scoped>\n",
       "    .dataframe tbody tr th:only-of-type {\n",
       "        vertical-align: middle;\n",
       "    }\n",
       "\n",
       "    .dataframe tbody tr th {\n",
       "        vertical-align: top;\n",
       "    }\n",
       "\n",
       "    .dataframe thead th {\n",
       "        text-align: right;\n",
       "    }\n",
       "</style>\n",
       "<table border=\"1\" class=\"dataframe\">\n",
       "  <thead>\n",
       "    <tr style=\"text-align: right;\">\n",
       "      <th></th>\n",
       "      <th>X</th>\n",
       "      <th>Y</th>\n",
       "      <th>addrtype</th>\n",
       "      <th>incdate</th>\n",
       "      <th>incdttm</th>\n",
       "      <th>lightcond</th>\n",
       "      <th>location</th>\n",
       "      <th>sdot_coldesc</th>\n",
       "      <th>severitydesc</th>\n",
       "      <th>speeding</th>\n",
       "    </tr>\n",
       "    <tr>\n",
       "      <th>weather</th>\n",
       "      <th></th>\n",
       "      <th></th>\n",
       "      <th></th>\n",
       "      <th></th>\n",
       "      <th></th>\n",
       "      <th></th>\n",
       "      <th></th>\n",
       "      <th></th>\n",
       "      <th></th>\n",
       "      <th></th>\n",
       "    </tr>\n",
       "  </thead>\n",
       "  <tbody>\n",
       "    <tr>\n",
       "      <th>Blowing Sand or Dirt or Snow</th>\n",
       "      <td>33</td>\n",
       "      <td>33</td>\n",
       "      <td>33</td>\n",
       "      <td>38</td>\n",
       "      <td>38</td>\n",
       "      <td>37</td>\n",
       "      <td>33</td>\n",
       "      <td>38</td>\n",
       "      <td>38</td>\n",
       "      <td>2</td>\n",
       "    </tr>\n",
       "    <tr>\n",
       "      <th>Clear or Partly Cloudy</th>\n",
       "      <td>99299</td>\n",
       "      <td>99299</td>\n",
       "      <td>100094</td>\n",
       "      <td>100575</td>\n",
       "      <td>100575</td>\n",
       "      <td>100481</td>\n",
       "      <td>99711</td>\n",
       "      <td>100575</td>\n",
       "      <td>100575</td>\n",
       "      <td>3913</td>\n",
       "    </tr>\n",
       "    <tr>\n",
       "      <th>Fog/Smog/Smoke</th>\n",
       "      <td>486</td>\n",
       "      <td>486</td>\n",
       "      <td>493</td>\n",
       "      <td>498</td>\n",
       "      <td>498</td>\n",
       "      <td>498</td>\n",
       "      <td>490</td>\n",
       "      <td>498</td>\n",
       "      <td>498</td>\n",
       "      <td>44</td>\n",
       "    </tr>\n",
       "    <tr>\n",
       "      <th>Other</th>\n",
       "      <td>720</td>\n",
       "      <td>720</td>\n",
       "      <td>731</td>\n",
       "      <td>760</td>\n",
       "      <td>760</td>\n",
       "      <td>754</td>\n",
       "      <td>722</td>\n",
       "      <td>760</td>\n",
       "      <td>760</td>\n",
       "      <td>25</td>\n",
       "    </tr>\n",
       "    <tr>\n",
       "      <th>Overcast</th>\n",
       "      <td>25057</td>\n",
       "      <td>25057</td>\n",
       "      <td>25261</td>\n",
       "      <td>25389</td>\n",
       "      <td>25389</td>\n",
       "      <td>25374</td>\n",
       "      <td>25166</td>\n",
       "      <td>25389</td>\n",
       "      <td>25389</td>\n",
       "      <td>1451</td>\n",
       "    </tr>\n",
       "    <tr>\n",
       "      <th>Raining</th>\n",
       "      <td>30297</td>\n",
       "      <td>30297</td>\n",
       "      <td>30513</td>\n",
       "      <td>30646</td>\n",
       "      <td>30646</td>\n",
       "      <td>30627</td>\n",
       "      <td>30430</td>\n",
       "      <td>30646</td>\n",
       "      <td>30646</td>\n",
       "      <td>3000</td>\n",
       "    </tr>\n",
       "    <tr>\n",
       "      <th>Severe Crosswind</th>\n",
       "      <td>19</td>\n",
       "      <td>19</td>\n",
       "      <td>19</td>\n",
       "      <td>19</td>\n",
       "      <td>19</td>\n",
       "      <td>19</td>\n",
       "      <td>19</td>\n",
       "      <td>19</td>\n",
       "      <td>19</td>\n",
       "      <td>0</td>\n",
       "    </tr>\n",
       "    <tr>\n",
       "      <th>Sleet/Hail/Freezing Rain</th>\n",
       "      <td>106</td>\n",
       "      <td>106</td>\n",
       "      <td>106</td>\n",
       "      <td>107</td>\n",
       "      <td>107</td>\n",
       "      <td>107</td>\n",
       "      <td>106</td>\n",
       "      <td>107</td>\n",
       "      <td>107</td>\n",
       "      <td>23</td>\n",
       "    </tr>\n",
       "    <tr>\n",
       "      <th>Snowing</th>\n",
       "      <td>792</td>\n",
       "      <td>792</td>\n",
       "      <td>798</td>\n",
       "      <td>803</td>\n",
       "      <td>803</td>\n",
       "      <td>799</td>\n",
       "      <td>796</td>\n",
       "      <td>803</td>\n",
       "      <td>803</td>\n",
       "      <td>172</td>\n",
       "    </tr>\n",
       "    <tr>\n",
       "      <th>Unknown</th>\n",
       "      <td>13440</td>\n",
       "      <td>13440</td>\n",
       "      <td>13588</td>\n",
       "      <td>14565</td>\n",
       "      <td>14565</td>\n",
       "      <td>14522</td>\n",
       "      <td>13485</td>\n",
       "      <td>14565</td>\n",
       "      <td>14565</td>\n",
       "      <td>96</td>\n",
       "    </tr>\n",
       "  </tbody>\n",
       "</table>\n",
       "</div>"
      ],
      "text/plain": [
       "                                  X      Y  addrtype  incdate  incdttm  \\\n",
       "weather                                                                  \n",
       "Blowing Sand or Dirt or Snow     33     33        33       38       38   \n",
       "Clear or Partly Cloudy        99299  99299    100094   100575   100575   \n",
       "Fog/Smog/Smoke                  486    486       493      498      498   \n",
       "Other                           720    720       731      760      760   \n",
       "Overcast                      25057  25057     25261    25389    25389   \n",
       "Raining                       30297  30297     30513    30646    30646   \n",
       "Severe Crosswind                 19     19        19       19       19   \n",
       "Sleet/Hail/Freezing Rain        106    106       106      107      107   \n",
       "Snowing                         792    792       798      803      803   \n",
       "Unknown                       13440  13440     13588    14565    14565   \n",
       "\n",
       "                              lightcond  location  sdot_coldesc  severitydesc  \\\n",
       "weather                                                                         \n",
       "Blowing Sand or Dirt or Snow         37        33            38            38   \n",
       "Clear or Partly Cloudy           100481     99711        100575        100575   \n",
       "Fog/Smog/Smoke                      498       490           498           498   \n",
       "Other                               754       722           760           760   \n",
       "Overcast                          25374     25166         25389         25389   \n",
       "Raining                           30627     30430         30646         30646   \n",
       "Severe Crosswind                     19        19            19            19   \n",
       "Sleet/Hail/Freezing Rain            107       106           107           107   \n",
       "Snowing                             799       796           803           803   \n",
       "Unknown                           14522     13485         14565         14565   \n",
       "\n",
       "                              speeding  \n",
       "weather                                 \n",
       "Blowing Sand or Dirt or Snow         2  \n",
       "Clear or Partly Cloudy            3913  \n",
       "Fog/Smog/Smoke                      44  \n",
       "Other                               25  \n",
       "Overcast                          1451  \n",
       "Raining                           3000  \n",
       "Severe Crosswind                     0  \n",
       "Sleet/Hail/Freezing Rain            23  \n",
       "Snowing                            172  \n",
       "Unknown                             96  "
      ]
     },
     "execution_count": 124,
     "metadata": {},
     "output_type": "execute_result"
    }
   ],
   "source": [
    "df_collision.groupby('weather').count()"
   ]
  },
  {
   "cell_type": "code",
   "execution_count": 83,
   "metadata": {
    "collapsed": true
   },
   "outputs": [],
   "source": [
    "df_collision.incdttm = pd.to_datetime(df_collision.incdttm)"
   ]
  },
  {
   "cell_type": "code",
   "execution_count": 92,
   "metadata": {
    "collapsed": true
   },
   "outputs": [],
   "source": [
    "df_collision.incdate = df_collision.incdttm.dt.date"
   ]
  },
  {
   "cell_type": "code",
   "execution_count": 98,
   "metadata": {
    "collapsed": true
   },
   "outputs": [],
   "source": [
    "w = df_collision.groupby('incdate').count().weather"
   ]
  },
  {
   "cell_type": "code",
   "execution_count": 105,
   "metadata": {
    "collapsed": true
   },
   "outputs": [
    {
     "data": {
      "text/plain": [
       "incdate\n",
       "2004-01-01    26\n",
       "2004-01-02    66\n",
       "2004-01-03    20\n",
       "2004-01-04    14\n",
       "2004-01-05    18\n",
       "2004-01-06    38\n",
       "2004-01-07    26\n",
       "2004-01-08    24\n",
       "2004-01-09    38\n",
       "2004-01-10    32\n",
       "2004-01-11    18\n",
       "2004-01-12    42\n",
       "2004-01-13    38\n",
       "2004-01-14    63\n",
       "2004-01-15    42\n",
       "2004-01-16    27\n",
       "2004-01-17    23\n",
       "2004-01-18    22\n",
       "2004-01-19    23\n",
       "2004-01-20    23\n",
       "2004-01-21    26\n",
       "2004-01-22    31\n",
       "2004-01-23    45\n",
       "2004-01-24    28\n",
       "2004-01-25    20\n",
       "2004-01-26    25\n",
       "2004-01-27    27\n",
       "2004-01-28    46\n",
       "2004-01-29    44\n",
       "2004-01-30    36\n",
       "              ..\n",
       "2018-01-09    36\n",
       "2018-01-10    23\n",
       "2018-01-11    51\n",
       "2018-01-12    34\n",
       "2018-01-13    21\n",
       "2018-01-14    16\n",
       "2018-01-15    25\n",
       "2018-01-16    25\n",
       "2018-01-17    28\n",
       "2018-01-18    44\n",
       "2018-01-19    29\n",
       "2018-01-20    23\n",
       "2018-01-21    30\n",
       "2018-01-22    25\n",
       "2018-01-23    51\n",
       "2018-01-24    35\n",
       "2018-01-25    40\n",
       "2018-01-26    33\n",
       "2018-01-27    32\n",
       "2018-01-28    27\n",
       "2018-01-29    21\n",
       "2018-01-30    14\n",
       "2018-02-01     1\n",
       "2018-02-05     1\n",
       "2018-02-07     1\n",
       "2018-02-13     2\n",
       "2018-02-16     1\n",
       "2018-02-17     1\n",
       "2018-02-23     1\n",
       "2018-02-27     1\n",
       "Name: weather, Length: 5152, dtype: int64"
      ]
     },
     "execution_count": 105,
     "metadata": {},
     "output_type": "execute_result"
    }
   ],
   "source": [
    "w[w > 0]"
   ]
  },
  {
   "cell_type": "code",
   "execution_count": null,
   "metadata": {
    "collapsed": true
   },
   "outputs": [],
   "source": []
  },
  {
   "cell_type": "markdown",
   "metadata": {},
   "source": [
    "### Seattle Crime Stats"
   ]
  },
  {
   "cell_type": "markdown",
   "metadata": {},
   "source": [
    "https://data.seattle.gov/Public-Safety/Seattle-Crime-Stats-by-Police-Precinct-2008-Presen/3xqu-vnum"
   ]
  },
  {
   "cell_type": "markdown",
   "metadata": {},
   "source": [
    "no lat, lon data; only date\n",
    "\n",
    "maybe useful for analyzing the trending of different types of crimes to see if there is any correlation with collisions"
   ]
  },
  {
   "cell_type": "markdown",
   "metadata": {},
   "source": [
    "01/2018 - 04/2014, monthly data"
   ]
  },
  {
   "cell_type": "code",
   "execution_count": 107,
   "metadata": {
    "collapsed": true
   },
   "outputs": [],
   "source": [
    "df_crime = pd.read_csv(\"Seattle_Crime_Stats_by_Police_Precinct_2008-Present.csv\")"
   ]
  },
  {
   "cell_type": "code",
   "execution_count": 108,
   "metadata": {},
   "outputs": [
    {
     "data": {
      "text/html": [
       "<div>\n",
       "<style scoped>\n",
       "    .dataframe tbody tr th:only-of-type {\n",
       "        vertical-align: middle;\n",
       "    }\n",
       "\n",
       "    .dataframe tbody tr th {\n",
       "        vertical-align: top;\n",
       "    }\n",
       "\n",
       "    .dataframe thead th {\n",
       "        text-align: right;\n",
       "    }\n",
       "</style>\n",
       "<table border=\"1\" class=\"dataframe\">\n",
       "  <thead>\n",
       "    <tr style=\"text-align: right;\">\n",
       "      <th></th>\n",
       "      <th>Police Beat</th>\n",
       "      <th>CRIME_TYPE</th>\n",
       "      <th>CRIME_DESCRIPTION</th>\n",
       "      <th>STAT_VALUE</th>\n",
       "      <th>REPORT_DATE</th>\n",
       "      <th>Sector</th>\n",
       "      <th>Precinct</th>\n",
       "      <th>Row_Value_ID</th>\n",
       "    </tr>\n",
       "  </thead>\n",
       "  <tbody>\n",
       "    <tr>\n",
       "      <th>0</th>\n",
       "      <td>B1</td>\n",
       "      <td>Homicide</td>\n",
       "      <td>Homicide</td>\n",
       "      <td>0</td>\n",
       "      <td>01/01/2008</td>\n",
       "      <td>B</td>\n",
       "      <td>N</td>\n",
       "      <td>1</td>\n",
       "    </tr>\n",
       "    <tr>\n",
       "      <th>1</th>\n",
       "      <td>B1</td>\n",
       "      <td>Rape</td>\n",
       "      <td>Rape</td>\n",
       "      <td>0</td>\n",
       "      <td>01/01/2008</td>\n",
       "      <td>B</td>\n",
       "      <td>N</td>\n",
       "      <td>2</td>\n",
       "    </tr>\n",
       "    <tr>\n",
       "      <th>2</th>\n",
       "      <td>B1</td>\n",
       "      <td>Robbery</td>\n",
       "      <td>Robbery</td>\n",
       "      <td>5</td>\n",
       "      <td>01/01/2008</td>\n",
       "      <td>B</td>\n",
       "      <td>N</td>\n",
       "      <td>3</td>\n",
       "    </tr>\n",
       "    <tr>\n",
       "      <th>3</th>\n",
       "      <td>B1</td>\n",
       "      <td>Assault</td>\n",
       "      <td>Assault</td>\n",
       "      <td>1</td>\n",
       "      <td>01/01/2008</td>\n",
       "      <td>B</td>\n",
       "      <td>N</td>\n",
       "      <td>4</td>\n",
       "    </tr>\n",
       "    <tr>\n",
       "      <th>4</th>\n",
       "      <td>B1</td>\n",
       "      <td>Larceny-Theft</td>\n",
       "      <td>Larceny-Theft</td>\n",
       "      <td>35</td>\n",
       "      <td>01/01/2008</td>\n",
       "      <td>B</td>\n",
       "      <td>N</td>\n",
       "      <td>5</td>\n",
       "    </tr>\n",
       "  </tbody>\n",
       "</table>\n",
       "</div>"
      ],
      "text/plain": [
       "  Police Beat     CRIME_TYPE CRIME_DESCRIPTION  STAT_VALUE REPORT_DATE Sector  \\\n",
       "0          B1       Homicide          Homicide           0  01/01/2008      B   \n",
       "1          B1           Rape              Rape           0  01/01/2008      B   \n",
       "2          B1        Robbery           Robbery           5  01/01/2008      B   \n",
       "3          B1        Assault           Assault           1  01/01/2008      B   \n",
       "4          B1  Larceny-Theft     Larceny-Theft          35  01/01/2008      B   \n",
       "\n",
       "  Precinct  Row_Value_ID  \n",
       "0        N             1  \n",
       "1        N             2  \n",
       "2        N             3  \n",
       "3        N             4  \n",
       "4        N             5  "
      ]
     },
     "execution_count": 108,
     "metadata": {},
     "output_type": "execute_result"
    }
   ],
   "source": [
    "df_crime.head()"
   ]
  },
  {
   "cell_type": "code",
   "execution_count": 109,
   "metadata": {},
   "outputs": [
    {
     "data": {
      "text/plain": [
       "(27125, 8)"
      ]
     },
     "execution_count": 109,
     "metadata": {},
     "output_type": "execute_result"
    }
   ],
   "source": [
    "df_crime.shape"
   ]
  },
  {
   "cell_type": "code",
   "execution_count": 110,
   "metadata": {},
   "outputs": [
    {
     "data": {
      "text/plain": [
       "Police Beat          object\n",
       "CRIME_TYPE           object\n",
       "CRIME_DESCRIPTION    object\n",
       "STAT_VALUE            int64\n",
       "REPORT_DATE          object\n",
       "Sector               object\n",
       "Precinct             object\n",
       "Row_Value_ID          int64\n",
       "dtype: object"
      ]
     },
     "execution_count": 110,
     "metadata": {},
     "output_type": "execute_result"
    }
   ],
   "source": [
    "df_crime.dtypes"
   ]
  },
  {
   "cell_type": "code",
   "execution_count": 23,
   "metadata": {},
   "outputs": [
    {
     "data": {
      "text/plain": [
       "datetime.datetime(2008, 2, 1, 0, 0)"
      ]
     },
     "execution_count": 23,
     "metadata": {},
     "output_type": "execute_result"
    }
   ],
   "source": [
    "from datetime import datetime\n",
    "\n",
    "# df.REPORT_DATE = \n",
    "datetime.strptime(df.REPORT_DATE[400], '%m/%d/%Y')"
   ]
  },
  {
   "cell_type": "code",
   "execution_count": 118,
   "metadata": {
    "collapsed": true
   },
   "outputs": [],
   "source": [
    "df_crime.REPORT_DATE = pd.to_datetime(df_crime.REPORT_DATE)"
   ]
  },
  {
   "cell_type": "code",
   "execution_count": 122,
   "metadata": {
    "collapsed": true
   },
   "outputs": [
    {
     "data": {
      "text/plain": [
       "[numpy.datetime64('2008-01-01T00:00:00.000000000'),\n",
       " numpy.datetime64('2008-02-01T00:00:00.000000000'),\n",
       " numpy.datetime64('2008-03-01T00:00:00.000000000'),\n",
       " numpy.datetime64('2008-04-01T00:00:00.000000000'),\n",
       " numpy.datetime64('2008-05-01T00:00:00.000000000'),\n",
       " numpy.datetime64('2008-06-01T00:00:00.000000000'),\n",
       " numpy.datetime64('2008-07-01T00:00:00.000000000'),\n",
       " numpy.datetime64('2008-08-01T00:00:00.000000000'),\n",
       " numpy.datetime64('2008-09-01T00:00:00.000000000'),\n",
       " numpy.datetime64('2008-10-01T00:00:00.000000000'),\n",
       " numpy.datetime64('2008-11-01T00:00:00.000000000'),\n",
       " numpy.datetime64('2008-12-01T00:00:00.000000000'),\n",
       " numpy.datetime64('2009-01-01T00:00:00.000000000'),\n",
       " numpy.datetime64('2009-02-01T00:00:00.000000000'),\n",
       " numpy.datetime64('2009-03-01T00:00:00.000000000'),\n",
       " numpy.datetime64('2009-04-01T00:00:00.000000000'),\n",
       " numpy.datetime64('2009-05-01T00:00:00.000000000'),\n",
       " numpy.datetime64('2009-06-01T00:00:00.000000000'),\n",
       " numpy.datetime64('2009-07-01T00:00:00.000000000'),\n",
       " numpy.datetime64('2009-08-01T00:00:00.000000000'),\n",
       " numpy.datetime64('2009-09-01T00:00:00.000000000'),\n",
       " numpy.datetime64('2009-10-01T00:00:00.000000000'),\n",
       " numpy.datetime64('2009-11-01T00:00:00.000000000'),\n",
       " numpy.datetime64('2009-12-01T00:00:00.000000000'),\n",
       " numpy.datetime64('2010-01-01T00:00:00.000000000'),\n",
       " numpy.datetime64('2010-02-01T00:00:00.000000000'),\n",
       " numpy.datetime64('2010-03-01T00:00:00.000000000'),\n",
       " numpy.datetime64('2010-04-01T00:00:00.000000000'),\n",
       " numpy.datetime64('2010-05-01T00:00:00.000000000'),\n",
       " numpy.datetime64('2010-06-01T00:00:00.000000000'),\n",
       " numpy.datetime64('2010-07-01T00:00:00.000000000'),\n",
       " numpy.datetime64('2010-08-01T00:00:00.000000000'),\n",
       " numpy.datetime64('2010-09-01T00:00:00.000000000'),\n",
       " numpy.datetime64('2010-10-01T00:00:00.000000000'),\n",
       " numpy.datetime64('2010-11-01T00:00:00.000000000'),\n",
       " numpy.datetime64('2010-12-01T00:00:00.000000000'),\n",
       " numpy.datetime64('2011-01-01T00:00:00.000000000'),\n",
       " numpy.datetime64('2011-02-01T00:00:00.000000000'),\n",
       " numpy.datetime64('2011-03-01T00:00:00.000000000'),\n",
       " numpy.datetime64('2011-04-01T00:00:00.000000000'),\n",
       " numpy.datetime64('2011-05-01T00:00:00.000000000'),\n",
       " numpy.datetime64('2011-06-01T00:00:00.000000000'),\n",
       " numpy.datetime64('2011-07-01T00:00:00.000000000'),\n",
       " numpy.datetime64('2011-08-01T00:00:00.000000000'),\n",
       " numpy.datetime64('2011-09-01T00:00:00.000000000'),\n",
       " numpy.datetime64('2011-10-01T00:00:00.000000000'),\n",
       " numpy.datetime64('2011-11-01T00:00:00.000000000'),\n",
       " numpy.datetime64('2011-12-01T00:00:00.000000000'),\n",
       " numpy.datetime64('2012-01-01T00:00:00.000000000'),\n",
       " numpy.datetime64('2012-02-01T00:00:00.000000000'),\n",
       " numpy.datetime64('2012-03-01T00:00:00.000000000'),\n",
       " numpy.datetime64('2012-04-01T00:00:00.000000000'),\n",
       " numpy.datetime64('2012-05-01T00:00:00.000000000'),\n",
       " numpy.datetime64('2012-06-01T00:00:00.000000000'),\n",
       " numpy.datetime64('2012-07-01T00:00:00.000000000'),\n",
       " numpy.datetime64('2012-08-01T00:00:00.000000000'),\n",
       " numpy.datetime64('2012-09-01T00:00:00.000000000'),\n",
       " numpy.datetime64('2012-10-01T00:00:00.000000000'),\n",
       " numpy.datetime64('2012-11-01T00:00:00.000000000'),\n",
       " numpy.datetime64('2012-12-01T00:00:00.000000000'),\n",
       " numpy.datetime64('2013-01-01T00:00:00.000000000'),\n",
       " numpy.datetime64('2013-02-01T00:00:00.000000000'),\n",
       " numpy.datetime64('2013-03-01T00:00:00.000000000'),\n",
       " numpy.datetime64('2013-04-01T00:00:00.000000000'),\n",
       " numpy.datetime64('2013-05-01T00:00:00.000000000'),\n",
       " numpy.datetime64('2013-06-01T00:00:00.000000000'),\n",
       " numpy.datetime64('2013-07-01T00:00:00.000000000'),\n",
       " numpy.datetime64('2013-08-01T00:00:00.000000000'),\n",
       " numpy.datetime64('2013-09-01T00:00:00.000000000'),\n",
       " numpy.datetime64('2013-10-01T00:00:00.000000000'),\n",
       " numpy.datetime64('2013-11-01T00:00:00.000000000'),\n",
       " numpy.datetime64('2013-12-01T00:00:00.000000000'),\n",
       " numpy.datetime64('2014-01-30T00:00:00.000000000'),\n",
       " numpy.datetime64('2014-02-28T00:00:00.000000000'),\n",
       " numpy.datetime64('2014-03-30T00:00:00.000000000'),\n",
       " numpy.datetime64('2014-04-30T00:00:00.000000000')]"
      ]
     },
     "execution_count": 122,
     "metadata": {},
     "output_type": "execute_result"
    }
   ],
   "source": [
    "sorted(df_crime.REPORT_DATE.value_counts().index.values)"
   ]
  },
  {
   "cell_type": "code",
   "execution_count": null,
   "metadata": {
    "collapsed": true
   },
   "outputs": [],
   "source": []
  },
  {
   "cell_type": "markdown",
   "metadata": {},
   "source": [
    "### 911 Incident Response"
   ]
  },
  {
   "cell_type": "markdown",
   "metadata": {},
   "source": [
    "https://data.seattle.gov/Public-Safety/Seattle-Police-Department-911-Incident-Response/3k2p-39jpm"
   ]
  },
  {
   "cell_type": "markdown",
   "metadata": {},
   "source": [
    "July 2010 -- Now"
   ]
  },
  {
   "cell_type": "markdown",
   "metadata": {},
   "source": [
    "connect this with the Collision data with location and incident?"
   ]
  },
  {
   "cell_type": "code",
   "execution_count": 30,
   "metadata": {},
   "outputs": [
    {
     "name": "stderr",
     "output_type": "stream",
     "text": [
      "/home/fei/anaconda3/lib/python3.6/site-packages/IPython/core/interactiveshell.py:2728: DtypeWarning: Columns (0) have mixed types. Specify dtype option on import or set low_memory=False.\n",
      "  interactivity=interactivity, compiler=compiler, result=result)\n"
     ]
    }
   ],
   "source": [
    "df_911 = pd.read_csv(\"Seattle_Police_Department_911_Incident_Response.csv\")"
   ]
  },
  {
   "cell_type": "code",
   "execution_count": 31,
   "metadata": {},
   "outputs": [
    {
     "data": {
      "text/html": [
       "<div>\n",
       "<style scoped>\n",
       "    .dataframe tbody tr th:only-of-type {\n",
       "        vertical-align: middle;\n",
       "    }\n",
       "\n",
       "    .dataframe tbody tr th {\n",
       "        vertical-align: top;\n",
       "    }\n",
       "\n",
       "    .dataframe thead th {\n",
       "        text-align: right;\n",
       "    }\n",
       "</style>\n",
       "<table border=\"1\" class=\"dataframe\">\n",
       "  <thead>\n",
       "    <tr style=\"text-align: right;\">\n",
       "      <th></th>\n",
       "      <th>0</th>\n",
       "    </tr>\n",
       "  </thead>\n",
       "  <tbody>\n",
       "    <tr>\n",
       "      <th>CAD CDW ID</th>\n",
       "      <td>﻿15736</td>\n",
       "    </tr>\n",
       "    <tr>\n",
       "      <th>CAD Event Number</th>\n",
       "      <td>10000246357</td>\n",
       "    </tr>\n",
       "    <tr>\n",
       "      <th>General Offense Number</th>\n",
       "      <td>2010246357</td>\n",
       "    </tr>\n",
       "    <tr>\n",
       "      <th>Event Clearance Code</th>\n",
       "      <td>242</td>\n",
       "    </tr>\n",
       "    <tr>\n",
       "      <th>Event Clearance Description</th>\n",
       "      <td>FIGHT DISTURBANCE</td>\n",
       "    </tr>\n",
       "    <tr>\n",
       "      <th>Event Clearance SubGroup</th>\n",
       "      <td>DISTURBANCES</td>\n",
       "    </tr>\n",
       "    <tr>\n",
       "      <th>Event Clearance Group</th>\n",
       "      <td>DISTURBANCES</td>\n",
       "    </tr>\n",
       "    <tr>\n",
       "      <th>Event Clearance Date</th>\n",
       "      <td>07/17/2010 08:49:00 PM</td>\n",
       "    </tr>\n",
       "    <tr>\n",
       "      <th>Hundred Block Location</th>\n",
       "      <td>3XX BLOCK OF PINE ST</td>\n",
       "    </tr>\n",
       "    <tr>\n",
       "      <th>District/Sector</th>\n",
       "      <td>M</td>\n",
       "    </tr>\n",
       "    <tr>\n",
       "      <th>Zone/Beat</th>\n",
       "      <td>M2</td>\n",
       "    </tr>\n",
       "    <tr>\n",
       "      <th>Census Tract</th>\n",
       "      <td>8100.2</td>\n",
       "    </tr>\n",
       "    <tr>\n",
       "      <th>Longitude</th>\n",
       "      <td>-122.338</td>\n",
       "    </tr>\n",
       "    <tr>\n",
       "      <th>Latitude</th>\n",
       "      <td>47.611</td>\n",
       "    </tr>\n",
       "    <tr>\n",
       "      <th>Incident Location</th>\n",
       "      <td>(47.610975163, -122.338146748)</td>\n",
       "    </tr>\n",
       "    <tr>\n",
       "      <th>Initial Type Description</th>\n",
       "      <td>NaN</td>\n",
       "    </tr>\n",
       "    <tr>\n",
       "      <th>Initial Type Subgroup</th>\n",
       "      <td>NaN</td>\n",
       "    </tr>\n",
       "    <tr>\n",
       "      <th>Initial Type Group</th>\n",
       "      <td>NaN</td>\n",
       "    </tr>\n",
       "    <tr>\n",
       "      <th>At Scene Time</th>\n",
       "      <td>NaN</td>\n",
       "    </tr>\n",
       "  </tbody>\n",
       "</table>\n",
       "</div>"
      ],
      "text/plain": [
       "                                                          0\n",
       "CAD CDW ID                                           ﻿15736\n",
       "CAD Event Number                                10000246357\n",
       "General Offense Number                           2010246357\n",
       "Event Clearance Code                                    242\n",
       "Event Clearance Description               FIGHT DISTURBANCE\n",
       "Event Clearance SubGroup                       DISTURBANCES\n",
       "Event Clearance Group                          DISTURBANCES\n",
       "Event Clearance Date                 07/17/2010 08:49:00 PM\n",
       "Hundred Block Location                 3XX BLOCK OF PINE ST\n",
       "District/Sector                                           M\n",
       "Zone/Beat                                                M2\n",
       "Census Tract                                         8100.2\n",
       "Longitude                                          -122.338\n",
       "Latitude                                             47.611\n",
       "Incident Location            (47.610975163, -122.338146748)\n",
       "Initial Type Description                                NaN\n",
       "Initial Type Subgroup                                   NaN\n",
       "Initial Type Group                                      NaN\n",
       "At Scene Time                                           NaN"
      ]
     },
     "execution_count": 31,
     "metadata": {},
     "output_type": "execute_result"
    }
   ],
   "source": [
    "df_911.head(1).T"
   ]
  },
  {
   "cell_type": "code",
   "execution_count": 32,
   "metadata": {},
   "outputs": [
    {
     "data": {
      "text/plain": [
       "0    07/17/2010 08:49:00 PM\n",
       "1    07/17/2010 08:50:00 PM\n",
       "2    07/17/2010 08:55:00 PM\n",
       "3    07/17/2010 09:00:00 PM\n",
       "4    07/17/2010 09:00:00 PM\n",
       "Name: Event Clearance Date, dtype: object"
      ]
     },
     "execution_count": 32,
     "metadata": {},
     "output_type": "execute_result"
    }
   ],
   "source": [
    "df_911.loc[:,\"Event Clearance Date\"].head()"
   ]
  },
  {
   "cell_type": "code",
   "execution_count": null,
   "metadata": {
    "collapsed": true
   },
   "outputs": [],
   "source": []
  },
  {
   "cell_type": "markdown",
   "metadata": {},
   "source": [
    "### Seattle Weather Data"
   ]
  },
  {
   "cell_type": "markdown",
   "metadata": {},
   "source": [
    "https://www.kaggle.com/rtatman/did-it-rain-in-seattle-19482017"
   ]
  },
  {
   "cell_type": "markdown",
   "metadata": {},
   "source": [
    "01/01/1948 - 12/14/2017, per-day,  prcp, tmax, tmin, rainOrNot, SeaTac Airport Weather Station"
   ]
  },
  {
   "cell_type": "markdown",
   "metadata": {},
   "source": [
    "This data was collected at the Seattle-Tacoma International Airport. The dataset contains five columns:\n",
    "\n",
    "    DATE = the date of the observation\n",
    "    PRCP = the amount of precipitation, in inches\n",
    "    TMAX = the maximum temperature for that day, in degrees Fahrenheit\n",
    "    TMIN = the minimum temperature for that day, in degrees Fahrenheit\n",
    "    RAIN = TRUE if rain was observed on that day, FALSE if it was not"
   ]
  },
  {
   "cell_type": "code",
   "execution_count": 33,
   "metadata": {
    "collapsed": true
   },
   "outputs": [],
   "source": [
    "df_weather_rain = pd.read_csv(\"seattleWeather_1948-2017.csv\")"
   ]
  },
  {
   "cell_type": "code",
   "execution_count": 34,
   "metadata": {},
   "outputs": [
    {
     "data": {
      "text/plain": [
       "DATE     object\n",
       "PRCP    float64\n",
       "TMAX      int64\n",
       "TMIN      int64\n",
       "RAIN     object\n",
       "dtype: object"
      ]
     },
     "execution_count": 34,
     "metadata": {},
     "output_type": "execute_result"
    }
   ],
   "source": [
    "df_weather_rain.dtypes"
   ]
  },
  {
   "cell_type": "code",
   "execution_count": 19,
   "metadata": {},
   "outputs": [
    {
     "data": {
      "text/plain": [
       "(25551, 5)"
      ]
     },
     "execution_count": 19,
     "metadata": {},
     "output_type": "execute_result"
    }
   ],
   "source": [
    "df.shape"
   ]
  },
  {
   "cell_type": "code",
   "execution_count": 35,
   "metadata": {
    "collapsed": true
   },
   "outputs": [],
   "source": [
    "df_weather_rain.DATE = pd.to_datetime(df_weather_rain.DATE)"
   ]
  },
  {
   "cell_type": "code",
   "execution_count": 36,
   "metadata": {
    "collapsed": true
   },
   "outputs": [
    {
     "data": {
      "text/plain": [
       "1968-11-10    1\n",
       "1984-01-30    1\n",
       "2006-07-11    1\n",
       "1999-04-30    1\n",
       "1989-11-20    1\n",
       "2011-10-30    1\n",
       "1966-04-30    1\n",
       "2008-12-18    1\n",
       "1964-04-11    1\n",
       "1955-09-13    1\n",
       "1953-09-14    1\n",
       "1958-04-09    1\n",
       "1961-09-11    1\n",
       "1965-02-13    1\n",
       "1966-04-06    1\n",
       "1969-09-08    1\n",
       "1973-02-10    1\n",
       "1977-09-05    1\n",
       "1979-12-18    1\n",
       "1984-07-12    1\n",
       "1985-09-02    1\n",
       "1990-03-28    1\n",
       "1994-10-21    1\n",
       "1999-10-31    1\n",
       "1980-05-20    1\n",
       "1999-05-16    1\n",
       "1969-09-19    1\n",
       "1948-10-08    1\n",
       "1954-08-21    1\n",
       "1963-04-19    1\n",
       "             ..\n",
       "1996-04-20    1\n",
       "1982-10-30    1\n",
       "2001-06-19    1\n",
       "1973-05-19    1\n",
       "2003-03-06    1\n",
       "1956-07-31    1\n",
       "1968-12-22    1\n",
       "1971-07-23    1\n",
       "1974-11-06    1\n",
       "2016-04-15    1\n",
       "1981-03-13    1\n",
       "2010-03-03    1\n",
       "1955-03-18    1\n",
       "1969-04-12    1\n",
       "1950-12-14    1\n",
       "1989-06-21    1\n",
       "1983-12-25    1\n",
       "1978-05-31    1\n",
       "2013-10-09    1\n",
       "1960-02-23    1\n",
       "1951-05-19    1\n",
       "1998-08-09    1\n",
       "1991-07-28    1\n",
       "1964-10-04    1\n",
       "2007-09-27    1\n",
       "2004-08-21    1\n",
       "1980-09-09    1\n",
       "1982-10-08    1\n",
       "2010-11-13    1\n",
       "1970-01-01    1\n",
       "Name: DATE, Length: 25551, dtype: int64"
      ]
     },
     "execution_count": 36,
     "metadata": {},
     "output_type": "execute_result"
    }
   ],
   "source": [
    "df_weather_rain.DATE.value_counts()"
   ]
  },
  {
   "cell_type": "code",
   "execution_count": 37,
   "metadata": {},
   "outputs": [
    {
     "data": {
      "text/html": [
       "<div>\n",
       "<style scoped>\n",
       "    .dataframe tbody tr th:only-of-type {\n",
       "        vertical-align: middle;\n",
       "    }\n",
       "\n",
       "    .dataframe tbody tr th {\n",
       "        vertical-align: top;\n",
       "    }\n",
       "\n",
       "    .dataframe thead th {\n",
       "        text-align: right;\n",
       "    }\n",
       "</style>\n",
       "<table border=\"1\" class=\"dataframe\">\n",
       "  <thead>\n",
       "    <tr style=\"text-align: right;\">\n",
       "      <th></th>\n",
       "      <th>DATE</th>\n",
       "      <th>PRCP</th>\n",
       "      <th>TMAX</th>\n",
       "      <th>TMIN</th>\n",
       "      <th>RAIN</th>\n",
       "    </tr>\n",
       "  </thead>\n",
       "  <tbody>\n",
       "    <tr>\n",
       "      <th>0</th>\n",
       "      <td>1948-01-01</td>\n",
       "      <td>0.47</td>\n",
       "      <td>51</td>\n",
       "      <td>42</td>\n",
       "      <td>True</td>\n",
       "    </tr>\n",
       "    <tr>\n",
       "      <th>1</th>\n",
       "      <td>1948-01-02</td>\n",
       "      <td>0.59</td>\n",
       "      <td>45</td>\n",
       "      <td>36</td>\n",
       "      <td>True</td>\n",
       "    </tr>\n",
       "    <tr>\n",
       "      <th>2</th>\n",
       "      <td>1948-01-03</td>\n",
       "      <td>0.42</td>\n",
       "      <td>45</td>\n",
       "      <td>35</td>\n",
       "      <td>True</td>\n",
       "    </tr>\n",
       "    <tr>\n",
       "      <th>3</th>\n",
       "      <td>1948-01-04</td>\n",
       "      <td>0.31</td>\n",
       "      <td>45</td>\n",
       "      <td>34</td>\n",
       "      <td>True</td>\n",
       "    </tr>\n",
       "    <tr>\n",
       "      <th>4</th>\n",
       "      <td>1948-01-05</td>\n",
       "      <td>0.17</td>\n",
       "      <td>45</td>\n",
       "      <td>32</td>\n",
       "      <td>True</td>\n",
       "    </tr>\n",
       "  </tbody>\n",
       "</table>\n",
       "</div>"
      ],
      "text/plain": [
       "        DATE  PRCP  TMAX  TMIN  RAIN\n",
       "0 1948-01-01  0.47    51    42  True\n",
       "1 1948-01-02  0.59    45    36  True\n",
       "2 1948-01-03  0.42    45    35  True\n",
       "3 1948-01-04  0.31    45    34  True\n",
       "4 1948-01-05  0.17    45    32  True"
      ]
     },
     "execution_count": 37,
     "metadata": {},
     "output_type": "execute_result"
    }
   ],
   "source": [
    "df_weather_rain.head()"
   ]
  },
  {
   "cell_type": "code",
   "execution_count": 49,
   "metadata": {},
   "outputs": [
    {
     "data": {
      "text/html": [
       "<div>\n",
       "<style scoped>\n",
       "    .dataframe tbody tr th:only-of-type {\n",
       "        vertical-align: middle;\n",
       "    }\n",
       "\n",
       "    .dataframe tbody tr th {\n",
       "        vertical-align: top;\n",
       "    }\n",
       "\n",
       "    .dataframe thead th {\n",
       "        text-align: right;\n",
       "    }\n",
       "</style>\n",
       "<table border=\"1\" class=\"dataframe\">\n",
       "  <thead>\n",
       "    <tr style=\"text-align: right;\">\n",
       "      <th></th>\n",
       "      <th>DATE</th>\n",
       "      <th>PRCP</th>\n",
       "      <th>TMAX</th>\n",
       "      <th>TMIN</th>\n",
       "      <th>RAIN</th>\n",
       "    </tr>\n",
       "  </thead>\n",
       "  <tbody>\n",
       "    <tr>\n",
       "      <th>25546</th>\n",
       "      <td>2017-12-10</td>\n",
       "      <td>0.0</td>\n",
       "      <td>49</td>\n",
       "      <td>34</td>\n",
       "      <td>False</td>\n",
       "    </tr>\n",
       "    <tr>\n",
       "      <th>25547</th>\n",
       "      <td>2017-12-11</td>\n",
       "      <td>0.0</td>\n",
       "      <td>49</td>\n",
       "      <td>29</td>\n",
       "      <td>False</td>\n",
       "    </tr>\n",
       "    <tr>\n",
       "      <th>25548</th>\n",
       "      <td>2017-12-12</td>\n",
       "      <td>0.0</td>\n",
       "      <td>46</td>\n",
       "      <td>32</td>\n",
       "      <td>False</td>\n",
       "    </tr>\n",
       "    <tr>\n",
       "      <th>25549</th>\n",
       "      <td>2017-12-13</td>\n",
       "      <td>0.0</td>\n",
       "      <td>48</td>\n",
       "      <td>34</td>\n",
       "      <td>False</td>\n",
       "    </tr>\n",
       "    <tr>\n",
       "      <th>25550</th>\n",
       "      <td>2017-12-14</td>\n",
       "      <td>0.0</td>\n",
       "      <td>50</td>\n",
       "      <td>36</td>\n",
       "      <td>False</td>\n",
       "    </tr>\n",
       "  </tbody>\n",
       "</table>\n",
       "</div>"
      ],
      "text/plain": [
       "            DATE  PRCP  TMAX  TMIN   RAIN\n",
       "25546 2017-12-10   0.0    49    34  False\n",
       "25547 2017-12-11   0.0    49    29  False\n",
       "25548 2017-12-12   0.0    46    32  False\n",
       "25549 2017-12-13   0.0    48    34  False\n",
       "25550 2017-12-14   0.0    50    36  False"
      ]
     },
     "execution_count": 49,
     "metadata": {},
     "output_type": "execute_result"
    }
   ],
   "source": [
    "df_weather_rain.tail()"
   ]
  },
  {
   "cell_type": "code",
   "execution_count": 39,
   "metadata": {
    "collapsed": true
   },
   "outputs": [
    {
     "ename": "TypeError",
     "evalue": "invalid type promotion",
     "output_type": "error",
     "traceback": [
      "\u001b[0;31m---------------------------------------------------------------------------\u001b[0m",
      "\u001b[0;31mTypeError\u001b[0m                                 Traceback (most recent call last)",
      "\u001b[0;32m<ipython-input-39-871079c3054f>\u001b[0m in \u001b[0;36m<module>\u001b[0;34m()\u001b[0m\n\u001b[0;32m----> 1\u001b[0;31m \u001b[0mplt\u001b[0m\u001b[0;34m.\u001b[0m\u001b[0mscatter\u001b[0m\u001b[0;34m(\u001b[0m\u001b[0mdf_weather_rain\u001b[0m\u001b[0;34m.\u001b[0m\u001b[0mDATE\u001b[0m\u001b[0;34m,\u001b[0m \u001b[0mdf_weather_rain\u001b[0m\u001b[0;34m.\u001b[0m\u001b[0mTMAX\u001b[0m\u001b[0;34m)\u001b[0m\u001b[0;34m\u001b[0m\u001b[0m\n\u001b[0m",
      "\u001b[0;32m~/anaconda3/lib/python3.6/site-packages/matplotlib/pyplot.py\u001b[0m in \u001b[0;36mscatter\u001b[0;34m(x, y, s, c, marker, cmap, norm, vmin, vmax, alpha, linewidths, verts, edgecolors, hold, data, **kwargs)\u001b[0m\n\u001b[1;32m   3376\u001b[0m                          \u001b[0mvmin\u001b[0m\u001b[0;34m=\u001b[0m\u001b[0mvmin\u001b[0m\u001b[0;34m,\u001b[0m \u001b[0mvmax\u001b[0m\u001b[0;34m=\u001b[0m\u001b[0mvmax\u001b[0m\u001b[0;34m,\u001b[0m \u001b[0malpha\u001b[0m\u001b[0;34m=\u001b[0m\u001b[0malpha\u001b[0m\u001b[0;34m,\u001b[0m\u001b[0;34m\u001b[0m\u001b[0m\n\u001b[1;32m   3377\u001b[0m                          \u001b[0mlinewidths\u001b[0m\u001b[0;34m=\u001b[0m\u001b[0mlinewidths\u001b[0m\u001b[0;34m,\u001b[0m \u001b[0mverts\u001b[0m\u001b[0;34m=\u001b[0m\u001b[0mverts\u001b[0m\u001b[0;34m,\u001b[0m\u001b[0;34m\u001b[0m\u001b[0m\n\u001b[0;32m-> 3378\u001b[0;31m                          edgecolors=edgecolors, data=data, **kwargs)\n\u001b[0m\u001b[1;32m   3379\u001b[0m     \u001b[0;32mfinally\u001b[0m\u001b[0;34m:\u001b[0m\u001b[0;34m\u001b[0m\u001b[0m\n\u001b[1;32m   3380\u001b[0m         \u001b[0max\u001b[0m\u001b[0;34m.\u001b[0m\u001b[0m_hold\u001b[0m \u001b[0;34m=\u001b[0m \u001b[0mwashold\u001b[0m\u001b[0;34m\u001b[0m\u001b[0m\n",
      "\u001b[0;32m~/anaconda3/lib/python3.6/site-packages/matplotlib/__init__.py\u001b[0m in \u001b[0;36minner\u001b[0;34m(ax, *args, **kwargs)\u001b[0m\n\u001b[1;32m   1715\u001b[0m                     warnings.warn(msg % (label_namer, func.__name__),\n\u001b[1;32m   1716\u001b[0m                                   RuntimeWarning, stacklevel=2)\n\u001b[0;32m-> 1717\u001b[0;31m             \u001b[0;32mreturn\u001b[0m \u001b[0mfunc\u001b[0m\u001b[0;34m(\u001b[0m\u001b[0max\u001b[0m\u001b[0;34m,\u001b[0m \u001b[0;34m*\u001b[0m\u001b[0margs\u001b[0m\u001b[0;34m,\u001b[0m \u001b[0;34m**\u001b[0m\u001b[0mkwargs\u001b[0m\u001b[0;34m)\u001b[0m\u001b[0;34m\u001b[0m\u001b[0m\n\u001b[0m\u001b[1;32m   1718\u001b[0m         \u001b[0mpre_doc\u001b[0m \u001b[0;34m=\u001b[0m \u001b[0minner\u001b[0m\u001b[0;34m.\u001b[0m\u001b[0m__doc__\u001b[0m\u001b[0;34m\u001b[0m\u001b[0m\n\u001b[1;32m   1719\u001b[0m         \u001b[0;32mif\u001b[0m \u001b[0mpre_doc\u001b[0m \u001b[0;32mis\u001b[0m \u001b[0;32mNone\u001b[0m\u001b[0;34m:\u001b[0m\u001b[0;34m\u001b[0m\u001b[0m\n",
      "\u001b[0;32m~/anaconda3/lib/python3.6/site-packages/matplotlib/axes/_axes.py\u001b[0m in \u001b[0;36mscatter\u001b[0;34m(self, x, y, s, c, marker, cmap, norm, vmin, vmax, alpha, linewidths, verts, edgecolors, **kwargs)\u001b[0m\n\u001b[1;32m   4021\u001b[0m             \u001b[0mlinewidths\u001b[0m \u001b[0;34m=\u001b[0m \u001b[0mrcParams\u001b[0m\u001b[0;34m[\u001b[0m\u001b[0;34m'lines.linewidth'\u001b[0m\u001b[0;34m]\u001b[0m\u001b[0;34m\u001b[0m\u001b[0m\n\u001b[1;32m   4022\u001b[0m \u001b[0;34m\u001b[0m\u001b[0m\n\u001b[0;32m-> 4023\u001b[0;31m         \u001b[0moffsets\u001b[0m \u001b[0;34m=\u001b[0m \u001b[0mnp\u001b[0m\u001b[0;34m.\u001b[0m\u001b[0mcolumn_stack\u001b[0m\u001b[0;34m(\u001b[0m\u001b[0;34m[\u001b[0m\u001b[0mx\u001b[0m\u001b[0;34m,\u001b[0m \u001b[0my\u001b[0m\u001b[0;34m]\u001b[0m\u001b[0;34m)\u001b[0m\u001b[0;34m\u001b[0m\u001b[0m\n\u001b[0m\u001b[1;32m   4024\u001b[0m \u001b[0;34m\u001b[0m\u001b[0m\n\u001b[1;32m   4025\u001b[0m         collection = mcoll.PathCollection(\n",
      "\u001b[0;32m~/anaconda3/lib/python3.6/site-packages/numpy/lib/shape_base.py\u001b[0m in \u001b[0;36mcolumn_stack\u001b[0;34m(tup)\u001b[0m\n\u001b[1;32m    367\u001b[0m             \u001b[0marr\u001b[0m \u001b[0;34m=\u001b[0m \u001b[0marray\u001b[0m\u001b[0;34m(\u001b[0m\u001b[0marr\u001b[0m\u001b[0;34m,\u001b[0m \u001b[0mcopy\u001b[0m\u001b[0;34m=\u001b[0m\u001b[0;32mFalse\u001b[0m\u001b[0;34m,\u001b[0m \u001b[0msubok\u001b[0m\u001b[0;34m=\u001b[0m\u001b[0;32mTrue\u001b[0m\u001b[0;34m,\u001b[0m \u001b[0mndmin\u001b[0m\u001b[0;34m=\u001b[0m\u001b[0;36m2\u001b[0m\u001b[0;34m)\u001b[0m\u001b[0;34m.\u001b[0m\u001b[0mT\u001b[0m\u001b[0;34m\u001b[0m\u001b[0m\n\u001b[1;32m    368\u001b[0m         \u001b[0marrays\u001b[0m\u001b[0;34m.\u001b[0m\u001b[0mappend\u001b[0m\u001b[0;34m(\u001b[0m\u001b[0marr\u001b[0m\u001b[0;34m)\u001b[0m\u001b[0;34m\u001b[0m\u001b[0m\n\u001b[0;32m--> 369\u001b[0;31m     \u001b[0;32mreturn\u001b[0m \u001b[0m_nx\u001b[0m\u001b[0;34m.\u001b[0m\u001b[0mconcatenate\u001b[0m\u001b[0;34m(\u001b[0m\u001b[0marrays\u001b[0m\u001b[0;34m,\u001b[0m \u001b[0;36m1\u001b[0m\u001b[0;34m)\u001b[0m\u001b[0;34m\u001b[0m\u001b[0m\n\u001b[0m\u001b[1;32m    370\u001b[0m \u001b[0;34m\u001b[0m\u001b[0m\n\u001b[1;32m    371\u001b[0m \u001b[0;32mdef\u001b[0m \u001b[0mdstack\u001b[0m\u001b[0;34m(\u001b[0m\u001b[0mtup\u001b[0m\u001b[0;34m)\u001b[0m\u001b[0;34m:\u001b[0m\u001b[0;34m\u001b[0m\u001b[0m\n",
      "\u001b[0;31mTypeError\u001b[0m: invalid type promotion"
     ]
    },
    {
     "data": {
      "image/png": "[encoded data removed]",
      "text/plain": [
       "<matplotlib.figure.Figure at 0x7efe4c4377b8>"
      ]
     },
     "metadata": {},
     "output_type": "display_data"
    }
   ],
   "source": [
    "plt.scatter(df_weather_rain.DATE, df_weather_rain.TMAX)"
   ]
  },
  {
   "cell_type": "code",
   "execution_count": 41,
   "metadata": {},
   "outputs": [
    {
     "data": {
      "image/png": "[encoded data removed]",
      "text/plain": [
       "<matplotlib.figure.Figure at 0x7efe5f71b1d0>"
      ]
     },
     "metadata": {},
     "output_type": "display_data"
    }
   ],
   "source": [
    "x = df_weather_rain.DATE.values\n",
    "y = df_weather_rain.PRCP.values\n",
    "\n",
    "plt.plot(x,y)\n",
    "plt.show()"
   ]
  },
  {
   "cell_type": "code",
   "execution_count": null,
   "metadata": {
    "collapsed": true
   },
   "outputs": [],
   "source": []
  },
  {
   "cell_type": "markdown",
   "metadata": {},
   "source": [
    "### Road Weather Information Stations"
   ]
  },
  {
   "cell_type": "markdown",
   "metadata": {},
   "source": [
    "https://data.seattle.gov/Transportation/Road-Weather-Information-Stations/egc4-d24i"
   ]
  },
  {
   "cell_type": "markdown",
   "metadata": {},
   "source": [
    "large dataset, 31M rows, may need to use API to retrieve aggregated dataset or a subset\n",
    "\n",
    "03/03/2014 - 04/16/2018, by minute\n",
    "\n",
    "10 weather stations within Seattle"
   ]
  },
  {
   "cell_type": "markdown",
   "metadata": {},
   "source": [
    "https://data.seattle.gov/d/ivtm-938t\n",
    "\n",
    "location, time, road surface temperature, air temp\n",
    "\n",
    "This data is derived from sensor stations placed on bridges and surface streets within city limits. Each station has a temperature sensor that measures the temperature of the street surface and a sensor that measures the ambient air temperature at the station each second. Those values are averaged into temperature readings that are recorded by the station every minute. The dataset is updated every fifteen minutes with new data."
   ]
  },
  {
   "cell_type": "code",
   "execution_count": 125,
   "metadata": {
    "collapsed": true
   },
   "outputs": [],
   "source": [
    "df_weather_stations = pd.read_csv(\"Road_Weather_Information_Stations.csv\") "
   ]
  },
  {
   "cell_type": "code",
   "execution_count": 126,
   "metadata": {},
   "outputs": [
    {
     "data": {
      "text/plain": [
       "(31642625, 6)"
      ]
     },
     "execution_count": 126,
     "metadata": {},
     "output_type": "execute_result"
    }
   ],
   "source": [
    "df_weather_stations.shape"
   ]
  },
  {
   "cell_type": "code",
   "execution_count": 127,
   "metadata": {},
   "outputs": [
    {
     "data": {
      "text/plain": [
       "SpokaneSwingBridge           3475605\n",
       "35thAveSW_SWMyrtleSt         3471082\n",
       "RooseveltWay_NE80thSt        3309084\n",
       "HarborAveUpperNorthBridge    3192882\n",
       "AlaskanWayViaduct_KingSt     3119823\n",
       "NE45StViaduct                3117396\n",
       "AuroraBridge                 3101178\n",
       "MagnoliaBridge               3010007\n",
       "AlbroPlaceAirportWay         2941986\n",
       "JoseRizalBridgeNorth         2903582\n",
       "Name: StationName, dtype: int64"
      ]
     },
     "execution_count": 127,
     "metadata": {},
     "output_type": "execute_result"
    }
   ],
   "source": [
    "df_weather_stations.StationName.value_counts()"
   ]
  },
  {
   "cell_type": "code",
   "execution_count": 128,
   "metadata": {},
   "outputs": [
    {
     "data": {
      "text/html": [
       "<div>\n",
       "<style scoped>\n",
       "    .dataframe tbody tr th:only-of-type {\n",
       "        vertical-align: middle;\n",
       "    }\n",
       "\n",
       "    .dataframe tbody tr th {\n",
       "        vertical-align: top;\n",
       "    }\n",
       "\n",
       "    .dataframe thead th {\n",
       "        text-align: right;\n",
       "    }\n",
       "</style>\n",
       "<table border=\"1\" class=\"dataframe\">\n",
       "  <thead>\n",
       "    <tr style=\"text-align: right;\">\n",
       "      <th></th>\n",
       "      <th>StationName</th>\n",
       "      <th>StationLocation</th>\n",
       "      <th>DateTime</th>\n",
       "      <th>RecordId</th>\n",
       "      <th>RoadSurfaceTemperature</th>\n",
       "      <th>AirTemperature</th>\n",
       "    </tr>\n",
       "  </thead>\n",
       "  <tbody>\n",
       "    <tr>\n",
       "      <th>0</th>\n",
       "      <td>35thAveSW_SWMyrtleSt</td>\n",
       "      <td>(47.53918, -122.37658)</td>\n",
       "      <td>03/03/2014 12:42:00 PM</td>\n",
       "      <td>672560</td>\n",
       "      <td>53.88</td>\n",
       "      <td>53.88</td>\n",
       "    </tr>\n",
       "    <tr>\n",
       "      <th>1</th>\n",
       "      <td>35thAveSW_SWMyrtleSt</td>\n",
       "      <td>(47.53918, -122.37658)</td>\n",
       "      <td>03/03/2014 12:43:00 PM</td>\n",
       "      <td>672561</td>\n",
       "      <td>54.05</td>\n",
       "      <td>54.05</td>\n",
       "    </tr>\n",
       "    <tr>\n",
       "      <th>2</th>\n",
       "      <td>35thAveSW_SWMyrtleSt</td>\n",
       "      <td>(47.53918, -122.37658)</td>\n",
       "      <td>03/03/2014 12:44:00 PM</td>\n",
       "      <td>672562</td>\n",
       "      <td>54.21</td>\n",
       "      <td>54.21</td>\n",
       "    </tr>\n",
       "    <tr>\n",
       "      <th>3</th>\n",
       "      <td>35thAveSW_SWMyrtleSt</td>\n",
       "      <td>(47.53918, -122.37658)</td>\n",
       "      <td>03/03/2014 12:45:00 PM</td>\n",
       "      <td>672563</td>\n",
       "      <td>54.38</td>\n",
       "      <td>54.38</td>\n",
       "    </tr>\n",
       "    <tr>\n",
       "      <th>4</th>\n",
       "      <td>35thAveSW_SWMyrtleSt</td>\n",
       "      <td>(47.53918, -122.37658)</td>\n",
       "      <td>03/03/2014 12:46:00 PM</td>\n",
       "      <td>672564</td>\n",
       "      <td>54.54</td>\n",
       "      <td>54.54</td>\n",
       "    </tr>\n",
       "  </tbody>\n",
       "</table>\n",
       "</div>"
      ],
      "text/plain": [
       "            StationName         StationLocation                DateTime  \\\n",
       "0  35thAveSW_SWMyrtleSt  (47.53918, -122.37658)  03/03/2014 12:42:00 PM   \n",
       "1  35thAveSW_SWMyrtleSt  (47.53918, -122.37658)  03/03/2014 12:43:00 PM   \n",
       "2  35thAveSW_SWMyrtleSt  (47.53918, -122.37658)  03/03/2014 12:44:00 PM   \n",
       "3  35thAveSW_SWMyrtleSt  (47.53918, -122.37658)  03/03/2014 12:45:00 PM   \n",
       "4  35thAveSW_SWMyrtleSt  (47.53918, -122.37658)  03/03/2014 12:46:00 PM   \n",
       "\n",
       "   RecordId  RoadSurfaceTemperature  AirTemperature  \n",
       "0    672560                   53.88           53.88  \n",
       "1    672561                   54.05           54.05  \n",
       "2    672562                   54.21           54.21  \n",
       "3    672563                   54.38           54.38  \n",
       "4    672564                   54.54           54.54  "
      ]
     },
     "execution_count": 128,
     "metadata": {},
     "output_type": "execute_result"
    }
   ],
   "source": [
    "df_weather_stations.head()"
   ]
  },
  {
   "cell_type": "code",
   "execution_count": 132,
   "metadata": {
    "collapsed": true
   },
   "outputs": [],
   "source": [
    "diff = df_weather_stations.RoadSurfaceTemperature - df_weather_stations.AirTemperature"
   ]
  },
  {
   "cell_type": "code",
   "execution_count": 133,
   "metadata": {
    "collapsed": true
   },
   "outputs": [
    {
     "data": {
      "text/plain": [
       "0           0.00\n",
       "1           0.00\n",
       "2           0.00\n",
       "3           0.00\n",
       "4           0.00\n",
       "5           0.00\n",
       "6           0.00\n",
       "7           0.00\n",
       "8           0.00\n",
       "9           0.00\n",
       "10          0.00\n",
       "11          0.00\n",
       "12          0.00\n",
       "13          0.00\n",
       "14          0.00\n",
       "15          0.00\n",
       "16          0.00\n",
       "17          0.00\n",
       "18          0.00\n",
       "19          8.07\n",
       "20          8.23\n",
       "21          8.34\n",
       "22          8.42\n",
       "23          8.49\n",
       "24          8.54\n",
       "25          8.60\n",
       "26          8.64\n",
       "27          8.71\n",
       "28          8.78\n",
       "29          8.85\n",
       "            ... \n",
       "31642595   -1.21\n",
       "31642596   -1.18\n",
       "31642597   -1.22\n",
       "31642598   -1.22\n",
       "31642599   -1.30\n",
       "31642600   -1.49\n",
       "31642601   -1.65\n",
       "31642602   -1.74\n",
       "31642603   -1.54\n",
       "31642604   -1.68\n",
       "31642605   -1.90\n",
       "31642606   -1.81\n",
       "31642607   -1.80\n",
       "31642608   -1.56\n",
       "31642609   -1.39\n",
       "31642610   -1.27\n",
       "31642611   -1.30\n",
       "31642612   -1.35\n",
       "31642613   -1.24\n",
       "31642614   -1.17\n",
       "31642615   -1.22\n",
       "31642616   -1.21\n",
       "31642617   -1.19\n",
       "31642618   -1.49\n",
       "31642619   -1.59\n",
       "31642620   -1.56\n",
       "31642621   -1.41\n",
       "31642622   -1.33\n",
       "31642623   -1.31\n",
       "31642624   -1.43\n",
       "Length: 31642625, dtype: float64"
      ]
     },
     "execution_count": 133,
     "metadata": {},
     "output_type": "execute_result"
    }
   ],
   "source": [
    "diff"
   ]
  },
  {
   "cell_type": "code",
   "execution_count": 134,
   "metadata": {
    "collapsed": true
   },
   "outputs": [
    {
     "data": {
      "text/plain": [
       "StationName               AlaskanWayViaduct_KingSt\n",
       "StationLocation           (47.598438, -122.335612)\n",
       "DateTime                    03/03/2014 12:48:00 PM\n",
       "RecordId                                    690987\n",
       "RoadSurfaceTemperature                       56.79\n",
       "AirTemperature                               48.45\n",
       "Name: 21, dtype: object"
      ]
     },
     "execution_count": 134,
     "metadata": {},
     "output_type": "execute_result"
    }
   ],
   "source": [
    "df_weather_stations.loc[21, :]"
   ]
  },
  {
   "cell_type": "code",
   "execution_count": 141,
   "metadata": {
    "collapsed": true
   },
   "outputs": [
    {
     "ename": "KeyboardInterrupt",
     "evalue": "",
     "output_type": "error",
     "traceback": [
      "\u001b[0;31m---------------------------------------------------------------------------\u001b[0m",
      "\u001b[0;31mValueError\u001b[0m                                Traceback (most recent call last)",
      "\u001b[0;32mpandas/_libs/tslib.pyx\u001b[0m in \u001b[0;36mpandas._libs.tslib.array_to_datetime\u001b[0;34m()\u001b[0m\n",
      "\u001b[0;32mpandas/_libs/src/datetime.pxd\u001b[0m in \u001b[0;36mdatetime._string_to_dts\u001b[0;34m()\u001b[0m\n",
      "\u001b[0;31mValueError\u001b[0m: Error parsing datetime string \"04/14/2015 02:14:00 AM\" at position 2",
      "\nDuring handling of the above exception, another exception occurred:\n",
      "\u001b[0;31mKeyboardInterrupt\u001b[0m                         Traceback (most recent call last)",
      "\u001b[0;32m<ipython-input-141-58a0eb3ca7c9>\u001b[0m in \u001b[0;36m<module>\u001b[0;34m()\u001b[0m\n\u001b[0;32m----> 1\u001b[0;31m \u001b[0mdf_weather_stations\u001b[0m\u001b[0;34m.\u001b[0m\u001b[0mDateTime\u001b[0m \u001b[0;34m=\u001b[0m \u001b[0mpd\u001b[0m\u001b[0;34m.\u001b[0m\u001b[0mto_datetime\u001b[0m\u001b[0;34m(\u001b[0m\u001b[0mdf_weather_stations\u001b[0m\u001b[0;34m.\u001b[0m\u001b[0mDateTime\u001b[0m\u001b[0;34m)\u001b[0m\u001b[0;34m\u001b[0m\u001b[0m\n\u001b[0m",
      "\u001b[0;32m~/anaconda3/lib/python3.6/site-packages/pandas/core/tools/datetimes.py\u001b[0m in \u001b[0;36mto_datetime\u001b[0;34m(arg, errors, dayfirst, yearfirst, utc, box, format, exact, unit, infer_datetime_format, origin)\u001b[0m\n\u001b[1;32m    371\u001b[0m     \u001b[0;32melif\u001b[0m \u001b[0misinstance\u001b[0m\u001b[0;34m(\u001b[0m\u001b[0marg\u001b[0m\u001b[0;34m,\u001b[0m \u001b[0mABCSeries\u001b[0m\u001b[0;34m)\u001b[0m\u001b[0;34m:\u001b[0m\u001b[0;34m\u001b[0m\u001b[0m\n\u001b[1;32m    372\u001b[0m         \u001b[0;32mfrom\u001b[0m \u001b[0mpandas\u001b[0m \u001b[0;32mimport\u001b[0m \u001b[0mSeries\u001b[0m\u001b[0;34m\u001b[0m\u001b[0m\n\u001b[0;32m--> 373\u001b[0;31m         \u001b[0mvalues\u001b[0m \u001b[0;34m=\u001b[0m \u001b[0m_convert_listlike\u001b[0m\u001b[0;34m(\u001b[0m\u001b[0marg\u001b[0m\u001b[0;34m.\u001b[0m\u001b[0m_values\u001b[0m\u001b[0;34m,\u001b[0m \u001b[0;32mTrue\u001b[0m\u001b[0;34m,\u001b[0m \u001b[0mformat\u001b[0m\u001b[0;34m)\u001b[0m\u001b[0;34m\u001b[0m\u001b[0m\n\u001b[0m\u001b[1;32m    374\u001b[0m         \u001b[0mresult\u001b[0m \u001b[0;34m=\u001b[0m \u001b[0mSeries\u001b[0m\u001b[0;34m(\u001b[0m\u001b[0mvalues\u001b[0m\u001b[0;34m,\u001b[0m \u001b[0mindex\u001b[0m\u001b[0;34m=\u001b[0m\u001b[0marg\u001b[0m\u001b[0;34m.\u001b[0m\u001b[0mindex\u001b[0m\u001b[0;34m,\u001b[0m \u001b[0mname\u001b[0m\u001b[0;34m=\u001b[0m\u001b[0marg\u001b[0m\u001b[0;34m.\u001b[0m\u001b[0mname\u001b[0m\u001b[0;34m)\u001b[0m\u001b[0;34m\u001b[0m\u001b[0m\n\u001b[1;32m    375\u001b[0m     \u001b[0;32melif\u001b[0m \u001b[0misinstance\u001b[0m\u001b[0;34m(\u001b[0m\u001b[0marg\u001b[0m\u001b[0;34m,\u001b[0m \u001b[0;34m(\u001b[0m\u001b[0mABCDataFrame\u001b[0m\u001b[0;34m,\u001b[0m \u001b[0mMutableMapping\u001b[0m\u001b[0;34m)\u001b[0m\u001b[0;34m)\u001b[0m\u001b[0;34m:\u001b[0m\u001b[0;34m\u001b[0m\u001b[0m\n",
      "\u001b[0;32m~/anaconda3/lib/python3.6/site-packages/pandas/core/tools/datetimes.py\u001b[0m in \u001b[0;36m_convert_listlike\u001b[0;34m(arg, box, format, name, tz)\u001b[0m\n\u001b[1;32m    292\u001b[0m                     \u001b[0mdayfirst\u001b[0m\u001b[0;34m=\u001b[0m\u001b[0mdayfirst\u001b[0m\u001b[0;34m,\u001b[0m\u001b[0;34m\u001b[0m\u001b[0m\n\u001b[1;32m    293\u001b[0m                     \u001b[0myearfirst\u001b[0m\u001b[0;34m=\u001b[0m\u001b[0myearfirst\u001b[0m\u001b[0;34m,\u001b[0m\u001b[0;34m\u001b[0m\u001b[0m\n\u001b[0;32m--> 294\u001b[0;31m                     \u001b[0mrequire_iso8601\u001b[0m\u001b[0;34m=\u001b[0m\u001b[0mrequire_iso8601\u001b[0m\u001b[0;34m\u001b[0m\u001b[0m\n\u001b[0m\u001b[1;32m    295\u001b[0m                 )\n\u001b[1;32m    296\u001b[0m \u001b[0;34m\u001b[0m\u001b[0m\n",
      "\u001b[0;32mpandas/_libs/tslib.pyx\u001b[0m in \u001b[0;36mpandas._libs.tslib.array_to_datetime\u001b[0;34m()\u001b[0m\n",
      "\u001b[0;32mpandas/_libs/tslib.pyx\u001b[0m in \u001b[0;36mpandas._libs.tslib.array_to_datetime\u001b[0;34m()\u001b[0m\n",
      "\u001b[0;32mpandas/_libs/tslibs/parsing.pyx\u001b[0m in \u001b[0;36mpandas._libs.tslibs.parsing.parse_datetime_string\u001b[0;34m()\u001b[0m\n",
      "\u001b[0;32m~/anaconda3/lib/python3.6/site-packages/dateutil/parser.py\u001b[0m in \u001b[0;36mparse\u001b[0;34m(timestr, parserinfo, **kwargs)\u001b[0m\n\u001b[1;32m   1180\u001b[0m         \u001b[0;32mreturn\u001b[0m \u001b[0mparser\u001b[0m\u001b[0;34m(\u001b[0m\u001b[0mparserinfo\u001b[0m\u001b[0;34m)\u001b[0m\u001b[0;34m.\u001b[0m\u001b[0mparse\u001b[0m\u001b[0;34m(\u001b[0m\u001b[0mtimestr\u001b[0m\u001b[0;34m,\u001b[0m \u001b[0;34m**\u001b[0m\u001b[0mkwargs\u001b[0m\u001b[0;34m)\u001b[0m\u001b[0;34m\u001b[0m\u001b[0m\n\u001b[1;32m   1181\u001b[0m     \u001b[0;32melse\u001b[0m\u001b[0;34m:\u001b[0m\u001b[0;34m\u001b[0m\u001b[0m\n\u001b[0;32m-> 1182\u001b[0;31m         \u001b[0;32mreturn\u001b[0m \u001b[0mDEFAULTPARSER\u001b[0m\u001b[0;34m.\u001b[0m\u001b[0mparse\u001b[0m\u001b[0;34m(\u001b[0m\u001b[0mtimestr\u001b[0m\u001b[0;34m,\u001b[0m \u001b[0;34m**\u001b[0m\u001b[0mkwargs\u001b[0m\u001b[0;34m)\u001b[0m\u001b[0;34m\u001b[0m\u001b[0m\n\u001b[0m\u001b[1;32m   1183\u001b[0m \u001b[0;34m\u001b[0m\u001b[0m\n\u001b[1;32m   1184\u001b[0m \u001b[0;34m\u001b[0m\u001b[0m\n",
      "\u001b[0;32m~/anaconda3/lib/python3.6/site-packages/dateutil/parser.py\u001b[0m in \u001b[0;36mparse\u001b[0;34m(self, timestr, default, ignoretz, tzinfos, **kwargs)\u001b[0m\n\u001b[1;32m    554\u001b[0m                                                       second=0, microsecond=0)\n\u001b[1;32m    555\u001b[0m \u001b[0;34m\u001b[0m\u001b[0m\n\u001b[0;32m--> 556\u001b[0;31m         \u001b[0mres\u001b[0m\u001b[0;34m,\u001b[0m \u001b[0mskipped_tokens\u001b[0m \u001b[0;34m=\u001b[0m \u001b[0mself\u001b[0m\u001b[0;34m.\u001b[0m\u001b[0m_parse\u001b[0m\u001b[0;34m(\u001b[0m\u001b[0mtimestr\u001b[0m\u001b[0;34m,\u001b[0m \u001b[0;34m**\u001b[0m\u001b[0mkwargs\u001b[0m\u001b[0;34m)\u001b[0m\u001b[0;34m\u001b[0m\u001b[0m\n\u001b[0m\u001b[1;32m    557\u001b[0m \u001b[0;34m\u001b[0m\u001b[0m\n\u001b[1;32m    558\u001b[0m         \u001b[0;32mif\u001b[0m \u001b[0mres\u001b[0m \u001b[0;32mis\u001b[0m \u001b[0;32mNone\u001b[0m\u001b[0;34m:\u001b[0m\u001b[0;34m\u001b[0m\u001b[0m\n",
      "\u001b[0;32m~/anaconda3/lib/python3.6/site-packages/dateutil/parser.py\u001b[0m in \u001b[0;36m_parse\u001b[0;34m(self, timestr, dayfirst, yearfirst, fuzzy, fuzzy_with_tokens)\u001b[0m\n\u001b[1;32m    673\u001b[0m \u001b[0;34m\u001b[0m\u001b[0m\n\u001b[1;32m    674\u001b[0m         \u001b[0mres\u001b[0m \u001b[0;34m=\u001b[0m \u001b[0mself\u001b[0m\u001b[0;34m.\u001b[0m\u001b[0m_result\u001b[0m\u001b[0;34m(\u001b[0m\u001b[0;34m)\u001b[0m\u001b[0;34m\u001b[0m\u001b[0m\n\u001b[0;32m--> 675\u001b[0;31m         \u001b[0ml\u001b[0m \u001b[0;34m=\u001b[0m \u001b[0m_timelex\u001b[0m\u001b[0;34m.\u001b[0m\u001b[0msplit\u001b[0m\u001b[0;34m(\u001b[0m\u001b[0mtimestr\u001b[0m\u001b[0;34m)\u001b[0m         \u001b[0;31m# Splits the timestr into tokens\u001b[0m\u001b[0;34m\u001b[0m\u001b[0m\n\u001b[0m\u001b[1;32m    676\u001b[0m \u001b[0;34m\u001b[0m\u001b[0m\n\u001b[1;32m    677\u001b[0m         \u001b[0;31m# keep up with the last token skipped so we can recombine\u001b[0m\u001b[0;34m\u001b[0m\u001b[0;34m\u001b[0m\u001b[0m\n",
      "\u001b[0;32m~/anaconda3/lib/python3.6/site-packages/dateutil/parser.py\u001b[0m in \u001b[0;36msplit\u001b[0;34m(cls, s)\u001b[0m\n\u001b[1;32m    190\u001b[0m     \u001b[0;34m@\u001b[0m\u001b[0mclassmethod\u001b[0m\u001b[0;34m\u001b[0m\u001b[0m\n\u001b[1;32m    191\u001b[0m     \u001b[0;32mdef\u001b[0m \u001b[0msplit\u001b[0m\u001b[0;34m(\u001b[0m\u001b[0mcls\u001b[0m\u001b[0;34m,\u001b[0m \u001b[0ms\u001b[0m\u001b[0;34m)\u001b[0m\u001b[0;34m:\u001b[0m\u001b[0;34m\u001b[0m\u001b[0m\n\u001b[0;32m--> 192\u001b[0;31m         \u001b[0;32mreturn\u001b[0m \u001b[0mlist\u001b[0m\u001b[0;34m(\u001b[0m\u001b[0mcls\u001b[0m\u001b[0;34m(\u001b[0m\u001b[0ms\u001b[0m\u001b[0;34m)\u001b[0m\u001b[0;34m)\u001b[0m\u001b[0;34m\u001b[0m\u001b[0m\n\u001b[0m\u001b[1;32m    193\u001b[0m \u001b[0;34m\u001b[0m\u001b[0m\n\u001b[1;32m    194\u001b[0m     \u001b[0;34m@\u001b[0m\u001b[0mclassmethod\u001b[0m\u001b[0;34m\u001b[0m\u001b[0m\n",
      "\u001b[0;32m~/anaconda3/lib/python3.6/site-packages/dateutil/parser.py\u001b[0m in \u001b[0;36m__next__\u001b[0;34m(self)\u001b[0m\n\u001b[1;32m    179\u001b[0m \u001b[0;34m\u001b[0m\u001b[0m\n\u001b[1;32m    180\u001b[0m     \u001b[0;32mdef\u001b[0m \u001b[0m__next__\u001b[0m\u001b[0;34m(\u001b[0m\u001b[0mself\u001b[0m\u001b[0;34m)\u001b[0m\u001b[0;34m:\u001b[0m\u001b[0;34m\u001b[0m\u001b[0m\n\u001b[0;32m--> 181\u001b[0;31m         \u001b[0mtoken\u001b[0m \u001b[0;34m=\u001b[0m \u001b[0mself\u001b[0m\u001b[0;34m.\u001b[0m\u001b[0mget_token\u001b[0m\u001b[0;34m(\u001b[0m\u001b[0;34m)\u001b[0m\u001b[0;34m\u001b[0m\u001b[0m\n\u001b[0m\u001b[1;32m    182\u001b[0m         \u001b[0;32mif\u001b[0m \u001b[0mtoken\u001b[0m \u001b[0;32mis\u001b[0m \u001b[0;32mNone\u001b[0m\u001b[0;34m:\u001b[0m\u001b[0;34m\u001b[0m\u001b[0m\n\u001b[1;32m    183\u001b[0m             \u001b[0;32mraise\u001b[0m \u001b[0mStopIteration\u001b[0m\u001b[0;34m\u001b[0m\u001b[0m\n",
      "\u001b[0;32m~/anaconda3/lib/python3.6/site-packages/dateutil/parser.py\u001b[0m in \u001b[0;36mget_token\u001b[0;34m(self)\u001b[0m\n\u001b[1;32m    130\u001b[0m                 \u001b[0;31m# If we've already started reading a number, we keep reading\u001b[0m\u001b[0;34m\u001b[0m\u001b[0;34m\u001b[0m\u001b[0m\n\u001b[1;32m    131\u001b[0m                 \u001b[0;31m# numbers until we find something that doesn't fit.\u001b[0m\u001b[0;34m\u001b[0m\u001b[0;34m\u001b[0m\u001b[0m\n\u001b[0;32m--> 132\u001b[0;31m                 \u001b[0;32mif\u001b[0m \u001b[0mself\u001b[0m\u001b[0;34m.\u001b[0m\u001b[0misnum\u001b[0m\u001b[0;34m(\u001b[0m\u001b[0mnextchar\u001b[0m\u001b[0;34m)\u001b[0m\u001b[0;34m:\u001b[0m\u001b[0;34m\u001b[0m\u001b[0m\n\u001b[0m\u001b[1;32m    133\u001b[0m                     \u001b[0mtoken\u001b[0m \u001b[0;34m+=\u001b[0m \u001b[0mnextchar\u001b[0m\u001b[0;34m\u001b[0m\u001b[0m\n\u001b[1;32m    134\u001b[0m                 \u001b[0;32melif\u001b[0m \u001b[0mnextchar\u001b[0m \u001b[0;34m==\u001b[0m \u001b[0;34m'.'\u001b[0m \u001b[0;32mor\u001b[0m \u001b[0;34m(\u001b[0m\u001b[0mnextchar\u001b[0m \u001b[0;34m==\u001b[0m \u001b[0;34m','\u001b[0m \u001b[0;32mand\u001b[0m \u001b[0mlen\u001b[0m\u001b[0;34m(\u001b[0m\u001b[0mtoken\u001b[0m\u001b[0;34m)\u001b[0m \u001b[0;34m>=\u001b[0m \u001b[0;36m2\u001b[0m\u001b[0;34m)\u001b[0m\u001b[0;34m:\u001b[0m\u001b[0;34m\u001b[0m\u001b[0m\n",
      "\u001b[0;31mKeyboardInterrupt\u001b[0m: "
     ]
    }
   ],
   "source": [
    "df_weather_stations.DateTime = pd.to_datetime(df_weather_stations.DateTime)"
   ]
  },
  {
   "cell_type": "code",
   "execution_count": null,
   "metadata": {
    "collapsed": true
   },
   "outputs": [],
   "source": [
    "mask = (df_weather_stations.StationName == '35thAveSW_SWMyrtleSt')"
   ]
  },
  {
   "cell_type": "code",
   "execution_count": null,
   "metadata": {
    "collapsed": true
   },
   "outputs": [],
   "source": [
    "x = df_weather_stations[mask, ].DateTime.values\n",
    "y = df_weather_stations[mask, ].RoadSurfaceTemperature.values\n",
    "\n",
    "plt.plot(x,y)\n",
    "plt.show()"
   ]
  },
  {
   "cell_type": "code",
   "execution_count": null,
   "metadata": {
    "collapsed": true
   },
   "outputs": [],
   "source": []
  },
  {
   "cell_type": "markdown",
   "metadata": {},
   "source": [
    "### Traffic Flow Data 2016"
   ]
  },
  {
   "cell_type": "markdown",
   "metadata": {},
   "source": [
    "https://data-seattlecitygis.opendata.arcgis.com/datasets/170b764c52f34c9497720c0463f3b58b_9?geometry=-123.65%2C47.458%2C-121.463%2C47.782&page=187"
   ]
  },
  {
   "cell_type": "code",
   "execution_count": 135,
   "metadata": {
    "collapsed": true
   },
   "outputs": [],
   "source": [
    "df_flow = pd.read_csv(\"2016_Flow_Counts.csv\")"
   ]
  },
  {
   "cell_type": "code",
   "execution_count": 136,
   "metadata": {},
   "outputs": [
    {
     "data": {
      "text/html": [
       "<div>\n",
       "<style scoped>\n",
       "    .dataframe tbody tr th:only-of-type {\n",
       "        vertical-align: middle;\n",
       "    }\n",
       "\n",
       "    .dataframe tbody tr th {\n",
       "        vertical-align: top;\n",
       "    }\n",
       "\n",
       "    .dataframe thead th {\n",
       "        text-align: right;\n",
       "    }\n",
       "</style>\n",
       "<table border=\"1\" class=\"dataframe\">\n",
       "  <thead>\n",
       "    <tr style=\"text-align: right;\">\n",
       "      <th></th>\n",
       "      <th>objectid</th>\n",
       "      <th>count_compkey</th>\n",
       "      <th>first_stname_ord</th>\n",
       "      <th>first_artdescript</th>\n",
       "      <th>first_trandescript</th>\n",
       "      <th>countflag</th>\n",
       "      <th>flowsegid</th>\n",
       "      <th>downtown</th>\n",
       "      <th>countstart</th>\n",
       "      <th>countaadt</th>\n",
       "      <th>countaawdt</th>\n",
       "      <th>estimate</th>\n",
       "      <th>awdt_round</th>\n",
       "    </tr>\n",
       "  </thead>\n",
       "  <tbody>\n",
       "    <tr>\n",
       "      <th>0</th>\n",
       "      <td>1</td>\n",
       "      <td>1.0</td>\n",
       "      <td>15TH EMERSON RP</td>\n",
       "      <td>Principal Arterial</td>\n",
       "      <td>NOT DESIGNATED</td>\n",
       "      <td>Y</td>\n",
       "      <td>3.0</td>\n",
       "      <td>N</td>\n",
       "      <td>NaN</td>\n",
       "      <td>NaN</td>\n",
       "      <td>17000.000000</td>\n",
       "      <td>Y</td>\n",
       "      <td>17000.0</td>\n",
       "    </tr>\n",
       "    <tr>\n",
       "      <th>1</th>\n",
       "      <td>2</td>\n",
       "      <td>1.0</td>\n",
       "      <td>HARBOR AV SW OFF RP</td>\n",
       "      <td>Principal Arterial</td>\n",
       "      <td>NOT DESIGNATED</td>\n",
       "      <td>Y</td>\n",
       "      <td>4.0</td>\n",
       "      <td>N</td>\n",
       "      <td>2015-04-07T00:00:00.000Z</td>\n",
       "      <td>0.000000</td>\n",
       "      <td>4744.234000</td>\n",
       "      <td>NaN</td>\n",
       "      <td>4700.0</td>\n",
       "    </tr>\n",
       "    <tr>\n",
       "      <th>2</th>\n",
       "      <td>3</td>\n",
       "      <td>1.0</td>\n",
       "      <td>SW ADMIRAL WY OFF RP</td>\n",
       "      <td>Principal Arterial</td>\n",
       "      <td>NOT DESIGNATED</td>\n",
       "      <td>Y</td>\n",
       "      <td>5.0</td>\n",
       "      <td>N</td>\n",
       "      <td>2015-04-07T00:00:00.000Z</td>\n",
       "      <td>8163.881000</td>\n",
       "      <td>8534.922000</td>\n",
       "      <td>NaN</td>\n",
       "      <td>8500.0</td>\n",
       "    </tr>\n",
       "    <tr>\n",
       "      <th>3</th>\n",
       "      <td>4</td>\n",
       "      <td>1.0</td>\n",
       "      <td>W SEATTLE BR WB-CHEL RP</td>\n",
       "      <td>Principal Arterial</td>\n",
       "      <td>NOT DESIGNATED</td>\n",
       "      <td>Y</td>\n",
       "      <td>6.0</td>\n",
       "      <td>N</td>\n",
       "      <td>2014-04-14T00:00:00.000Z</td>\n",
       "      <td>1670.317991</td>\n",
       "      <td>2013.366185</td>\n",
       "      <td>NaN</td>\n",
       "      <td>2000.0</td>\n",
       "    </tr>\n",
       "    <tr>\n",
       "      <th>4</th>\n",
       "      <td>5</td>\n",
       "      <td>1.0</td>\n",
       "      <td>CHELAN-W SEATTLE BR RP</td>\n",
       "      <td>Principal Arterial</td>\n",
       "      <td>NOT DESIGNATED</td>\n",
       "      <td>N</td>\n",
       "      <td>7.0</td>\n",
       "      <td>N</td>\n",
       "      <td>2015-04-07T00:00:00.000Z</td>\n",
       "      <td>1232.561000</td>\n",
       "      <td>1498.849000</td>\n",
       "      <td>NaN</td>\n",
       "      <td>1500.0</td>\n",
       "    </tr>\n",
       "  </tbody>\n",
       "</table>\n",
       "</div>"
      ],
      "text/plain": [
       "   objectid  count_compkey         first_stname_ord   first_artdescript  \\\n",
       "0         1            1.0          15TH EMERSON RP  Principal Arterial   \n",
       "1         2            1.0      HARBOR AV SW OFF RP  Principal Arterial   \n",
       "2         3            1.0     SW ADMIRAL WY OFF RP  Principal Arterial   \n",
       "3         4            1.0  W SEATTLE BR WB-CHEL RP  Principal Arterial   \n",
       "4         5            1.0   CHELAN-W SEATTLE BR RP  Principal Arterial   \n",
       "\n",
       "  first_trandescript countflag  flowsegid downtown                countstart  \\\n",
       "0     NOT DESIGNATED         Y        3.0        N                       NaN   \n",
       "1     NOT DESIGNATED         Y        4.0        N  2015-04-07T00:00:00.000Z   \n",
       "2     NOT DESIGNATED         Y        5.0        N  2015-04-07T00:00:00.000Z   \n",
       "3     NOT DESIGNATED         Y        6.0        N  2014-04-14T00:00:00.000Z   \n",
       "4     NOT DESIGNATED         N        7.0        N  2015-04-07T00:00:00.000Z   \n",
       "\n",
       "     countaadt    countaawdt estimate  awdt_round  \n",
       "0          NaN  17000.000000        Y     17000.0  \n",
       "1     0.000000   4744.234000      NaN      4700.0  \n",
       "2  8163.881000   8534.922000      NaN      8500.0  \n",
       "3  1670.317991   2013.366185      NaN      2000.0  \n",
       "4  1232.561000   1498.849000      NaN      1500.0  "
      ]
     },
     "execution_count": 136,
     "metadata": {},
     "output_type": "execute_result"
    }
   ],
   "source": [
    "df_flow.head()"
   ]
  },
  {
   "cell_type": "code",
   "execution_count": null,
   "metadata": {
    "collapsed": true
   },
   "outputs": [],
   "source": []
  },
  {
   "cell_type": "markdown",
   "metadata": {},
   "source": [
    "### Traffic Beacon Data"
   ]
  },
  {
   "cell_type": "markdown",
   "metadata": {},
   "source": [
    "https://data-seattlecitygis.opendata.arcgis.com/datasets/d6c8c39a7f854a80a24a1c5e8ac294bd_1/data?geometry=-123.65%2C47.458%2C-121.463%2C47.782&page=41&selectedAttribute=FLASHING"
   ]
  },
  {
   "cell_type": "code",
   "execution_count": 137,
   "metadata": {
    "collapsed": true
   },
   "outputs": [],
   "source": [
    "df_beacon = pd.read_csv(\"Traffic_Beacons.csv\")"
   ]
  },
  {
   "cell_type": "code",
   "execution_count": 139,
   "metadata": {},
   "outputs": [
    {
     "data": {
      "text/html": [
       "<div>\n",
       "<style scoped>\n",
       "    .dataframe tbody tr th:only-of-type {\n",
       "        vertical-align: middle;\n",
       "    }\n",
       "\n",
       "    .dataframe tbody tr th {\n",
       "        vertical-align: top;\n",
       "    }\n",
       "\n",
       "    .dataframe thead th {\n",
       "        text-align: right;\n",
       "    }\n",
       "</style>\n",
       "<table border=\"1\" class=\"dataframe\">\n",
       "  <thead>\n",
       "    <tr style=\"text-align: right;\">\n",
       "      <th></th>\n",
       "      <th>X</th>\n",
       "      <th>Y</th>\n",
       "      <th>OBJECTID</th>\n",
       "      <th>COMPKEY</th>\n",
       "      <th>UNITID</th>\n",
       "      <th>UNITDESC</th>\n",
       "      <th>CONDITION</th>\n",
       "      <th>CONDITION_ASSESSMENT_DATE</th>\n",
       "      <th>OWNERSHIP</th>\n",
       "      <th>CURRENT_STATUS</th>\n",
       "      <th>...</th>\n",
       "      <th>SPAN_CONDITION</th>\n",
       "      <th>CONTROL_CONDITION</th>\n",
       "      <th>CONTROL_TYPE</th>\n",
       "      <th>MODEM_TYPE</th>\n",
       "      <th>MODEL_TYPE</th>\n",
       "      <th>SIDE</th>\n",
       "      <th>SCHOOL_SPEED_CAMERA</th>\n",
       "      <th>OVERRIDECOMMENT</th>\n",
       "      <th>SHAPE_LNG</th>\n",
       "      <th>SHAPE_LAT</th>\n",
       "    </tr>\n",
       "  </thead>\n",
       "  <tbody>\n",
       "    <tr>\n",
       "      <th>0</th>\n",
       "      <td>-122.341266</td>\n",
       "      <td>47.663646</td>\n",
       "      <td>1</td>\n",
       "      <td>626699</td>\n",
       "      <td>BCN-386</td>\n",
       "      <td>STONE WAY N 0480 BLOCK NW SIDE (   0) 0 FT NE/...</td>\n",
       "      <td></td>\n",
       "      <td>NaN</td>\n",
       "      <td></td>\n",
       "      <td></td>\n",
       "      <td>...</td>\n",
       "      <td></td>\n",
       "      <td></td>\n",
       "      <td></td>\n",
       "      <td></td>\n",
       "      <td>BCN-RRFB</td>\n",
       "      <td>NW</td>\n",
       "      <td>N</td>\n",
       "      <td>NaN</td>\n",
       "      <td>-122.341266</td>\n",
       "      <td>47.663646</td>\n",
       "    </tr>\n",
       "    <tr>\n",
       "      <th>1</th>\n",
       "      <td>-122.271308</td>\n",
       "      <td>47.523394</td>\n",
       "      <td>2</td>\n",
       "      <td>626755</td>\n",
       "      <td>BCN-390</td>\n",
       "      <td>S HENDERSON ST 0500 BLOCK N SIDE (   0) 304 FT...</td>\n",
       "      <td></td>\n",
       "      <td>NaN</td>\n",
       "      <td></td>\n",
       "      <td></td>\n",
       "      <td>...</td>\n",
       "      <td></td>\n",
       "      <td></td>\n",
       "      <td></td>\n",
       "      <td></td>\n",
       "      <td>BCN-RRFB</td>\n",
       "      <td>N</td>\n",
       "      <td>N</td>\n",
       "      <td>NaN</td>\n",
       "      <td>-122.271308</td>\n",
       "      <td>47.523394</td>\n",
       "    </tr>\n",
       "  </tbody>\n",
       "</table>\n",
       "<p>2 rows × 45 columns</p>\n",
       "</div>"
      ],
      "text/plain": [
       "            X          Y  OBJECTID  COMPKEY   UNITID  \\\n",
       "0 -122.341266  47.663646         1   626699  BCN-386   \n",
       "1 -122.271308  47.523394         2   626755  BCN-390   \n",
       "\n",
       "                                            UNITDESC CONDITION  \\\n",
       "0  STONE WAY N 0480 BLOCK NW SIDE (   0) 0 FT NE/...             \n",
       "1  S HENDERSON ST 0500 BLOCK N SIDE (   0) 304 FT...             \n",
       "\n",
       "  CONDITION_ASSESSMENT_DATE OWNERSHIP CURRENT_STATUS    ...      \\\n",
       "0                       NaN                             ...       \n",
       "1                       NaN                             ...       \n",
       "\n",
       "  SPAN_CONDITION CONTROL_CONDITION CONTROL_TYPE  MODEM_TYPE  MODEL_TYPE  SIDE  \\\n",
       "0                                                              BCN-RRFB    NW   \n",
       "1                                                              BCN-RRFB     N   \n",
       "\n",
       "   SCHOOL_SPEED_CAMERA OVERRIDECOMMENT   SHAPE_LNG  SHAPE_LAT  \n",
       "0                    N             NaN -122.341266  47.663646  \n",
       "1                    N             NaN -122.271308  47.523394  \n",
       "\n",
       "[2 rows x 45 columns]"
      ]
     },
     "execution_count": 139,
     "metadata": {},
     "output_type": "execute_result"
    }
   ],
   "source": [
    "df_beacon.head(2)"
   ]
  },
  {
   "cell_type": "code",
   "execution_count": null,
   "metadata": {
    "collapsed": true
   },
   "outputs": [],
   "source": []
  }
 ],
 "metadata": {
  "kernelspec": {
   "display_name": "Python 3",
   "language": "python",
   "name": "python3"
  },
  "language_info": {
   "codemirror_mode": {
    "name": "ipython",
    "version": 3
   },
   "file_extension": ".py",
   "mimetype": "text/x-python",
   "name": "python",
   "nbconvert_exporter": "python",
   "pygments_lexer": "ipython3",
   "version": "3.5.3"
  }
 },
 "nbformat": 4,
 "nbformat_minor": 2
}
