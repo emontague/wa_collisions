{
 "cells": [
  {
   "cell_type": "markdown",
   "metadata": {
    "collapsed": true
   },
   "source": [
    "## Data Exploration \n",
    "- downloaded spreadsheet data from: https://data-seattlecitygis.opendata.arcgis.com/datasets/collisions/data?geometry=-122.526%2C47.676%2C-122.198%2C47.717"
   ]
  },
  {
   "cell_type": "code",
   "execution_count": 32,
   "metadata": {
    "collapsed": true
   },
   "outputs": [],
   "source": [
    "import matplotlib.pyplot as plt\n",
    "import numpy as np\n",
    "import pandas as pd"
   ]
  },
  {
   "cell_type": "code",
   "execution_count": 3,
   "metadata": {
    "collapsed": false
   },
   "outputs": [],
   "source": [
    "collisions=pd.read_csv(\"Collisions.csv\")"
   ]
  },
  {
   "cell_type": "code",
   "execution_count": 4,
   "metadata": {
    "collapsed": false
   },
   "outputs": [
    {
     "data": {
      "text/html": [
       "<div>\n",
       "<table border=\"1\" class=\"dataframe\">\n",
       "  <thead>\n",
       "    <tr style=\"text-align: right;\">\n",
       "      <th></th>\n",
       "      <th>X</th>\n",
       "      <th>Y</th>\n",
       "      <th>objectid</th>\n",
       "      <th>inckey</th>\n",
       "      <th>coldetkey</th>\n",
       "      <th>addrtype</th>\n",
       "      <th>collisiontype</th>\n",
       "      <th>exceptrsncode</th>\n",
       "      <th>exceptrsndesc</th>\n",
       "      <th>fatalities</th>\n",
       "      <th>...</th>\n",
       "      <th>speeding</th>\n",
       "      <th>st_colcode</th>\n",
       "      <th>st_coldesc</th>\n",
       "      <th>status</th>\n",
       "      <th>underinfl</th>\n",
       "      <th>vehcount</th>\n",
       "      <th>weather</th>\n",
       "      <th>seglanekey</th>\n",
       "      <th>crosswalkkey</th>\n",
       "      <th>hitparkedcar</th>\n",
       "    </tr>\n",
       "  </thead>\n",
       "  <tbody>\n",
       "    <tr>\n",
       "      <th>0</th>\n",
       "      <td>-122.311966</td>\n",
       "      <td>47.663084</td>\n",
       "      <td>162247138</td>\n",
       "      <td>224200</td>\n",
       "      <td>224480</td>\n",
       "      <td>Intersection</td>\n",
       "      <td>Other</td>\n",
       "      <td></td>\n",
       "      <td>NaN</td>\n",
       "      <td>0</td>\n",
       "      <td>...</td>\n",
       "      <td>NaN</td>\n",
       "      <td>23</td>\n",
       "      <td>From Same Direction - All Others</td>\n",
       "      <td>Matched</td>\n",
       "      <td>N</td>\n",
       "      <td>2</td>\n",
       "      <td>Clear or Partly Cloudy</td>\n",
       "      <td>0</td>\n",
       "      <td>0</td>\n",
       "      <td>N</td>\n",
       "    </tr>\n",
       "    <tr>\n",
       "      <th>1</th>\n",
       "      <td>-122.281547</td>\n",
       "      <td>47.537971</td>\n",
       "      <td>162247139</td>\n",
       "      <td>224000</td>\n",
       "      <td>224280</td>\n",
       "      <td>Block</td>\n",
       "      <td>NaN</td>\n",
       "      <td>NEI</td>\n",
       "      <td>Not Enough Information, or Insufficient Locati...</td>\n",
       "      <td>0</td>\n",
       "      <td>...</td>\n",
       "      <td>NaN</td>\n",
       "      <td></td>\n",
       "      <td>NaN</td>\n",
       "      <td>Unmatched</td>\n",
       "      <td>NaN</td>\n",
       "      <td>0</td>\n",
       "      <td>NaN</td>\n",
       "      <td>0</td>\n",
       "      <td>0</td>\n",
       "      <td>N</td>\n",
       "    </tr>\n",
       "    <tr>\n",
       "      <th>2</th>\n",
       "      <td>-122.343261</td>\n",
       "      <td>47.611452</td>\n",
       "      <td>162247140</td>\n",
       "      <td>223900</td>\n",
       "      <td>224180</td>\n",
       "      <td>Block</td>\n",
       "      <td>NaN</td>\n",
       "      <td>NEI</td>\n",
       "      <td>Not Enough Information, or Insufficient Locati...</td>\n",
       "      <td>0</td>\n",
       "      <td>...</td>\n",
       "      <td>NaN</td>\n",
       "      <td></td>\n",
       "      <td>NaN</td>\n",
       "      <td>Unmatched</td>\n",
       "      <td>NaN</td>\n",
       "      <td>0</td>\n",
       "      <td>NaN</td>\n",
       "      <td>0</td>\n",
       "      <td>0</td>\n",
       "      <td>N</td>\n",
       "    </tr>\n",
       "    <tr>\n",
       "      <th>3</th>\n",
       "      <td>-122.314650</td>\n",
       "      <td>47.571889</td>\n",
       "      <td>162247141</td>\n",
       "      <td>16555</td>\n",
       "      <td>16555</td>\n",
       "      <td>Block</td>\n",
       "      <td>Other</td>\n",
       "      <td></td>\n",
       "      <td>NaN</td>\n",
       "      <td>0</td>\n",
       "      <td>...</td>\n",
       "      <td>NaN</td>\n",
       "      <td>23</td>\n",
       "      <td>From Same Direction - All Others</td>\n",
       "      <td>Matched</td>\n",
       "      <td>N</td>\n",
       "      <td>2</td>\n",
       "      <td>Raining</td>\n",
       "      <td>0</td>\n",
       "      <td>0</td>\n",
       "      <td>N</td>\n",
       "    </tr>\n",
       "    <tr>\n",
       "      <th>4</th>\n",
       "      <td>-122.345060</td>\n",
       "      <td>47.616144</td>\n",
       "      <td>162247142</td>\n",
       "      <td>16554</td>\n",
       "      <td>16554</td>\n",
       "      <td>Block</td>\n",
       "      <td>NaN</td>\n",
       "      <td></td>\n",
       "      <td>NaN</td>\n",
       "      <td>0</td>\n",
       "      <td>...</td>\n",
       "      <td>NaN</td>\n",
       "      <td></td>\n",
       "      <td>NaN</td>\n",
       "      <td>Unmatched</td>\n",
       "      <td>NaN</td>\n",
       "      <td>0</td>\n",
       "      <td>NaN</td>\n",
       "      <td>0</td>\n",
       "      <td>0</td>\n",
       "      <td>N</td>\n",
       "    </tr>\n",
       "  </tbody>\n",
       "</table>\n",
       "<p>5 rows × 40 columns</p>\n",
       "</div>"
      ],
      "text/plain": [
       "            X          Y   objectid  inckey  coldetkey      addrtype  \\\n",
       "0 -122.311966  47.663084  162247138  224200     224480  Intersection   \n",
       "1 -122.281547  47.537971  162247139  224000     224280         Block   \n",
       "2 -122.343261  47.611452  162247140  223900     224180         Block   \n",
       "3 -122.314650  47.571889  162247141   16555      16555         Block   \n",
       "4 -122.345060  47.616144  162247142   16554      16554         Block   \n",
       "\n",
       "  collisiontype exceptrsncode  \\\n",
       "0         Other                 \n",
       "1           NaN           NEI   \n",
       "2           NaN           NEI   \n",
       "3         Other                 \n",
       "4           NaN                 \n",
       "\n",
       "                                       exceptrsndesc  fatalities  \\\n",
       "0                                                NaN           0   \n",
       "1  Not Enough Information, or Insufficient Locati...           0   \n",
       "2  Not Enough Information, or Insufficient Locati...           0   \n",
       "3                                                NaN           0   \n",
       "4                                                NaN           0   \n",
       "\n",
       "       ...      speeding st_colcode                        st_coldesc  \\\n",
       "0      ...           NaN         23  From Same Direction - All Others   \n",
       "1      ...           NaN                                          NaN   \n",
       "2      ...           NaN                                          NaN   \n",
       "3      ...           NaN         23  From Same Direction - All Others   \n",
       "4      ...           NaN                                          NaN   \n",
       "\n",
       "      status  underinfl vehcount                 weather seglanekey  \\\n",
       "0    Matched          N        2  Clear or Partly Cloudy          0   \n",
       "1  Unmatched        NaN        0                     NaN          0   \n",
       "2  Unmatched        NaN        0                     NaN          0   \n",
       "3    Matched          N        2                 Raining          0   \n",
       "4  Unmatched        NaN        0                     NaN          0   \n",
       "\n",
       "   crosswalkkey  hitparkedcar  \n",
       "0             0             N  \n",
       "1             0             N  \n",
       "2             0             N  \n",
       "3             0             N  \n",
       "4             0             N  \n",
       "\n",
       "[5 rows x 40 columns]"
      ]
     },
     "execution_count": 4,
     "metadata": {},
     "output_type": "execute_result"
    }
   ],
   "source": [
    "collisions.head()"
   ]
  },
  {
   "cell_type": "code",
   "execution_count": 5,
   "metadata": {
    "collapsed": false
   },
   "outputs": [
    {
     "data": {
      "text/plain": [
       "X                  float64\n",
       "Y                  float64\n",
       "objectid             int64\n",
       "inckey               int64\n",
       "coldetkey            int64\n",
       "addrtype            object\n",
       "collisiontype       object\n",
       "exceptrsncode       object\n",
       "exceptrsndesc       object\n",
       "fatalities           int64\n",
       "inattentionind      object\n",
       "incdate             object\n",
       "incdttm             object\n",
       "injuries             int64\n",
       "intkey             float64\n",
       "junctiontype        object\n",
       "lightcond           object\n",
       "location            object\n",
       "pedcount             int64\n",
       "pedcylcount          int64\n",
       "pedrownotgrnt       object\n",
       "personcount          int64\n",
       "reportno            object\n",
       "roadcond            object\n",
       "sdot_colcode       float64\n",
       "sdot_coldesc        object\n",
       "sdotcolnum         float64\n",
       "seriousinjuries      int64\n",
       "severitycode        object\n",
       "severitydesc        object\n",
       "speeding            object\n",
       "st_colcode          object\n",
       "st_coldesc          object\n",
       "status              object\n",
       "underinfl           object\n",
       "vehcount             int64\n",
       "weather             object\n",
       "seglanekey           int64\n",
       "crosswalkkey         int64\n",
       "hitparkedcar        object\n",
       "dtype: object"
      ]
     },
     "execution_count": 5,
     "metadata": {},
     "output_type": "execute_result"
    }
   ],
   "source": [
    "collisions.dtypes"
   ]
  },
  {
   "cell_type": "code",
   "execution_count": 8,
   "metadata": {
    "collapsed": false
   },
   "outputs": [
    {
     "data": {
      "text/plain": [
       "<matplotlib.collections.PathCollection at 0x1946f31a320>"
      ]
     },
     "execution_count": 8,
     "metadata": {},
     "output_type": "execute_result"
    },
    {
     "data": {
      "image/png": "[encoded data removed]",
      "text/plain": [
       "<matplotlib.figure.Figure at 0x194680981d0>"
      ]
     },
     "metadata": {},
     "output_type": "display_data"
    }
   ],
   "source": [
    "# all the lat / longs appear to be in the same general area - doesn't seem like there are any completely odd values \n",
    "%matplotlib inline\n",
    "plt.scatter(collisions.X,collisions.Y)"
   ]
  },
  {
   "cell_type": "code",
   "execution_count": 14,
   "metadata": {
    "collapsed": false
   },
   "outputs": [
    {
     "data": {
      "text/plain": [
       "Clear or Partly Cloudy          0.512834\n",
       "Raining                         0.156265\n",
       "Overcast                        0.129459\n",
       "Unknown                         0.074267\n",
       "Snowing                         0.004095\n",
       "Other                           0.003875\n",
       "Fog/Smog/Smoke                  0.002539\n",
       "Sleet/Hail/Freezing Rain        0.000546\n",
       "Blowing Sand or Dirt or Snow    0.000194\n",
       "Severe Crosswind                0.000097\n",
       "Name: weather, dtype: float64"
      ]
     },
     "execution_count": 14,
     "metadata": {},
     "output_type": "execute_result"
    }
   ],
   "source": [
    "# looking at what weather is coded \n",
    "collisions.weather.value_counts()/collisions.shape[0]"
   ]
  },
  {
   "cell_type": "code",
   "execution_count": 18,
   "metadata": {
    "collapsed": false
   },
   "outputs": [
    {
     "data": {
      "text/plain": [
       "0.1158294070856024"
      ]
     },
     "execution_count": 18,
     "metadata": {},
     "output_type": "execute_result"
    }
   ],
   "source": [
    "# there is about 10% of the time when the weather is not coded\n",
    "# we could enhance that \n",
    "collisions.weather.isnull().mean()"
   ]
  },
  {
   "cell_type": "code",
   "execution_count": 19,
   "metadata": {
    "collapsed": false
   },
   "outputs": [
    {
     "data": {
      "text/plain": [
       "1     122610\n",
       "2      51580\n",
       "0      18934\n",
       "2b      2688\n",
       "3        304\n",
       "Name: severitycode, dtype: int64"
      ]
     },
     "execution_count": 19,
     "metadata": {},
     "output_type": "execute_result"
    }
   ],
   "source": [
    "collisions.severitycode.value_counts()"
   ]
  },
  {
   "cell_type": "code",
   "execution_count": 52,
   "metadata": {
    "collapsed": false
   },
   "outputs": [
    {
     "data": {
      "text/plain": [
       "<matplotlib.axes._subplots.AxesSubplot at 0x19470189898>"
      ]
     },
     "execution_count": 52,
     "metadata": {},
     "output_type": "execute_result"
    },
    {
     "data": {
      "image/png": "[encoded data removed]",
      "text/plain": [
       "<matplotlib.figure.Figure at 0x194701104e0>"
      ]
     },
     "metadata": {},
     "output_type": "display_data"
    }
   ],
   "source": [
    "result_null=pd.DataFrame(np.zeros((len(collisions.columns),2)))\n",
    "result_null.columns=[\"Column\",\"Null\"]\n",
    "result_null.index=collisions.columns\n",
    "for c in collisions.columns: \n",
    "    result_null.loc[c,\"Column\"]=str(c)\n",
    "    result_null.loc[c,\"Null\"]=round(collisions.loc[:,c].isnull().mean()*100,2)\n",
    "result_null.plot(kind=\"bar\")"
   ]
  }
 ],
 "metadata": {
  "kernelspec": {
   "display_name": "Python [conda root]",
   "language": "python",
   "name": "conda-root-py"
  },
  "language_info": {
   "codemirror_mode": {
    "name": "ipython",
    "version": 3
   },
   "file_extension": ".py",
   "mimetype": "text/x-python",
   "name": "python",
   "nbconvert_exporter": "python",
   "pygments_lexer": "ipython3",
   "version": "3.5.2"
  }
 },
 "nbformat": 4,
 "nbformat_minor": 2
}
