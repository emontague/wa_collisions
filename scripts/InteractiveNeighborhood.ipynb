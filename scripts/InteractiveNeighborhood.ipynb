{
 "cells": [
  {
   "cell_type": "code",
   "execution_count": 1,
   "metadata": {
    "collapsed": true
   },
   "outputs": [],
   "source": [
    "#First we'll add another directory to paths list so we can import our package render_stats\n",
    "import sys\n",
    "import os\n",
    "module_path = os.path.abspath(os.path.join('..'))\n",
    "if module_path not in sys.path:\n",
    "    sys.path.append(module_path)"
   ]
  },
  {
   "cell_type": "code",
   "execution_count": 2,
   "metadata": {},
   "outputs": [],
   "source": [
    "import pandas as pd\n",
    "from wa_collisions.neighborhood_reader import get_neighborhood, assign_neighborhood\n",
    "import folium\n",
    "from IPython.display import display\n",
    "import numpy as np\n",
    "import ipywidgets as widgets\n",
    "from ipywidgets import interactive\n",
    "import folium\n",
    "import folium.plugins as plugins\n",
    "from wa_collisions.visualizer import visualize_neighborhood_count"
   ]
  },
  {
   "cell_type": "code",
   "execution_count": 3,
   "metadata": {},
   "outputs": [
    {
     "name": "stderr",
     "output_type": "stream",
     "text": [
      "C:\\Users\\salik\\Anaconda3\\lib\\site-packages\\IPython\\core\\interactiveshell.py:2683: DtypeWarning: Columns (31) have mixed types. Specify dtype option on import or set low_memory=False.\n",
      "  interactivity=interactivity, compiler=compiler, result=result)\n"
     ]
    }
   ],
   "source": [
    "df = pd.read_csv(\"../wa_collisions/data/Collisions.csv\")"
   ]
  },
  {
   "cell_type": "code",
   "execution_count": 4,
   "metadata": {},
   "outputs": [],
   "source": [
    "df_with_neighborhood = assign_neighborhood(df, path=\"../wa_collisions/data/Neighborhoods/Neighborhoods.json\")"
   ]
  },
  {
   "cell_type": "code",
   "execution_count": 5,
   "metadata": {
    "collapsed": true
   },
   "outputs": [],
   "source": [
    "# Define widget\n",
    "roadcond_selection = widgets.Dropdown(\n",
    "    options=list(set(df_with_neighborhood[-pd.isnull(df_with_neighborhood.roadcond)].roadcond.values)),\n",
    "    value='Wet',\n",
    "    description='Road Condition:',\n",
    "    disabled=False\n",
    ")"
   ]
  },
  {
   "cell_type": "code",
   "execution_count": 6,
   "metadata": {},
   "outputs": [],
   "source": [
    "columns = ['X', 'Y', 'roadcond', 'object_id']\n",
    "\n",
    "# Define function to view or plot data\n",
    "def map_by_weather(roadcond=''):\n",
    "    df_collision = df_with_neighborhood.loc[df.roadcond == roadcond, columns].dropna(axis = 0, how = 'any')\n",
    "    display(visualize_neighborhood_count(df_collision,path=\"../wa_collisions/data/Neighborhoods/Neighborhoods.json\"))\n",
    "    "
   ]
  },
  {
   "cell_type": "code",
   "execution_count": 7,
   "metadata": {},
   "outputs": [
    {
     "data": {
      "application/vnd.jupyter.widget-view+json": {
       "model_id": "7aa3ece311a14636bcc03d116eea0022"
      }
     },
     "metadata": {},
     "output_type": "display_data"
    }
   ],
   "source": [
    "# Define interactivity\n",
    "interactive(map_by_weather, roadcond=roadcond_selection)"
   ]
  },
  {
   "cell_type": "code",
   "execution_count": null,
   "metadata": {
    "collapsed": true
   },
   "outputs": [],
   "source": []
  }
 ],
 "metadata": {
  "kernelspec": {
   "display_name": "Python 3",
   "language": "python",
   "name": "python3"
  },
  "language_info": {
   "codemirror_mode": {
    "name": "ipython",
    "version": 3
   },
   "file_extension": ".py",
   "mimetype": "text/x-python",
   "name": "python",
   "nbconvert_exporter": "python",
   "pygments_lexer": "ipython3",
   "version": "3.5.3"
  }
 },
 "nbformat": 4,
 "nbformat_minor": 2
}
