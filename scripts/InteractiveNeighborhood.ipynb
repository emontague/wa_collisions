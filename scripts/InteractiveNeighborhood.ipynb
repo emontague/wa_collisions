{
 "cells": [
  {
   "cell_type": "code",
   "execution_count": 2,
   "metadata": {
    "collapsed": true
   },
   "outputs": [],
   "source": [
    "import pandas as pd\n",
    "from neighborhood_reader import get_neighborhood, assign_neighborhood\n",
    "import folium\n",
    "from IPython.display import display\n",
    "import numpy as np"
   ]
  },
  {
   "cell_type": "code",
   "execution_count": 3,
   "metadata": {},
   "outputs": [
    {
     "name": "stderr",
     "output_type": "stream",
     "text": [
      "C:\\Users\\salik\\Anaconda3\\lib\\site-packages\\IPython\\core\\interactiveshell.py:2683: DtypeWarning: Columns (31) have mixed types. Specify dtype option on import or set low_memory=False.\n",
      "  interactivity=interactivity, compiler=compiler, result=result)\n"
     ]
    }
   ],
   "source": [
    "df = pd.read_csv(\"../wa_collisions/data/Collisions.csv\")"
   ]
  },
  {
   "cell_type": "code",
   "execution_count": 4,
   "metadata": {
    "collapsed": true
   },
   "outputs": [],
   "source": [
    "df_with_neighborhood = assign_neighborhood(df)"
   ]
  },
  {
   "cell_type": "code",
   "execution_count": 12,
   "metadata": {
    "collapsed": true
   },
   "outputs": [],
   "source": [
    "import ipywidgets as widgets\n",
    "from ipywidgets import interactive\n",
    "\n",
    "import folium\n",
    "import folium.plugins as plugins"
   ]
  },
  {
   "cell_type": "code",
   "execution_count": 13,
   "metadata": {},
   "outputs": [
    {
     "data": {
      "text/plain": [
       "['Wet',\n",
       " 'Sand/Mud/Dirt',\n",
       " 'Unknown',\n",
       " 'Snow/Slush',\n",
       " 'Oil',\n",
       " 'Dry',\n",
       " 'Other',\n",
       " 'Ice',\n",
       " 'Standing Water']"
      ]
     },
     "execution_count": 13,
     "metadata": {},
     "output_type": "execute_result"
    }
   ],
   "source": [
    "list(set(df_with_neighborhood[-pd.isnull(df_with_neighborhood.roadcond)].roadcond.values))"
   ]
  },
  {
   "cell_type": "code",
   "execution_count": 14,
   "metadata": {
    "collapsed": true
   },
   "outputs": [],
   "source": [
    "# Define widget\n",
    "roadcond_selection = widgets.Dropdown(\n",
    "    options=list(set(df_with_neighborhood[-pd.isnull(df_with_neighborhood.roadcond)].roadcond.values)),\n",
    "    value='Wet',\n",
    "    description='Weather:',\n",
    "    disabled=False\n",
    ")"
   ]
  },
  {
   "cell_type": "code",
   "execution_count": 15,
   "metadata": {},
   "outputs": [
    {
     "data": {
      "text/plain": [
       "0                    Dry\n",
       "1                    Dry\n",
       "2                    Wet\n",
       "3                    Dry\n",
       "4                    Wet\n",
       "5                    Dry\n",
       "6                    Dry\n",
       "7                    Dry\n",
       "8                    Dry\n",
       "9                    Dry\n",
       "10                   Wet\n",
       "11            Snow/Slush\n",
       "12               Unknown\n",
       "13                   Wet\n",
       "14                   Dry\n",
       "15                   Dry\n",
       "16                   Wet\n",
       "17                   Dry\n",
       "18        Standing Water\n",
       "19                   Wet\n",
       "20                   Wet\n",
       "21                   Dry\n",
       "22                   Wet\n",
       "23                   Dry\n",
       "24                   Wet\n",
       "25                 Other\n",
       "26                   Wet\n",
       "27                   Dry\n",
       "28                   Dry\n",
       "29                   Wet\n",
       "               ...      \n",
       "196086               NaN\n",
       "196087               NaN\n",
       "196088               NaN\n",
       "196089               NaN\n",
       "196090               NaN\n",
       "196091               NaN\n",
       "196092               NaN\n",
       "196093               NaN\n",
       "196094               NaN\n",
       "196095               NaN\n",
       "196096               NaN\n",
       "196097               NaN\n",
       "196098               NaN\n",
       "196099               NaN\n",
       "196100               NaN\n",
       "196101               NaN\n",
       "196102               NaN\n",
       "196103               NaN\n",
       "196104               NaN\n",
       "196105               NaN\n",
       "196106               NaN\n",
       "196107               NaN\n",
       "196108               NaN\n",
       "196109               NaN\n",
       "196110               NaN\n",
       "196111               NaN\n",
       "196112               NaN\n",
       "196113               NaN\n",
       "196114               NaN\n",
       "196115               NaN\n",
       "Name: roadcond, dtype: object"
      ]
     },
     "execution_count": 15,
     "metadata": {},
     "output_type": "execute_result"
    }
   ],
   "source": [
    "df_with_neighborhood.roadcond"
   ]
  },
  {
   "cell_type": "code",
   "execution_count": 16,
   "metadata": {
    "collapsed": true
   },
   "outputs": [],
   "source": [
    "columns = ['X', 'Y', 'roadcond', 'object_id']\n",
    "\n",
    "from visualizer import visualize_neighborhood\n",
    "\n",
    "# Define function to view or plot data\n",
    "def map_by_weather(roadcond=''):\n",
    "    df_collision = df_with_neighborhood.loc[df.roadcond == roadcond, columns].dropna(axis = 0, how = 'any')\n",
    "    counts_per_neighborhood = df_collision.groupby(['object_id']).size().reset_index(name='count_of_collisions')\n",
    "    display(visualize_neighborhood(counts_per_neighborhood, 'count_of_collisions'))\n",
    "    "
   ]
  },
  {
   "cell_type": "code",
   "execution_count": 17,
   "metadata": {},
   "outputs": [
    {
     "data": {
      "application/vnd.jupyter.widget-view+json": {
       "model_id": "6efb875e6a9049b6954159fa2944ba70"
      }
     },
     "metadata": {},
     "output_type": "display_data"
    }
   ],
   "source": [
    "\n",
    "# Define interactivity\n",
    "interactive(map_by_weather, roadcond=roadcond_selection)"
   ]
  },
  {
   "cell_type": "code",
   "execution_count": null,
   "metadata": {
    "collapsed": true
   },
   "outputs": [],
   "source": []
  }
 ],
 "metadata": {
  "kernelspec": {
   "display_name": "Python 3",
   "language": "python",
   "name": "python3"
  },
  "language_info": {
   "codemirror_mode": {
    "name": "ipython",
    "version": 3
   },
   "file_extension": ".py",
   "mimetype": "text/x-python",
   "name": "python",
   "nbconvert_exporter": "python",
   "pygments_lexer": "ipython3",
   "version": "3.5.3"
  }
 },
 "nbformat": 4,
 "nbformat_minor": 2
}
