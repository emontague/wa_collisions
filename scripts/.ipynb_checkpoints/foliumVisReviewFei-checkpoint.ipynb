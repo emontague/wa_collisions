{
 "cells": [
  {
   "cell_type": "code",
   "execution_count": 2,
   "metadata": {
    "collapsed": true
   },
   "outputs": [],
   "source": [
    "import folium"
   ]
  },
  {
   "cell_type": "code",
   "execution_count": 3,
   "metadata": {
    "collapsed": true
   },
   "outputs": [],
   "source": [
    "import pandas as pd\n",
    "import numpy as np\n",
    "import matplotlib.pyplot as plt\n",
    "%matplotlib inline"
   ]
  },
  {
   "cell_type": "code",
   "execution_count": 4,
   "metadata": {},
   "outputs": [
    {
     "name": "stderr",
     "output_type": "stream",
     "text": [
      "/home/feiwang/anaconda3/lib/python3.6/site-packages/IPython/core/interactiveshell.py:2698: DtypeWarning: Columns (31) have mixed types. Specify dtype option on import or set low_memory=False.\n",
      "  interactivity=interactivity, compiler=compiler, result=result)\n"
     ]
    }
   ],
   "source": [
    "df_collision_orig = pd.read_csv('../../project_data/Collisions.csv')"
   ]
  },
  {
   "cell_type": "code",
   "execution_count": 5,
   "metadata": {
    "collapsed": true
   },
   "outputs": [],
   "source": [
    "columns = ['X', 'Y', 'addrtype', 'incdate', 'incdttm', 'lightcond', 'location', 'sdot_coldesc'\n",
    "          , 'severitydesc', 'speeding', 'weather']\n",
    "\n",
    "df_collision = df_collision_orig.loc[:, columns]"
   ]
  },
  {
   "cell_type": "code",
   "execution_count": 6,
   "metadata": {},
   "outputs": [
    {
     "data": {
      "text/html": [
       "<div>\n",
       "<style>\n",
       "    .dataframe thead tr:only-child th {\n",
       "        text-align: right;\n",
       "    }\n",
       "\n",
       "    .dataframe thead th {\n",
       "        text-align: left;\n",
       "    }\n",
       "\n",
       "    .dataframe tbody tr th {\n",
       "        vertical-align: top;\n",
       "    }\n",
       "</style>\n",
       "<table border=\"1\" class=\"dataframe\">\n",
       "  <thead>\n",
       "    <tr style=\"text-align: right;\">\n",
       "      <th></th>\n",
       "      <th>X</th>\n",
       "      <th>Y</th>\n",
       "      <th>addrtype</th>\n",
       "      <th>incdate</th>\n",
       "      <th>incdttm</th>\n",
       "      <th>lightcond</th>\n",
       "      <th>location</th>\n",
       "      <th>sdot_coldesc</th>\n",
       "      <th>severitydesc</th>\n",
       "      <th>speeding</th>\n",
       "      <th>weather</th>\n",
       "    </tr>\n",
       "  </thead>\n",
       "  <tbody>\n",
       "    <tr>\n",
       "      <th>0</th>\n",
       "      <td>-122.342323</td>\n",
       "      <td>47.627572</td>\n",
       "      <td>Block</td>\n",
       "      <td>2016-11-04T00:00:00.000Z</td>\n",
       "      <td>11/4/2016 9:55:00 AM</td>\n",
       "      <td>Daylight</td>\n",
       "      <td>DEXTER AVE N BETWEEN ALOHA ST AND WARD ST</td>\n",
       "      <td>MOTOR VEHICLE STRUCK MOTOR VEHICLE, FRONT END ...</td>\n",
       "      <td>Property Damage Only Collision</td>\n",
       "      <td>NaN</td>\n",
       "      <td>Clear or Partly Cloudy</td>\n",
       "    </tr>\n",
       "    <tr>\n",
       "      <th>1</th>\n",
       "      <td>-122.301639</td>\n",
       "      <td>47.630771</td>\n",
       "      <td>Block</td>\n",
       "      <td>2016-12-01T00:00:00.000Z</td>\n",
       "      <td>12/1/2016 10:33:00 AM</td>\n",
       "      <td>Daylight</td>\n",
       "      <td>24TH AVE E BETWEEN E HIGHLAND DR AND E LEE ST</td>\n",
       "      <td>MOTOR VEHICLE STRUCK MOTOR VEHICLE, LEFT SIDE ...</td>\n",
       "      <td>Property Damage Only Collision</td>\n",
       "      <td>NaN</td>\n",
       "      <td>Overcast</td>\n",
       "    </tr>\n",
       "    <tr>\n",
       "      <th>2</th>\n",
       "      <td>-122.290784</td>\n",
       "      <td>47.719253</td>\n",
       "      <td>Intersection</td>\n",
       "      <td>2016-12-23T00:00:00.000Z</td>\n",
       "      <td>12/23/2016 12:48:00 PM</td>\n",
       "      <td>Daylight</td>\n",
       "      <td>35TH AVE NE AND NE 125TH ST</td>\n",
       "      <td>MOTOR VEHICLE STRUCK MOTOR VEHICLE, FRONT END ...</td>\n",
       "      <td>Property Damage Only Collision</td>\n",
       "      <td>NaN</td>\n",
       "      <td>Snowing</td>\n",
       "    </tr>\n",
       "    <tr>\n",
       "      <th>3</th>\n",
       "      <td>-122.322535</td>\n",
       "      <td>47.623135</td>\n",
       "      <td>Block</td>\n",
       "      <td>2016-12-21T00:00:00.000Z</td>\n",
       "      <td>12/21/2016 4:13:00 PM</td>\n",
       "      <td>Daylight</td>\n",
       "      <td>E REPUBLICAN ST BETWEEN BOYLSTON AVE E AND HAR...</td>\n",
       "      <td>MOTOR VEHICLE STRUCK MOTOR VEHICLE, FRONT END ...</td>\n",
       "      <td>Property Damage Only Collision</td>\n",
       "      <td>NaN</td>\n",
       "      <td>Clear or Partly Cloudy</td>\n",
       "    </tr>\n",
       "    <tr>\n",
       "      <th>4</th>\n",
       "      <td>-122.376803</td>\n",
       "      <td>47.689665</td>\n",
       "      <td>Block</td>\n",
       "      <td>2016-12-23T00:00:00.000Z</td>\n",
       "      <td>12/23/2016 6:33:00 AM</td>\n",
       "      <td>Dawn</td>\n",
       "      <td>15TH AVE NW BETWEEN NW 83RD ST AND NW 85TH ST</td>\n",
       "      <td>MOTOR VEHICLE STRUCK MOTOR VEHICLE, LEFT SIDE ...</td>\n",
       "      <td>Property Damage Only Collision</td>\n",
       "      <td>NaN</td>\n",
       "      <td>Raining</td>\n",
       "    </tr>\n",
       "  </tbody>\n",
       "</table>\n",
       "</div>"
      ],
      "text/plain": [
       "            X          Y      addrtype                   incdate  \\\n",
       "0 -122.342323  47.627572         Block  2016-11-04T00:00:00.000Z   \n",
       "1 -122.301639  47.630771         Block  2016-12-01T00:00:00.000Z   \n",
       "2 -122.290784  47.719253  Intersection  2016-12-23T00:00:00.000Z   \n",
       "3 -122.322535  47.623135         Block  2016-12-21T00:00:00.000Z   \n",
       "4 -122.376803  47.689665         Block  2016-12-23T00:00:00.000Z   \n",
       "\n",
       "                  incdttm lightcond  \\\n",
       "0    11/4/2016 9:55:00 AM  Daylight   \n",
       "1   12/1/2016 10:33:00 AM  Daylight   \n",
       "2  12/23/2016 12:48:00 PM  Daylight   \n",
       "3   12/21/2016 4:13:00 PM  Daylight   \n",
       "4   12/23/2016 6:33:00 AM      Dawn   \n",
       "\n",
       "                                            location  \\\n",
       "0          DEXTER AVE N BETWEEN ALOHA ST AND WARD ST   \n",
       "1      24TH AVE E BETWEEN E HIGHLAND DR AND E LEE ST   \n",
       "2                        35TH AVE NE AND NE 125TH ST   \n",
       "3  E REPUBLICAN ST BETWEEN BOYLSTON AVE E AND HAR...   \n",
       "4      15TH AVE NW BETWEEN NW 83RD ST AND NW 85TH ST   \n",
       "\n",
       "                                        sdot_coldesc  \\\n",
       "0  MOTOR VEHICLE STRUCK MOTOR VEHICLE, FRONT END ...   \n",
       "1  MOTOR VEHICLE STRUCK MOTOR VEHICLE, LEFT SIDE ...   \n",
       "2  MOTOR VEHICLE STRUCK MOTOR VEHICLE, FRONT END ...   \n",
       "3  MOTOR VEHICLE STRUCK MOTOR VEHICLE, FRONT END ...   \n",
       "4  MOTOR VEHICLE STRUCK MOTOR VEHICLE, LEFT SIDE ...   \n",
       "\n",
       "                     severitydesc speeding                 weather  \n",
       "0  Property Damage Only Collision      NaN  Clear or Partly Cloudy  \n",
       "1  Property Damage Only Collision      NaN                Overcast  \n",
       "2  Property Damage Only Collision      NaN                 Snowing  \n",
       "3  Property Damage Only Collision      NaN  Clear or Partly Cloudy  \n",
       "4  Property Damage Only Collision      NaN                 Raining  "
      ]
     },
     "execution_count": 6,
     "metadata": {},
     "output_type": "execute_result"
    }
   ],
   "source": [
    "df_collision.head()"
   ]
  },
  {
   "cell_type": "code",
   "execution_count": 7,
   "metadata": {
    "collapsed": true
   },
   "outputs": [],
   "source": [
    "df_collision['date'] = df_collision['incdate'].apply(pd.to_datetime)"
   ]
  },
  {
   "cell_type": "code",
   "execution_count": 8,
   "metadata": {},
   "outputs": [
    {
     "data": {
      "text/html": [
       "<div>\n",
       "<style>\n",
       "    .dataframe thead tr:only-child th {\n",
       "        text-align: right;\n",
       "    }\n",
       "\n",
       "    .dataframe thead th {\n",
       "        text-align: left;\n",
       "    }\n",
       "\n",
       "    .dataframe tbody tr th {\n",
       "        vertical-align: top;\n",
       "    }\n",
       "</style>\n",
       "<table border=\"1\" class=\"dataframe\">\n",
       "  <thead>\n",
       "    <tr style=\"text-align: right;\">\n",
       "      <th></th>\n",
       "      <th>X</th>\n",
       "      <th>Y</th>\n",
       "      <th>addrtype</th>\n",
       "      <th>incdate</th>\n",
       "      <th>incdttm</th>\n",
       "      <th>lightcond</th>\n",
       "      <th>location</th>\n",
       "      <th>sdot_coldesc</th>\n",
       "      <th>severitydesc</th>\n",
       "      <th>speeding</th>\n",
       "      <th>weather</th>\n",
       "      <th>date</th>\n",
       "    </tr>\n",
       "  </thead>\n",
       "  <tbody>\n",
       "    <tr>\n",
       "      <th>0</th>\n",
       "      <td>-122.342323</td>\n",
       "      <td>47.627572</td>\n",
       "      <td>Block</td>\n",
       "      <td>2016-11-04T00:00:00.000Z</td>\n",
       "      <td>11/4/2016 9:55:00 AM</td>\n",
       "      <td>Daylight</td>\n",
       "      <td>DEXTER AVE N BETWEEN ALOHA ST AND WARD ST</td>\n",
       "      <td>MOTOR VEHICLE STRUCK MOTOR VEHICLE, FRONT END ...</td>\n",
       "      <td>Property Damage Only Collision</td>\n",
       "      <td>NaN</td>\n",
       "      <td>Clear or Partly Cloudy</td>\n",
       "      <td>2016-11-04</td>\n",
       "    </tr>\n",
       "    <tr>\n",
       "      <th>1</th>\n",
       "      <td>-122.301639</td>\n",
       "      <td>47.630771</td>\n",
       "      <td>Block</td>\n",
       "      <td>2016-12-01T00:00:00.000Z</td>\n",
       "      <td>12/1/2016 10:33:00 AM</td>\n",
       "      <td>Daylight</td>\n",
       "      <td>24TH AVE E BETWEEN E HIGHLAND DR AND E LEE ST</td>\n",
       "      <td>MOTOR VEHICLE STRUCK MOTOR VEHICLE, LEFT SIDE ...</td>\n",
       "      <td>Property Damage Only Collision</td>\n",
       "      <td>NaN</td>\n",
       "      <td>Overcast</td>\n",
       "      <td>2016-12-01</td>\n",
       "    </tr>\n",
       "  </tbody>\n",
       "</table>\n",
       "</div>"
      ],
      "text/plain": [
       "            X          Y addrtype                   incdate  \\\n",
       "0 -122.342323  47.627572    Block  2016-11-04T00:00:00.000Z   \n",
       "1 -122.301639  47.630771    Block  2016-12-01T00:00:00.000Z   \n",
       "\n",
       "                 incdttm lightcond  \\\n",
       "0   11/4/2016 9:55:00 AM  Daylight   \n",
       "1  12/1/2016 10:33:00 AM  Daylight   \n",
       "\n",
       "                                        location  \\\n",
       "0      DEXTER AVE N BETWEEN ALOHA ST AND WARD ST   \n",
       "1  24TH AVE E BETWEEN E HIGHLAND DR AND E LEE ST   \n",
       "\n",
       "                                        sdot_coldesc  \\\n",
       "0  MOTOR VEHICLE STRUCK MOTOR VEHICLE, FRONT END ...   \n",
       "1  MOTOR VEHICLE STRUCK MOTOR VEHICLE, LEFT SIDE ...   \n",
       "\n",
       "                     severitydesc speeding                 weather       date  \n",
       "0  Property Damage Only Collision      NaN  Clear or Partly Cloudy 2016-11-04  \n",
       "1  Property Damage Only Collision      NaN                Overcast 2016-12-01  "
      ]
     },
     "execution_count": 8,
     "metadata": {},
     "output_type": "execute_result"
    }
   ],
   "source": [
    "df_collision.head(2)"
   ]
  },
  {
   "cell_type": "code",
   "execution_count": 9,
   "metadata": {},
   "outputs": [
    {
     "data": {
      "text/plain": [
       "X   -122.330846\n",
       "Y     47.620527\n",
       "dtype: float64"
      ]
     },
     "execution_count": 9,
     "metadata": {},
     "output_type": "execute_result"
    }
   ],
   "source": [
    "df_collision.loc[:, ['X', 'Y']].dropna().mean()"
   ]
  },
  {
   "cell_type": "code",
   "execution_count": 10,
   "metadata": {
    "collapsed": true
   },
   "outputs": [
    {
     "data": {
      "text/plain": [
       "2006-11-02    103\n",
       "2004-10-08     98\n",
       "2008-10-03     93\n",
       "2005-05-18     89\n",
       "2004-12-10     86\n",
       "2006-01-13     85\n",
       "2005-11-05     85\n",
       "2008-10-31     84\n",
       "2016-10-13     83\n",
       "2005-04-29     81\n",
       "2007-10-19     81\n",
       "2004-01-02     80\n",
       "2005-04-15     80\n",
       "2004-08-06     79\n",
       "2015-08-14     78\n",
       "2004-11-24     78\n",
       "2006-06-01     77\n",
       "2004-12-04     77\n",
       "2014-10-22     76\n",
       "2006-11-04     76\n",
       "2004-11-01     76\n",
       "2004-10-05     75\n",
       "2004-08-25     75\n",
       "2007-07-20     75\n",
       "2005-10-28     75\n",
       "2007-06-28     74\n",
       "2009-10-16     74\n",
       "2010-11-22     74\n",
       "2014-11-21     74\n",
       "2004-12-09     74\n",
       "             ... \n",
       "2010-12-05     15\n",
       "2012-06-17     15\n",
       "2015-04-19     15\n",
       "2017-07-03     15\n",
       "2017-10-08     14\n",
       "2011-12-25     14\n",
       "2013-02-17     14\n",
       "2012-02-26     14\n",
       "2017-01-29     14\n",
       "2017-11-24     14\n",
       "2012-12-25     14\n",
       "2012-01-28     14\n",
       "2011-08-28     13\n",
       "2017-01-28     13\n",
       "2008-01-13     13\n",
       "2009-12-25     13\n",
       "2006-02-20     13\n",
       "2010-11-23     12\n",
       "2018-02-20     11\n",
       "2009-12-06     11\n",
       "2012-11-22     10\n",
       "2005-04-26     10\n",
       "2016-12-25     10\n",
       "2010-11-25      9\n",
       "2014-12-25      8\n",
       "2010-12-26      8\n",
       "2018-03-29      6\n",
       "2018-03-28      4\n",
       "2003-10-06      1\n",
       "2015-12-25      1\n",
       "Name: date, Length: 5203, dtype: int64"
      ]
     },
     "execution_count": 10,
     "metadata": {},
     "output_type": "execute_result"
    }
   ],
   "source": [
    "df_collision.date.value_counts()"
   ]
  },
  {
   "cell_type": "code",
   "execution_count": 11,
   "metadata": {
    "collapsed": true
   },
   "outputs": [],
   "source": [
    "dateMask = (df_collision['date'] == '2006-11-02 00:00:00')\n",
    "coorMask = -pd.isnull(df_collision['X']) & -pd.isnull(df_collision['Y'])"
   ]
  },
  {
   "cell_type": "code",
   "execution_count": 12,
   "metadata": {
    "collapsed": true
   },
   "outputs": [
    {
     "data": {
      "text/plain": [
       "array([[-122.34506031,   47.61614381],\n",
       "       [-122.3075105 ,   47.69077348],\n",
       "       [-122.34214521,   47.71353835],\n",
       "       [-122.35677713,   47.63231652],\n",
       "       [-122.34630668,   47.61442008],\n",
       "       [-122.30033204,   47.54637208],\n",
       "       [-122.31155445,   47.60618118],\n",
       "       [-122.3046109 ,   47.64555665],\n",
       "       [-122.33245128,   47.60726631],\n",
       "       [-122.36097069,   47.57145894],\n",
       "       [-122.30223345,   47.59928129],\n",
       "       [-122.34626626,   47.62455805],\n",
       "       [-122.31139965,   47.7339365 ],\n",
       "       [-122.30111772,   47.62016556],\n",
       "       [-122.31157742,   47.5992246 ],\n",
       "       [-122.34506031,   47.61614381],\n",
       "       [-122.34367984,   47.62147563],\n",
       "       [-122.35135311,   47.64688458],\n",
       "       [-122.33590773,   47.59875135],\n",
       "       [-122.31476114,   47.56441101],\n",
       "       [-122.30268906,   47.58691917],\n",
       "       [-122.34496686,   47.72230187],\n",
       "       [-122.34495015,   47.68068393],\n",
       "       [-122.34092204,   47.60981423],\n",
       "       [-122.34776149,   47.61400166],\n",
       "       [-122.31349054,   47.56532118],\n",
       "       [-122.37757458,   47.56407742],\n",
       "       [-122.30329385,   47.7043503 ],\n",
       "       [-122.32092426,   47.62312892],\n",
       "       [-122.29815071,   47.57835004],\n",
       "       [-122.30183398,   47.61966719],\n",
       "       [-122.38677129,   47.56653842],\n",
       "       [-122.33905215,   47.51917438],\n",
       "       [-122.31601271,   47.66128829],\n",
       "       [-122.2648864 ,   47.49898911],\n",
       "       [-122.31263653,   47.6225939 ],\n",
       "       [-122.31657893,   47.66129196],\n",
       "       [-122.37100394,   47.63595453],\n",
       "       [-122.28462953,   47.55704112],\n",
       "       [-122.34448873,   47.63758771],\n",
       "       [-122.31266171,   47.72351268],\n",
       "       [-122.34679298,   47.66206896],\n",
       "       [-122.34367984,   47.62147563],\n",
       "       [-122.34506031,   47.61614381],\n",
       "       [-122.34537258,   47.6795892 ],\n",
       "       [-122.34305261,   47.6125019 ],\n",
       "       [-122.33440527,   47.52623509],\n",
       "       [-122.32641669,   47.60485688],\n",
       "       [-122.31728075,   47.59383355],\n",
       "       [-122.31416533,   47.60619196],\n",
       "       [-122.34665163,   47.6442657 ],\n",
       "       [-122.31496811,   47.52304218],\n",
       "       [-122.32127526,   47.65157827],\n",
       "       [-122.32828883,   47.57167477],\n",
       "       [-122.33341344,   47.62426762],\n",
       "       [-122.31833644,   47.602193  ],\n",
       "       [-122.32182876,   47.62684053],\n",
       "       [-122.36097069,   47.57145894],\n",
       "       [-122.33479292,   47.54919188],\n",
       "       [-122.32752622,   47.60439255],\n",
       "       [-122.35904582,   47.65595717],\n",
       "       [-122.31269203,   47.6208175 ],\n",
       "       [-122.37710173,   47.57118348],\n",
       "       [-122.32596837,   47.59239324],\n",
       "       [-122.35529753,   47.6836521 ],\n",
       "       [-122.35556724,   47.73231424],\n",
       "       [-122.34762418,   47.61812919],\n",
       "       [-122.28538744,   47.53702877],\n",
       "       [-122.32291782,   47.6102668 ],\n",
       "       [-122.35035531,   47.61858192],\n",
       "       [-122.30670509,   47.56640458],\n",
       "       [-122.32407118,   47.63972666],\n",
       "       [-122.32139887,   47.57864117],\n",
       "       [-122.3214663 ,   47.61523068],\n",
       "       [-122.33159813,   47.60129743],\n",
       "       [-122.31302863,   47.67021294],\n",
       "       [-122.28878851,   47.53100186],\n",
       "       [-122.34664237,   47.64141841],\n",
       "       [-122.30445271,   47.69893829],\n",
       "       [-122.35167573,   47.53426484],\n",
       "       [-122.32287108,   47.68088101],\n",
       "       [-122.33854265,   47.61218154],\n",
       "       [-122.34506031,   47.61614381],\n",
       "       [-122.33754427,   47.60612176],\n",
       "       [-122.39024488,   47.64870037],\n",
       "       [-122.32513908,   47.60933797],\n",
       "       [-122.30546672,   47.69756886],\n",
       "       [-122.33399304,   47.70866307],\n",
       "       [-122.34506031,   47.61614381],\n",
       "       [-122.35670598,   47.6250172 ],\n",
       "       [-122.33092877,   47.59919974],\n",
       "       [-122.32929211,   47.61844935],\n",
       "       [-122.39896303,   47.64052899],\n",
       "       [-122.328005  ,   47.61247231],\n",
       "       [-122.37621447,   47.66866691],\n",
       "       [-122.32072786,   47.661319  ],\n",
       "       [-122.34942349,   47.55569473],\n",
       "       [-122.37622244,   47.65980336],\n",
       "       [-122.40604078,   47.67240101],\n",
       "       [-122.37622244,   47.65980336],\n",
       "       [-122.31189583,   47.67072083]])"
      ]
     },
     "execution_count": 12,
     "metadata": {},
     "output_type": "execute_result"
    }
   ],
   "source": [
    "df_collision.loc[dateMask & coorMask, ['X', 'Y']].values"
   ]
  },
  {
   "cell_type": "code",
   "execution_count": 63,
   "metadata": {
    "collapsed": true
   },
   "outputs": [],
   "source": [
    "import numpy as np\n",
    "\n",
    "data_orig = df_collision.loc[dateMask & coorMask, ['Y', 'X']]"
   ]
  },
  {
   "cell_type": "code",
   "execution_count": 50,
   "metadata": {
    "collapsed": true
   },
   "outputs": [],
   "source": [
    "data_orig = data_orig.values.tolist()"
   ]
  },
  {
   "cell_type": "code",
   "execution_count": 51,
   "metadata": {},
   "outputs": [
    {
     "data": {
      "text/plain": [
       "101"
      ]
     },
     "execution_count": 51,
     "metadata": {},
     "output_type": "execute_result"
    }
   ],
   "source": [
    "len(data_orig)"
   ]
  },
  {
   "cell_type": "code",
   "execution_count": 57,
   "metadata": {
    "collapsed": true
   },
   "outputs": [],
   "source": [
    "data = (np.random.normal(size=(101, 2)) *\n",
    "        np.array([[1, 1]]) +\n",
    "        np.array([[47.7, -122.3]])).tolist()"
   ]
  },
  {
   "cell_type": "code",
   "execution_count": 59,
   "metadata": {},
   "outputs": [
    {
     "data": {
      "text/plain": [
       "[47.965325159726966, -122.21294910864988]"
      ]
     },
     "execution_count": 59,
     "metadata": {},
     "output_type": "execute_result"
    }
   ],
   "source": [
    "data[0]"
   ]
  },
  {
   "cell_type": "code",
   "execution_count": 60,
   "metadata": {},
   "outputs": [
    {
     "data": {
      "text/plain": [
       "[-122.34506031416977, 47.61614381099196]"
      ]
     },
     "execution_count": 60,
     "metadata": {},
     "output_type": "execute_result"
    }
   ],
   "source": [
    "data_orig[0]"
   ]
  },
  {
   "cell_type": "code",
   "execution_count": 61,
   "metadata": {
    "collapsed": true
   },
   "outputs": [],
   "source": [
    "for i in range(len(data)):\n",
    "    data[i][0] = data_orig[i][1]\n",
    "    data[i][1] = data_orig[i][0]"
   ]
  },
  {
   "cell_type": "markdown",
   "metadata": {
    "collapsed": true
   },
   "source": [
    "from folium.plugins import HeatMap\n",
    "\n",
    "m = folium.Map(location=[47.706850, -122.333961])\n",
    "\n",
    "m"
   ]
  },
  {
   "cell_type": "code",
   "execution_count": 62,
   "metadata": {},
   "outputs": [
    {
     "data": {
      "text/html": [
       "<div style=\"width:100%;\"><div style=\"position:relative;width:100%;height:0;padding-bottom:60%;\"><iframe src=\"data:text/html;charset=utf-8;base64,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\" style=\"position:absolute;width:100%;height:100%;left:0;top:0;border:none !important;\" allowfullscreen webkitallowfullscreen mozallowfullscreen></iframe></div></div>"
      ],
      "text/plain": [
       "<folium.folium.Map at 0x7f5e2c4eafd0>"
      ]
     },
     "execution_count": 62,
     "metadata": {},
     "output_type": "execute_result"
    }
   ],
   "source": [
    "from folium.plugins import HeatMap\n",
    "\n",
    "m = folium.Map(location=[47.706850, -122.333961]\n",
    "               , tiles='Stamen Toner'\n",
    "               , zoom_start=11\n",
    "              )\n",
    "\n",
    "# m = folium.Map(\n",
    "#     location=[47.6, -122.333961],\n",
    "#     tiles='Stamen Toner',\n",
    "#     zoom_start=11\n",
    "# )\n",
    "\n",
    "HeatMap(data).add_to(m)\n",
    "\n",
    "# m.save(os.path.join('results', 'Heatmap.html'))\n",
    "\n",
    "m"
   ]
  }
 ],
 "metadata": {
  "kernelspec": {
   "display_name": "Python 3",
   "language": "python",
   "name": "python3"
  },
  "language_info": {
   "codemirror_mode": {
    "name": "ipython",
    "version": 3
   },
   "file_extension": ".py",
   "mimetype": "text/x-python",
   "name": "python",
   "nbconvert_exporter": "python",
   "pygments_lexer": "ipython3",
   "version": "3.6.3"
  }
 },
 "nbformat": 4,
 "nbformat_minor": 2
}
