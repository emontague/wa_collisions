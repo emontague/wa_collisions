{
 "cells": [
  {
   "cell_type": "markdown",
   "metadata": {},
   "source": [
    "### Import Packages"
   ]
  },
  {
   "cell_type": "code",
   "execution_count": 1,
   "metadata": {},
   "outputs": [],
   "source": [
    "import pandas as pd\n",
    "import numpy as np\n",
    "import datetime\n",
    "import matplotlib.pyplot as plt\n",
    "%matplotlib inline\n",
    "\n",
    "from weather import forecast"
   ]
  },
  {
   "cell_type": "markdown",
   "metadata": {},
   "source": [
    "## Seattle Collision Data"
   ]
  },
  {
   "cell_type": "markdown",
   "metadata": {},
   "source": [
    "https://data-seattlecitygis.opendata.arcgis.com/datasets/collisions/data?geometry=-122.526%2C47.676%2C-122.198%2C47.717&page=4"
   ]
  },
  {
   "cell_type": "markdown",
   "metadata": {},
   "source": [
    "01/01/2014 - 03/29/2018\n",
    "\n",
    "data with weather info available 01/01/2014 - 01/30/2018\n",
    "\n",
    "(lat, lon) values have 6 decimal places (precision at individual human level)"
   ]
  },
  {
   "cell_type": "markdown",
   "metadata": {},
   "source": [
    "### read in the original dataset"
   ]
  },
  {
   "cell_type": "code",
   "execution_count": 3,
   "metadata": {},
   "outputs": [],
   "source": [
    "df_collision = pd.read_csv('../data/Collisions.csv')"
   ]
  },
  {
   "cell_type": "markdown",
   "metadata": {},
   "source": [
    "### Check Missing Values in the Dataset"
   ]
  },
  {
   "cell_type": "code",
   "execution_count": 10,
   "metadata": {},
   "outputs": [
    {
     "data": {
      "text/plain": [
       "True     187386\n",
       "False      8730\n",
       "Name: speeding, dtype: int64"
      ]
     },
     "execution_count": 10,
     "metadata": {},
     "output_type": "execute_result"
    }
   ],
   "source": [
    "df_collision.speeding.isna().value_counts()"
   ]
  },
  {
   "cell_type": "code",
   "execution_count": 11,
   "metadata": {},
   "outputs": [
    {
     "data": {
      "text/plain": [
       "False    191019\n",
       "True       5097\n",
       "Name: X, dtype: int64"
      ]
     },
     "execution_count": 11,
     "metadata": {},
     "output_type": "execute_result"
    }
   ],
   "source": [
    "df_collision.X.isna().value_counts()"
   ]
  },
  {
   "cell_type": "code",
   "execution_count": 12,
   "metadata": {},
   "outputs": [
    {
     "data": {
      "text/plain": [
       "False    191019\n",
       "True       5097\n",
       "Name: Y, dtype: int64"
      ]
     },
     "execution_count": 12,
     "metadata": {},
     "output_type": "execute_result"
    }
   ],
   "source": [
    "df_collision.Y.isna().value_counts()"
   ]
  },
  {
   "cell_type": "code",
   "execution_count": 13,
   "metadata": {},
   "outputs": [
    {
     "data": {
      "text/plain": [
       "False    191810\n",
       "True       4306\n",
       "Name: location, dtype: int64"
      ]
     },
     "execution_count": 13,
     "metadata": {},
     "output_type": "execute_result"
    }
   ],
   "source": [
    "df_collision.location.isna().value_counts()"
   ]
  },
  {
   "cell_type": "code",
   "execution_count": 14,
   "metadata": {},
   "outputs": [
    {
     "data": {
      "text/plain": [
       "False    173400\n",
       "True      22716\n",
       "Name: weather, dtype: int64"
      ]
     },
     "execution_count": 14,
     "metadata": {},
     "output_type": "execute_result"
    }
   ],
   "source": [
    "df_collision.weather.isna().value_counts()"
   ]
  },
  {
   "cell_type": "code",
   "execution_count": 14,
   "metadata": {},
   "outputs": [
    {
     "data": {
      "text/plain": [
       "(791, 4)"
      ]
     },
     "execution_count": 14,
     "metadata": {},
     "output_type": "execute_result"
    }
   ],
   "source": [
    "df_collision.loc[df_collision.X.isna() & (-df_collision.location.isna()), columns].shape"
   ]
  },
  {
   "cell_type": "markdown",
   "metadata": {},
   "source": [
    "###### To-Do: \n",
    "1. drop \"speeding\" variable\n",
    "2. drop rows where \"X\" or \"Y\" is null, impute (X, Y) value by \"location\" value for 791 rows with Google's GeoCoding API?\n",
    "3. impute \"weather\" value with other data sources?"
   ]
  },
  {
   "cell_type": "markdown",
   "metadata": {},
   "source": [
    "### Feature Engineering on Incident Time Value"
   ]
  },
  {
   "cell_type": "markdown",
   "metadata": {},
   "source": [
    "#### convert incident time field from string to datetime"
   ]
  },
  {
   "cell_type": "code",
   "execution_count": 15,
   "metadata": {},
   "outputs": [],
   "source": [
    "df_collision['time'] = pd.DatetimeIndex(df_collision['incdttm'])\n",
    "\n",
    "df_collision['year'] = df_collision['time'].dt.year\n",
    "\n",
    "df_collision['month'] = df_collision['time'].dt.month\n",
    "\n",
    "df_collision['day'] = df_collision['time'].dt.day\n",
    "\n",
    "df_collision['hour'] = df_collision['time'].dt.hour"
   ]
  },
  {
   "cell_type": "markdown",
   "metadata": {},
   "source": [
    "#### Function to round incdttm field to its nearest hour value\n",
    "\n",
    "source: https://stackoverflow.com/questions/48107644/rounding-datetime-to-the-nearest-hour?rq=1"
   ]
  },
  {
   "cell_type": "code",
   "execution_count": 17,
   "metadata": {},
   "outputs": [],
   "source": [
    "def round_to_hour(dt):\n",
    "    dt_start_of_hour = dt.replace(minute=0, second=0, microsecond=0)\n",
    "    dt_half_hour = dt.replace(minute=30, second=0, microsecond=0)\n",
    "\n",
    "    if dt >= dt_half_hour:\n",
    "        # round up\n",
    "        dt = dt_start_of_hour + datetime.timedelta(hours=1)\n",
    "    else:\n",
    "        # round down\n",
    "        dt = dt_start_of_hour\n",
    "\n",
    "    return dt"
   ]
  },
  {
   "cell_type": "code",
   "execution_count": 271,
   "metadata": {},
   "outputs": [],
   "source": [
    "df_collision['nearest_hour'] = df_collision['time'].apply(round_to_hour)"
   ]
  },
  {
   "cell_type": "markdown",
   "metadata": {},
   "source": [
    "#### Convert seattle time to epoch time"
   ]
  },
  {
   "cell_type": "code",
   "execution_count": 20,
   "metadata": {},
   "outputs": [],
   "source": [
    "from pytz import timezone"
   ]
  },
  {
   "cell_type": "code",
   "execution_count": 21,
   "metadata": {},
   "outputs": [],
   "source": [
    "seattle_timezone = timezone('US/Pacific')"
   ]
  },
  {
   "cell_type": "code",
   "execution_count": 22,
   "metadata": {},
   "outputs": [],
   "source": [
    "def convert_pacific_time_to_epoch(dt):\n",
    "    return int(seattle_timezone.localize(dt).timestamp())"
   ]
  },
  {
   "cell_type": "code",
   "execution_count": 23,
   "metadata": {},
   "outputs": [],
   "source": [
    "df_collision['epoch'] = df_collision['hour'].apply(convert_pacific_time_to_epoch)"
   ]
  },
  {
   "cell_type": "markdown",
   "metadata": {},
   "source": [
    "### Retrieve Hourly Weather data with DarkSky API"
   ]
  },
  {
   "cell_type": "markdown",
   "metadata": {},
   "source": [
    "#### Focus on accident occured after 2014/1/1"
   ]
  },
  {
   "cell_type": "code",
   "execution_count": 82,
   "metadata": {},
   "outputs": [],
   "source": [
    "mask = (-df_collision.X.isna()) & (-df_collision.Y.isna())\n",
    "\n",
    "unique_location_hour = df_collision.loc[mask, ['X', 'Y', 'epoch']].drop_duplicates()"
   ]
  },
  {
   "cell_type": "code",
   "execution_count": 238,
   "metadata": {},
   "outputs": [],
   "source": [
    "start_date_epoch = int(datetime.datetime(2014,1,1,0,0).timestamp())\n",
    "\n",
    "unique_location_hour_recent = unique_location_hour[unique_location_hour['epoch'] > start_date_epoch]"
   ]
  },
  {
   "cell_type": "code",
   "execution_count": 88,
   "metadata": {},
   "outputs": [],
   "source": [
    "COLUMNS = ['Latitude', 'Longitude', 'EpochTime', 'Summary', 'DegreesFahrenheit', 'Humidity', 'Visibility',\n",
    "           'WindBearing', 'WindGust', 'WindSpeed', \"PrecipitationIntensity\", \"PrecipitationType\"]\n",
    "\n",
    "def get_weather_json_darksky(latitude, longitude, epoch_time):\n",
    "    \"\"\" Calls the DarkSky API with the given latitude, longitude and epoch time to retrieve historical weather data.\n",
    "    :param latitude: Float value representing latitude\n",
    "    :param longitude: Float value representing longitude\n",
    "    :param epoch_time: Numeric value representing\n",
    "    :return: A darksky.forecast.Forecast object\n",
    "    \"\"\"\n",
    "    response = forecast(API_KEY, latitude, longitude, int(epoch_time))\n",
    "    return response\n",
    "\n",
    "def get_weather_series_from_response(latitude, longitude, epoch_time, response):\n",
    "    \"\"\" \"\"\"\n",
    "    response_keys = response._data.keys()\n",
    "\n",
    "    row_data = [\n",
    "                latitude,\n",
    "                longitude,\n",
    "                epoch_time,\n",
    "                response['summary'] if 'summary' in response_keys else None,\n",
    "                response['temperature'] if 'temperature' in response_keys else None,\n",
    "                response['humidity'] if 'humidity' in response_keys else None,\n",
    "                response['visibility'] if 'visibility' in response_keys else None,\n",
    "                response['windBearing'] if 'windBearing' in response_keys else None,\n",
    "                response['windGust'] if 'windGust' in response_keys else None,\n",
    "                response['windSpeed'] if 'windSpeed' in response_keys else None,\n",
    "                response['precipIntensity'] if 'precipIntensity' in response_keys else None,\n",
    "                response['precipType'] if 'precipType' in response_keys else None\n",
    "    ]\n",
    "    row = pd.Series(row_data, index = COLUMNS)\n",
    "    return row"
   ]
  },
  {
   "cell_type": "code",
   "execution_count": 217,
   "metadata": {},
   "outputs": [],
   "source": [
    "df_weather_darksky = pd.DataFrame(columns = COLUMNS)\n",
    "\n",
    "# for i in range(unique_location_hour.shape[0]):\n",
    "    \n",
    "for i in range(0, unique_location_hour_recent.shape[0]):\n",
    "    response = get_weather_json_darksky(\n",
    "                    unique_location_hour_recent.iloc[i,:].Y\n",
    "                    , unique_location_hour_recent.iloc[i,:].X\n",
    "                    , int(unique_location_hour_recent.iloc[i,:].epoch)\n",
    "                    ).currently\n",
    "    series = get_weather_series_from_response(\n",
    "                    unique_location_hour_recent.iloc[i,:].Y\n",
    "                    , unique_location_hour_recent.iloc[i,:].X\n",
    "                    , int(unique_location_hour_recent.iloc[i,:].epoch)    \n",
    "                    , response\n",
    "                    )\n",
    "    df_weather_darksky = df_weather_darksky.append(series, ignore_index=True)"
   ]
  },
  {
   "cell_type": "code",
   "execution_count": null,
   "metadata": {},
   "outputs": [],
   "source": []
  },
  {
   "cell_type": "markdown",
   "metadata": {},
   "source": [
    "### Save the resulting dataframes to csv files"
   ]
  },
  {
   "cell_type": "markdown",
   "metadata": {},
   "source": [
    "#### join collision data with darksky weather data"
   ]
  },
  {
   "cell_type": "code",
   "execution_count": 344,
   "metadata": {
    "collapsed": true
   },
   "outputs": [
    {
     "data": {
      "text/html": [
       "<div>\n",
       "<style scoped>\n",
       "    .dataframe tbody tr th:only-of-type {\n",
       "        vertical-align: middle;\n",
       "    }\n",
       "\n",
       "    .dataframe tbody tr th {\n",
       "        vertical-align: top;\n",
       "    }\n",
       "\n",
       "    .dataframe thead th {\n",
       "        text-align: right;\n",
       "    }\n",
       "</style>\n",
       "<table border=\"1\" class=\"dataframe\">\n",
       "  <thead>\n",
       "    <tr style=\"text-align: right;\">\n",
       "      <th></th>\n",
       "      <th>X</th>\n",
       "      <th>Y</th>\n",
       "      <th>addrtype</th>\n",
       "      <th>collisiontype</th>\n",
       "      <th>fatalities</th>\n",
       "      <th>injuries</th>\n",
       "      <th>lightcond</th>\n",
       "      <th>roadcond</th>\n",
       "      <th>junctiontype</th>\n",
       "      <th>location</th>\n",
       "      <th>...</th>\n",
       "      <th>sdot_coldesc</th>\n",
       "      <th>severitydesc</th>\n",
       "      <th>speeding</th>\n",
       "      <th>weather</th>\n",
       "      <th>time</th>\n",
       "      <th>epoch</th>\n",
       "      <th>year</th>\n",
       "      <th>month</th>\n",
       "      <th>day</th>\n",
       "      <th>hour</th>\n",
       "    </tr>\n",
       "  </thead>\n",
       "  <tbody>\n",
       "    <tr>\n",
       "      <th>0</th>\n",
       "      <td>-122.342323</td>\n",
       "      <td>47.627572</td>\n",
       "      <td>Block</td>\n",
       "      <td>Head On</td>\n",
       "      <td>0</td>\n",
       "      <td>0</td>\n",
       "      <td>Daylight</td>\n",
       "      <td>Dry</td>\n",
       "      <td>Mid-Block (not related to intersection)</td>\n",
       "      <td>DEXTER AVE N BETWEEN ALOHA ST AND WARD ST</td>\n",
       "      <td>...</td>\n",
       "      <td>MOTOR VEHICLE STRUCK MOTOR VEHICLE, FRONT END ...</td>\n",
       "      <td>Property Damage Only Collision</td>\n",
       "      <td>NaN</td>\n",
       "      <td>Clear or Partly Cloudy</td>\n",
       "      <td>2016-11-04 09:55:00</td>\n",
       "      <td>1478278800</td>\n",
       "      <td>2016</td>\n",
       "      <td>11</td>\n",
       "      <td>4</td>\n",
       "      <td>9</td>\n",
       "    </tr>\n",
       "  </tbody>\n",
       "</table>\n",
       "<p>1 rows × 23 columns</p>\n",
       "</div>"
      ],
      "text/plain": [
       "            X          Y addrtype collisiontype  fatalities  injuries  \\\n",
       "0 -122.342323  47.627572    Block       Head On           0         0   \n",
       "\n",
       "  lightcond roadcond                             junctiontype  \\\n",
       "0  Daylight      Dry  Mid-Block (not related to intersection)   \n",
       "\n",
       "                                    location  ...   \\\n",
       "0  DEXTER AVE N BETWEEN ALOHA ST AND WARD ST  ...    \n",
       "\n",
       "                                        sdot_coldesc  \\\n",
       "0  MOTOR VEHICLE STRUCK MOTOR VEHICLE, FRONT END ...   \n",
       "\n",
       "                     severitydesc  speeding                 weather  \\\n",
       "0  Property Damage Only Collision       NaN  Clear or Partly Cloudy   \n",
       "\n",
       "                 time       epoch  year month  day  hour  \n",
       "0 2016-11-04 09:55:00  1478278800  2016    11    4     9  \n",
       "\n",
       "[1 rows x 23 columns]"
      ]
     },
     "execution_count": 344,
     "metadata": {},
     "output_type": "execute_result"
    }
   ],
   "source": [
    "columns = ['X', 'Y', 'addrtype', 'collisiontype', 'fatalities', 'injuries'\n",
    "           , 'lightcond', 'roadcond', 'junctiontype', 'location'\n",
    "           , 'pedcount', 'pedcylcount', 'personcount', 'sdot_coldesc', 'severitydesc'\n",
    "           , 'speeding', 'weather', 'time', 'epoch', 'year', 'month', 'day', 'hour']\n",
    "\n",
    "df_collision.loc[:, columns].head(1)"
   ]
  },
  {
   "cell_type": "code",
   "execution_count": 345,
   "metadata": {},
   "outputs": [],
   "source": [
    "collision_weather_darksky = pd.merge(df_collision.loc[:, columns], df_weather_darksky, how='left', left_on = ['Y', 'X', 'epoch'], right_on = ['Latitude', 'Longitude', 'EpochTime'])"
   ]
  },
  {
   "cell_type": "code",
   "execution_count": 346,
   "metadata": {
    "scrolled": true
   },
   "outputs": [],
   "source": [
    "collision_weather_darksky.to_csv('../data/Collisions_weather_darksky_fei.csv')"
   ]
  },
  {
   "cell_type": "markdown",
   "metadata": {},
   "source": [
    "#### join collision data with iem weather data"
   ]
  },
  {
   "cell_type": "code",
   "execution_count": 251,
   "metadata": {},
   "outputs": [],
   "source": [
    "df_weather_iem_hour = pd.read_csv('../../project_datasets/weather_iem_hour.csv')\n",
    "df_weather_iem_day = pd.read_csv('../../project_datasets/weather_iem_day.csv')"
   ]
  },
  {
   "cell_type": "code",
   "execution_count": 258,
   "metadata": {},
   "outputs": [],
   "source": [
    "df_weather_iem_hour.drop([\"Unnamed: 0\"], axis=1, inplace = True)\n",
    "df_weather_iem_hour.columns = ['year', 'month', 'day', 'hour', 'temp_hourly', 'precipitation_hourly', 'wind_speed_hourly']"
   ]
  },
  {
   "cell_type": "code",
   "execution_count": 356,
   "metadata": {},
   "outputs": [],
   "source": [
    "df_weather_iem_day.drop([\"Unnamed: 0\", \"CountOfObs\"], axis=1, inplace = True)\n",
    "df_weather_iem_day.columns = ['year', 'month', 'day', 'temp_mean_daily', 'temp_high_daily', 'temp_low_daily', 'precipitation_daily', 'wind_speed_daily']"
   ]
  },
  {
   "cell_type": "code",
   "execution_count": 368,
   "metadata": {},
   "outputs": [],
   "source": [
    "collision_weather_iem_hour = pd.merge(df_collision.loc[:, columns], df_weather_iem_hour, how='left', left_on = ['year', 'month', 'day', 'hour'], right_on = ['year', 'month', 'day', 'hour'])\n",
    "collision_weather_iem_hour.to_csv('../data/Collisions_weather_iem_hour_fei.csv')"
   ]
  },
  {
   "cell_type": "code",
   "execution_count": 369,
   "metadata": {},
   "outputs": [],
   "source": [
    "collision_weather_iem_day = pd.merge(df_collision.loc[:, columns], df_weather_iem_day, how='left', left_on = ['year', 'month', 'day'], right_on = ['year', 'month', 'day'])\n",
    "collision_weather_iem_day.to_csv('../data/Collisions_weather_iem_day_fei.csv')"
   ]
  }
 ],
 "metadata": {
  "kernelspec": {
   "display_name": "Python 3",
   "language": "python",
   "name": "python3"
  },
  "language_info": {
   "codemirror_mode": {
    "name": "ipython",
    "version": 3
   },
   "file_extension": ".py",
   "mimetype": "text/x-python",
   "name": "python",
   "nbconvert_exporter": "python",
   "pygments_lexer": "ipython3",
   "version": "3.6.4"
  }
 },
 "nbformat": 4,
 "nbformat_minor": 2
}
