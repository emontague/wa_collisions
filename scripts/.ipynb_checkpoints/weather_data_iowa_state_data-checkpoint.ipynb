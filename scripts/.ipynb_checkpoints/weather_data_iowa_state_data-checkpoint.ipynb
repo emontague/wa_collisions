{
 "cells": [
  {
   "cell_type": "code",
   "execution_count": 36,
   "metadata": {},
   "outputs": [],
   "source": [
    "import pandas as pd\n",
    "import numpy as np"
   ]
  },
  {
   "cell_type": "markdown",
   "metadata": {},
   "source": [
    "### Use the Iowa State University dataset that Geoff suggested"
   ]
  },
  {
   "cell_type": "code",
   "execution_count": 4,
   "metadata": {
    "collapsed": true
   },
   "outputs": [
    {
     "name": "stderr",
     "output_type": "stream",
     "text": [
      "/home/fei/anaconda3/lib/python3.6/site-packages/IPython/core/interactiveshell.py:2728: DtypeWarning: Columns (9,10) have mixed types. Specify dtype option on import or set low_memory=False.\n",
      "  interactivity=interactivity, compiler=compiler, result=result)\n"
     ]
    }
   ],
   "source": [
    "weather = pd.read_csv('../../project_datasets/asos.txt')"
   ]
  },
  {
   "cell_type": "code",
   "execution_count": 20,
   "metadata": {},
   "outputs": [],
   "source": [
    "# metadata\n",
    "\n",
    "\n",
    "# station:\n",
    "#     three or four character site identifier\n",
    "# valid:\n",
    "#     timestamp of the observation\n",
    "# tmpf:\n",
    "#     Air Temperature in Fahrenheit, typically @ 2 meters\n",
    "# dwpf:\n",
    "#     Dew Point Temperature in Fahrenheit, typically @ 2 meters\n",
    "# relh:\n",
    "#     Relative Humidity in %\n",
    "# drct:\n",
    "#     Wind Direction in degrees from north\n",
    "# sknt:\n",
    "#     Wind Speed in knots \n",
    "# p01i:\n",
    "#     One hour precipitation for the period from the observation time to the time of the previous hourly precipitation reset. This varies slightly by site. Values are in inches. This value may or may not contain frozen precipitation melted by some device on the sensor or estimated by some other means. Unfortunately, we do not know of an authoritative database denoting which station has which sensor.\n",
    "# alti:\n",
    "#     Pressure altimeter in inches\n",
    "# mslp:\n",
    "#     Sea Level Pressure in millibar\n",
    "# vsby:\n",
    "#     Visibility in miles\n",
    "# gust:\n",
    "#     Wind Gust in knots\n",
    "# skyc1:\n",
    "#     Sky Level 1 Coverage\n",
    "# skyc2:\n",
    "#     Sky Level 2 Coverage\n",
    "# skyc3:\n",
    "#     Sky Level 3 Coverage\n",
    "# skyc4:\n",
    "#     Sky Level 4 Coverage\n",
    "# skyl1:\n",
    "#     Sky Level 1 Altitude in feet\n",
    "# skyl2:\n",
    "#     Sky Level 2 Altitude in feet\n",
    "# skyl3:\n",
    "#     Sky Level 3 Altitude in feet\n",
    "# skyl4:\n",
    "#     Sky Level 4 Altitude in feet\n",
    "# presentwx:\n",
    "#     Present Weather Codes (space seperated)\n",
    "# metar:\n",
    "#     unprocessed reported observation in METAR format "
   ]
  },
  {
   "cell_type": "code",
   "execution_count": 5,
   "metadata": {},
   "outputs": [
    {
     "data": {
      "text/plain": [
       "PAE    229849\n",
       "RNT    225614\n",
       "SEA    224407\n",
       "BFI    220462\n",
       "Name: station, dtype: int64"
      ]
     },
     "execution_count": 5,
     "metadata": {},
     "output_type": "execute_result"
    }
   ],
   "source": [
    "weather.station.value_counts()\n",
    "\n",
    "# PAE: Everett/Paine Field\n",
    "# SEA: Seattle-Tacoma Int'l airport\n",
    "# RNT: Renton Municipal\n",
    "# BFI: Seattle Boeing Field (King County Airport)"
   ]
  },
  {
   "cell_type": "code",
   "execution_count": 18,
   "metadata": {},
   "outputs": [
    {
     "data": {
      "text/plain": [
       "array(['station', 'valid', 'lon', 'lat', 'tmpf', ' dwpf', ' relh',\n",
       "       ' drct', ' sknt', ' p01i', ' alti', ' mslp', ' vsby', ' gust',\n",
       "       ' skyc1', ' skyc2', ' skyc3', ' skyc4', ' skyl1', ' skyl2',\n",
       "       ' skyl3', ' skyl4', ' wxcodes', ' metar'], dtype=object)"
      ]
     },
     "execution_count": 18,
     "metadata": {},
     "output_type": "execute_result"
    }
   ],
   "source": [
    "weather.columns.values"
   ]
  },
  {
   "cell_type": "code",
   "execution_count": 22,
   "metadata": {},
   "outputs": [],
   "source": [
    "weather_final = weather[['station', 'valid','tmpf',' p01i',' sknt']]"
   ]
  },
  {
   "cell_type": "code",
   "execution_count": 24,
   "metadata": {},
   "outputs": [
    {
     "name": "stdout",
     "output_type": "stream",
     "text": [
      "Original dataframe shape: (185537, 5)\n",
      "# of rows with missing temperature:  0\n"
     ]
    },
    {
     "data": {
      "text/html": [
       "<div>\n",
       "<style scoped>\n",
       "    .dataframe tbody tr th:only-of-type {\n",
       "        vertical-align: middle;\n",
       "    }\n",
       "\n",
       "    .dataframe tbody tr th {\n",
       "        vertical-align: top;\n",
       "    }\n",
       "\n",
       "    .dataframe thead th {\n",
       "        text-align: right;\n",
       "    }\n",
       "</style>\n",
       "<table border=\"1\" class=\"dataframe\">\n",
       "  <thead>\n",
       "    <tr style=\"text-align: right;\">\n",
       "      <th></th>\n",
       "      <th>Station</th>\n",
       "      <th>TimeStamp</th>\n",
       "      <th>Temp(F)</th>\n",
       "      <th>Precipitation(in)</th>\n",
       "      <th>WindSpeed(kts)</th>\n",
       "    </tr>\n",
       "  </thead>\n",
       "  <tbody>\n",
       "    <tr>\n",
       "      <th>0</th>\n",
       "      <td>PAE</td>\n",
       "      <td>2013-12-31 23:22</td>\n",
       "      <td>37.40</td>\n",
       "      <td>0.0</td>\n",
       "      <td>0.0</td>\n",
       "    </tr>\n",
       "    <tr>\n",
       "      <th>1</th>\n",
       "      <td>PAE</td>\n",
       "      <td>2013-12-31 23:27</td>\n",
       "      <td>39.20</td>\n",
       "      <td>0.0</td>\n",
       "      <td>0.0</td>\n",
       "    </tr>\n",
       "    <tr>\n",
       "      <th>2</th>\n",
       "      <td>SEA</td>\n",
       "      <td>2013-12-31 23:40</td>\n",
       "      <td>42.80</td>\n",
       "      <td>0.0</td>\n",
       "      <td>0.0</td>\n",
       "    </tr>\n",
       "    <tr>\n",
       "      <th>3</th>\n",
       "      <td>RNT</td>\n",
       "      <td>2013-12-31 23:46</td>\n",
       "      <td>39.20</td>\n",
       "      <td>0.0</td>\n",
       "      <td>0.0</td>\n",
       "    </tr>\n",
       "    <tr>\n",
       "      <th>4</th>\n",
       "      <td>BFI</td>\n",
       "      <td>2013-12-31 23:53</td>\n",
       "      <td>42.98</td>\n",
       "      <td>0.0</td>\n",
       "      <td>3.0</td>\n",
       "    </tr>\n",
       "  </tbody>\n",
       "</table>\n",
       "</div>"
      ],
      "text/plain": [
       "  Station         TimeStamp  Temp(F)  Precipitation(in)  WindSpeed(kts)\n",
       "0     PAE  2013-12-31 23:22    37.40                0.0             0.0\n",
       "1     PAE  2013-12-31 23:27    39.20                0.0             0.0\n",
       "2     SEA  2013-12-31 23:40    42.80                0.0             0.0\n",
       "3     RNT  2013-12-31 23:46    39.20                0.0             0.0\n",
       "4     BFI  2013-12-31 23:53    42.98                0.0             3.0"
      ]
     },
     "execution_count": 24,
     "metadata": {},
     "output_type": "execute_result"
    }
   ],
   "source": [
    "print(\"Original dataframe shape:\", weather_final.shape)\n",
    "print(\"# of rows with missing temperature: \",len(weather_final[weather_final['tmpf'] == 'M']))\n",
    "weather_final = weather_final[ (weather_final['tmpf'] != 'M') \n",
    "                              & (weather_final[' p01i'] != 'M')\n",
    "                              & (weather_final[' sknt'] != 'M')\n",
    "             ] #Remove fields with missing values.\n",
    "\n",
    "weather_final.columns = ['Station', 'TimeStamp','Temp(F)','Precipitation(in)','WindSpeed(kts)']\n",
    "weather_final['Temp(F)'] = weather_final['Temp(F)'].astype('float64') #convert types to floats\n",
    "weather_final['Precipitation(in)'] = weather_final['Precipitation(in)'].astype('float64')\n",
    "weather_final['WindSpeed(kts)'] = weather_final['WindSpeed(kts)'].astype('float64')\n",
    "weather_final.head()"
   ]
  },
  {
   "cell_type": "code",
   "execution_count": 26,
   "metadata": {},
   "outputs": [],
   "source": [
    "weather_final['TimeStamp'] = pd.to_datetime(weather_final['TimeStamp'])\n",
    "weather_final['Year'] = weather_final['TimeStamp'].dt.year\n",
    "weather_final['Month'] = weather_final['TimeStamp'].dt.month\n",
    "weather_final['Day'] = weather_final['TimeStamp'].dt.day\n",
    "weather_final['Hour'] = weather_final['TimeStamp'].dt.hour"
   ]
  },
  {
   "cell_type": "code",
   "execution_count": 28,
   "metadata": {},
   "outputs": [
    {
     "data": {
      "text/html": [
       "<div>\n",
       "<style scoped>\n",
       "    .dataframe tbody tr th:only-of-type {\n",
       "        vertical-align: middle;\n",
       "    }\n",
       "\n",
       "    .dataframe tbody tr th {\n",
       "        vertical-align: top;\n",
       "    }\n",
       "\n",
       "    .dataframe thead th {\n",
       "        text-align: right;\n",
       "    }\n",
       "</style>\n",
       "<table border=\"1\" class=\"dataframe\">\n",
       "  <thead>\n",
       "    <tr style=\"text-align: right;\">\n",
       "      <th></th>\n",
       "      <th>Station</th>\n",
       "      <th>TimeStamp</th>\n",
       "      <th>Temp(F)</th>\n",
       "      <th>Precipitation(in)</th>\n",
       "      <th>WindSpeed(kts)</th>\n",
       "      <th>Year</th>\n",
       "      <th>Month</th>\n",
       "      <th>Day</th>\n",
       "      <th>Hour</th>\n",
       "    </tr>\n",
       "  </thead>\n",
       "  <tbody>\n",
       "    <tr>\n",
       "      <th>0</th>\n",
       "      <td>PAE</td>\n",
       "      <td>2013-12-31 23:22:00</td>\n",
       "      <td>37.40</td>\n",
       "      <td>0.0</td>\n",
       "      <td>0.0</td>\n",
       "      <td>2013</td>\n",
       "      <td>12</td>\n",
       "      <td>31</td>\n",
       "      <td>23</td>\n",
       "    </tr>\n",
       "    <tr>\n",
       "      <th>1</th>\n",
       "      <td>PAE</td>\n",
       "      <td>2013-12-31 23:27:00</td>\n",
       "      <td>39.20</td>\n",
       "      <td>0.0</td>\n",
       "      <td>0.0</td>\n",
       "      <td>2013</td>\n",
       "      <td>12</td>\n",
       "      <td>31</td>\n",
       "      <td>23</td>\n",
       "    </tr>\n",
       "    <tr>\n",
       "      <th>2</th>\n",
       "      <td>SEA</td>\n",
       "      <td>2013-12-31 23:40:00</td>\n",
       "      <td>42.80</td>\n",
       "      <td>0.0</td>\n",
       "      <td>0.0</td>\n",
       "      <td>2013</td>\n",
       "      <td>12</td>\n",
       "      <td>31</td>\n",
       "      <td>23</td>\n",
       "    </tr>\n",
       "    <tr>\n",
       "      <th>3</th>\n",
       "      <td>RNT</td>\n",
       "      <td>2013-12-31 23:46:00</td>\n",
       "      <td>39.20</td>\n",
       "      <td>0.0</td>\n",
       "      <td>0.0</td>\n",
       "      <td>2013</td>\n",
       "      <td>12</td>\n",
       "      <td>31</td>\n",
       "      <td>23</td>\n",
       "    </tr>\n",
       "    <tr>\n",
       "      <th>4</th>\n",
       "      <td>BFI</td>\n",
       "      <td>2013-12-31 23:53:00</td>\n",
       "      <td>42.98</td>\n",
       "      <td>0.0</td>\n",
       "      <td>3.0</td>\n",
       "      <td>2013</td>\n",
       "      <td>12</td>\n",
       "      <td>31</td>\n",
       "      <td>23</td>\n",
       "    </tr>\n",
       "  </tbody>\n",
       "</table>\n",
       "</div>"
      ],
      "text/plain": [
       "  Station           TimeStamp  Temp(F)  Precipitation(in)  WindSpeed(kts)  \\\n",
       "0     PAE 2013-12-31 23:22:00    37.40                0.0             0.0   \n",
       "1     PAE 2013-12-31 23:27:00    39.20                0.0             0.0   \n",
       "2     SEA 2013-12-31 23:40:00    42.80                0.0             0.0   \n",
       "3     RNT 2013-12-31 23:46:00    39.20                0.0             0.0   \n",
       "4     BFI 2013-12-31 23:53:00    42.98                0.0             3.0   \n",
       "\n",
       "   Year  Month  Day  Hour  \n",
       "0  2013     12   31    23  \n",
       "1  2013     12   31    23  \n",
       "2  2013     12   31    23  \n",
       "3  2013     12   31    23  \n",
       "4  2013     12   31    23  "
      ]
     },
     "execution_count": 28,
     "metadata": {},
     "output_type": "execute_result"
    }
   ],
   "source": [
    "weather_final.head()"
   ]
  },
  {
   "cell_type": "code",
   "execution_count": 33,
   "metadata": {},
   "outputs": [
    {
     "data": {
      "text/plain": [
       "2014    10739.75\n",
       "2017    10637.25\n",
       "2015    10629.25\n",
       "2016    10488.25\n",
       "2018     3887.50\n",
       "2013        2.25\n",
       "Name: Year, dtype: float64"
      ]
     },
     "execution_count": 33,
     "metadata": {},
     "output_type": "execute_result"
    }
   ],
   "source": [
    "weather_final.Year.value_counts()/4"
   ]
  },
  {
   "cell_type": "code",
   "execution_count": 37,
   "metadata": {},
   "outputs": [],
   "source": [
    "weather_final_hour = weather_final.groupby(['Year','Month','Day','Hour']).agg({'Temp(F)': np.mean,\n",
    "                                                          'Precipitation(in)': np.mean,\n",
    "                                                          'WindSpeed(kts)': np.mean}).reset_index()"
   ]
  },
  {
   "cell_type": "code",
   "execution_count": 44,
   "metadata": {},
   "outputs": [
    {
     "data": {
      "text/plain": [
       "2016    8776\n",
       "2014    8743\n",
       "2017    8735\n",
       "2015    8732\n",
       "2018    3206\n",
       "2013       1\n",
       "Name: Year, dtype: int64"
      ]
     },
     "execution_count": 44,
     "metadata": {},
     "output_type": "execute_result"
    }
   ],
   "source": [
    "weather_final_hour.Year.value_counts()"
   ]
  },
  {
   "cell_type": "code",
   "execution_count": 46,
   "metadata": {},
   "outputs": [],
   "source": [
    "weather_final_day = weather_final_hour.groupby(['Year','Month','Day']).agg(\n",
    "                                                        {'Temp(F)': [np.mean, np.max, np.min],\n",
    "                                                          'Precipitation(in)': np.sum,\n",
    "                                                          'Hour' : np.size,\n",
    "                                                          'WindSpeed(kts)': np.mean}).reset_index()\n",
    "weather_final_day.columns = weather_final_day.columns.get_level_values(0)\n",
    "weather_final_day.columns = ['Year','Month','Day','Temp(F) Mean','Temp(F) High'\n",
    "                             ,'Temp(F) Low','Precipitation(in)','CountOfObs','WindSpeed(kts)']"
   ]
  },
  {
   "cell_type": "code",
   "execution_count": 48,
   "metadata": {},
   "outputs": [
    {
     "data": {
      "text/plain": [
       "2016    366\n",
       "2017    365\n",
       "2015    365\n",
       "2014    365\n",
       "2018    134\n",
       "2013      1\n",
       "Name: Year, dtype: int64"
      ]
     },
     "execution_count": 48,
     "metadata": {},
     "output_type": "execute_result"
    }
   ],
   "source": [
    "weather_final_day.Year.value_counts()"
   ]
  },
  {
   "cell_type": "code",
   "execution_count": 49,
   "metadata": {},
   "outputs": [
    {
     "name": "stdout",
     "output_type": "stream",
     "text": [
      "mean # of observations: 23.93045112781955\n"
     ]
    },
    {
     "data": {
      "text/html": [
       "<div>\n",
       "<style scoped>\n",
       "    .dataframe tbody tr th:only-of-type {\n",
       "        vertical-align: middle;\n",
       "    }\n",
       "\n",
       "    .dataframe tbody tr th {\n",
       "        vertical-align: top;\n",
       "    }\n",
       "\n",
       "    .dataframe thead th {\n",
       "        text-align: right;\n",
       "    }\n",
       "</style>\n",
       "<table border=\"1\" class=\"dataframe\">\n",
       "  <thead>\n",
       "    <tr style=\"text-align: right;\">\n",
       "      <th></th>\n",
       "      <th>0</th>\n",
       "    </tr>\n",
       "    <tr>\n",
       "      <th>CountOfObs</th>\n",
       "      <th></th>\n",
       "    </tr>\n",
       "  </thead>\n",
       "  <tbody>\n",
       "    <tr>\n",
       "      <th>1</th>\n",
       "      <td>1</td>\n",
       "    </tr>\n",
       "    <tr>\n",
       "      <th>16</th>\n",
       "      <td>1</td>\n",
       "    </tr>\n",
       "    <tr>\n",
       "      <th>18</th>\n",
       "      <td>1</td>\n",
       "    </tr>\n",
       "    <tr>\n",
       "      <th>19</th>\n",
       "      <td>3</td>\n",
       "    </tr>\n",
       "    <tr>\n",
       "      <th>20</th>\n",
       "      <td>1</td>\n",
       "    </tr>\n",
       "    <tr>\n",
       "      <th>21</th>\n",
       "      <td>5</td>\n",
       "    </tr>\n",
       "    <tr>\n",
       "      <th>22</th>\n",
       "      <td>8</td>\n",
       "    </tr>\n",
       "    <tr>\n",
       "      <th>23</th>\n",
       "      <td>24</td>\n",
       "    </tr>\n",
       "    <tr>\n",
       "      <th>24</th>\n",
       "      <td>1552</td>\n",
       "    </tr>\n",
       "  </tbody>\n",
       "</table>\n",
       "</div>"
      ],
      "text/plain": [
       "               0\n",
       "CountOfObs      \n",
       "1              1\n",
       "16             1\n",
       "18             1\n",
       "19             3\n",
       "20             1\n",
       "21             5\n",
       "22             8\n",
       "23            24\n",
       "24          1552"
      ]
     },
     "execution_count": 49,
     "metadata": {},
     "output_type": "execute_result"
    }
   ],
   "source": [
    "print(\"mean # of observations:\",np.mean(weather_final_day['CountOfObs']))\n",
    "weather_final_day.groupby(weather_final_day['CountOfObs']).size().to_frame()"
   ]
  },
  {
   "cell_type": "markdown",
   "metadata": {},
   "source": [
    "We see from the above that most days have 23 or more observations, so we shouldn't be highlighly concerned with missing data impacting our results.\n",
    "\n",
    "To reduce the risk the risk of any day with a low number of observations impacting our temperature average (and therefore possibly affecting our analysis results), we'll include only days with 22 or more observations."
   ]
  },
  {
   "cell_type": "code",
   "execution_count": 50,
   "metadata": {},
   "outputs": [],
   "source": [
    "weather_final_day = weather_final_day[weather_final_day['CountOfObs'] >= 22]"
   ]
  },
  {
   "cell_type": "code",
   "execution_count": 51,
   "metadata": {},
   "outputs": [
    {
     "data": {
      "text/html": [
       "<div>\n",
       "<style scoped>\n",
       "    .dataframe tbody tr th:only-of-type {\n",
       "        vertical-align: middle;\n",
       "    }\n",
       "\n",
       "    .dataframe tbody tr th {\n",
       "        vertical-align: top;\n",
       "    }\n",
       "\n",
       "    .dataframe thead th {\n",
       "        text-align: right;\n",
       "    }\n",
       "</style>\n",
       "<table border=\"1\" class=\"dataframe\">\n",
       "  <thead>\n",
       "    <tr style=\"text-align: right;\">\n",
       "      <th></th>\n",
       "      <th>Year</th>\n",
       "      <th>Month</th>\n",
       "      <th>Day</th>\n",
       "      <th>Temp(F) Mean</th>\n",
       "      <th>Temp(F) High</th>\n",
       "      <th>Temp(F) Low</th>\n",
       "      <th>Precipitation(in)</th>\n",
       "      <th>CountOfObs</th>\n",
       "      <th>WindSpeed(kts)</th>\n",
       "    </tr>\n",
       "  </thead>\n",
       "  <tbody>\n",
       "    <tr>\n",
       "      <th>1</th>\n",
       "      <td>2014</td>\n",
       "      <td>1</td>\n",
       "      <td>1</td>\n",
       "      <td>41.220565</td>\n",
       "      <td>43.730</td>\n",
       "      <td>37.480</td>\n",
       "      <td>0.002000</td>\n",
       "      <td>24</td>\n",
       "      <td>1.158135</td>\n",
       "    </tr>\n",
       "    <tr>\n",
       "      <th>2</th>\n",
       "      <td>2014</td>\n",
       "      <td>1</td>\n",
       "      <td>2</td>\n",
       "      <td>45.942307</td>\n",
       "      <td>50.270</td>\n",
       "      <td>42.584</td>\n",
       "      <td>0.319591</td>\n",
       "      <td>24</td>\n",
       "      <td>5.513905</td>\n",
       "    </tr>\n",
       "    <tr>\n",
       "      <th>3</th>\n",
       "      <td>2014</td>\n",
       "      <td>1</td>\n",
       "      <td>3</td>\n",
       "      <td>41.507676</td>\n",
       "      <td>45.554</td>\n",
       "      <td>35.924</td>\n",
       "      <td>0.078167</td>\n",
       "      <td>24</td>\n",
       "      <td>3.689567</td>\n",
       "    </tr>\n",
       "    <tr>\n",
       "      <th>4</th>\n",
       "      <td>2014</td>\n",
       "      <td>1</td>\n",
       "      <td>4</td>\n",
       "      <td>37.729214</td>\n",
       "      <td>44.285</td>\n",
       "      <td>32.495</td>\n",
       "      <td>0.000000</td>\n",
       "      <td>24</td>\n",
       "      <td>3.076885</td>\n",
       "    </tr>\n",
       "    <tr>\n",
       "      <th>5</th>\n",
       "      <td>2014</td>\n",
       "      <td>1</td>\n",
       "      <td>5</td>\n",
       "      <td>36.407791</td>\n",
       "      <td>44.015</td>\n",
       "      <td>30.410</td>\n",
       "      <td>0.000000</td>\n",
       "      <td>24</td>\n",
       "      <td>3.830745</td>\n",
       "    </tr>\n",
       "  </tbody>\n",
       "</table>\n",
       "</div>"
      ],
      "text/plain": [
       "   Year  Month  Day  Temp(F) Mean  Temp(F) High  Temp(F) Low  \\\n",
       "1  2014      1    1     41.220565        43.730       37.480   \n",
       "2  2014      1    2     45.942307        50.270       42.584   \n",
       "3  2014      1    3     41.507676        45.554       35.924   \n",
       "4  2014      1    4     37.729214        44.285       32.495   \n",
       "5  2014      1    5     36.407791        44.015       30.410   \n",
       "\n",
       "   Precipitation(in)  CountOfObs  WindSpeed(kts)  \n",
       "1           0.002000          24        1.158135  \n",
       "2           0.319591          24        5.513905  \n",
       "3           0.078167          24        3.689567  \n",
       "4           0.000000          24        3.076885  \n",
       "5           0.000000          24        3.830745  "
      ]
     },
     "execution_count": 51,
     "metadata": {},
     "output_type": "execute_result"
    }
   ],
   "source": [
    "weather_final_day.head()"
   ]
  }
 ],
 "metadata": {
  "kernelspec": {
   "display_name": "Python 3",
   "language": "python",
   "name": "python3"
  },
  "language_info": {
   "codemirror_mode": {
    "name": "ipython",
    "version": 3
   },
   "file_extension": ".py",
   "mimetype": "text/x-python",
   "name": "python",
   "nbconvert_exporter": "python",
   "pygments_lexer": "ipython3",
   "version": "3.6.4"
  }
 },
 "nbformat": 4,
 "nbformat_minor": 2
}
